{
  "nbformat": 4,
  "nbformat_minor": 0,
  "metadata": {
    "colab": {
      "provenance": []
    },
    "kernelspec": {
      "name": "python3",
      "display_name": "Python 3"
    },
    "language_info": {
      "name": "python"
    }
  },
  "cells": [
    {
      "cell_type": "markdown",
      "source": [
        "Question 1.\n",
        "Part 1:a calculate the average kappa value\n"
      ],
      "metadata": {
        "id": "opMxLtmdD4q6"
      }
    },
    {
      "cell_type": "code",
      "execution_count": 3,
      "metadata": {
        "id": "m-1DDfLx3PGC"
      },
      "outputs": [],
      "source": [
        "with open('Medical_Abstracts.txt', 'r') as f:\n",
        "    lines = f.readlines()\n",
        "\n",
        "paragraphs = []\n",
        "current_paragraph = \"\"\n",
        "\n",
        "for line in lines:\n",
        "    if line.startswith(\".I\"):\n",
        "        if current_paragraph != \"\":\n",
        "            paragraphs.append(current_paragraph)\n",
        "            current_paragraph = \"\"\n",
        "    elif line.startswith(\".W\"):\n",
        "        continue\n",
        "    else:\n",
        "        current_paragraph += line.strip()\n",
        "if current_paragraph != \"\":\n",
        "    paragraphs.append(current_paragraph)"
      ]
    },
    {
      "cell_type": "markdown",
      "source": [
        "Randomly sample 100 documents out of all the documents in the dataset;"
      ],
      "metadata": {
        "id": "gpz8nAgk3YAK"
      }
    },
    {
      "cell_type": "code",
      "source": [
        "paragraphs[1]"
      ],
      "metadata": {
        "colab": {
          "base_uri": "https://localhost:8080/",
          "height": 122
        },
        "id": "zSvv8YmJ_tT9",
        "outputId": "9c2d8277-99c9-4304-8fd0-ba3969449a17"
      },
      "execution_count": 5,
      "outputs": [
        {
          "output_type": "execute_result",
          "data": {
            "text/plain": [
              "'changes of the nucleic acid and phospholipid levels of the livers in thecourse of fetal and postnatal development .we have followed the evolution of dna, rna and pl in the livers of ratfoeti removed between the fifteenth and the twenty-first day ofgestation and of young rats newly-born or at weaning . we can observethe followingfacts.. 1. dna concentration is 1100 ug p on the 15th day, it decreases fromthe 19th day until it reaches a value of 280 ug 5 days after weaning .2. rna concentration is 1400 ug p on the 15th day and decreases to 820during the same period .3. pl concentration is low on the 15th day and during foetal life (700ug) and increases abruptly at birth .4. the ratios rna cyto/dna and pl cyto/dna increase regularly from the18th day of foetal life .5. nuclear rna and pl contents are very high throughout thedevelopment .6. these results enable us to characterize three stages in thedevelopment of the rat liver.. - from the 15th day to the 18th day offoetal life.. stage of growth through hyperplasia without hypertrophy,- from the 19th day of foetal life to the 3rd day of post-natallife,. stage of cellular reorganisation,- after the 3rd day of post-natal life.. stage of growth throughhyperplasia and hypertrophy .'"
            ],
            "application/vnd.google.colaboratory.intrinsic+json": {
              "type": "string"
            }
          },
          "metadata": {},
          "execution_count": 5
        }
      ]
    },
    {
      "cell_type": "code",
      "source": [
        "import random\n",
        "total_doc=len(paragraphs)\n",
        "sampled_documents=random.sample(range(total_doc), 100)"
      ],
      "metadata": {
        "id": "UBlTy8hq3ZGe"
      },
      "execution_count": 87,
      "outputs": []
    },
    {
      "cell_type": "code",
      "source": [
        "sampled_documents=[173, 124, 302, 67, 482, 241, 138, 431, 194, 412, 480, 163, 156, 386, 389, 64, 424, 434, 88, 422, 133, 131, 311, 276, 265, 324, 406, 178, 445, 341, 425, 454, 390, 40, 36, 30, 426, 46, 217, 3, 267, 437, 333, 358, 486, 74, 443, 282, 109, 371, 220, 115, 222, 197, 139, 233, 207, 84, 380, 280, 301, 94, 113, 73, 111, 444, 414, 174, 198, 387, 16, 277, 28, 421, 37, 41, 442, 59, 65, 71, 200, 203, 76, 205, 206, 82, 83, 469, 214, 343, 216, 100, 356, 365, 368, 372, 117, 376, 251, 126]"
      ],
      "metadata": {
        "id": "XajDp3slFn6a"
      },
      "execution_count": 93,
      "outputs": []
    },
    {
      "cell_type": "markdown",
      "source": [
        "set of 20 queries"
      ],
      "metadata": {
        "id": "4IgeNoA8EMna"
      }
    },
    {
      "cell_type": "code",
      "source": [
        "queries = [    \"paracetamol\",    \"ibuprofen\",    \"paracetamol ibuprofen\",    \"hepatitis\",    \"virus\",    \"hepatitis virus\",    \"fever\",    \"cold\",    \"cough\",    \"sore throat\",    \"influenza\",    \"common cold\",    \"headache\",    \"muscle ache\",    \"back pain\",    \"stomach ache\",    \"nausea\",    \"vomiting\",    \"diarrhea\",    \"constipation\"]"
      ],
      "metadata": {
        "id": "IiP3yKIt4Zn7"
      },
      "execution_count": 3,
      "outputs": []
    },
    {
      "cell_type": "markdown",
      "source": [
        "randomly selected 10 querries"
      ],
      "metadata": {
        "id": "N3OTAIcWERL2"
      }
    },
    {
      "cell_type": "code",
      "source": [
        "sampled_querries=random.sample(queries, 10)\n",
        "sampled_querries"
      ],
      "metadata": {
        "colab": {
          "base_uri": "https://localhost:8080/"
        },
        "id": "pvWPuqaO4bgx",
        "outputId": "fc9cd411-7a1c-4f12-da1d-bc877610f6d8"
      },
      "execution_count": 4,
      "outputs": [
        {
          "output_type": "execute_result",
          "data": {
            "text/plain": [
              "['diarrhea',\n",
              " 'common cold',\n",
              " 'constipation',\n",
              " 'back pain',\n",
              " 'paracetamol ibuprofen',\n",
              " 'influenza',\n",
              " 'nausea',\n",
              " 'paracetamol',\n",
              " 'cold',\n",
              " 'cough']"
            ]
          },
          "metadata": {},
          "execution_count": 4
        }
      ]
    },
    {
      "cell_type": "markdown",
      "source": [
        "Label the documents as relevant or non-relevant using three annotators"
      ],
      "metadata": {
        "id": "olQdzsNJEV3z"
      }
    },
    {
      "cell_type": "code",
      "source": [
        "doc_relevance={}\n",
        "doc_relevance['constipation']=[[203,251,372],[203,372],[203,251,372,442]]\n",
        "doc_relevance['influenza']=[[59],[59,469],[59,71,469]]\n",
        "doc_relevance['cough']=[[372,421],[372,83,126,],[372,83,126,421]]\n",
        "doc_relevance['muscle ache']=[[37,65,76,126,343],[37,65,76,117,126,387],[37,65,76,83,100,117,126,206,277,343]]\n",
        "doc_relevance['vomiting']=[[203,442],[203,372,442],[203,372,442]]\n",
        "doc_relevance['hepatitis']=[[16,376],[16,376],[16,368,376]]\n",
        "doc_relevance['diarrhea']=[[372,442],[372,203,372,442],[372,203,372,442]]\n",
        "doc_relevance['cold']=[[83,126,421],[82,83,126,421],[41,82,83,126]]\n",
        "doc_relevance['paracetamol ibuprofen']=[[216,200],[216,200,365,356],[216,200,205,356,214]]\n",
        "doc_relevance['common cold']=[[83,126,421,372,28,365],[82,83,126,421,372,28],[41,82,83,126]]\n",
        "doc_relevance['paracetamol']=[[28,214,364,83,126,421,372,28,365],[28,214,364,421,372,28],[28,214,364,41,82,83,126]]\n",
        "doc_relevance['ibuprofen']=[[200,139,216],[200,356,139,216],[200,205,216]]\n",
        "doc_relevance['fever']=[[28,214,365,251],[28,214,365,251],[28,214,365]]\n",
        "doc_relevance['virus']=[[275,372,399,402,403,59,71,371],[275,372,399,400,402,403,475,59,71],[275,372,400,403,475,71,371]]\n",
        "doc_relevance['hepatitis virus']=[[368,376,16,401],[368,376,16,399,401,402],[368,376,16,372,399,402]]\n",
        "doc_relevance['sore throat']=[[477,483,71,177,214,252],[477,483,71,177,198,214],[477,71,177,198]]\n",
        "doc_relevance['headache']=[[216,421,214,28,83,126,421,372,28,365,61,69,71],[216,421,214,365,28,82,83,126,421,372,28,61,62,69,71],[216,421,365,28,41,82,83,126,61,62,71]]\n",
        "doc_relevance['back pain']=[[378,162,301,235,413,356],[378,162,235,301,235,348,356],[378,235,301,235,356]]\n",
        "doc_relevance['stomach ache']=[[391,372,442],[391,200,372,203,372,442],[391,200,372,203,372,442]]\n",
        "doc_relevance['nausea']=[[368,442,203,442],[368,442,203,372,442],[368,442,203,372,442]]\n"
      ],
      "metadata": {
        "id": "wSAKxEJM4pCq"
      },
      "execution_count": 5,
      "outputs": []
    },
    {
      "cell_type": "markdown",
      "source": [
        "Labelling: Label the documents as relevant or non-relevant using three annotators"
      ],
      "metadata": {
        "id": "vsGHgCixEd9i"
      }
    },
    {
      "cell_type": "code",
      "source": [
        "from collections import Counter, defaultdict\n",
        "doc_labelled={}\n",
        "this_num_relevance={}\n",
        "unique_list_of_numbers = []\n",
        "list_of_numbers = []\n",
        "for key, value in doc_relevance.items():\n",
        "  # create a defaultdict to store the counts of each number\n",
        "  counts = defaultdict(int)\n",
        "  # iterate through each sublist and count the occurrences of each number\n",
        "  for sublist in value:\n",
        "      for num in sublist:\n",
        "          counts[num] += 1\n",
        "          list_of_numbers.append(num)\n",
        "  \n",
        "  # create a new list of lists with unique numbers and their counts\n",
        "  output_list = [[num, counts[num], 'RELEVANT' if counts[num] > 1 else 'NOT_RELEVANT'] for num in sorted(counts)]\n",
        "  \n",
        "  #print (output_list)                 \n",
        "  doc_labelled[key] = output_list\n",
        "\n",
        "print (doc_labelled)  \n",
        "#Printing unique list of all numbers\n",
        "unique_list_of_numbers = list(set(list_of_numbers))\n",
        "#print (unique_list_of_numbers)"
      ],
      "metadata": {
        "colab": {
          "base_uri": "https://localhost:8080/"
        },
        "id": "OWqj1aur4wBw",
        "outputId": "d0bebeb0-0942-45e9-a059-ac9b98a2ccb2"
      },
      "execution_count": 94,
      "outputs": [
        {
          "output_type": "stream",
          "name": "stdout",
          "text": [
            "{'constipation': [[203, 3, 'RELEVANT'], [251, 2, 'RELEVANT'], [372, 3, 'RELEVANT'], [442, 1, 'NOT_RELEVANT']], 'influenza': [[59, 3, 'RELEVANT'], [71, 1, 'NOT_RELEVANT'], [469, 2, 'RELEVANT']], 'cough': [[83, 2, 'RELEVANT'], [126, 2, 'RELEVANT'], [372, 3, 'RELEVANT'], [421, 2, 'RELEVANT']], 'muscle ache': [[37, 3, 'RELEVANT'], [65, 3, 'RELEVANT'], [76, 3, 'RELEVANT'], [83, 1, 'NOT_RELEVANT'], [100, 1, 'NOT_RELEVANT'], [117, 2, 'RELEVANT'], [126, 3, 'RELEVANT'], [206, 1, 'NOT_RELEVANT'], [277, 1, 'NOT_RELEVANT'], [343, 2, 'RELEVANT'], [387, 1, 'NOT_RELEVANT']], 'vomiting': [[203, 3, 'RELEVANT'], [372, 2, 'RELEVANT'], [442, 3, 'RELEVANT']], 'hepatitis': [[16, 3, 'RELEVANT'], [368, 1, 'NOT_RELEVANT'], [376, 3, 'RELEVANT']], 'diarrhea': [[203, 2, 'RELEVANT'], [372, 5, 'RELEVANT'], [442, 3, 'RELEVANT']], 'cold': [[41, 1, 'NOT_RELEVANT'], [82, 2, 'RELEVANT'], [83, 3, 'RELEVANT'], [126, 3, 'RELEVANT'], [421, 2, 'RELEVANT']], 'paracetamol ibuprofen': [[200, 3, 'RELEVANT'], [205, 1, 'NOT_RELEVANT'], [214, 1, 'NOT_RELEVANT'], [216, 3, 'RELEVANT'], [356, 2, 'RELEVANT'], [365, 1, 'NOT_RELEVANT']], 'common cold': [[28, 2, 'RELEVANT'], [41, 1, 'NOT_RELEVANT'], [82, 2, 'RELEVANT'], [83, 3, 'RELEVANT'], [126, 3, 'RELEVANT'], [365, 1, 'NOT_RELEVANT'], [372, 2, 'RELEVANT'], [421, 2, 'RELEVANT']], 'paracetamol': [[28, 5, 'RELEVANT'], [41, 1, 'NOT_RELEVANT'], [82, 1, 'NOT_RELEVANT'], [83, 2, 'RELEVANT'], [126, 2, 'RELEVANT'], [214, 3, 'RELEVANT'], [364, 3, 'RELEVANT'], [365, 1, 'NOT_RELEVANT'], [372, 2, 'RELEVANT'], [421, 2, 'RELEVANT']], 'ibuprofen': [[139, 2, 'RELEVANT'], [200, 3, 'RELEVANT'], [205, 1, 'NOT_RELEVANT'], [216, 3, 'RELEVANT'], [356, 1, 'NOT_RELEVANT']], 'fever': [[28, 3, 'RELEVANT'], [214, 3, 'RELEVANT'], [251, 2, 'RELEVANT'], [365, 3, 'RELEVANT']], 'virus': [[59, 2, 'RELEVANT'], [71, 3, 'RELEVANT'], [275, 3, 'RELEVANT'], [371, 2, 'RELEVANT'], [372, 3, 'RELEVANT'], [399, 2, 'RELEVANT'], [400, 2, 'RELEVANT'], [402, 2, 'RELEVANT'], [403, 3, 'RELEVANT'], [475, 2, 'RELEVANT']], 'hepatitis virus': [[16, 3, 'RELEVANT'], [368, 3, 'RELEVANT'], [372, 1, 'NOT_RELEVANT'], [376, 3, 'RELEVANT'], [399, 2, 'RELEVANT'], [401, 2, 'RELEVANT'], [402, 2, 'RELEVANT']], 'sore throat': [[71, 3, 'RELEVANT'], [177, 3, 'RELEVANT'], [198, 2, 'RELEVANT'], [214, 2, 'RELEVANT'], [252, 1, 'NOT_RELEVANT'], [477, 3, 'RELEVANT'], [483, 2, 'RELEVANT']], 'headache': [[28, 5, 'RELEVANT'], [41, 1, 'NOT_RELEVANT'], [61, 3, 'RELEVANT'], [62, 2, 'RELEVANT'], [69, 2, 'RELEVANT'], [71, 3, 'RELEVANT'], [82, 2, 'RELEVANT'], [83, 3, 'RELEVANT'], [126, 3, 'RELEVANT'], [214, 2, 'RELEVANT'], [216, 3, 'RELEVANT'], [365, 3, 'RELEVANT'], [372, 2, 'RELEVANT'], [421, 5, 'RELEVANT']], 'back pain': [[162, 2, 'RELEVANT'], [235, 5, 'RELEVANT'], [301, 3, 'RELEVANT'], [348, 1, 'NOT_RELEVANT'], [356, 3, 'RELEVANT'], [378, 3, 'RELEVANT'], [413, 1, 'NOT_RELEVANT']], 'stomach\\xa0ache': [[200, 2, 'RELEVANT'], [203, 2, 'RELEVANT'], [372, 5, 'RELEVANT'], [391, 3, 'RELEVANT'], [442, 3, 'RELEVANT']], 'nausea': [[203, 3, 'RELEVANT'], [368, 3, 'RELEVANT'], [372, 2, 'RELEVANT'], [442, 6, 'RELEVANT']]}\n"
          ]
        }
      ]
    },
    {
      "cell_type": "code",
      "source": [
        "sampled_querries"
      ],
      "metadata": {
        "colab": {
          "base_uri": "https://localhost:8080/"
        },
        "id": "1Qrkhc4wva--",
        "outputId": "89d2b7c7-48d7-4aab-eebc-9ffac7597a4a"
      },
      "execution_count": 89,
      "outputs": [
        {
          "output_type": "execute_result",
          "data": {
            "text/plain": [
              "['diarrhea',\n",
              " 'common cold',\n",
              " 'constipation',\n",
              " 'back pain',\n",
              " 'paracetamol ibuprofen',\n",
              " 'influenza',\n",
              " 'nausea',\n",
              " 'paracetamol',\n",
              " 'cold',\n",
              " 'cough']"
            ]
          },
          "metadata": {},
          "execution_count": 89
        }
      ]
    },
    {
      "cell_type": "code",
      "source": [
        "sampled_judge_relevance={}\n",
        "for p in sampled_documents:\n",
        "  sampled_judge_relevance.update({p:[[],[],[],[],[],[],[],[],[],[]]})\n",
        "  \n",
        "c=0\n",
        "for i in sampled_querries:\n",
        "  \n",
        "  #print('sampled q',i,c)\n",
        "  for j,k in doc_relevance.items():\n",
        "    if i==j:\n",
        "      #print('q foud',i,j,k)\n",
        "      for a in sampled_documents:\n",
        "        count=2\n",
        "        #print('doc',a)\n",
        "        #print(i,j,k,'count',count)\n",
        "        while count>=0:\n",
        "          if a in k[count]:\n",
        "            #print('inside',i,j)\n",
        "            #print('count',count,a,'1')\n",
        "            sampled_judge_relevance[a][c].append(1)\n",
        "            #print(sampled_judge_relevance)\n",
        "          else :\n",
        "            #print('count',count,a,'0')\n",
        "            sampled_judge_relevance[a][c].append(0)\n",
        "            #print(sampled_judge_relevance)\n",
        "          count=count-1\n",
        "      #print('querry',j,'judge relevance',sampled_judge_relevance)    \n",
        "  c=c+1\n",
        "\n",
        "  #print('q',c)"
      ],
      "metadata": {
        "id": "hB2aFEA_5fpT"
      },
      "execution_count": 95,
      "outputs": []
    },
    {
      "cell_type": "code",
      "source": [
        "r1=[[],[],[],[],[],[],[],[],[],[]]\n",
        "r2=[[],[],[],[],[],[],[],[],[],[]]\n",
        "r3=[[],[],[],[],[],[],[],[],[],[]]\n",
        "\n",
        "c1=0\n",
        "c2=0\n",
        "c3=0\n",
        "\n",
        "for q in sampled_querries :\n",
        "  judge1=[]\n",
        "  judge2=[]\n",
        "  judge3=[]\n",
        "  \n",
        "\n",
        "  for j,k in doc_relevance.items():\n",
        "    if q==j:\n",
        "      #print('q=j',c1,c2,c3)\n",
        "      val1=doc_relevance.get(j)\n",
        "      #print('val',val1,c1,c2,c3,q,j)\n",
        "      judge1=val1[0]\n",
        "      judge2=val1[1]\n",
        "      judge3=val1[2]\n",
        "      #print('j1',judge1,judge2,judge3)\n",
        "      \n",
        "      for d in sampled_documents:\n",
        "        if d in judge1:\n",
        "          #print('c1',c1)\n",
        "          r1[c1].append(1)\n",
        "        else:\n",
        "          #print('c1',c1)\n",
        "          r1[c1].append(0)\n",
        "        \n",
        "      for d1 in sampled_documents:\n",
        "        if d1 in judge2:\n",
        "          r2[c2].append(1)\n",
        "        else:\n",
        "          r2[c2].append(0)\n",
        "        \n",
        "      for d2 in sampled_documents:\n",
        "        if d2 in judge3:\n",
        "          r3[c3].append(1)\n",
        "        else:\n",
        "          r3[c3].append(0)\n",
        "      #print('c1',c1,c2,c3)\n",
        "  c3=c3+1 \n",
        "  c1=c1+1 \n",
        "  c2=c2+1    \n",
        "#print('r1',r2[3])    \n",
        "          \n",
        "    \n"
      ],
      "metadata": {
        "id": "5BfvxzBZrFf4"
      },
      "execution_count": 96,
      "outputs": []
    },
    {
      "cell_type": "code",
      "source": [
        "from sklearn.metrics import cohen_kappa_score\n",
        "total_k=0\n",
        "t=0\n",
        "for i in range(10):\n",
        "  s=0\n",
        "  a1=r1[i]\n",
        "  a2=r2[i]\n",
        "  a3=r3[i]\n",
        "  #print(a1)\n",
        "  #calculate Cohen's Kappa\n",
        "  k1=cohen_kappa_score(a1,a2)\n",
        "  k2=cohen_kappa_score(a1,a3)\n",
        "  k3=cohen_kappa_score(a3,a2)\n",
        "  k=(k1+k2+k3)/3\n",
        "  print('\\n')\n",
        "  print('For Querry',i,'kappa value of Judge1 &2',k1,'kappa value of Judge1 &3',k2,'kappa value of Judge 2 & 3',k3)\n",
        "  print('Average Kappa for Querry',i, '=',k)\n",
        "  for j in range(100):\n",
        "    s=s+a1[j]+a2[j]+a3[j]\n",
        "  #print('s',s)\n",
        "  \n",
        "  if(s!=0):\n",
        "    t=t+1\n",
        "    total_k=total_k+k\n",
        "    \n",
        "print('-----------------------------------------------')\n",
        "print('Average kappa For 10 Querries',(total_k/t))"
      ],
      "metadata": {
        "colab": {
          "base_uri": "https://localhost:8080/"
        },
        "id": "8hKUhwMYYH0C",
        "outputId": "3464abff-e7d8-476d-eadc-b30a201c6585"
      },
      "execution_count": 102,
      "outputs": [
        {
          "output_type": "stream",
          "name": "stdout",
          "text": [
            "\n",
            "\n",
            "For Querry 0 kappa value of Judge1 &2 0.7950819672131147 kappa value of Judge1 &3 0.7950819672131147 kappa value of Judge 2 & 3 1.0\n",
            "Average Kappa for Querry 0 = 0.8633879781420765\n",
            "\n",
            "\n",
            "For Querry 1 kappa value of Judge1 &2 0.8226950354609929 kappa value of Judge1 &3 0.3697478991596639 kappa value of Judge 2 & 3 0.5798319327731092\n",
            "Average Kappa for Querry 1 = 0.5907582891312553\n",
            "\n",
            "\n",
            "For Querry 2 kappa value of Judge1 &2 0.7950819672131147 kappa value of Judge1 &3 0.8520710059171598 kappa value of Judge 2 & 3 0.6575342465753424\n",
            "Average Kappa for Querry 2 = 0.7682290732352056\n",
            "\n",
            "\n",
            "For Querry 3 kappa value of Judge1 &2 1.0 kappa value of Judge1 &3 1.0 kappa value of Judge 2 & 3 1.0\n",
            "Average Kappa for Querry 3 = 1.0\n",
            "\n",
            "\n",
            "For Querry 4 kappa value of Judge1 &2 0.6575342465753424 kappa value of Judge1 &3 0.5588235294117647 kappa value of Judge 2 & 3 0.6511627906976745\n",
            "Average Kappa for Querry 4 = 0.6225068555615939\n",
            "\n",
            "\n",
            "For Querry 5 kappa value of Judge1 &2 0.6621621621621622 kappa value of Judge1 &3 0.4923857868020305 kappa value of Judge 2 & 3 0.7950819672131147\n",
            "Average Kappa for Querry 5 = 0.6498766387257691\n",
            "\n",
            "\n",
            "For Querry 6 kappa value of Judge1 &2 0.8520710059171598 kappa value of Judge1 &3 0.8520710059171598 kappa value of Judge 2 & 3 1.0\n",
            "Average Kappa for Querry 6 = 0.9013806706114398\n",
            "\n",
            "\n",
            "For Querry 7 kappa value of Judge1 &2 0.7126436781609196 kappa value of Judge1 &3 0.5888157894736843 kappa value of Judge 2 & 3 0.3697478991596639\n",
            "Average Kappa for Querry 7 = 0.5570691222647559\n",
            "\n",
            "\n",
            "For Querry 8 kappa value of Judge1 &2 0.8520710059171598 kappa value of Judge1 &3 0.5562130177514792 kappa value of Judge 2 & 3 0.7395833333333333\n",
            "Average Kappa for Querry 8 = 0.7159557856673242\n",
            "\n",
            "\n",
            "For Querry 9 kappa value of Judge1 &2 0.38524590163934425 kappa value of Judge1 &3 0.6575342465753424 kappa value of Judge 2 & 3 0.8520710059171598\n",
            "Average Kappa for Querry 9 = 0.6316170513772822\n",
            "-----------------------------------------------\n",
            "Average kappa For 10 Querries 0.7300781464716704\n"
          ]
        }
      ]
    },
    {
      "cell_type": "markdown",
      "source": [],
      "metadata": {
        "id": "2qaEiwdbDxWt"
      }
    }
  ]
}