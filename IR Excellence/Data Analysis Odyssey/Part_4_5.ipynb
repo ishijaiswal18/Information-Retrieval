{
  "cells": [
    {
      "cell_type": "markdown",
      "metadata": {
        "id": "qKFmZFy6UJFM"
      },
      "source": [
        "Lemmatize and case fold the documents"
      ]
    },
    {
      "cell_type": "code",
      "execution_count": 3,
      "metadata": {
        "id": "WdCC_xwZ-SGM"
      },
      "outputs": [],
      "source": [
        "extr_text = []\n",
        "import re"
      ]
    },
    {
      "cell_type": "code",
      "source": [
        "from google.colab import files\n",
        "uploaded = files.upload()"
      ],
      "metadata": {
        "colab": {
          "base_uri": "https://localhost:8080/",
          "height": 80
        },
        "id": "P_NQZxZ4n1z8",
        "outputId": "b840c737-0011-443f-aa6f-8c2bbfa00621"
      },
      "execution_count": 4,
      "outputs": [
        {
          "output_type": "display_data",
          "data": {
            "text/plain": [
              "<IPython.core.display.HTML object>"
            ],
            "text/html": [
              "\n",
              "     <input type=\"file\" id=\"files-edff6778-c557-4cbb-822f-75286cbb7af1\" name=\"files[]\" multiple disabled\n",
              "        style=\"border:none\" />\n",
              "     <output id=\"result-edff6778-c557-4cbb-822f-75286cbb7af1\">\n",
              "      Upload widget is only available when the cell has been executed in the\n",
              "      current browser session. Please rerun this cell to enable.\n",
              "      </output>\n",
              "      <script>// Copyright 2017 Google LLC\n",
              "//\n",
              "// Licensed under the Apache License, Version 2.0 (the \"License\");\n",
              "// you may not use this file except in compliance with the License.\n",
              "// You may obtain a copy of the License at\n",
              "//\n",
              "//      http://www.apache.org/licenses/LICENSE-2.0\n",
              "//\n",
              "// Unless required by applicable law or agreed to in writing, software\n",
              "// distributed under the License is distributed on an \"AS IS\" BASIS,\n",
              "// WITHOUT WARRANTIES OR CONDITIONS OF ANY KIND, either express or implied.\n",
              "// See the License for the specific language governing permissions and\n",
              "// limitations under the License.\n",
              "\n",
              "/**\n",
              " * @fileoverview Helpers for google.colab Python module.\n",
              " */\n",
              "(function(scope) {\n",
              "function span(text, styleAttributes = {}) {\n",
              "  const element = document.createElement('span');\n",
              "  element.textContent = text;\n",
              "  for (const key of Object.keys(styleAttributes)) {\n",
              "    element.style[key] = styleAttributes[key];\n",
              "  }\n",
              "  return element;\n",
              "}\n",
              "\n",
              "// Max number of bytes which will be uploaded at a time.\n",
              "const MAX_PAYLOAD_SIZE = 100 * 1024;\n",
              "\n",
              "function _uploadFiles(inputId, outputId) {\n",
              "  const steps = uploadFilesStep(inputId, outputId);\n",
              "  const outputElement = document.getElementById(outputId);\n",
              "  // Cache steps on the outputElement to make it available for the next call\n",
              "  // to uploadFilesContinue from Python.\n",
              "  outputElement.steps = steps;\n",
              "\n",
              "  return _uploadFilesContinue(outputId);\n",
              "}\n",
              "\n",
              "// This is roughly an async generator (not supported in the browser yet),\n",
              "// where there are multiple asynchronous steps and the Python side is going\n",
              "// to poll for completion of each step.\n",
              "// This uses a Promise to block the python side on completion of each step,\n",
              "// then passes the result of the previous step as the input to the next step.\n",
              "function _uploadFilesContinue(outputId) {\n",
              "  const outputElement = document.getElementById(outputId);\n",
              "  const steps = outputElement.steps;\n",
              "\n",
              "  const next = steps.next(outputElement.lastPromiseValue);\n",
              "  return Promise.resolve(next.value.promise).then((value) => {\n",
              "    // Cache the last promise value to make it available to the next\n",
              "    // step of the generator.\n",
              "    outputElement.lastPromiseValue = value;\n",
              "    return next.value.response;\n",
              "  });\n",
              "}\n",
              "\n",
              "/**\n",
              " * Generator function which is called between each async step of the upload\n",
              " * process.\n",
              " * @param {string} inputId Element ID of the input file picker element.\n",
              " * @param {string} outputId Element ID of the output display.\n",
              " * @return {!Iterable<!Object>} Iterable of next steps.\n",
              " */\n",
              "function* uploadFilesStep(inputId, outputId) {\n",
              "  const inputElement = document.getElementById(inputId);\n",
              "  inputElement.disabled = false;\n",
              "\n",
              "  const outputElement = document.getElementById(outputId);\n",
              "  outputElement.innerHTML = '';\n",
              "\n",
              "  const pickedPromise = new Promise((resolve) => {\n",
              "    inputElement.addEventListener('change', (e) => {\n",
              "      resolve(e.target.files);\n",
              "    });\n",
              "  });\n",
              "\n",
              "  const cancel = document.createElement('button');\n",
              "  inputElement.parentElement.appendChild(cancel);\n",
              "  cancel.textContent = 'Cancel upload';\n",
              "  const cancelPromise = new Promise((resolve) => {\n",
              "    cancel.onclick = () => {\n",
              "      resolve(null);\n",
              "    };\n",
              "  });\n",
              "\n",
              "  // Wait for the user to pick the files.\n",
              "  const files = yield {\n",
              "    promise: Promise.race([pickedPromise, cancelPromise]),\n",
              "    response: {\n",
              "      action: 'starting',\n",
              "    }\n",
              "  };\n",
              "\n",
              "  cancel.remove();\n",
              "\n",
              "  // Disable the input element since further picks are not allowed.\n",
              "  inputElement.disabled = true;\n",
              "\n",
              "  if (!files) {\n",
              "    return {\n",
              "      response: {\n",
              "        action: 'complete',\n",
              "      }\n",
              "    };\n",
              "  }\n",
              "\n",
              "  for (const file of files) {\n",
              "    const li = document.createElement('li');\n",
              "    li.append(span(file.name, {fontWeight: 'bold'}));\n",
              "    li.append(span(\n",
              "        `(${file.type || 'n/a'}) - ${file.size} bytes, ` +\n",
              "        `last modified: ${\n",
              "            file.lastModifiedDate ? file.lastModifiedDate.toLocaleDateString() :\n",
              "                                    'n/a'} - `));\n",
              "    const percent = span('0% done');\n",
              "    li.appendChild(percent);\n",
              "\n",
              "    outputElement.appendChild(li);\n",
              "\n",
              "    const fileDataPromise = new Promise((resolve) => {\n",
              "      const reader = new FileReader();\n",
              "      reader.onload = (e) => {\n",
              "        resolve(e.target.result);\n",
              "      };\n",
              "      reader.readAsArrayBuffer(file);\n",
              "    });\n",
              "    // Wait for the data to be ready.\n",
              "    let fileData = yield {\n",
              "      promise: fileDataPromise,\n",
              "      response: {\n",
              "        action: 'continue',\n",
              "      }\n",
              "    };\n",
              "\n",
              "    // Use a chunked sending to avoid message size limits. See b/62115660.\n",
              "    let position = 0;\n",
              "    do {\n",
              "      const length = Math.min(fileData.byteLength - position, MAX_PAYLOAD_SIZE);\n",
              "      const chunk = new Uint8Array(fileData, position, length);\n",
              "      position += length;\n",
              "\n",
              "      const base64 = btoa(String.fromCharCode.apply(null, chunk));\n",
              "      yield {\n",
              "        response: {\n",
              "          action: 'append',\n",
              "          file: file.name,\n",
              "          data: base64,\n",
              "        },\n",
              "      };\n",
              "\n",
              "      let percentDone = fileData.byteLength === 0 ?\n",
              "          100 :\n",
              "          Math.round((position / fileData.byteLength) * 100);\n",
              "      percent.textContent = `${percentDone}% done`;\n",
              "\n",
              "    } while (position < fileData.byteLength);\n",
              "  }\n",
              "\n",
              "  // All done.\n",
              "  yield {\n",
              "    response: {\n",
              "      action: 'complete',\n",
              "    }\n",
              "  };\n",
              "}\n",
              "\n",
              "scope.google = scope.google || {};\n",
              "scope.google.colab = scope.google.colab || {};\n",
              "scope.google.colab._files = {\n",
              "  _uploadFiles,\n",
              "  _uploadFilesContinue,\n",
              "};\n",
              "})(self);\n",
              "</script> "
            ]
          },
          "metadata": {}
        },
        {
          "output_type": "stream",
          "name": "stdout",
          "text": [
            "Saving Medical_Abstracts.txt to Medical_Abstracts.txt\n"
          ]
        }
      ]
    },
    {
      "cell_type": "code",
      "execution_count": 5,
      "metadata": {
        "colab": {
          "base_uri": "https://localhost:8080/"
        },
        "id": "NVRgqSst9i8V",
        "outputId": "2d999cff-2f67-45cf-ebd0-6b6a801187f7"
      },
      "outputs": [
        {
          "output_type": "stream",
          "name": "stdout",
          "text": [
            "734\n"
          ]
        }
      ],
      "source": [
        "with open('/content/Medical_Abstracts.txt', 'r') as file:\n",
        "    text = file.read()\n",
        "    text_list = re.split('.I \\d+', text)\n",
        "    text_list.pop(0)\n",
        "    print(len(text_list[0]))\n",
        "    extr_text = text_list\n",
        "   "
      ]
    },
    {
      "cell_type": "code",
      "execution_count": 6,
      "metadata": {
        "colab": {
          "base_uri": "https://localhost:8080/"
        },
        "id": "iKzerNiv_Lag",
        "outputId": "0b334ea3-35e7-4d25-d452-a1ef45a6bb71"
      },
      "outputs": [
        {
          "output_type": "stream",
          "name": "stderr",
          "text": [
            "[nltk_data] Downloading package wordnet to /root/nltk_data...\n"
          ]
        },
        {
          "output_type": "stream",
          "name": "stdout",
          "text": [
            "['correlation', 'between', 'maternal', 'and', 'fetal', 'plasma', 'level', 'of', 'glucose', 'and', 'free', 'fatty', 'acid', 'correlation', 'coefficient', 'have', 'been', 'determined', 'between', 'the', 'level', 'of', 'glucose', 'and', 'ffa', 'in', 'maternal', 'and', 'fetal', 'plasma', 'collected', 'at', 'delivery', 'significant', 'correlation', 'were', 'obtained', 'between', 'the', 'maternal', 'and', 'fetal', 'glucose', 'level', 'and', 'the', 'maternal', 'and', 'fetal', 'ffa', 'level', 'from', 'the', 'size', 'of', 'the', 'correlation', 'coefficient', 'and', 'the', 'slope', 'of', 'regression', 'line', 'it', 'appears', 'that', 'the', 'fetal', 'plasma', 'glucose', 'level', 'at', 'delivery', 'is', 'very', 'strongly', 'dependent', 'upon', 'the', 'maternal', 'level', 'whereas', 'the', 'fetal', 'ffa', 'level', 'at', 'delivery', 'is', 'only', 'slightly', 'dependent', 'upon', 'the', 'maternal', 'level']\n"
          ]
        }
      ],
      "source": [
        "import nltk\n",
        "nltk.download('wordnet')\n",
        "from nltk.stem import WordNetLemmatizer\n",
        "\n",
        "wordnet_lemmatizer = WordNetLemmatizer()\n",
        "\n",
        "sample = extr_text[0].lower()\n",
        "sample_words = re.split('[,.\\\\/\\\\s\\n]', sample)\n",
        "\n",
        "while '' in sample_words:\n",
        "  sample_words.remove('')\n",
        "sample_words.remove('w')\n",
        "lemmatized_words = [wordnet_lemmatizer.lemmatize(word) for word in sample_words]\n",
        "print(lemmatized_words)\n"
      ]
    },
    {
      "cell_type": "code",
      "execution_count": 7,
      "metadata": {
        "id": "QY_t-8qFUDO2"
      },
      "outputs": [],
      "source": [
        "#Sampled Documents\n",
        "chosen = [173, 124, 302, 67, 482, 241, 138, 431, 194, 412, 480, 163, 156, 386, 389, 64, 424, 434, 88, 422, 133, 131, 311, 276, 265, 324, 406, 178, 445, 341, 425, 454, 390, 40, 36, 30, 426, 46, 217, 3, 267, 437, 333, 358, 486, 74, 443, 282, 109, 371, 220, 115, 222, 197, 139, 233, 207, 84, 380, 280, 301, 94, 113, 73, 111, 444, 414, 174, 198, 387, 16, 277, 28, 421, 37, 41, 442, 59, 65, 71, 200, 203, 76, 205, 206, 82, 83, 469, 214, 343, 216, 100, 356, 365, 368, 372, 117, 376, 251, 126]\n"
      ]
    },
    {
      "cell_type": "code",
      "execution_count": 8,
      "metadata": {
        "colab": {
          "base_uri": "https://localhost:8080/"
        },
        "id": "DITCuniF-mT9",
        "outputId": "6d2354d2-8c2a-49fb-d6e7-e9c2eed2dad4"
      },
      "outputs": [
        {
          "output_type": "stream",
          "name": "stdout",
          "text": [
            "['growth', 'of', 'several', 'human', 'cell', 'line', 'in', 'newborn', 'rat', 'when', 'injected', 'intravenously', 'into', 'newborn', 'rat', 'eight', 'human', 'tissue-cultured', 'cancer', 'cell', 'line', '-dash', 'h', 'ep', '2', 'detroit', '6', 'j-111', 'rp', '41', 'rp', '212', 'adeno', 'cx', '1', 'ovary', '2', 'and', 'mac', '21', '-dash', 'grew', 'progressively', 'in', 'lung', 'and', 'other', 'organ', 'of', 'more', 'than', '50', 'per', 'cent', 'of', 'the', 'animal', 'and', 'commonly', 'caused', 'death', 'after', '5-8', 'week', 'two', 'other', 'human', 'cell', 'line', '-dash', 'the', 'carcinoma', 'h', 'ep', '1', 'and', 'the', 'presumably', 'normal', 'amnion', 'b', '-dash', 'grew', 'le', 'frequently', 'and', 'rarely', 'caused', 'death', 'or', 'illness']\n",
            "['factor', 'limiting', 'survival', 'after', 'circulatory', 'occlusion', 'under', 'hypothermia', 'and', 'hyperbaric', 'oxygenation', 'thirty', 'minute', 'of', 'circulatory', 'occlusion', 'with', 'mild', 'hypothermia', 'and', 'hyperbaric', 'oxygen', 'ventilation', 'resulted', 'in', 'a', 'mortality', 'of', '83', '3', 'percent', 'in', 'animal', 'when', 'coronary', 'perfusion', 'from', 'a', 'reservoir', 'wa', 'added', 'the', 'mortality', 'rate', 'wa', '22', 'percent', 'ventricular', 'fibrillation', 'wa', 'much', 'more', 'easily', 'reversed', 'after', 'coronary', 'perfusion', 'there', 'wa', 'no', 'evidence', 'of', 'brain', 'damage', 'in', 'survivor', 'which', 'lead', 'to', 'the', 'conclusion', 'that', 'the', 'brain', 'tolerates', 'circulatory', 'arrest', 'better', 'than', 'the', 'heart', 'under', 'these', 'condition']\n",
            "['8914', 'the', 'effect', 'of', 'hypoxia', 'on', 'oxygen', 'consumption', 'of', 'cerebral', 'cortex', 'liver', 'slice', 'and', 'of', 'diaphragm', 'in', 'vitro', 'during', 'post-', 'natal', 'development', 'of', 'the', 'rat', 'oxygen', 'consumption', 'of', 'slice', 'from', 'the', 'liver', 'and', 'cerebral', 'cortex', 'and', 'of', 'the', 'cut', 'dia-', 'phragm', 'wa', 'determined', 'in', 'rat', 'aged', '5', '10', '14', '20', 'and', '25', 'day', 'and', 'in', 'adult', 'animal', 'under', 'hypoxic', 'condition', '(gas', 'phase', '10%', 'oxygen', '90%', 'nitrogen)', 'oxygen', 'consumption', 'of', 'liver', 'slice', 'and', 'diaghragm', 'is', 'decreased', 'by', 'about', '25%', 'in', 'all', 'age', 'group', 'hypoxia', 'however', 'did', 'not', 'affect', 'oxygen', 'consumption', 'of', 'slice', 'of', 'the', 'cortex', 'from', '5-day-old', 'rat', 'and', 'it', 'inhibitory', 'effect', 'only', 'appeared', 'later', 'a', 'the', 'normal', 'oxygen', 'consumption', 'started', 'to', 'rise', 'the', 'inhibitory', 'effect', 'of', 'hypoxia', 'wa', 'greatest', 'in', 'adult', 'animal']\n",
            "['primary', 'epidermoid', 'cancer', 'of', 'the', 'lung', 'ultrastructural', 'study', 'the', 'early', 'epidermoidic', 'epithelioma', 'of', 'the', 'human', 'lung', 'are', 'initiated', 'by', 'the', 'proliferation', 'of', 'body', 'cell', 'whose', 'structure', 'is', 'analogical', 'to', 'that', 'of', 'the', 'medium', 'cell', 'and', 'or', 'the', 'modificated', 'basal', 'cell', 'of', 'the', 'normal', 'bronchial', 'wall', 'the', 'presence', 'of', 'desmosomes', 'and', 'tonofibrils', 'in', 'the', 'cell', 'of', 'the', 'stratum', 'germinativum', 'of', 'the', 'bronchial', 'epithelium', 'and', 'in', 'the', 'cell', 'derived', 'from', 'it', 'allows', 'u', 'a', 'better', 'understanding', 'of', 'the', 'malpighian', 'metaplasis', 'of', 'this', 'wall', 'and', 'give', 'account', 'of', 'the', 'epidermoidic', 'evolution', 'of', 'the', 'bronchial', 'epithelioma', 'certain', 'nuclear', 'and', 'cytoplasmic', 'modification', 'suggest', 'the', 'possibility', 'of', 'a', 'causal', 'virus']\n",
            "['2529', 'repair', 'of', 'damage', 'induced', 'by', 'a', 'monofunctional', 'alkylating', 'agent', 'in', 'a', 'transformable', 'ultraviolet-sensitive', 'strain', 'of', 'bacillus', 'subtilis', 'a', 'uv', 'sensitive', 'transformable', 'strain', 'of', 'b', 'subtilis', '(uvr-)', 'wa', 'unable', 'to', 'carry', 'out', 'host', 'cell', 'reactivation', 'of', 'the', 'virulent', 'bacteriophage', 'spo1', 'the', 'ratio', 'of', 'the', 'slope', '(kuvr-', 'kuvr+)', 'of', 'the', 'uv', 'inactivation', 'curve', 'wa', '6-8', 'for', 'cell', 'or', 'for', 'whole', 'phage', 'and', '2', 'for', 'indole+', 'transforming', 'dna', 'or', 'for', 'spo1', 'phage', 'dna', 'measured', 'in', 'a', 'transforming', 'system', 'whole', 'phage', 'inactivated', 'with', 'nitrogen', 'mustard', 'showed', 'greater', 'survival', 'on', 'uvr+', 'cell', 'than', 'on', 'uvr-;', 'there', 'wa', 'no', 'such', 'difference', 'for', 'whole', 'phage', 'inactivated', 'with', 'methyl', 'methanesulfonate', 'whole', 'uvr+', 'cell', 'recovered', 'from', 'uv', 'induced', 'damage', 'a', 'determined', 'by', 'an', 'increase', 'in', 'extractable', 'transforming', 'activity', 'during', 'a', 'period', 'of', 'incubation', 'in', 'which', 'net', 'dna', 'synthesis', 'did', 'not', 'occur', 'uvr-', 'cell', 'were', 'unable', 'to', 'reco-', 'ver', 'from', 'uv', 'induced', 'damage', 'but', 'they', 'did', 'recover', 'from', 'methyl', 'methanesulfonate', 'induced', 'damage', 'in', 'similar', 'experiment', 'density', 'labeled', '(h2n15)', 'methyl', 'methanesul-', 'fonate', 'treated', 'uvr+', 'cell', 'incubated', 'in', '(h1n14)', 'medium', 'containing', '(h3)', 'thymidine', 'show-', 'ed', 'a', '3-fold', 'increase', 'in', 'extractable', 'transforming', 'activity', 'with', 'no', 'formation', 'of', 'new', 'dna', 'molecule', 'a', 'determined', 'by', 'pyknometric', 'analysis', 'the', 'repair', 'of', 'damage', 'in-', 'duced', 'by', 'uv', 'irradiation', 'differs', 'by', 'at', 'least', 'one', 'step', 'from', 'the', 'repair', 'of', 'damage', 'in-', 'duced', 'by', 'methyl', 'methanesulfonate']\n",
            "['basal', 'metabolic', 'rate', 'after', 'cardiovascular', 'surgery', 'the', 'basal', 'metabolic', 'rate', 'and', 'respiratory', 'equivalent', 'of', 'patient', 'were', 'determined', 'during', '8', 'day', 'of', 'convalescence', 'from', 'cardiovascular', 'surgical', 'operation', 'performed', 'with', 'or', 'without', 'cardiopulmonary', 'bypass', 'the', 'result', 'were', 'compared', 'in', 'patient', 'who', 'had', 'undergone', 'operation', 'for', 'different', 'disease', 'metabolic', 'rate', 'in', 'the', 'majority', 'of', 'case', 'wa', 'increased', 'but', 'wa', 'commensurate', 'with', 'body', 'temperature', 'some', 'patient', 'particularly', 'those', 'requiring', 'open', 'operation', 'on', 'the', 'aortic', 'valve', 'had', 'raised', 'metabolic', 'rate', 'which', 'could', 'not', 'be', 'explained', 'solely', 'by', 'pyrexia', 'all', 'type', 'of', 'patient', 'in', 'this', 'series', 'had', 'elevated', 'respiratory', 'equivalent', 'which', 'persisted', 'throughout', 'convalescence', 'these', 'equivalent', 'were', 'greater', 'in', 'patient', 'treated', 'with', 'cardiopulmonary', 'bypass', 'than', 'in', 'patient', 'treated', 'without', 'bypass']\n",
            "['phospholipid', 'of', 'the', 'bovine', 'rabbit', 'and', 'human', 'lens', 'the', 'phospholipid', 'of', 'bovine', 'rabbit', 'and', 'human', 'lens', 'contain', 'cephalin', 'lecithin', 'and', 'sphingomyelin', 'but', 'their', 'distribution', 'differs', 'with', 'each', 'specie', 'there', 'is', 'suggestive', 'evidence', 'that', 'there', 'may', 'also', 'be', 'plasmalogen', 'in', 'the', 'lens', 'but', 'if', 'so', 'it', 'represents', 'a', 'minor', 'phospholipid', 'component', 'the', 'fatty', 'acid', 'composition', 'of', 'each', 'phospholipid', 'differs', 'in', 'each', 'specie', 'with', 'most', 'of', 'the', 'difference', 'centering', 'around', '16', '0', '18', '1', 'and', '24', '1']\n",
            "['4311', 'study', 'on', 'intravenous', 'transfusion', 'of', 'thymus', 'cell', 'and', 'lymphnode', 'cell', 'iii', 'influence', 'of', 'transfused', 'thymus', 'cell', 'and', 'lymphnode', 'cell', 'on', 'the', 'bone', 'marrow', 'in', 'rabbit', 'transfused', 'with', 'thymus', 'cell', 'and', 'lymphnode', 'cell', 'the', 'peripheral', 'blood', 'and', 'bone', 'marrow', 'were', 'studied', 'the', 'transfusion', 'of', 'thymus', 'cell', 'caused', 'a', 'peripheral', 'lymphocytosis', 'and', 'a', 'diminution', 'of', 'lymphoid', 'cell', 'in', 'the', 'bone', 'marrow', 'of', 'both', 'young', 'and', 'adult', 'rabbit', 'the', 'transfusion', 'of', 'lymphnode', 'cell', 'resulted', 'in', 'a', 'peripheral', 'lympho-', 'penia', 'and', 'an', 'initial', 'increase', 'and', 'a', 'subsequent', 'diminution', 'of', 'lymphoid', 'cell', 'in', 'the', 'bone', 'marrow', 'it', 'is', 'suggested', 'that', 'lymphoid', 'cell', 'in', 'the', 'bone', 'marrow', 'may', 'be', 'lympho-', 'cytes', 'which', 'are', 'stored', 'or', 'discharged', 'according', 'to', 'a', 'variety', 'of', 'condition', 'further-', 'more', 'thymus', 'cell', 'are', 'thought', 'to', 'mobilize', 'lymphocyte', 'from', 'the', 'bone', 'marrow', 'to', 'the', 'peripheral', 'blood']\n",
            "['comparison', 'of', 'ultraviolet', 'sensitivity', 'of', 'bacillus', 'subtilis', 'bacteriophage', 'spo2', 'and', 'it', 'infectious', 'dna', 'deoxyribonucleic', 'acid', 'extracted', 'from', 'a', 'clear', 'plaque', 'mutant', 'of', 'the', 'temperate', 'phage', 'spo2', 'wa', 'infectious', 'when', 'incubated', 'with', 'competent', 'culture', 'of', 'bacillus', 'subtilis', '168', 'm', 'the', 'relationship', 'between', 'number', 'of', 'infectious', 'center', 'and', 'dna', 'concentration', 'wa', 'linear', 'the', 'sensitivity', 'of', 'the', 'infectious', 'dna', 'to', 'ultraviolet', 'light', 'wa', 'much', 'greater', 'than', 'that', 'of', 'the', 'free', 'phage', 'when', 'b', 'subtilis', '168', 'm', 'wa', 'used', 'a', 'host', 'acriflavin', 'which', 'inhibits', 'host', 'cell', 'reactivation', 'increased', 'the', 'rate', 'of', 'ultraviolet', 'inactivation', 'of', 'the', 'free', 'phage', 'so', 'that', 'it', 'approached', 'the', 'inactivation', 'rate', 'of', 'the', 'phage', 'dna', 'acriflavin', 'had', 'little', 'effect', 'on', 'the', 'survival', 'curve', 'of', 'the', 'infectious', 'dna', 'non-host', 'reactivating', 'mutant', '(hcr', ')', 'of', 'b', 'subtilis', '168', 'm', 'were', 'isolated', 'the', 'survival', 'curve', 'of', 'spo2', 'phage', 'were', 'much', 'steeper', 'when', 'the', 'hcr', 'mutant', 'wa', 'used', 'a', 'a', 'host', 'than', 'those', 'obtained', 'when', 'the', 'hcr', 'parental', 'strain', 'wa', 'used', 'a', 'a', 'host', 'ultraviolet', 'sensitivity', 'of', 'the', 'phage', 'dna', 'wa', 'still', 'greater', 'than', 'that', 'of', 'the', 'free', 'phage', 'even', 'when', 'b', 'subtilis', 'hcr', 'wa', 'used', 'a', 'host', 'but', 'the', 'difference', 'in', 'sensitivity', 'wa', 'much', 'le', 'than', 'the', 'difference', 'obtained', 'with', 'b', 'subtilis', 'hcr', 'a', 'a', 'host', 'possible', 'explanation', 'for', 'the', 'greater', 'ultraviolet', 'sensitivity', 'of', 'the', 'infectious', 'dna', 'are', 'discussed']\n",
            "['1593', 'bleeding', 'tendency', 'associated', 'with', 'profound-hypothermia', 'technics', 'in', 'neurologic', 'surgery', 'forty-three', 'patient', 'with', 'bleeding', 'intracranial', 'aneurysm', 'were', 'operated', 'on', 'under', 'deep', 'hypothermia', 'and', 'with', 'the', 'aid', 'of', 'extracorporeal', 'circulation', 'the', 'open-thorax', 'method', 'wa', 'used', 'in', '18', 'case', 'and', 'the', 'closed-thorax', 'method', 'in', '25', 'the', 'following', 'point', 'are', 'made', '(1)', 'the', 'closed-thorax', 'method', 'is', 'considered', 'superior', 'to', 'the', 'open-', 'thorax', 'method', 'in', 'several', 'respects;', '(2)', 'meticulous', 'hemostasis', 'is', 'essential', 'to', 'control', 'the', 'oozing', 'that', 'occurs', 'during', 'extracorporeal', 'circulation', 'under', 'profound', 'hypothermia', 'until', 'the', 'heparin', 'antagonist', 'can', 'become', 'effective', 'and', 'body', 'temperature', 'can', 'return', 'to', 'normal;', '(3)', 'significant', 'thrombocytopenia', 'may', 'develop', 'during', 'extracorporeal', 'cir-', 'culation', 'and', 'inhibition', 'of', 'the', 'thrombin-fibrinogen', 'reaction', 'by', 'factor', 'other', 'than', 'heparin', 'may', 'cause', 'a', 'major', 'coagulation', 'defect', 'and', 'may', 'also', 'by', 'mimicking', 'the', 'he-', 'parin', 'effect', 'lead', 'to', 'the', 'excessive', 'use', 'of', 'heparin', 'antagonists;', '(4)', 'pathologic', 'change', 'in', 'microcirculation', 'during', 'extracorporeal', 'circulation', 'may', 'be', 'determinant', 'of', 'a', 'hemorrhagic', 'tendency']\n",
            "['2564', 'chemical', 'inactivation', 'and', 'reactivation', 'of', 'transforming', 'dna', '(russian)', 'the', 'kinetics', 'of', 'the', 'inactivation', 'of', 'linked', 'and', 'unlinked', 'genetic', 'marker', 'by', 'mean', 'of', 'hno2', 'or', 'uv', 'light', 'wa', 'studied', 'closely', 'linked', 'marker', 'are', 'inactivated', 'simul-', 'taneously', 'unlinked', 'marker', 'are', 'inactivated', 'independently', 'it', 'seems', 'that', 'the', 'chemical', 'attack', 'on', 'dna', 'impairs', 'a', 'large', 'part', 'of', 'macromolecule', 'including', 'many', 'cistron', 'it', 'wa', 'shown', 'by', 'genetic', 'experiment', 'that', 'chemical', 'inactivation', 'prac-', 'tically', 'doe', 'not', 'influence', 'the', 'process', 'of', 'dna', 'inclusion', 'into', 'competent', 'cell', 'by', 'mean', 'of', 'viscosity', 'measurement', 'it', 'wa', 'shown', 'that', 'the', 'molecular', 'weight', 'and', 'macromolecular', 'property', 'of', 'dna', 'do', 'not', 'significantly', 'change', 'during', 'chemical', 'inactivation', 'by', 'mean', 'of', 'hno2', 'two', 'explanation', 'for', 'the', 'inactivation', 'of', 'trans-', 'forming', 'activity', 'of', 'dna', 'are', 'discussed', '(1)', 'structural', 'deterioration', 'preventing', 'integration', 'of', 'dna', 'molecule', 'into', 'the', 'genome', 'of', 'recipient', 'cell', 'or', '(2)', 'deletion', 'of', 'a', 'chain', 'unit', 'out', 'of', 'dna', 'chain', 'resulting', 'in', 'wrong', 'reading', 'of', 'code', 'triplet', 'it', 'wa', 'previously', 'described', 'in', 'the', 'literature', 'that', 'extensive', 'inactivation', 'lead', 'to', 'a', 'state', 'of', 'dna', 'apparently', 'more', 'resistant', 'than', 'the', 'initial', 'one', 'inactivation', 'doe', 'not', 'con-', 'firm', 'to', 'exponential', 'kinetics', 'the', 'author', 'discus', 'the', 'coding', 'mistake', 'hypothesis', 'a', 'an', 'explanation', 'for', 'this', 'remarkable', 'fact', 'extensive', 'hno2', 'or', 'uv', 'light', 'action', 're-', 'sults', 'in', 'multiple', 'lesion', 'in', 'the', 'dna', 'molecule', 'and', 'lead', 'to', 'reactivation', 'because', 'the', 'deletion', 'restore', 'correct', 'reading', 'of', 'the', 'code', 'in', 'a', 'large', 'part', 'of', 'dna', 'molecule', 'on', 'the', 'basis', 'of', 'this', 'explanation', 'reactivation', 'of', 'chemically', 'injured', 'dna', 'by', 'mean', 'of', 'fusion', 'and', 'annealing', 'with', 'homologous', 'but', 'genetically', 'inactive', 'dna', 'or', 'by', 'slight', 'fragmentation', 'of', 'dna', 'by', 'mean', 'of', 'ultrasonic', 'vibration', 'may', 'be', 'expected', 'attempt', 'to', 'achieve', 'reactivation', 'by', 'both', 'method', 'gave', 'positive', 'result']\n",
            "['a', 'comparison', 'between', 'inhaled', 'dust', 'and', 'the', 'dust', 'recovered', 'from', 'human', 'lung', 'experiment', 'on', 'the', 'loss', 'of', 'dust', 'particle', 'during', 'breathing', 'indicate', 'total', 'deposition', 'in', 'the', 'respiratory', 'tract', 'subjection', 'of', 'the', 'result', 'to', 'qualitative', 'argument', 'may', 'give', 'information', 'about', 'alveolar', 'deposition', 'measurement', 'of', 'insoluble', 'dust', 'recovered', 'post', 'mortem', 'from', 'human', 'lung', 'give', 'the', 'absolute', 'retention', 'of', 'dust', 'which', 'wa', 'deposited', 'in', 'the', 'alveolus', 'and', 'subsequently', 'shifted', 'probably', 'to', 'a', 'large', 'extent', 'to', 'the', 'lymphatic', 'vessel', 'of', 'the', 'lung', 'experimental', 'result', 'for', 'total', 'deposition', 'and', 'absolute', 'retention', 'are', 'discussed', 'in', 'connection', 'with', 'the', 'health', 'risk', 'due', 'to', 'inhaling', 'insoluble', 'particle', 'such', 'a', 'plutonium', 'dioxide']\n",
            "['a', 'comparison', 'of', 'the', 'cytologic', 'effect', 'of', 'leurosine', 'methiodide', 'and', 'vinblastine', 'in', 'tissue', 'culture', 'comparison', 'of', 'the', 'degree', 'and', 'duration', 'of', 'arrest', 'of', 'metaphase', 'in', 'tissue', 'culture', 'cell', 'by', 'leurosine', 'methiodide', 'and', 'vinblastine', 'wa', 'made', 'colchicine', 'and', 'demecolcine', 'were', 'included', 'for', 'reference', 'purpose', 'all', 'four', 'drug', 'produced', 'a', 'similar', 'cytologic', 'effect', 'but', 'vinblastine', 'wa', 'most', 'active', 'and', 'remained', 'active', 'for', 'the', 'longest', 'period', 'of', 'time']\n",
            "['4160', 'clinical', 'application', 'of', 'quantitative', 'radiocardiography', 'i', 'result', 'in', 'normal', 'subject', 'and', 'change', 'with', 'age', 'a', 'technique', 'is', 'described', 'for', 'routine', 'determination', 'at', 'the', 'bedside', 'of', 'blood', 'volume', 'cardiac', 'output', 'and', 'pulmonary', 'blood', 'volume', 'by', 'mean', 'of', 'the', 'method', 'of', 'quantitative', 'radiocardiography', 'the', 'instrumentation', 'is', 'simple', 'the', 'technique', 'is', 'easy', 'to', 'perform', 'and', 'cause', 'little', 'trouble', 'to', 'the', 'patient', 'only', 'one', 'injection', 'of', 'about', '50', 'uc', 'of', 'rihsa', 'being', 'needed', 'thirty-nine', 'patient', 'aged', '17-83', 'yr', 'free', 'of', 'cardiovascular', 'or', 're-', 'spiratory', 'disorder', 'were', 'studied', 'the', 'result', 'obtained', 'are', 'in', 'close', 'agreement', 'with', 'previous', 'report', 'only', 'the', 'cardiac', 'index', 'showed', 'a', 'significant', 'decrease', 'with', 'age', 'while', 'the', 'reduction', 'of', 'blood', 'volume', 'and', 'of', 'pulmonary', 'blood', 'volume', 'wa', 'slight', 'a', 'close', 'statistical', 'correlation', 'wa', 'found', 'between', 'pbv', 'and', 'sv', 'and', 'wa', 'interpreted', 'a', 'a', 'dependence', 'of', 'pbv', 'on', 'sv']\n",
            "['2717', 'the', 'value', 'of', 'quantitative', 'radiocardiography', 'in', 'the', 'study', 'of', 'hemodynamics', 'six', 'normal', 'subject', 'and', '7', 'patient', 'with', 'mitral', 'stenosis', 'were', 'studied', 'quantitative', 'radiocardiographic', 'investigation', '(rihsa)', 'were', 'performed', 'according', 'to', \"donato's\", 'method', 'the', 'stroke', 'volume', 'a', 'well', 'a', 'the', 'cardiac', 'output', 'were', 'found', 'to', 'be', 'decreased', 'in', 'mitral', 'stenosis', 'the', 'right', 'ventricular', 'evacuation', 'ratio', 'diminished', 'and', 'the', 'pul-', 'monary', 'circulation', 'time', 'prolonged', 'the', 'result', 'pertaining', 'to', 'diastolic', 'right', 'ventricu-', 'lar', 'capacity', 'right', 'ventricular', 'resting', 'blood', 'volume', 'and', 'pulmonary', 'blood', 'volume', 'proved', 'inconclusive']\n",
            "['the', 'meaning', 'of', 'ph', 'at', 'low', 'temperature', 'during', 'extra-corporeal', 'circulation', 'a', 'review', 'of', 'the', 'temperature', 'gradient', 'occurring', 'during', 'profound', 'hypothermia', 'is', 'made', 'in', 'regard', 'to', 'acid', 'base', 'change', 'in', 'general', 'and', 'to', 'ph', 'reading', 'in', 'particular', 'it', 'is', 'concluded', 'that', 'term', 'such', 'a', \"'body'\", \"'mean'\", \"'average'\", 'and', \"'core'\", 'temperature', 'should', 'be', 'discarded', 'and', 'that', 'when', 'a', 'temperature', 'is', 'quoted', 'it', 'should', 'be', 'referred', 'to', 'the', 'site', 'at', 'which', 'it', 'wa', 'measured', 'the', 'main', 'circumstance', 'in', 'which', 'blood', 'ph', 'is', 'measured', 'at', 'a', 'temperature', 'different', 'from', 'that', 'at', 'which', 'the', 'blood', 'is', 'equilibrated', 'with', 'respiratory', 'gas', 'are', 'reviewed', 'by', 'describing', 'the', 'change', 'which', 'occur', 'during', 'tonometry', 'experiment', 'in', 'this', 'way', 'fundamental', 'change', 'can', 'be', 'understood', 'before', 'considering', 'the', 'more', 'complicated', 'sequence', 'of', 'event', 'taking', 'place', 'in', 'the', 'living', 'body', 'the', 'alteration', 'that', 'occur', 'in', 'the', 'concentration', 'of', 'protein', 'and', 'bicarbonate', 'ion', 'when', 'whole', 'blood', 'is', 'cooled', 'are', 'reviewed', 'together', 'with', 'their', 'influence', 'on', \"'correction\", \"factors'\", 'the', 'reason', 'why', 'these', 'factor', 'should', 'not', 'be', 'applied', 'to', 'blood', 'when', 'the', 'living', 'body', 'is', 'undergoing', 'hypothermia', 'involving', 'the', 'use', 'of', 'an', 'extra-corporeal', 'circulation', 'are', 'discussed', 'example', 'of', 'the', 'numerical', 'value', 'for', 'blood', 'ph', 'during', 'the', 'two', 'main', 'method', 'for', 'producing', 'profound', 'hypothermia', 'one', 'using', 'autogenous', 'lung', 'perfusion', 'and', 'the', 'other', 'a', 'pump-oxygenator', 'are', 'given', 'with', 'reference', 'to', 'the', 'influence', 'of', 'pco2', 'upon', 'these', 'value', 'the', 'existing', 'method', 'of', 'acid-base', 'measurement', 'appear', 'to', 'be', 'sufficiently', 'accurate', 'to', 'reflect', 'the', 'metabolic', 'component', 'during', 'profound', 'hypothermia']\n",
            "['3820', 'the', 'dubious', 'haemopoietic', 'stem', 'cell', 'function', 'of', 'the', 'lym-', 'phoid', 'cell', 'of', 'the', 'blood', 'autoradiographic', 'study', 'on', 'dog', 'the', 'migration', 'fate', 'and', 'turnover', 'of', 'lymphoid', 'cell', 'in', 'blood', 'and', 'bone', 'marrow', 'of', 'irradiated', 'and', 'non-irradiated', 'dog', 'were', 'studied', 'by', 'serial', 'autoradiography', 'with', 'co-', 'ping', 'of', 'the', 'hind', 'leg', 'during', 'the', 'plasma', 'clearance', 'time', 'of', 'h3-thymidine', 'injected', 'into', 'an', 'anterior', 'vein', 'in', 'irradiated', 'dog', 'the', 'h3-thymidine', 'injection', 'procedure', 'wa', 'car-', 'ried', 'out', 'during', 'the', 'early', 'recovery', 'phase', 'following', '250', 'r', 'whole', 'body', 'x-irradiation', 'conclusive', 'evidence', 'of', 'transformation', 'of', 'hematogenous', 'bone', 'marrow', 'lymphoid', 'cell', 'into', 'hemopoietic', 'precursor', 'wa', 'not', 'found', 'however', 'in', 'the', 'light', 'of', 'the', 'individual', 'grain', 'count', 'transformation', 'of', 'a', 'few', 'lymphoid', 'cell', 'into', 'hemopoietic', 'cell', 'cannot', 'be', 'ruled', 'out', 'the', 'data', 'obtained', 'from', 'a', 'dog', 'in', 'the', 'very', 'early', 'recovery', 'phase', 'following', 'whole', 'body', 'irradiation', 'strongly', 'indicate', 'such', 'a', 'transformation']\n",
            "['103', 'repopulation', 'of', 'bone', 'marrow', 'in', 'mouse', 'number', 'and', 'type', 'of', 'cell', 'required', 'for', 'post-x-irradiation', 'protection', 'fractionation', 'of', 'cell', 'from', 'mouse', 'bone', 'marrow', 'and', 'autologous', 'mouse', 'spleen', 'indi-', 'cates', 'that', 'the', 'cell', 'responsible', 'for', 'bone', 'marrow', 'repopulation', 'and', 'x-irradiation', 'protection', 'resembles', 'the', 'small', 'lymphocyte', 'experiment', 'with', 'injection', 'of', 'different', 'number', 'of', 'bone', 'marrow', 'and', 'spleen', 'cell', 'and', 'observation', 'on', 'survival', 'obtained', 'by', 'fractional', 'irradiation', 'of', 'the', 'entire', 'body', 'and', 'of', 'extirpation', 'of', 'the', 'shielded', 'spleen', 'after', 'irradiation', 'indicate', 'that', 'approximately', '3', 'x', '10', '4', 'cell', 'of', 'this', 'type', 'are', 'required', 'to', 'provide', '50%', 'survival', 'and', 'that', 'approximately', 'this', 'number', 'migrates', 'from', 'the', 'shielded', 'extremity', 'or', 'spleen', 'of', 'a', 'mouse', 'per', 'hour', '(slightly', 'faster', 'for', 'spleen', 'and', 'slower', 'for', 'bone', 'marrow)']\n",
            "['radiocardiography', 'principle', 'and', 'method', 'the', 'aa', 'show', 'the', 'importance', 'of', 'radiocardiography', 'a', 'a', 'method', 'to', 'evaluate', 'the', 'cardiac', 'output', 'the', 'ventricular', 'volume', 'and', 'the', 'pulmonary', 'blood', 'volume', 'in', 'this', 'first', 'paper', 'they', 'are', 'particulary', 'concerned', 'with', 'some', 'technical', 'aspect', 'which', 'are', 'very', 'important', 'to', 'collect', 'data', 'the', 'position', 'of', 'the', 'collimator', 'on', 'the', 'precordium', 'the', 'injection', 'of', 'isotope', 'through', 'a', 'catheter', 'just', 'behind', 'the', 'ventricle', 'near', 'the', 'tricuspid', 'valve', 'the', 'selection', 'of', 'ratemeter', 'constant', 'the', 'velocity', 'of', 'paper', 'on', 'the', 'recorder', 'and', 'the', 'way', 'to', 'read', 'the', 'area', 'of', 'the', 'curve', 'were', 'specially', 'discussed', 'finally', 'they', 'present', 'the', 'formula', 'used', 'to', 'calculate', 'cardiac', 'output', 'ventricular', 'volume', 'and', 'pulmonary', 'blood', 'volume']\n",
            "['2406', 'profound', 'hypothermia', 'the', 'aim', 'of', 'hypothermia', 'is', 'protection', 'of', 'vital', 'cerebral', 'structure', 'from', 'hypoxia', 'during', 'aneurysm', 'repair;', 'profound', 'hypothermia', 'is', 'also', 'valuable', 'in', 'operating', 'on', 'certain', 'cardiac', 'defect', 'which', 'cannot', 'be', 'repaired', 'even', 'with', 'whole', 'body', 'perfusion', 'since', 'the', 'time', 'needed', 'for', 'aneurysm', 'repair', 'often', 'exceeded', 'the', 'safe', 'limit', 'of', '8', 'to', '12', 'minute', 'without', 'circulation', 'afforded', 'by', 'surface', 'hypothermia', 'of', '29', 'to', '30', 'c', 'the', 'author', 'have', 'investigated', 'the', 'drew', '(open-chest)', 'technic', 'the', 'closed-chest', 'method', 'and', 'isolated', 'cerebral', 'perfusion', 'the', 'drew', 'technic', 'consists', 'of', 'substituting', 'two', 'pump', 'for', 'the', 'heart', 'while', 'the', \"patient's\", 'lung', 'act', 'a', 'the', 'oxygenator', 'because', 'of', 'it', 'disadvantage', '(the', 'large', 'amount', 'of', 'blood', 'needed', 'and', 'the', 'morbidity', 'due', 'to', 'intra-', 'cardiac', 'cannulation', 'and', 'median', 'sternotomy)', 'a', 'closed-chest', 'method', 'wa', 'developed', 'using', 'a', 'mayo-gibbons', 'vertical-sheet', 'pump-oxygenator', 'to', 'provide', 'the', 'perfusion', 'and', 'extracorporeal', 'cooling', 'without', 'requiring', 'thoracotomy', 'in', 'cerebral', 'perfusion', 'blood', 'is', 'taken', 'from', 'one', 'artery', 'pumped', 'through', 'a', 'heat', 'exchanger', 'and', 'returned', 'to', 'another', 'artery', 'the', 'author', 'describe', 'anesthetic', 'technics', 'offer', 'comparison', 'of', 'the', 'three', 'method', 'give', 'instruction', 'pertaining', 'to', 'the', 'production', 'of', 'hypothermia', 'and', 'list', 'the', 'problem', 'encountered', 'in', 'the', 'management', 'of', 'these', 'case']\n",
            "['chromium', 'lead', 'cadmium', 'nickel', 'and', 'titanium', 'in', 'mouse', 'effect', 'on', 'mortality', 'tumor', 'and', 'tissue', 'level', 'about', '700', 'mouse', 'were', 'given', 'throughout', 'their', 'life', '5', 'ppm', 'cadmium', 'lead', 'chromium', 'nickel', 'or', 'titanium', 'in', 'drinking', 'water', 'while', 'fed', 'a', 'diet', 'deficient', 'in', 'cadmium', 'and', 'low', 'in', 'other', 'metal', 'tissue', 'concentration', 'comparable', 'to', 'those', 'of', 'man', 'were', 'observed', 'sex', 'difference', 'appeared', 'mortality', 'of', 'female', 'wa', 'unaffected', 'mortality', 'of', 'male', 'on', 'cadmium', 'lead', 'and', 'nickel', 'wa', 'increased', 'compared', 'with', 'that', 'of', 'the', 'chromium', 'group', 'and', 'of', 'those', 'on', 'cadmium', 'and', 'lead', 'compared', 'with', 'the', 'control', 'longevity', 'of', 'the', 'oldest', '10', 'of', 'both', 'sex', 'wa', 'le', 'in', 'lead', 'and', 'titanium', 'group', 'and', 'of', 'male', 'in', 'cadmium', 'group', 'compared', 'with', 'control', 'no', 'metal', 'wa', 'carcinogenic', 'incidence', 'of', 'tumor', 'in', 'male', 'on', 'cadmium', 'and', 'lead', 'and', 'in', 'female', 'given', 'nickel', 'wa', 'decreased', 'body', 'weight', 'at', 'death', 'were', 'greater', 'in', 'titanium', 'chromium', 'and', 'lead', 'group', 'large', 'increment', 'of', 'titanium', 'moderate', 'increment', 'of', 'cadmium', 'and', 'nickel', 'and', 'lesser', 'increment', 'of', 'chromium', 'and', 'lead', 'were', 'observed', 'in', '5', 'organ', 'compared', 'with', 'control', 'higher', 'concentration', 'of', 'cadmium', 'and', 'titanium', 'occurred', 'in', 'younger', 'mouse', 'and', 'the', 'other', 'metal', 'did', 'not', 'increase', 'markedly', 'in', 'tissue', 'with', 'age', 'all', 'metal', 'except', 'chromium', 'exhibited', 'one', 'or', 'more', 'sign', 'of', 'innate', 'toxicity']\n",
            "['a', 'kinetic', 'study', 'of', 'nickel(ii)', 'complex', 'of', 'sulfur-containing', 'amino', 'acid', 'the', 'rate', 'expression', 'for', 'the', 'ethylenediaminetetraacetic', 'acid', '(edta)', 'ligand', 'exchange', 'reaction', 'with', 'nickel(cysteine)', 'is', 'rate', '=', 'k(complex)', '+', 'kedta', '(complex)(edta)', 'this', 'two-term', 'rate', 'expression', 'is', 'characteristic', 'of', 'square', 'planar', 'complex', 'and', 'agrees', 'with', 'the', 'square', 'planar', 'configuration', 'of', 'ni(cysteine)', 'reported', 'on', 'the', 'basis', 'of', 'spectral', 'study', 'the', 'edta-independent', 'term', 'of', 'the', 'rate', 'expression', 'is', 'an', 'acid-catalyzed', 'term', 'and', 'can', 'be', 'written', 'k', '(h)', '(complex)', 'the', 'value', 'of', 'kn', 'is', '2', '5', 'x', '10', 'm', 'sec', 'while', 'the', 'value', 'of', 'kedta', 'is', 'only', 'on', 'the', 'order', 'of', '10', '-10', 'm', 'sec', 'the', 'edta', 'reaction', 'with', 'ni(cysteine)', 'methyl', 'ester)', 'is', 'very', 'similar', 'to', 'the', 'reaction', 'with', 'ni(cysteine)', 'when', 'the', 'sulfur-containing', 'amino', 'acid', 'ligand', 'contains', 'a', 'thiol', 'ether', 'the', 'kinetic', 'difference', 'are', 'striking', 'ligand', 'exchange', 'reaction', 'of', 'edta', 'triethylenetetramine', 'and', 'diethylenetriamine', 'with', 'nickel-methionine', 'complex', 'are', 'several', 'order', 'of', 'magnitude', 'faster', 'and', 'give', 'product', 'that', 'are', 'mixed-ligand', 'complex', 'the', 'result', 'of', 'this', 'kinetic', 'study', 'of', 'amino', 'acid', 'complex', 'containing', 'sulfhydryl', 'and', 'thiol', 'ether', 'sulfur', 'group', 'support', 'other', 'study', 'at', 'equilibrium', 'which', 'suggest', 'sulfur', 'coordination', 'and', 'square', 'planar', 'complex', 'for', 'the', 'sulfhydryl', 'group', 'and', 'octahedral', 'complex', 'with', 'no', 'sulfur', 'coordination', 'for', 'thiol', 'ether']\n",
            "['2950', 'aortico-left', 'ventricular', 'tunnel', 'a', 'cause', 'of', 'massive', 'aortic', 'regurgitation', 'and', 'of', 'intracardiac', 'aneurysm', 'the', 'clinical', 'roentgenographic', 'hemodynamic', 'and', 'pathologic', 'finding', 'in', 'a', '14-year-', 'old', 'boy', 'with', 'aortico-left', 'ventricular', 'tunnel', 'are', 'presented', 'the', 'accessory', 'channel', 'between', 'the', 'aorta', 'and', 'left', 'ventricle', 'resulted', 'in', 'massive', 'aortic', 'regurgitation', 'and', 'the', 'portion', 'of', 'the', 'tunnel', 'which', 'traversed', 'the', 'ventricular', 'septum', 'wa', 'aneurysmal', 'displaced', 'the', 'posterior', 'wall', 'of', 'the', 'right', 'ventricle', 'and', 'caused', 'severe', 'obstruction', 'to', 'right', 'ventricular', 'outflow', 'the', 'presence', 'of', 'associated', 'cardiovascular', 'anomaly', 'in', 'this', 'and', 'previously', 'reported', 'case', 'suggests', 'that', 'the', 'malformation', 'is', 'congenital', 'rather', 'than', 'acquired', 'the', 'clinical', 'and', 'hemodynamic', 'manifestation', 'of', 'aortico-left', 'ventricular', 'tunnel', 'are', 'indistinguishable', 'from', 'those', 'observed', 'with', 'the', 'more', 'common', 'form', 'of', 'aortic', 'regurgitation', 'and', 'the', 'correct', 'diagnosis', 'can', 'be', 'established', 'only', 'by', 'thoracic', 'aortography', 'the', 'malformation', 'is', 'usually', 'recognized', 'in', 'childhood;', 'since', 'aortic', 'regurgitant', 'flow', 'can', 'be', 'abolished', 'by', 'simple', 'closure', 'of', 'the', 'aortic', 'ostium', 'and', 'without', 'aortic', 'valve', 'replacement', 'the', 'indication', 'for', 'operative', 'treatment', 'differ', 'from', 'those', 'which', 'apply', 'in', 'aortic', 'regurgitation', 'due', 'to', 'a', 'valvular', 'anomaly']\n",
            "['1161', 'electron', 'microscopy', 'of', 'the', 'bovine', 'lung', 'lattice', 'and', 'lamellar', 'structure', 'in', 'the', 'alveolar', 'lumen', 'in', 'an', 'electron', 'microscopic', 'study', 'of', 'sample', 'from', 'the', 'lung', 'of', '20', 'normal', 'cattle', 'and', 'from', '4', 'with', 'high', 'mountain', 'disease', 'lattice', 'and', 'lamellar', 'structure', 'were', 'obser-', 'ved', 'free', 'in', 'the', 'alveolar', 'lumen', 'in', '25%', 'of', 'the', 'normal', 'cattle', 'and', 'in', '100%', 'of', 'those', 'with', 'high', 'mountain', 'disease', 'in', 'one', 'specimen', 'a', 'lattice', 'and', 'lamellar', 'structure', 'wa', 'ob-', 'served', 'in', 'a', 'vacuole', 'within', 'an', 'alveolar', 'epithelial', 'cell', 'all', 'others', 'were', 'extracellular', 'the', 'shape', 'and', 'dimension', 'of', 'these', 'lattice', 'and', 'lamellar', 'structure', 'were', 'similar', 'to', 'those', 'described', 'by', 'other', 'worker', 'in', 'experiment', 'involving', 'intratracheal', 'injection', 'of', 'silicon', 'and', 'oleic', 'and', 'linoleic', 'acid', 'this', 'is', 'the', 'first', 'report', 'of', 'the', 'structure', 'free', 'in', 'the', 'alveolar', 'lumen', 'of', 'apparently', 'normal', 'cattle']\n",
            "['autoradiographic', 'study', 'on', 'the', 'origin', 'and', 'fate', 'of', 'small', 'lymphoid', 'cell', 'in', 'the', 'dog', 'bone', 'marrow', 'effect', 'of', 'femoral', 'artery', 'clamping', 'during', 'in', 'vivo', 'availability', 'of', 'h3-thymidine', 'the', 'origin', 'and', 'fate', 'of', 'small', 'lymphoid', 'cell', 'in', 'the', 'dog', 'bone', 'marrow', 'were', 'studied', 'autoradiographically', 'by', 'observing', 'the', 'effect', 'of', 'clamping', 'of', 'the', 'femoral', 'artery', 'during', 'in', 'vivo', 'availability', 'of', 'h3-thymidine', 'heavily', 'labeled', 'small', 'lymphoid', 'cell', 'appeared', 'in', 'the', 'bone', 'marrow', 'of', 'the', 'clamped', 'leg', '3', 'hour', 'after', 'injection', 'of', 'the', 'tracer', 'and', 'increased', 'in', 'number', 'up', 'to', '6', 'day', 'the', 'labeling', 'index', 'of', 'these', 'cell', 'however', 'were', 'significantly', 'lower', 'than', 'those', 'of', 'control', 'marrow', 'a', 'possible', 'interpretation', 'is', 'that', 'dog', 'bone', 'marrow', 'contains', 'two', 'population', 'of', 'small', 'lympho', 'id', 'cell', 'one', 'migrating', 'into', 'the', 'marrow', 'via', 'the', 'blood', 'stream', 'the', 'other', 'originating', 'from', 'local', 'precursor', 'cell', 'within', 'the', 'marrow', 'there', 'wa', 'no', 'evidence', 'for', 'a', 'transformation', 'of', 'migrated', 'small', 'lymphoid', 'cell', 'into', 'erythroblast', 'during', 'the', 'first', '48', 'hour', 'after', 'injection', 'of', 'h3-thymidine']\n",
            "['4105', 'free', 'fatty', 'acid', 'metabolism', 'in', 'chinese', 'hamster', 'in', 'normal', 'chinese', 'hamster', '(cricetulus', 'griseus)', 'the', 'mean', 'concentration', 'of', 'free', 'fatty', 'acid', '(ffa)', 'in', 'serum', 'varied', 'from', 'group', 'to', 'group', 'but', 'wa', '(1)', 'consistently', '4', 'to', '9', 'time', 'greater', 'than', 'in', 'rat', 'dog', 'or', 'man;', '(2)', 'slightly', 'higher', 'than', 'in', 'syrian', 'hamsters;', '(3)', 'two-', 'to', 'four-fold', 'higher', 'than', 'in', 'fasting', 'or', 'alloxan-diabetic', 'rat', 'the', 'epididymal', 'adipose', 'tissue', 'of', 'the', 'chinese', 'hamster', '(1)', 'had', 'initial', 'concentration', 'of', 'ffa', 'comparable', 'to', 'those', 'in', 'the', 'rat', 'and', 'syrian', 'hamster;', '(2)', 'released', 'in', 'the', 'same', 'time', 'interval', '8-', 'to', '10-fold', 'more', 'ffa', 'in', 'vitro', 'than', 'this', 'tissue', 'of', 'the', 'rat;', '(3)', 'had', 'higher', 'concentration', 'of', 'ffa', 'after', 'incubation', 'than', 'the', 'incubated', 'tissue', 'of', 'the', 'rat', 'the', 'retroperitoneal', '(perirenal)', 'adipose', 'tissue', 'of', 'the', 'chinese', 'hamster', 'wa', 'le', 'ac-', 'tive', 'in', 'release', 'of', 'fatty', 'acid', 'in', 'vitro', 'than', 'the', 'epididymal', 'but', 'wa', 'however', 'more', 'active', 'than', 'the', 'epididymal', 'adipose', 'tissue', 'of', 'the', 'rat', 'these', 'characteristic', 'of', 'ffa', 'metabolism', 'in', 'the', 'chinese', 'hamster', 'were', 'apparently', 'attributable', 'to', 'specie', 'not', 'to', 'age', 'diet', 'or', 'sex', 'in', 'the', 'chinese', 'hamster', 'the', 'weight', 'of', 'the', 'epididymal', 'adipose', 'tis-', 'sue', 'per', 'gram', 'of', 'body', 'wa', 'relatively', 'high', 'it', 'appears', 'that', 'in', 'this', 'specie', 'the', 'rate', 'of', 'release', 'of', 'fatty', 'acid', 'from', 'adipose', 'tissue', 'is', 'great', 'leading', 'to', 'high', 'ffa', 'concentra-', 'tions', 'in', 'serum', 'in', 'chinese', 'hamster', 'and', 'rat', 'adipose', 'tissue', 'in', 'vitro', 'glucose', 'and', 'in-', 'sulin', '(separately)', 'reduced', 'the', 'rate', 'of', 'release', 'of', 'ffa', 'and', 'the', 'amount', 'of', 'ffa', 'in', 'the', 'tissue', 'but', 'glucose', 'and', 'insulin', 'together', 'produced', 'the', 'greatest', 'reduction', 'the', 'net', 'reduction', 'in', 'ffa', 'release', 'by', 'glucose', 'and', 'insulin', 'in', 'vitro', 'wa', 'greater', 'in', 'tissue', 'from', 'the', 'chinese', 'hamster', 'insulin', 'markedly', 'increased', 'glucose', 'uptake', 'by', 'the', 'adipose', 'tis-', 'sue', 'of', 'both', 'specie', 'the', 'possible', 'relation', 'of', 'the', 'result', 'to', 'spontaneous', 'diabetes', 'in', 'the', 'chinese', 'hamster', 'is', 'discussed']\n",
            "['2773', 'the', 'value', 'of', 'fluorescence', 'cytology', 'for', 'the', 'cytodiagnosis', 'of', 'pulmonary', 'cancer', 'the', 'paper', 'discus', 'the', 'test', 'result', 'of', '527', 'tissue', 'sample', 'sent', 'in', 'for', 'the', 'cytodiag-', 'nostics', 'of', 'lung', 'cancer', 'and', 'compare', 'the', 'method', 'of', 'ao-fluorochromation', 'with', 'other', 'method', 'of', 'preparation', 'by', 'mean', 'of', 'applying', 'ao-fluorochromation', 'the', 'rate', 'of', 'er-', 'roneously', 'positive', 'finding', 'could', 'be', 'reduced', 'the', 'rate', 'of', 'erroneously', 'negative', 'find-', 'ings', 'wa', 'somewhat', 'higher', 'but', 'the', 'total', 'diagnostic', 'precision', 'of', '93%', 'wa', '3%', 'higher', 'than', 'in', 'all', 'other', 'method', 'applied']\n",
            "['limited', 'growth', 'period', 'of', 'human', 'lung', 'cell', 'line', 'transformed', 'by', 'simian', 'virus', '40', 'summary--infection', 'of', 'human', 'cell', 'strain', 'with', 'simian', 'virus', '40', 'induced', 'virus', 'replication', 'and', 'cell', 'transformation', 'with', 'the', 'change', 'in', 'morphology', 'and', 'cytology', 'described', 'by', 'previous', 'investigator', 'although', 'transformation', 'greatly', 'enhanced', 'growth', 'potential', 'of', 'the', 'strain', 'only', '2', 'of', '23', 'transformed', 'culture', 'appear', 'to', 'have', 'attained', 'autonomous', 'growth', '--j', 'nat', 'cancer', 'inst', '33', '227-236', '1964']\n",
            "['28029', 'enzymic', 'synthesis', 'of', 'steroid', 'sulfate', 'ii', 'presence', 'of', 'steroid', 'sulfo-', 'kinase', 'in', 'human', 'mammary', 'carcinoma', 'extract', 'extract', 'of', 'human', 'primary', 'and', 'secondary', 'mammary', 'carcinoma', 'were', 'shown', 'to', 'contain', 'steroid', 'sulfokinase(s)', 'in', 'every', 'case', 'examined', 'examination', 'of', 'normal', 'breast', 'tissue', 'surrounding', 'the', 'tumor', 'revealed', 'very', 'weak', 'steroid', 'sulfokinase', 'activity', 'in', 'some', 'instance', 'this', 'wa', 'thought', 'to', 'be', 'due', 'to', 'the', 'fibrous', 'nature', 'and', 'poor', 'cellularity', 'of', 'the', 'normal', 'breast', 'tissue', 'normal', 'ovarian', 'tissue', 'specimen', 'obtained', 'from', 'cancer', 'patient', 'undergoing', 'oophorectomy', 'did', 'not', 'generally', 'contain', 'the', 'enzyme', 'but', 'trace', 'level', 'were', 'detected', 'in', '1', 'of', '5', 'specimen', 'examined', 'steroid', 'without', 'necessarily', 'showing', 'conversion', 'to', 'steroid', 'sulfate', 'were', 'observed', 'to', 'increase', 'the', 'incorporation', 'of', 's35-sulfate', 'into', 'one', 'of', 'the', 'product', 'formed', 'enzy-', 'mically', 'on', 'incubating', 'breast', 'tissue', 'extract', 'with', \"s35-adenosine-3'-phosphate-5'-\", 'phosphosulfate']\n",
            "['4010', 'study', 'of', 'nickel', 'carcinogenesis', 'the', 'subcellular', 'partition', 'of', 'nickel', 'in', 'lung', 'and', 'liver', 'following', 'inhalation', 'of', 'nickel', 'carbonyl', 'wistar', 'rat', 'were', 'exposed', 'by', 'inhalation', 'to', 'nickel', 'carbonyl', 'either', 'once', 'only', 'at', 'a', 'concentration', 'of', '80', 'ppm', 'for', '60', 'minute', '(0', '60', 'mg', 'ni(co)4', 'l', 'air)', 'or', 'repeatedly', 'at', '4', 'ppm', '(0', '03', 'mg', 'ni(co)4', 'l', 'air)', 'for', '30', 'minute', '3', 'time', 'weekly', 'for', '1', 'year', 'they', 'were', 'killed', '24', 'hour', 'after', '(the', 'final', 'period', 'of)', 'exposure', 'nuclear', 'mitochondrial', 'microsomal', 'and', 'supernatant', 'fraction', 'were', 'isolated', 'from', 'lung', 'and', 'liver', 'homogenate', 'and', 'measurement', 'of', 'the', 'nickel', 'nitrogen', 'and', 'rna-content', 'of', 'each', 'subcellular', 'fraction', 'were', 'made', 'the', 'greatest', 'ratio', 'of', 'nickel', 'to', 'nitrogen', 'were', 'in', 'the', 'nuclear', 'fraction', 'of', 'both', 'liver', 'and', 'lung', 'but', 'increased', 'amount', 'of', 'nickel', 'were', 'also', 'found', 'in', 'the', 'microsomal', 'and', 'supernatant', 'fraction', 'of', 'both', 'liver', 'and', 'lung', 'and', 'in', 'the', 'mitochondrial', 'fraction', 'of', 'lung']\n",
            "['3927', 'study', 'on', 'growth', 'and', 'cytomorphosis', 'in', 'the', 'thymo-lympha-', 'tic', 'system', '-', 'with', 'special', 'reference', 'to', 'the', 'influence', 'of', 'the', 'thymus', 'and', 'the', 'thyroid', 'in', 'guinea-pigs', 'migratory', 'stream', 'of', 'lymphocyte', 'between', 'different', 'part', 'of', 'the', 'thymo-lymphatic', 'system', 'were', 'evaluated', 'by', 'comparison', 'between', 'lymphocyte', 'population', 'in', 'thoracic-', 'duct', 'lymph', 'and', 'arterial', 'and', 'venous', 'blood', 'especially', 'thymic', 'venous', 'blood', 'by', 're-', 'cording', 'organ', 'weight', 'in', 'sham-operated', 'and', 'thymectomized', 'guinea-pigs', 'treated', 'with', 'thyroxin', 'or', 'untreated', 'the', 'importance', 'of', 'the', 'thymus', 'and', 'the', 'thyroid', 'for', 'growth', 'and', 'regeneration', 'in', 'the', 'thymo-lymphatic', 'system', 'wa', 'studied', 'the', 'main', 'result', 'are', 'a', 'follows', 'there', 'is', 'a', 'considerable', 'venous', 'output', 'of', 'lymphocyte', 'with', 'low', 'mito-', 'chondrial', 'content', '(small', 'lymphocytes)', 'from', 'the', 'thymus', 'in', 'normal', 'young', 'guinea-pigs', 'this', 'explains', 'the', 'much', 'higher', 'incidence', 'of', 'small', 'lymphocyte', 'in', 'blood', 'than', 'in', 'tho-', 'racic-duct', 'lymph', 'neonatal', 'thymectomy', 'cause', 'lymphatic', 'hypotrophy', 'with', 'defi-', 'ciency', 'of', 'lymphocyte', 'and', 'pyroninophilic', 'cell', 'in', 'relation', 'to', 'reticular', 'one', 'body', 'growth', 'and', 'survival', 'of', 'the', 'animal', 'are', 'not', 'affected', 'in', 'the', 'thymus', 'exogenous', 'thyroxin', 'most', 'probably', 'promotes', 'differentiation', 'of', 'large', 'basophilic', 'cell', 'to', 'small', 'lymphocyte', 'resulting', 'in', 'an', 'increased', 'output', 'of', 'small', 'lymphocyte', 'in', 'the', 'lymph', 'node', 'thyroxin', 'promotes', 'differentiation', 'of', 'large', 'pyroninophilic', 'cell', \"('transitional\", \"cells')\", 'into', 'immature', 'and', 'mature', 'plasma', 'cell', 'the', 'effect', 'of', 'thyroxin', 'on', 'dif-', 'ferentiation', 'are', 'followed', 'by', 'an', 'increased', 'growth', 'of', 'the', 'thymo-lymphatic', 'organ', 'characterized', 'by', 'an', 'increased', 'incidence', 'of', 'large', 'basophilic', 'cell', 'and', 'increased', 'weight', 'of', 'the', 'lymphatic', 'organ', 'growth', 'of', 'the', 'thymus', 'and', 'lymph', 'node', 'precedes', 'that', 'of', 'the', 'red', 'splenic', 'pulp', 'this', 'delayed', 'splenic', 'response', 'is', 'not', 'due', 'to', 'a', 'transformation', 'of', 'an', 'increased', 'number', 'of', 'immigrated', 'thymic', 'lymphocyte', 'a', 'neonatal', 'thymectomy', 'doe', 'not', 'prevent', 'the', 'thyroxin-stimulated', 'occurrence', 'of', 'large', 'basophilic', 'cell', 'in', 'the', 'red', 'splenic', 'pulp', 'the', 'thyroxin-stimulated', 'growth', 'of', 'the', 'lymphatic', 'system', 'is', 'ac-', 'companied', 'by', 'an', 'increased', 'output', 'of', 'larger', 'lymphocyte', 'through', 'the', 'thoracic', 'duct', 'resulting', 'in', 'an', 'increased', 'number', 'of', 'larger', 'lymphocyte', 'in', 'the', 'blood', 'in', 'postnatally', 'thymectomized', 'animal', 'having', 'a', 'normal', '(or', 'above', 'normal)', 'amount', 'of', 'circulating', 'small', 'lymphocyte', 'thyroxin', 'produce', 'a', 'drastic', 'decrease', 'in', 'the', 'number', 'of', 'small', 'blood', 'lymphocyte', 'indicating', 'a', 'decreased', 'delivery', 'and', 'or', 'increased', 'disappear-', 'ance', 'of', 'these', 'cell', 'to', 'and', 'from', 'the', 'blood', 'respectively', 'this', 'decrease', 'in', 'number', 'of', 'small', 'lymphocyte', 'is', 'not', 'seen', 'in', 'sham-operated', 'animal', 'a', 'judged', 'by', 'study', 'of', 'organ', 'weight', 'the', 'thyroxin-stimulated', 'growth', 'and', 'regeneration', 'of', 'the', 'lymphatic', 'tissue', 'are', 'influenced', 'antagonistically', 'by', 'thymectomy', 'and', 'synergistically', 'by', 'local', 'factor', 'in', 'involuted', 'tissue']\n",
            "['2349', 'amyloidosis', 'in', 'the', 'autopsy', 'material', 'of', 'the', 'pathology', 'department', 'of', 'tuberculosis', 'institute', 'warsaw', 'in', '1945-1962', 'the', 'autopsy', 'material', 'of', 'the', 'pathology', 'department', 'of', 'the', 'tuberculosis', 'institute', 'in', '1945-1962', 'included', '1218', 'postmortem', 'examination', 'of', 'patient', 'who', 'died', 'from', 'tuberculo-', 'si', 'in', '111', 'case', 'tuberculosis', 'wa', 'complicated', 'by', 'amyloidosis', 'in', '1945-1957', 'amy-', 'loidosis', 'accounted', 'for', '8', '7%', 'of', 'the', 'cases;', 'in', '1958-1962', 'this', 'percentage', 'wa', '10', '8', 'there', 'wa', 'no', 'difference', 'in', 'the', 'incidence', 'between', 'men', 'and', 'woman', 'the', 'only', 'difference', 'between', 'the', 'two', 'sex', 'wa', 'that', 'the', 'peak', 'tuberculosis', 'fatality', 'curve', 'in', 'men', 'wa', 'in', 'the', '40-60', 'year', 'age', 'group', 'and', 'that', 'of', 'amyloidosis', 'at', 'the', '20-30', 'age', 'group', 'while', 'in', 'woman', 'the', 'greatest', 'number', 'of', 'death', 'from', 'tuberculosis', 'wa', 'in', 'the', '20-30', 'age', 'group', 'and', 'from', 'amyloidosis', 'in', 'the', '30-40', 'age', 'group']\n",
            "['3056', 'the', 'localization', 'of', 'aortic', 'shunt', 'developed', 'by', 'a', 'precordial', 'registration', 'of', 'i', '131', 'injected', 'into', 'the', 'aorta', 'at', 'different', 'level', 'a', 'technique', 'for', 'localizing', 'shunt', 'of', 'aortic', 'origin', 'is', 'described', 'based', 'on', 'the', 'analysis', 'of', 'precordial', 'record', 'of', 'i', '131', 'injected', 'at', 'different', 'aortic', 'level', 'seven', 'patient', 'with', 'patent', 'ductus', 'arteriosus', '(pda)', '1', 'with', 'a', 'coronary', 'av', 'fistula', '2', 'with', 'ventricular', 'septal', 'defect', '(vsd)', '1', 'with', 'atrial', 'septal', 'defect', '(asd)', '3', 'with', 'mitral', 'regurgitation', '2', 'with', 'aortic', 'regurgitation', 'and', '2', 'with', 'systemic', 'hypertension', 'were', 'studied', 'retro-', 'grade', 'arterial', 'catheterization', 'by', \"seldinger's\", 'technique', 'wa', 'performed', 'in', 'all', 'the', 'patient', 'a', 'well', 'a', 'right-sided', 'catheterization', 'in', 'those', 'with', 'congenital', 'cardiopathy', 'and', 'transseptal', 'catheterization', 'in', 'those', 'with', 'valvulopathies', 'a', 'dose', 'of', '5-15', 'uc', 'of', 'na', 'i', '131', 'wa', 'injected', 'at', 'the', 'level', 'of', 'the', 'aortic', 'root', 'the', 'ascending', 'aorta', 'the', 'aortic', 'arch', 'the', 'origin', 'of', 'the', 'left', 'subclavian', 'artery', '(ductus', 'level)', 'and', 'the', 'descending', 'aorta', '(post-', 'ductus', 'level)', 'precordial', 'curve', 'were', 'obtained', 'by', 'mean', 'of', 'a', '2-inch', 'thallium-acti-', 'vated', 'nai', 'crystal', 'focused', 'over', 'the', '3rd', 'left', 'intercostal', 'space', 'at', 'the', 'sternal', 'margin', 'the', 'shunt', 'outlet', 'can', 'be', 'detected', 'by', 'obtaining', 'simultaneous', 'venous', 'dilution', 'curve', 'from', 'the', 'right', 'chamber', 'and', 'the', 'pulmonary', 'artery', 'the', 'latter', 'technique', 'wa', 'used', 'in', '2', 'patient', 'with', 'pda', '1', 'with', 'coronary', 'av', 'fistula', 'and', '1', 'with', 'vsd', 'these', 'curve', 'were', 'obtained', 'by', 'continuous', 'withdrawal', 'of', 'blood', 'which', 'had', 'flowed', 'through', 'a', 'well', 'scintillation', 'counter', 'the', 'crystal', 'pulse', 'were', 'carried', 'to', 'ratemeters', 'which', 'worked', 'with', 'the', 'following', 'time', 'constant', '0', '01-0', '15', 'sec', 'for', 'the', 'precordial', 'curve', 'and', '0', '5', 'sec', 'for', 'the', 'venous', 'curve', 'a', 'direct', 'recorder', 'with', 'a', '5-mm', 'sec', 'paper', 'speed', 'wa', 'used', 'normal', 'precordial', 'curve', 'after', 'injecting', 'above', 'the', 'aortic', 'valve', 'were', 'obtained', 'in', 'patient', 'with', 'arterial', 'hypertension', 'mitral', 'regurgitation', 'and', 'asd', 'and', 'vsd', 'a', 'swift', 'downslope', 'which', 'fell', 'down', 'near', 'the', 'baseline', 'level', 'and', 'the', 'recirculatory', 'area', 'wa', 'observed']\n",
            "['intradermal', 'test', 'using', 'cobalt', 'chloride', 'selected', 'group', 'of', 'patient', 'with', 'cobalt', 'allergy', 'and', 'nickel', 'allergy', 'a', 'well', 'a', 'normal', 'control', 'were', 'tested', 'intradermally', 'with', 'cobalt', 'chloride', 'in', 'the', 'dilution', '10', 'to', '10', 'reaction', 'of', 'the', 'wheal', 'and', 'flare', 'type', 'appear', 'during', 'the', 'first', 'hour', 'and', 'make', 'the', '24-hour', 'reading', 'misleading', 'the', 'papular', 'response', 'to', 'cobalt', 'chloride', '10', 'when', 'read', '48', 'to', '96', 'hour', 'after', 'the', 'injection', 'appears', 'to', 'be', 'a', 'reliable', 'test', 'for', 'cobalt', 'allergy', 'patient', 'with', 'combined', 'nickel-cobalt', 'allergy', 'were', 'excluded', 'from', 'the', 'study', 'and', 'the', 'question', 'of', 'group', 'reaction', 'is', 'not', 'discussed', 'nickel', 'allergics', 'give', 'a', 'somewhat', 'stronger', 'reaction', 'than', 'control', 'to', 'the', 'slightly', 'impure', 'cobalt', 'chloride', 'it', 'would', 'be', 'preferable', 'if', 'the', 'degree', 'of', 'purity', 'of', 'the', 'cobalt', 'chloride', 'were', 'ten', 'time', 'greater']\n",
            "['separation', 'anxiety', 'a', 'a', 'cause', 'of', 'early', 'emotional', 'problem', 'in', 'child', 'in', 'summary', 'three', 'case', 'of', 'disturbed', 'behavior', 'in', 'child', 'have', 'been', 'discussed', 'with', 'particular', 'emphasis', 'on', 'disturbance', 'in', 'feeding', 'sleeping', 'and', 'motility', 'some', 'of', 'the', 'hypothesis', 'have', 'been', 'presented', 'of', 'why', 'such', 'behavior', 'should', 'develop', 'the', 'significance', 'of', 'attachment', 'behavior', 'and', 'separation', 'anxiety', 'in', 'infant', 'ha', 'been', 'particularly', 'stressed', 'difficulty', 'in', 'mothering', 'care', 'are', 'threatening', 'to', 'the', \"child's\", 'sense', 'of', 'security', 'and', 'lead', 'to', 'greater', 'experience', 'of', 'separation', 'anxiety', 'which', 'may', 'then', 'be', 'reflected', 'in', 'various', 'disturbance', 'or', 'alteration', 'in', 'his', 'behavior', 'this', 'experience', 'of', 'separation', 'anxiety', 'is', 'the', 'result', 'of', 'early', 'life', 'experience', 'may', 'reach', 'pathologic', 'proportion', 'and', 'may', 'account', 'for', 'many', 'later', 'problem', 'in', 'child', 'and', 'adult']\n",
            "['some', 'aspect', 'of', 'haemostasis', 'after', 'open-heart', 'surgery', 'synopsis', 'in', 'two', 'group', 'of', 'patient', 'undergoing', 'extracorporeal', 'circulation', 'with', 'hypothermia', 'change', 'were', 'found', 'in', 'the', 'coagulation', 'mechanism', 'which', 'were', 'probably', 'due', 'to', 'the', 'dosage', 'of', 'polybrene', 'administered', 'the', 'role', 'of', 'heparin', 'and', 'polybrene', 'and', 'the', 'concept', 'of', 'activation', 'of', 'the', 'coagulation', 'mechanism', 'in', 'the', 'production', 'of', 'bleeding', 'after', 'perfusion', 'are', 'discussed']\n",
            "['815', 'the', 'origin', 'of', 'macrophage', 'from', 'bone', 'marrow', 'in', 'the', 'rat', 'skin', \"windows'\", 'and', 'subcutaneous', 'coverslips', 'were', 'applied', 'to', 'rat', 'in', 'a', 'study', 'designed', 'to', 'identify', 'the', 'tissue', 'in', 'which', 'the', 'precursor', 'of', 'macrophage', 'proliferate', 'lympho-', 'cyte-depletion', 'by', 'either', 'chronic', 'drainage', 'from', 'the', 'thoracic', 'duct', 'or', '400', 'rad', 'of', 'x-', 'irradiation', 'failed', 'to', 'suppress', 'the', 'emigration', 'of', 'macrophage', 'or', 'to', 'reduce', 'the', 'pro-', 'portion', 'of', 'them', 'which', 'became', 'labelled', 'after', 'an', 'injection', 'of', 'tritiated', 'thymidine', 'x-', 'irradiation', 'with', '750', 'rad', 'suppressed', 'the', 'emigration', 'and', 'the', 'labelling', 'of', 'the', 'exudate', 'macrophage', 'both', 'were', 'restored', 'to', 'normal', 'when', 'the', 'tibial', 'marrow', 'wa', 'shielded', 'during', 'irradiation', 'radioactively-labelled', 'cell', 'suspension', 'obtained', 'from', 'thoracic', 'duct', 'lymph', 'lymph', 'node', 'thymus', 'spleen', 'and', 'bone', 'marrow', 'were', 'transfused', 'into', 'syngeneic', 'recipient', 'the', 'emigration', 'of', 'labelled', 'macrophage', 'on', 'to', 'coverslips', 'could', 'be', 'demonstrated', 'only', 'in', 'recipient', 'of', 'labelled', 'bone', 'marrow', 'and', 'spleen', 'cell', 'labelled', 'monocyte', 'were', 'found', 'in', 'the', 'blood', 'of', 'rat', 'which', 'had', 'received', 'injection', 'of', 'labelled', 'bone', 'marrow', 'it', 'wa', 'concluded', 'that', 'in', 'the', 'rat', 'bone', 'marrow', 'and', 'to', 'a', 'lesser', 'extent', 'spleen', 'are', 'major', 'source', 'of', 'the', 'macrophage', 'which', 'emigrate', 'into', 'focus', 'of', 'acute', 'non-bacterial', 'inflammation']\n",
            "['toxicity', 'of', 'inorganic', 'selenium', 'salt', 'to', 'chick', 'embryo', 'the', 'effect', 'of', 'selenite', 'and', 'selenate', 'treatment', 'by', 'air', 'cell', 'injection', 'on', 'mortality', 'and', 'growth', 'of', '14-day', 'chick', 'embryo', 'during', 'a', '64-68', 'hour', 'period', 'were', 'studied', 'the', 'ld', 'for', 'selenite-se', 'wa', 'about', '0', '5', 'ppm', 'based', 'on', 'weight', 'of', 'the', 'egg', 'content', 'and', 'that', 'for', 'selenate-se', 'about', '1', '8-2', '0', 'ppm', 'growth', 'depression', 'wa', 'evident', 'from', 'these', 'treatment', 'but', 'other', 'gross', 'effect', 'were', 'not', 'prominent', 'the', 'treatment', 'of', 'embryo', 'with', 'selenite', 'and', 'sulfate', 'together', 'caused', 'a', 'greater', 'mortality', 'than', 'treatment', 'with', 'selenite', 'alone']\n",
            "['see-saw', 'nystagmus', 'an', 'unusual', 'sign', 'of', 'lesion', 'near', 'the', 'third', 'ventricle', 'a', 'case', 'of', 'see-saw', 'nystagmus', 'in', 'a', 'child', 'with', 'craniopharyngioma', 'and', 'bitemporal', 'hemianopsia', 'is', 'described', 'and', 'reference', 'is', 'made', 'to', 'previous', 'case', 'report', 'the', 'basis', 'for', 'this', 'curious', 'sign', 'is', 'not', 'clear', 'but', 'the', 'site', 'of', 'the', 'lesion', 'must', 'be', 'considered', 'to', 'be', 'in', 'the', 'region', 'of', 'the', 'third', 'ventricle', 'since', 'bitemporal', 'hemianopsia', 'is', 'a', 'necessary', 'part', 'of', 'the', 'syndrome', 'the', 'sign', 'is', 'not', 'common', 'but', 'when', 'present', 'point', 'to', 'a', 'lesion', 'near', 'the', 'third', 'ventricle']\n",
            "['surfactant', 'in', 'fetal', 'lamb', 'tracheal', 'fluid', 'lamb', 'delivered', 'by', 'cesarean', 'section', 'with', 'intact', 'fetal', 'circulation', 'have', 'a', 'fluid', 'filling', 'the', 'trachea', 'analysis', 'revealed', 'that', 'this', 'fluid', 'contained', 'material', 'high', 'in', 'surface', 'activity', 'in', 'lamb', 'delivered', 'near', 'term', 'but', 'le', 'surface', 'activity', 'in', 'premature', 'lamb', 'administration', 'of', '10', 'per', 'cent', 'oxygen', 'to', 'the', 'ewe', 'for', '1', 'hour', 'prior', 'to', 'delivery', 'did', 'not', 'alter', 'the', 'surfactant', 'property', 'of', 'the', 'fetal', 'tracheal', 'fluid', 'two', 'analysis', 'of', 'the', 'fetal', 'tracheal', 'fluid', 'revealed', 'it', 'to', 'contain', '146', 'and', '198', 'mg', 'of', 'lipid', 'per', '100', 'ml', '30', 'to', '40', 'per', 'cent', 'of', 'which', 'wa', 'phospholipid', 'part', 'of', 'the', 'active', 'component', 'of', 'surfactant', 'the', 'investigation', 'reported', 'here', 'offer', 'a', 'model', 'for', 'further', 'research', 'into', 'possible', 'intrauterine', 'factor', 'in', 'the', 'pathogenesis', 'of', 'hyaline', 'membrane', 'disease']\n",
            "['surgical', 'treatment', 'of', 'atrial', 'septal', 'defect', 'under', 'hypothermia', 'the', 'technique', 'of', 'inflow', 'occlusion', 'under', '30', 'c', 'hypothermia', 'wa', 'adopted', 'for', 'direct', 'visual', 'correction', 'in', '133', 'consecutive', 'case', 'of', 'atrial', 'septal', 'defect', 'of', 'the', 'secundum', 'variety', 'and', 'the', 'associated', 'anomaly', 'the', 'use', 'of', 'extracorporeal', 'circulation', 'combined', 'with', 'hypothermia', 'wa', 'reserved', 'for', 'the', 'repair', 'of', 'two', 'case', 'of', 'ostium', 'primum', 'defect', 'the', 'over-all', 'operative', 'mortality', 'wa', '4', 'post-operative', 'evaluation', 'showed', 'that', 'the', 'result', 'have', 'been', 'good', 'in', 'almost', 'all', 'patient', 'including', 'those', 'with', 'pulmonary', 'hypertension', 'since', 'an', 'ostium', 'primum', 'defect', 'requires', 'cardio-pulmonary', 'bypass', 'for', 'it', 'closure', 'the', 'pre-operative', 'recognition', 'of', 'the', 'defect', 'is', 'highly', 'desirable', 'in', 'the', 'selection', 'of', 'patient', 'for', 'operation', 'and', 'in', 'planning', 'the', 'procedure', 'itself', 'the', 'information', 'derived', 'from', 'the', 'clinical', 'examination', 'and', 'appropriate', 'diagnostic', 'study', 'ha', 'been', 'found', 'to', 'be', 'consistently', 'accurate', 'in', 'the', 'pre-operative', 'differentiation', 'of', 'the', 'primum', 'from', 'the', 'secundum', 'defect', 'therefore', 'the', 'unexpected', 'discovery', 'of', 'a', 'primum', 'defect', 'at', 'operation', 'wa', 'not', 'a', 'problem', 'in', 'our', 'experience', 'open-heart', 'surgery', 'under', '30', 'c', 'hypothermia', 'for', 'the', 'repair', 'of', 'an', 'atrial', 'septal', 'defect', 'of', 'the', 'secundum', 'type', 'and', 'the', 'associated', 'anomaly', 'is', 'a', 'safe', 'and', 'practical', 'technique', 'and', 'effectively', 'corrects', 'the', 'anomaly', 'with', 'minimal', 'risk']\n",
            "['175', 'lysozyme', 'in', 'bone', 'marrow', 'and', 'periph-', 'eral', 'blood', 'cell', 'by', 'mean', 'of', 'an', 'indirect', 'histochemical', 'technique', 'the', 'intracellular', 'lysozyme', 'of', 'the', 'formed', 'element', 'of', 'the', 'peripheral', 'blood', 'and', 'bone', 'marrow', 'wa', 'estimated', 'evi-', 'dence', 'is', 'presented', 'that', 'monocyte', 'a', 'well', 'a', 'mature', 'neutrophil', 'and', 'their', 'precursor', 'extending', 'back', 'to', 'the', 'progranulocyte', 'contain', 'significant', 'amount', 'of', 'this', 'en-', 'zyme', 'a', 'rare', 'mature', 'eosinophil', 'demonstrated', 'a', 'trace', 'of', 'lysozyme', 'activity', 'there', 'wa', 'no', 'evidence', 'of', 'lyso-', 'zyme', 'activity', 'in', 'basophil', 'erythrocyte', 'megakaryo-', 'cytes', 'platelet', 'plasma', 'cell', 'tissue', 'mast', 'cell', 'or', 'bone', 'marrow', 'reticuloendothelial', 'cell']\n",
            "['3107', 'lipid', 'of', 'human', 'placenta', 'the', 'chloroform-methanol-soluble', 'component', 'of', '4', 'human', 'placenta', 'were', 'isolated', 'by', 'rubber', 'membrane', 'dialysis', 'and', 'gas', 'chromatography', 'and', 'analysed', 'two', 'third', 'of', 'the', 'total', 'lipid', 'consisted', 'of', 'phosphatides', 'with', 'lecithin', 'a', 'the', 'main', 'component', '(22', '5%)', 'colamine', 'cephalin', '(13%)', 'and', 'sphingomyelin', '(7', '5%)', 'free', 'cholesterol', 'form-', 'ed', '14%', 'of', 'the', 'total', 'lipid', 'while', 'cholesterol', 'ester', 'accounted', 'for', '6%', 'and', 'trigly-', 'cerides', 'for', '13%', 'investigation', 'of', 'the', 'phosphatide', 'fatty', 'acid', 'by', 'gas', 'chromatography', 'showed', 'a', 'content', 'of', '60%', 'saturated', '27%', 'simple', 'unsaturated', 'and', '12%', 'polyunsaturated', 'acid', 'the', 'fatty', 'acid', 'of', 'the', 'triglyceride', 'consisted', 'of', 'about', '50%', 'saturated', 'and', '25%', 'each', 'of', 'simple', 'and', 'polyunsaturated', 'acid', 'the', 'polyenoic', 'acid', '(30%)', 'of', 'the', 'cholesterol', 'fatty', 'acid', 'had', 'a', 'high', 'content', 'of', 'linoleic', 'acid', 'about', 'one', 'quarter', 'that', 'of', 'the', 'total', 'acid']\n",
            "['1388', 'optic', 'agnosia', 'semeiological', 'and', 'pathogenetic', 'aspect', 'the', 'author', 'discus', 'the', 'classical', 'concept', 'of', 'agnosia', 'and', 'make', 'a', 'survey', 'of', 'pathogenetical', 'factor', 'which', 'determine', 'it', 'phenomenology', 'the', 'original', 'and', 'traditional', 'concept', 'of', 'such', 'a', 'term', 'implied', 'the', 'loss', 'of', 'the', 'capacity', 'to', 'recognize', 'object', 'when', 'the', 'function', 'of', 'sense', 'organ', 'are', 'undamaged', 'the', 'psychological', 'study', 'on', 'perception', 'and', 'the', 'modern', 'physiology', 'of', 'vision', 'allow', 'to', 'avoid', 'the', 'dichotomy', 'between', 'sensation', 'and', 'perception', 'and', 'to', 'affirm', 'their', 'identity', 'cortex', 'and', 'recptors', 'are', 'closely', 'bound', 'and', 'function', 'in', 'unison', 'every', 'cortical', 'alteration', 'is', 'thus', 'reflected', 'in', 'sensorial', 'functions;', 'it', 'is', 'therefore', 'that', 'on', 'practical', 'semeiological', 'ground', 'it', 'is', 'possible', 'to', 'obtain', 'a', 'congruous', 'information', 'of', 'the', 'corresponding', 'cortical', 'functionality', 'through', 'an', 'exploration', 'of', 'sense', 'organ', 'carried', 'out', 'by', 'suitable', 'mean', 'since', 'we', 'are', 'confronted', 'with', 'functional', 'change', 'exploration', 'method', 'must', 'be', 'fit', 'to', 'evaluate', 'dynamic', 'aspect', 'of', 'perception', 'in', 'connection', 'with', 'the', 'temporalization', 'and', 'spatialization', 'of', 'stimulus', 'such', 'method', 'are', 'now', 'quite', 'numerous', 'and', 'often', 'complex', 'a', 'particular', 'stress', 'is', 'laid', 'on', 'local', 'adaptation', 'flicker', 'fusion', 'and', 'tachistoscopy', 'on', 'account', 'of', 'their', 'significance', 'and', 'suitability', 'by', 'such', 'method', 'it', 'is', 'possible', 'to', 'show', 'those', 'functional', 'deficit', 'or', 'pathological', 'disturbance', 'of', 'sensorial', 'function', 'which', 'are', 'also', 'behind', 'the', 'pathology', 'of', 'visual', 'recognition', 'fluctuation', 'extinction', 'alteration', 'in', 'the', 'perception', 'of', 'movement', 'both', 'real', 'and', 'apparent', 'change', 'in', 'adaptation', 'to', 'light', 'and', 'darkness', 'are', 'all', 'phenomenon', 'which', 'can', 'be', 'detected', 'instrumentally', 'and', 'which', 'at', 'the', 'same', 'time', 'may', 'be', 'of', 'determinant', 'importance', 'for', 'the', 'onset', 'of', \"'agnosic'\", 'behaviour', 'the', 'complexity', 'of', 'the', 'latter', 'on', 'the', 'other', 'hand', 'cannot', 'always', 'be', 'explained', 'by', 'sensorial', 'disturbance', 'only', 'other', 'mechanism', 'with', 'a', 'function', 'complementary', 'but', 'not', 'le', 'indispensable', 'to', 'the', 'dynamic', 'of', 'perceptive', 'process', 'may', 'intervene', 'and', 'interfere', 'in', 'it', 'on', 'the', 'basis', 'of', 'the', 'latest', 'neurophysiological', 'data', 'the', 'attention', 'is', 'called', 'to', 'ocular', 'motility', 'and', 'proprioceptivity', 'centrifugal', 'innervation', 'of', 'sensorial', 'receptor', 'and', 'vestibular', 'afferences', 'a', 'particular', 'clinico-pathogenetical', 'significance', 'is', 'attached', 'by', 'the', 'author', 'to', 'the', 'association', 'of', 'lateral', 'visual', 'disturbance', 'with', 'altered', 'proprioceptive', 'and', 'kinesthetic', 'information', 'from', 'the', 'corresponding', 'half-body', 'such', 'association', 'in', 'fact', 'is', 'nearly', 'always', 'present', 'among', 'the', 'factor', 'responsible', 'for', 'the', 'most', 'strictly', \"'spatial'\", 'error', 'of', \"'agnosic'\", 'pathology', 'in', 'the', 'light', 'of', 'these', 'pathogenetical', 'consideration', 'a', 'well', 'a', 'of', 'suitable', 'semeiological', 'finding', 'the', 'author', 'deem', 'it', 'convenient', 'to', 'divide', 'their', 'case', 'into', '3', 'category', 'with', 'distinct', 'clinical', 'feature', '(a)', 'case', 'in', 'which', 'altered', 'visual', 'behaviour', 'may', 'be', 'related', 'to', 'change', 'of', 'the', 'visual', 'function', 'and', 'of', 'it', 'complementary', 'mechanisms;', '(b)', 'case', 'in', 'which', 'hemianopia', 'is', 'associated', 'with', 'a', 'homolateral', 'deficit', 'of', 'somatic', 'proprioceptivity;', '(c)', 'case', 'in', 'which', 'the', 'change', 'in', 'behaviour', 'are', 'chiefly', 'but', 'not', 'only', 'due', 'to', 'a', 'dissolution', 'of', 'the', 'symbolic', 'sphere']\n",
            "['265', 'study', 'in', 'personality', 'ii', 'a', 'bio-psychological', 'and', 'experimental', 'approach', 'to', 'problem', 'of', 'human', 'adaptation', 'in', 'modern', 'society', 'experimentally', 'determined', 'fixation-ambivalence', 'measure', 'are', 'related', 'to', 'some', 'anxiety', 'estimate', 'obtain-', 'ed', 'from', 'a', 'projective', 'test', 'in', 'a', 'group', 'of', 'male', 'adolescent', 'it', 'is', 'shown', 'that', '(1)', 'fixation', 'increase', 'with', 'increase', 'in', 'corporal', 'injury', 'anxiety', 'when', 'ambivalence', 'is', 'kept', 'con-', 'stant', '(2)', 'ambivalence', 'increase', 'with', 'increase', 'in', 'separa-', 'tion', 'anxiety', 'when', 'fixation', 'is', 'kept', 'constant', '(3)', 'extremely', 'hetero-fixated', 'subject', 'show', 'presence', 'of', 'intense', 'guilt', 'and', 'absence', 'of', 'aggression', 'towards', 'the', 'mother;', 'one', 'ef-', 'fect', 'of', 'this', 'system', 'of', 'organizer', 'seems', 'to', 'be', 'suicidal', 'tendency', '(4)', 'extremely', 'ambivalent', 'subject', 'have', 'in-', 'tense', 'separation', 'anxiety;', 'one', 'effect', 'seems', 'to', 'be', 'suicidal', 'tendency', 'combined', 'with', 'high', 'ambition', 'and', 'impaired', 'cognitive', 'capacity']\n",
            "['retinal', 'detachment', 'cataract', 'keratoconus', 'a', 'ocular', 'symptom', 'complex', 'in', 'endogenous', 'eczema', 'with', 'reference', 'to', 'personal', 'observation', 'the', 'author', 'describe', 'the', 'ovular', 'change', 'encountered', 'in', 'endogenous', 'eczema', 'besides', 'the', 'cataract', 'which', 'ha', 'been', 'known', 'to', 'occur', 'already', 'for', 'a', 'long', 'time', 'retinal', 'detachment', 'keratoconus', 'and', 'keratoconjunctivitis', 'do', 'still', 'belong', 'to', 'the', 'symptom', 'complex']\n",
            "['3478', 'the', 'effect', 'of', 'dehydroepiandrosterone', 'on', 'the', '17-hydroxycorti-', 'costeroids', 'in', 'the', 'plasma', 'in', 'various', 'stage', 'of', 'cancer', 'and', 'other', 'disease', 'of', 'the', 'breast', 'the', 'reducing', 'effect', 'of', 'dehydroepiandrosterone', 'on', 'the', 'plasma', 'corticosteroid', 'is', 'on', 'the', 'average', 'shortened', 'in', 'advanced', '(stage', 'iv)', 'case', 'of', 'breast', 'cancer', 'in', '3', 'group', 'of', 'patient', 'the', 'lowest', 'corticosteroid', 'level', 'were', 'found', 'up', 'to', '6', 'hr', 'after', 'infusion', 'of', 'dehydroepiandrosterone-phosphate', 'in', 'patient', 'with', 'mastopathy', 'the', 'effect', 'wa', 'still', 'detectable', '12', 'hr', 'later;', 'in', 'patient', 'with', 'breast', 'cancer', 'in', 'stage', 'iv', 'the', 'initial', 'level', 'were', 'reached', 'at', 'that', 'time', 'in', 'case', 'with', 'stage', 'i', 'and', 'ii', 'lesion', 'the', 'finding', 'were', 'intermediate', 'the', 'shortening', 'is', 'attributed', 'to', 'a', 'more', 'intensive', 'transformation', 'of', 'dehydroepiandrosterone', 'in', 'advanced', 'case', 'of', 'breast', 'cancer']\n",
            "['617', 'maturation', 'of', 'postnatal', 'human', 'lung', 'and', 'the', 'idiopathic', 'respiratory', 'distress', 'syndrome', 'maturation', 'and', 'pathologic', 'alteration', 'of', 'the', 'lung', 'in', '19', 'newborn', 'infant', 'who', 'died', 'of', 'idiopathic', 'respiratory', 'distress', 'syndrome', 'were', 'studied', 'by', 'light-and', 'electron', 'microscopy', 'normal', 'lung', 'from', '6', 'fetus', 'and', '11', 'new-', 'born', 'served', 'a', 'control', 'in', 'all', 'infant', 'with', 'idiopathic', 'respiratory', 'distress', 'syndrome', 'respiratory', 'bronchio-', 'le', 'and', 'alveolar', 'duct', 'usually', 'presented', 'the', 'histologic', 'pattern', 'of', 'mature', 'lung', 'i', 'e', 'they', 'were', 'predominantly', 'lined', 'by', 'type', 'i', 'cell', 'which', 'also', 'formed', 'the', 'epithelial', 'component', 'of', 'most', 'blood-air', 'barrier', 'well', 'expanded', 'alveolus', 'exhibited', 'a', 'similar', 'pattern', 'whereas', 'collapsed', 'alveolus', 'were', 'lined', 'by', 'numerous', 'type', 'ii', 'cell', 'which', 'par-', 'ticipated', 'in', 'the', 'formation', 'of', 'poorly', 'developed', 'blood-air', 'barrier', 'the', 'capacity', 'of', 'type', 'ii', 'cell', 'to', 'produce', 'in-', 'clusion', 'body', 'seemed', 'to', 'increase', 'with', 'survival', 'beyond', 'the', '14th', 'hr', 'of', 'age', 'secretion', 'of', 'inclusion', 'body', 'and', 'presumably', 'surfactant', 'into', 'alveolar', 'space', 'did', 'occur', 'but', 'only', 'in', 'the', 'lung', 'of', 'infant', 'older', 'than', '2', 'day', 'how-', 'ever', 'this', 'process', 'wa', 'not', 'accompanied', 'by', 'reduction', 'in', 'the', 'number', 'of', 'type', 'ii', 'cell', 'per', 'alveolus', 'a', 'in', 'the', 'nor-', 'mal', 'lung', 'the', 'distribution', 'of', 'pathologic', 'change', 'in', 'idio-', 'pathic', 'respiratory', 'distress', 'syndrome', 'appeared', 'to', 'be', 'determined', 'by', 'the', 'degree', 'of', 'maturity', 'of', 'the', 'air', 'sac', 'structurally', 'mature', 'air', 'sac', 'were', 'associated', 'with', 'da-', 'mage', 'of', 'epithelial', 'lining', 'and', 'hyaline', 'membrane', 'forma-', 'tion', 'in', 'contrast', 'collapsed', 'alveolus', 'revealed', 'an', 'intact', 'epithelial', 'lining', 'and', 'marked', 'septal', 'edema', 'but', 'were', 'free', 'of', 'hyaline', 'membrane', 'the', 'finding', 'of', 'this', 'study', 'sug-', 'gested', 'that', 'transudation', 'of', 'plasma', 'through', 'well', 'develop-', 'ed', 'blood-air', 'barrier', 'wa', 'responsible', 'for', 'epithelial', 'damage', 'and', 'hyaline-membrane', 'formation', 'in', 'air', 'sac', 'they', 'also', 'suggested', 'that', 'alveolar', 'collapse', 'and', 'presuma-', 'bly', 'lack', 'of', 'surfactant', 'were', 'related', 'to', 'abnormal', 'matura-', 'tion', 'of', 'the', 'epithelial', 'lining', 'and', 'to', 'septal', 'edema']\n",
            "['a', 'few', 'interesting', 'neurologic', 'manifestation', 'of', 'migraine', 'migraine', 'is', 'a', 'complex', 'vascular', 'phenomenon', 'presumably', 'of', 'genetic', 'origin', 'which', 'through', 'change', 'induced', 'by', 'either', 'vasoconstriction', 'or', 'vasodilitation', 'can', 'produce', 'interference', 'with', 'the', 'neurologic', 'system', 'and', 'result', 'in', 'many', 'bizarre', 'and', 'alarming', 'clinical', 'picture', 'a', 'few', 'example', 'of', 'the', 'more', 'interesting', 'neurologic', 'manifestation', 'have', 'been', 'shown']\n",
            "['897', 'chronic', 'renal', 'disease', 'and', 'pregnancy', 'a', 'review', 'a', 'review', 'is', 'given', 'of', 'the', 'reciprocal', 'relationship', 'between', 'chronic', 'renal', 'disease', 'and', 'pregnancy', 'after', 'a', 'short', 'review', 'of', 'the', 'most', 'important', 'change', 'in', 'renal', 'function', 'due', 'to', 'normal', 'pregnancy', 'the', 'diagnosis', 'of', 'chronic', 'renal', 'disease', 'is', 'discussed', 'subsequently', 'the', 'following', 'complication', 'of', 'pregnancy', 'are', 'discussed', 'individually', 'chronic', 'pyelonephritis', 'chronic', 'glomerulonephritis', 'lupus', 'erythematosus', 'the', 'nephrotic', 'syndrome', 'diabetic', 'nephropathy', 'and', 'polycystic', 'disease', 'of', 'the', 'kidney', 'the', 'paper', 'is', 'concluded', 'by', 'a', 'discussion', 'on', 'the', 'influence', 'of', 'pregnancy', 'on', 'the', 'different', 'renal', 'affection']\n",
            "['cerebro-vascular', 'lesion', 'and', 'livedo', 'reticularis', 'extensive', 'livedo', 'reticularis', 'ha', 'been', 'observed', 'in', 'one', 'man', 'and', 'five', 'woman', 'who', 'have', 'suffered', 'from', 'a', 'series', 'of', 'cerebrovascular', 'lesion', 'the', 'neurological', 'disability', 'have', 'included', 'aphasia', 'homonymous', 'hemianopia', 'and', 'hemiplegia', 'but', 'have', 'been', 'remarkable', 'for', 'the', 'degree', 'of', 'recovery', 'which', 'ha', 'occurred', 'it', 'is', 'presumed', 'that', 'the', 'livedo', 'which', 'ha', 'been', 'found', 'in', 'only', 'one', 'patient', 'without', 'neurological', 'lesion', 'is', 'related', 'to', 'the', 'cerebrovascular', 'incident', 'investigation', 'have', 'failed', 'to', 'show', 'any', 'evidence', 'of', 'polyarteritis', 'nodosa', 'disseminated', 'lupus', 'erythematosus', 'and', 'thrombocythaemia', 'and', 'an', 'arteritis', 'of', 'unrecognized', 'type', 'is', 'suggested', 'a', 'the', 'etiology']\n",
            "['a', 'study', 'of', 'ventricular', 'septal', 'defect', 'associated', 'with', 'aortic', 'insufficiency', 'clinical', 'electrocardiographic', 'radiographic', 'and', 'hemodynamic', 'finding', 'in', '12', 'child', 'with', 'the', 'combination', 'of', 'a', 'ventricular', 'septal', 'defect', 'and', 'aortic', 'insufficiency', 'are', 'presented', 'the', 'left-to-right', 'shunt', 'wa', 'determined', 'to', 'be', 'small', 'or', 'moderate', 'in', 'all', 'and', 'significant', 'aortic', 'insufficiency', 'wa', 'documented', 'by', 'aortography', 'in', '11', 'patient', 'clinical', 'indication', 'of', 'aortic', 'insufficiency', 'a', 'manifested', 'by', 'an', 'aortic', 'diastolic', 'murmur', 'first', 'appeared', 'at', 'an', 'average', 'age', 'of', '6', 'year', 'in', '7', 'patient', 'with', 'concomitant', 'widening', 'of', 'the', 'pulse', 'pressure', 'in', '4', 'progressive', 'left', 'ventricular', 'hypertrophy', 'wa', 'noted', 'electrocardiographically', 'with', 'progressive', 'cardiac', 'hypertrophy', 'and', 'aortic', 'dilatation', 'on', 'x-ray', 'examination', 'in', '2', 'patient', 'progression', 'of', 'the', 'hemodynamic', 'disability', 'doe', 'not', 'appear', 'to', 'be', 'common', 'in', 'childhood', 'however']\n",
            "['supratentorial', 'paratransversal', 'meningioma', 'the', 'author', 'describes', '6', 'case', 'of', 'supratentorial', 'paratransversal', 'meningioma', 'clinically', 'the', 'development', 'of', 'these', 'tumour', 'is', 'slow', 'and', 'the', 'chief', 'neurological', 'sign', 'are', 'homonymous', 'hemianopia', 'contralateral', 'hemiparesis', 'and', 'speech', 'disorder', 'when', 'the', 'tumour', 'is', 'on', 'the', 'dominant', 'side', 'radiologically', 'carotid', 'angiography', 'permit', 'identification', 'of', 'these', 'tumour', 'easily', 'surgically', 'the', 'tumour', 'were', 'removed', 'completely', 'and', 'although', 'in', '2', 'case', 'the', 'transverse', 'sinus', 'had', 'to', 'be', 'resected', 'this', 'caused', 'no', 'damage', 'one', 'patient', 'who', 'wa', 'operated', 'on', 'twice', 'and', 'whose', 'histological', 'specimen', 'on', 'the', 'second', 'occasion', 'showed', 'that', 'the', 'meningioma', 'wa', 'malignant', 'died', 'seven', 'month', 'after', 'the', 'second', 'operation', 'the', 'other', 'patient', 'are', 'well', 'and', 'free', 'of', 'neurological', 'deficit', 'from', '1', 'to', '12', 'year', 'after', 'operation']\n",
            "['transduction', 'in', 'bacillus', 'subtilis', '(i)', 'comparative', 'examination', 'have', 'shown', 'that', 'the', 'temperate', 'subtilis', 'phage', 'can', 'be', 'divided', 'into', 'two', 'group', 'b', 'subtilis', 'strain', 'nrs', '231', 'wa', 'an', 'adequate', 'common', 'host', 'sensitive', 'to', 'all', 'the', 'examined', 'temperate', 'phage', 'owing', 'to', 'certain', 'technical', 'advantage', 'this', 'strain', 'wa', 'found', 'suitable', 'for', 'the', 'titration', 'subtilis', 'phage', '(ii)', 'some', 'cultural', 'difference', 'have', 'been', 'revealed', 'among', 'substrains', 'of', 'b', 'subtilis', '168', 'ind', 'auxotrophs', 'maintained', 'in', 'various', 'laboratory', 'cell', 'in', 'one', 'of', 'these', 'culture', 'were', 'partly', 'capable', 'and', 'partly', 'incapable', 'of', 'using', 'ammonia', 'ammonia', 'assimilation', 'wa', 'transducible', 'to', 'ammonia', 'negative', 'bacteria', '(iii)', 'after', 'mitomycin', 'c', 'or', 'ultraviolet', 'ray', 'induction', 'the', 'examined', 'b', 'subtilis', 'strain', 'liberated', 'bacteriocin', '-like', 'principle', 'this', 'finding', 'is', 'probably', 'analogous', 'to', 'that', 'of', 'seaman', 'et', 'al', 'concerning', 'pbsx', 'defective', 'phage', 'on', 'the', 'basis', 'of', 'bacteriocin', 'production', 'the', 'examined', 'strain', 'were', 'divided', 'into', 'two', 'group', '(iv)', 'several', 'temperate', 'phage', 'isolated', 'in', 'our', 'laboratory', 'were', 'presumably', 'identical', 'with', 'phage', 'pb', '1', 'phage', 'sp', '10', 'differed', 'from', 'these', 'agent', 'both', 'in', 'antigenic', 'structure', 'and', 'in', 'host', 'range', '(v)', 'transduction', 'by', 'some', 'lysates', 'of', 'pb', '1-type', 'phage', 'wa', 'observed', 'at', 'frequency', 'of', 'the', 'order', 'of', '10', 'considerably', 'more', 'and', 'le', 'effective', 'phage', 'material', 'were', 'yielded', 'by', 'some', 'lysogenic', 'transductants', 'thus', 'transducing', 'phage', 'active', 'in', 'the', 'order', 'of', '10', 'were', 'prepared', '(vi)', 'transduction', 'frequency', 'in', 'addition', 'to', 'the', 'property', 'of', 'the', 'phage', 'wa', 'influenced', 'by', 'the', 'physiological', 'condition', 'of', 'bacteria', '(vii)', 'transduction', 'of', 'indole', 'and', 'histidine', 'locus', 'wa', 'studied', 'by', 'use', 'of', 'his', 'derivative', 'of', 'strain', '168', 'ind']\n",
            "['surgical', 'aspect', 'of', 'heart', 'disease', 'in', 'pregnancy', 'the', 'ideal', 'management', 'of', 'the', 'pregnant', 'woman', 'with', 'heart', 'disease', 'is', 'medical', 'if', 'feasible', 'the', 'operative', 'experience', 'with', 'mitral', 'valvulotomy', 'in', 'pregnancy', 'ha', 'expanded', 'this', 'procedure', 'is', 'now', 'indicated', 'when', 'progressive', 'cardiac', 'disability', 'develops', 'during', 'the', 'first', 'or', 'second', 'trimester', 'and', 'when', 'the', 'proven', 'dominant', 'lesion', 'is', 'mitral', 'stenosis', 'when', 'other', 'lesion', 'are', 'present', 'especially', 'those', 'requiring', 'pump', 'oxygenator', 'perfusion', 'the', 'risk', 'must', 'be', 'carefully', 'measured', 'damage', 'to', 'the', 'fetus', 'may', 'result', 'from', 'reduced', 'placental', 'blood', 'flow']\n",
            "['time', 'course', 'of', 'change', 'in', 'surface', 'tension', 'and', 'morphology', 'of', 'alveolar', 'epithelial', 'cell', 'in', 'co2-induced', 'hyaline', 'membrane', 'disease', 'atelectasis', 'and', 'hyaline', 'membrane', 'produced', 'by', 'exposure', 'of', 'guinea', 'pig', 'to', '15', 'percent', 'co2', 'were', 'found', 'to', 'be', 'associated', 'with', 'disappearance', 'of', 'lamellar', 'body', 'in', 'the', 'large', 'alveolar', 'lining', 'cell', '(granular', 'pneumocytes)', 'and', 'an', 'associated', 'decrease', 'in', 'surfactant', 'a', 'indicated', 'in', 'the', 'rise', 'of', 'minimal', 'surface', 'tension', 'of', 'the', 'lung', 'this', 'process', 'is', 'limited', 'to', 'the', 'uncompensated', 'phase', 'of', 'respiratory', 'acidosis', 'and', 'is', 'reversed', 'during', 'the', 'compensatory', 'phase', 'the', 'parallel', 'time', 'course', 'in', 'change', 'of', 'surface', 'tension', 'and', 'alteration', 'of', 'lamellar', 'body', 'in', 'the', 'granular', 'pneumocytes', 'provides', 'additional', 'evidence', 'for', 'the', 'identification', 'of', 'the', 'latter', 'a', 'the', 'cell', 'responsible', 'for', 'the', 'secretion', 'of', 'surfactant']\n",
            "['establishment', 'of', 'a', 'cell', 'line', 'in', 'vitro', 'from', 'a', 'case', 'of', 'human', 'lung', 'cancer', '1)', 'one', 'cell', 'line', 'ha', 'been', 'established', 'from', 'the', 'pneumonectomized', 'specimen', 'of', 'a', 'case', 'with', 'lung', 'cancer', 'which', 'wa', 'diagnosed', 'a', 'undifferentiated', 'cell', 'carcinoma', 'and', 'partially', 'adenocarcinoma', 'by', 'it', 'histological', 'finding', 'and', 'wa', 'characterized', 'with', 'intracytoplasmic', 'fat', 'droplet', 'in', 'them', '2)', 'the', 'morphological', 'change', 'of', 'the', 'cell', 'were', 'repeated', 'but', 'they', 'have', 'been', 'stabilized', 'to', 'their', 'epithelial', 'shape', 'after', 'the', '35th', 'transfer', 'the', 'cell', 'atypy', 'of', 'the', 'culture', 'wa', 'remarkable', 'phagocytosis', 'of', 'the', 'cell', 'line', 'ha', 'not', 'been', 'observed', 'it', 'wa', 'characterized', 'that', 'the', 'intracytoplasmic', 'droplet', 'found', 'in', 'the', 'original', 'cancer', 'cell', 'have', 'been', 'maintained', 'in', 'the', 'cultured', 'cell', 'even', 'in', 'their', 'mitotic', 'stage', 'throughout', 'the', 'cultural', 'course', '3)', 'concerning', 'the', 'chromosomal', 'constitution', 'diploid', 'cell', 'were', 'only', '15', 'per', 'cent', 'the', 'range', 'of', 'chromosome', 'number', 'did', 'not', 'show', 'sharp', 'peak', 'forming', 'two', 'group', 'of', 'near', 'diploid', 'and', 'near', 'tetraploid', 'range', '4)', 'transplanting', 'the', 'cell', 'to', 'cheekpouches', 'of', 'golden', 'hamster', 'the', 'implanted', 'cell', 'grew', 'from', 'the', 'inoculum', 'of', '10', 'cell', 'in', 'conditioned', 'animal', 'but', 'did', 'not', 'show', 'the', 'invasiveness', 'to', 'neighbour', 'tissue', 'and', 'metastasis', 'to', 'other', 'organ']\n",
            "['heparin', 'level', 'during', 'and', 'after', 'hypothermic', 'perfusion', '1', 'perfusion-temperature', 'influence', 'the', 'rate', 'of', 'heparin-loss', 'during', 'extracorporeal', 'circulation', 'and', 'therefore', 'the', 'requirement', 'of', 're-heparinization', '2', 'heparin', 'half-lives', 'of', 'approximately', '13', '4', 'hour', 'and', '21', '2', 'hour', 'were', 'calculated', 'during', 'perfusion', 'conducted', 'at', 'average', 'temperature', 'of', '31', '5', 'and', '22', '6', 'c', 'respectively', '3', 'the', 'rate', 'of', 'heparin-loss', 'during', 'extracorporeal', 'circulation', 'is', 'inconstant', 'in', 'an', 'individual', 'and', 'variable', 'between', 'individual', 'so', 'that', 'exact', 'neutralization', 'requires', 'an', 'accurate', 'estimation', 'of', 'the', 'heparin', 'concentration', 'present', 'at', 'the', 'end', 'of', 'perfusion', '4', 'the', 'protamine', 'titration', 'test', 'provides', 'a', 'crude', 'but', 'simple', 'and', 'satisfactory', 'mean', 'of', 'monitoring', 'free-heparin', 'level', '5', 'complete', 'neutralization', 'of', 'heparin', 'is', 'an', 'important', 'factor', 'in', 'minimizing', 'postoperative', 'blood', 'loss', '6', 'protamine', 'is', 'a', 'le', 'efficient', 'neutralizing', 'agent', 'than', 'polybrene', 'at', 'the', 'same', 'dosage', 'level', 'it', 'may', 'be', 'most', 'effective', 'in', 'divided', 'dosage', '7', 'rebound', 'wa', 'detected', 'in', '5', 'of', '45', 'case', 'studied', 'although', 'in', 'only', 'one', 'instance', 'wa', 'it', 'of', 'a', 'degree', 'likely', 'to', 'be', 'significant', '8', 'significant', 'prolongation', 'of', 'the', 'clotting-time', 'resulting', 'from', 'excess', 'neutralizing', 'agent', 'wa', 'not', 'evident', 'in', 'this', 'study']\n",
            "['2476', 'study', 'on', 'cardiac', 'dimension', 'in', 'intact', 'unanesthetized', 'man', 'i', 'description', 'of', 'technique', 'and', 'their', 'validation', 'ii', 'effect', 'of', 'respiration', 'iii', 'effect', 'of', 'muscular', 'exercise', 'a', 'method', 'is', 'described', 'which', 'permit', 'measurement', 'of', 'relative', 'change', 'in', 'the', 'exter-', 'nal', 'dimension', 'of', 'individual', 'cardiac', 'chamber', 'throughout', 'the', 'cardiac', 'cycle', 'in', 'intact', 'unanaesthetized', 'man', 'it', 'consists', 'of', 'suturing', 'multiple', 'radiopaque', 'silver-tantalum', 'clip', 'to', 'the', 'surface', 'of', 'the', 'heart', 'at', 'the', 'time', 'of', 'cardiac', 'operation', 'in', 'the', 'postopera-', 'tive', 'period', 'cineradiograms', 'are', 'obtained', 'and', 'the', 'distance', 'between', 'clip', 'are', 'mea-', 'sured', 'on', 'each', 'individual', 'frame', 'this', 'technique', 'ha', 'been', 'found', 'to', 'be', 'safe', 'and', 'ha', 'been', 'employed', 'in', '68', 'patient', 'without', 'any', 'complication', 'a', 'a', 'result', 'of', 'study', 'in', '8', 'patient', 'utilizing', 'biplane', 'serial', 'exposure', 'the', 'effect', 'of', 'rotation', 'of', 'the', 'heart', 'in', 'the', 'sagittal', 'plane', 'during', 'the', 'cardiac', 'and', 'respiratory', 'cycle', 'were', 'determined', 'precisely', 'if', 'clip', 'were', 'properly', 'placed', 'on', 'the', 'heart', 'the', 'possible', 'error', 'resulting', 'from', 'such', 'rotation', 'were', 'found', 'to', 'be', 'quite', 'small', 'during', 'inspiration', 'right', 'ventricular', 'dimen-', 'sion', 'increased', 'while', 'the', 'opposite', 'occurred', 'during', 'expiration', 'and', 'during', 'the', 'val-', 'salva', 'manoeuvre', 'left', 'ventricular', 'dimension', 'exhibited', 'little', 'change', 'during', 'normal', 'respiration', 'during', 'deep', 'slow', 'inspiration', 'the', 'change', 'in', 'dimension', 'of', 'the', 'left', 'ventricle', 'lagged', 'behind', 'those', 'of', 'the', 'right', 'ventricle', 'by', '1', 'to', '5', '(generally', '2', 'or', '3)', 'car-', 'diac', 'cycles;', 'the', 'magnitude', 'of', 'the', 'change', 'in', 'the', 'dimension', 'of', 'the', 'left', 'ventricle', 'wa', 'smaller', 'than', 'that', 'which', 'occurred', 'in', 'the', 'right', 'ventricle', 'the', 'effect', 'on', 'ventricular', 'dimension', 'of', 'light', 'muscular', 'exercise', 'performed', 'in', 'the', 'supine', 'position', 'were', 'studied', 'in', '9', 'patient', 'the', 'end-diastolic', 'dimension', 'decreased', 'by', 'an', 'average', 'of', '6', '0%', 'of', 'con-', 'trol', 'in', 'the', 'right', 'ventricle', 'and', 'by', 'an', 'average', 'of', '5', '1%', 'in', 'the', 'left', 'ventricle', 'end-sys-', 'tolic', 'dimension', 'decreased', 'by', 'an', 'average', 'of', '5', '6%', 'of', 'control', 'in', 'the', 'right', 'ventricle', 'and', 'by', 'an', 'average', 'of', '6', '5%', 'in', 'the', 'left', 'ventricle', 'these', 'decrease', 'are', 'considered', 'to', 'approximate', 'one-half', 'of', 'the', 'resting', 'stroke', 'volume', 'in', 'the', '4', 'patient', 'in', 'whom', 'the', 'rate', 'of', 'right', 'ventricular', 'pressure', 'rise', 'wa', 'determined', 'continuously', 'exercise', 're-', 'sulted', 'in', 'an', 'elevation', 'of', 'dp', 'dt', 'while', 'ventricular', 'end-diastolic', 'dimension', 'decreased', 'these', 'data', 'are', 'interpreted', 'to', 'indicate', 'that', 'an', 'increase', 'in', 'myocardial', 'contractility', 'occurs', 'during', 'muscular', 'exercise', 'in', 'man']\n",
            "['3831', 'lysosome', 'in', 'the', 'rat', 'sciatic', 'nerve', 'following', 'crush', 'peripheral', 'nerve', 'undergoing', 'degeneration', 'are', 'favorable', 'material', 'for', 'studying', 'the', 'type', 'origin', 'and', 'function', 'of', 'lysosome', 'the', 'following', 'lysosome', 'are', 'described', '(a)', 'autophagic', 'vacuole', 'in', 'altered', 'schwann', 'cell', 'within', 'these', 'vacuole', 'the', 'myelin', 'and', 'much', 'of', 'the', 'axoplasm', 'which', 'it', 'encloses', 'in', 'the', 'normal', 'nerve', 'are', 'degraded', '(wal-', 'lerian', 'degeneration)', 'the', 'delimiting', 'membrane', 'of', 'the', 'vacuole', 'apparently', 'form', 'from', 'myelin', 'lamella', 'considered', 'a', 'possible', 'source', 'of', 'their', 'acid', 'phosphatase', 'are', 'golgi', 'vesicle', '(primary', 'lysosomes)', 'lysosome', 'of', 'the', 'dense', 'body', 'type', 'and', 'the', 'endo-', 'plasmic', 'reticulum', 'which', 'lie', 'close', 'to', 'the', 'vacuole', '(b)', 'mebranous', 'body', 'that', 'accu-', 'mulate', 'focally', 'in', 'myelinated', 'fiber', 'in', 'a', 'zone', 'extending', '2', 'to', '3', 'mm', 'distal', 'to', 'the', 'crush', 'these', 'appear', 'to', 'arise', 'from', 'the', 'endoplasmic', 'reticulum', 'in', 'which', 'demonstrable', 'acid', 'phosphatase', 'activity', 'increase', 'markedly', 'within', '2', 'hour', 'after', 'the', 'nerve', 'is', 'crushed', '(c)', 'autophagic', 'vacuole', 'in', 'the', 'axoplasm', 'of', 'fiber', 'proximal', 'to', 'the', 'crush', 'the', 'break-', 'down', 'of', 'organelle', 'within', 'these', 'vacuole', 'may', 'have', 'significance', 'for', 'the', 'reorganization', 'of', 'the', 'axoplasm', 'preparatory', 'to', 'regeneration', '(d)', 'phagocytic', 'vacuole', 'of', 'altered', 'schwann', 'cell', 'a', 'myelin', 'degeneration', 'begin', 'some', 'axoplasm', 'is', 'exposed', 'this', 'is', 'apparently', 'engulfed', 'by', 'the', 'filopodia', 'of', 'the', 'schwann', 'cell', 'and', 'degraded', 'within', 'the', 'phagocytic', 'vacuole', 'thus', 'formed', '(e)', 'multivesicular', 'body', 'in', 'the', 'axoplasm', 'of', 'myelina-', 'ted', 'fiber', 'these', 'are', 'generally', 'seen', 'near', 'the', 'node', 'of', 'ranvier']\n",
            "['7083', 'brain', 'damage', 'and', 'paralysis', 'in', 'animal', 'exposed', 'to', 'high', 'pressure', 'oxygen', '-', 'pharmacological', 'and', 'biochemical', 'observation', 'single', 'exposure', 'of', 'high', 'pressure', 'oxygen', '(ohp)', 'at', '30-66', 'gauge', 'pressure', 'caused', 'cns', 'damage', 'and', 'paralysis', 'in', 'rat', 'and', 'mouse', 'but', 'guinea-pigs', 'rabbit', 'and', 'man', 'did', 'not', 'show', 'such', 'sequela', 'the', 'cns', 'damage', 'in', 'rat', 'wa', 'greatly', 'increased', 'by', 'cns-de-', 'pressant', 'drug', '(pentobarbital', 'paraldehyde', 'n2o', 'and', 'phencyclidine)', 'given', 'before', 'ex-', 'posure', 'to', 'ohp', 'the', 'cns', 'lesion', 'were', 'also', 'potentiated', 'by', 'raised', 'respired', 'pco2', 'by', 'acetazolamide', 'and', 'by', 'nh4c1', 'whilst', 'protection', 'wa', 'afforded', 'by', 'methaemoglobinae-', 'mia', 'by', 'tham', 'by', '2', '4-dinitrophenol', 'and', 'by', 'serotonin', 'against', 'the', 'barbiturate', 'and', 'co2', 'potentiation', 'of', 'ohp', 'brain', 'damage', 'ohp-induced', 'brain', 'damage', 'wa', 'not', 'modified', 'by', 'hypothermia', '(cp2)', 'electroconvulsive', 'shock', 'treatment', 'during', 'ohp', 'cerebral', 'x-', 'irradiation', 'adrenalectomy', 'or', 'cortisone', 'slow', 'decompression', 'rate', 'spinal', 'block', 'with', 'local', 'anaesthetic', \"'conditioning'\", 'of', 'rat', 'to', 'ohp', 'hyper-', 'and', 'hypoglycaemia', 'or', 'alteration', 'in', 'tissue', 'histamine', 'level', 'the', 'result', 'are', 'discussed', 'in', 'relation', 'to', 'pos-', 'sible', 'biochemical', 'mechanism', 'and', 'theory', 'of', 'oxygen', 'poisoning']\n",
            "['transformation', 'of', 'bovine', 'cell', 'in', 'vitro', 'after', 'inoculation', 'of', 'simian', 'virus', '40', 'or', 'it', 'nucleic', 'acid', 'cell', 'of', 'bovine', 'embryonic', 'lung', 'tissue', 'in', 'culture', 'were', 'inoculated', 'with', 'simian', 'virus', '40', '(sv', '40)', 'or', 'a', 'phenol', 'extract', 'of', 'a', 'high', 'titer', 'suspension', 'of', 'sv', '40', 'both', 'the', 'virus', 'and', 'the', 'nucleic', 'acid', 'preparation', 'induced', 'proliferative', 'morphological', 'change', 'characteristic', 'for', 'sv', '40', 'transformation', 'non-infected', 'control', 'culture', 'and', 'culture', 'which', 'were', 'inoculated', 'with', 'a', 'preparation', 'of', 'nucleic', 'acid', 'exposed', 'to', 'dnase', 'and', 'maintained', 'under', 'the', 'same', 'condition', 'a', 'infected', 'culture', 'showed', 'a', 'regular', 'fibroblastic', 'growth', 'cell', 'line', 'of', 'rapidly', 'growing', 'transformed', 'cell', 'have', 'been', 'obtained', 'most', 'attempt', 'to', 'isolate', 'virus', 'from', 'the', 'transformed', 'cell', 'were', 'negative', 'but', 'minute', 'amount', 'of', 'virus', 'were', 'recovered', 'from', 'occasional', 'passage']\n",
            "['anatomic', 'type', 'of', 'single', 'or', 'common', 'ventricle', 'in', 'man', 'morphologic', 'and', 'geometric', 'aspect', 'of', '60', 'necropsied', 'case', 'in', '60', 'necropsied', 'case', 'of', 'single', 'or', 'common', 'ventricle', 'in', 'man', 'four', 'major', 'unrelated', 'ventricular', 'malformation', 'were', 'found', '(1)', 'absence', 'of', 'the', 'right', 'ventricular', 'sinus', 'in', '47', 'case', '(78', 'percent)', 'designated', 'type', 'a', '(2)', 'absence', 'of', 'the', 'left', 'ventricular', 'sinus', 'in', '3', 'case', '(5', 'percent)', 'type', 'b', '(3)', 'absence', 'or', 'rudimentary', 'development', 'of', 'the', 'ventricular', 'septum', 'in', '4', 'case', '(7', 'percent)', 'type', 'c', 'and', '(4)', 'absence', 'of', 'both', 'ventricular', 'sinus', 'and', 'of', 'the', 'ventricular', 'septum', 'in', '6', 'case', '(10', 'percent)', 'type', 'd', 'three', 'type', 'of', 'relationship', 'between', 'the', 'great', 'artery', 'were', 'present', 'a', 'normal', '(solitus)', 'interrelationship', 'in', '9', 'case', '(15', 'percent)', 'designated', 'type', '1', 'd-transposition', 'the', 'transposed', 'aortic', 'valve', 'lying', 'to', 'the', 'right', '(dextro', 'or', 'd)', 'relative', 'to', 'the', 'transposed', 'pulmonary', 'valve', 'in', '25', 'case', '(42', 'percent)', 'type', 'ii', 'and', 'l-transposition', 'the', 'transposed', 'aortic', 'valve', 'lying', 'to', 'the', 'left', '(levo', 'or', 'l)', 'relative', 'to', 'the', 'transposed', 'pulmonary', 'valve', 'in', '26', 'case', '(43', 'percent)', 'type', 'iii', 'in', 'none', 'wa', 'the', 'inversus', 'interrelationship', 'type', 'iv', 'displayed', 'three', 'type', 'of', 'visceral', 'and', 'atrial', 'situs', 'were', 'found', 'solitus', 'or', 'normal', 'in', '50', 'case', '(83', 'percent)', 'inversus', 'an', 'exact', 'apparent', 'mirror', 'image', 'of', 'normal', 'in', '2', 'case', '(3', 'percent)', 'and', 'heterotaxy', 'the', 'uncertain', 'visceral', 'and', 'atrial', 'situs', 'associated', 'with', 'asplenia', 'in', '8', 'case', '(13', 'percent)', 'the', '60', 'case', 'were', 'classified', 'segmentally', 'according', 'to', 'the', 'anatomy', 'of', 'the', 'three', 'cardiac', 'segment', 'the', 'great', 'artery', 'the', 'ventricular', 'sinus', 'and', 'the', 'atrium', 'the', 'classic', 'single', 'ventricle', 'with', 'a', 'rudimentary', 'outlet', 'chamber', 'wa', 'found', 'morphologically', 'to', 'be', 'a', 'large', 'left', 'ventricle', 'with', 'a', 'right', 'ventricular', 'infundibulum', 'the', 'sinus', 'of', 'the', 'right', 'ventricle', 'being', 'absent', '(type', 'a)', 'the', 'myocardium', 'of', 'the', 'right', 'ventricular', 'infundibulum', 'of', 'the', 'right', 'ventricular', 'sinus', 'and', 'of', 'the', 'left', 'ventricular', 'sinus', 'wa', 'identified', 'by', 'the', 'distinctive', 'gross', 'morphologic', 'characteristic', 'of', 'each', 'the', 'plane', 'of', 'the', 'atrial', 'and', 'ventricular', 'septum', 'and', 'the', 'relationship', 'between', 'the', 'great', 'artery', 'at', 'the', 'semilunar', 'valve', 'were', 'measured', 'a', 'projection', 'upon', 'the', 'horizontal', 'plane', 'relative', 'to', 'the', 'anteroposterior', 'line', 'an', 'approach', 'to', 'cardiac', 'anatomy', 'is', 'presented', 'which', 'is', 'segmental', 'morphologic', 'and', 'geometric', 'this', 'approach', 'ha', 'angiocardiographic', 'electrocardiographic', 'and', 'embryologic', 'application']\n",
            "['the', 'role', 'of', 'alveolar', 'inclusion', 'body', 'in', 'the', 'developing', 'lung', 'the', 'developing', 'alveolar', 'epithelium', 'of', 'man', 'and', 'rat', 'contains', 'characteristic', 'inclusion', 'body', 'which', 'are', 'heterogeneous', 'structure', 'but', 'basically', 'consist', 'of', 'a', 'system', 'of', 'membranous', 'profile', 'and', 'a', 'limiting', 'membrane', 'of', 'the', 'unit', 'type', 'inclusion', 'body', 'appear', 'to', 'result', 'from', 'focal', 'cytoplasmic', 'degradation', 'which', 'occurs', 'in', 'the', 'rapidly', 'changing', 'cuboidal', 'alveolar', 'epithelium', 'some', 'inclusion', 'body', 'in', 'the', 'developing', 'rat', 'lung', 'are', 'similar', 'to', 'the', 'so-called', 'lamellar', 'transformed', 'mitochondrion', 'however', 'evidence', 'is', 'presented', 'suggesting', 'that', 'alteration', 'of', 'all', 'cytoplasmic', 'membrane', 'may', 'be', 'involved', 'in', 'the', 'process', 'of', 'inclusion', 'body', 'formation', 'certain', 'image', 'associated', 'with', 'the', 'golgi', 'complex', 'are', 'interpreted', 'a', 'early', 'form', 'of', 'inclusion', 'body', 'there', 'is', 'also', 'evidence', 'that', 'inclusion', 'body', 'enlarge', 'by', 'accretion', 'of', 'membrane', 'which', 'finally', 'are', 'extruded', 'into', 'the', 'alveolar', 'space', 'inclusion', 'body', 'are', 'formed', 'and', 'secreted', 'in', 'greater', 'number', 'late', 'in', 'fetal', 'life', 'and', 'in', 'early', 'infancy', 'i', 'e', 'at', 'the', 'time', 'when', 'the', 'cuboidal', 'alveolar', 'epithelium', 'is', 'differentiating', 'to', 'the', 'mature', 'flattened', 'type', 'the', 'latter', 'contains', 'no', 'inclusion', 'body', 'on', 'the', 'basis', 'of', 'the', 'morphologic', 'characteristic', 'of', 'the', 'inclusion', 'body', 'and', 'the', 'distribution', 'of', 'the', 'acid', 'phosphatase', 'reaction', 'it', 'is', 'concluded', 'that', 'inclusion', 'body', 'are', 'lysosomal', 'structure', 'active', 'during', 'remodeling', 'of', 'the', 'developing', 'alveolar', 'epithelium', 'the', 'possible', 'interrelationship', 'of', 'inclusion', 'body', 'and', 'pulmonary', 'surfactant', 'is', 'discussed']\n",
            "['respiratory', 'change', 'after', 'open-heart', 'surgery', 'patient', 'who', 'undergo', 'cardiac', 'surgery', 'with', 'extracorporeal', 'circulation', 'develop', 'significant', 'alveolar-arterial', 'oxygen', 'tension', 'difference', 'and', 'venous', 'admixture', 'in', 'the', 'early', 'post-operative', 'period', 'up', 'to', '50', 'of', 'this', 'abnormality', 'is', 'due', 'to', 'anatomical', 'right', 'to', 'left', 'shunting', 'through', 'the', 'lung', 'the', 'remainder', 'is', 'most', 'likely', 'to', 'be', 'due', 'to', 'ventilation-perfusion', 'inequality', 'the', 'change', 'appear', 'to', 'be', 'completely', 'reversible', 'the', 'cardiopulmonary', 'bypass', 'procedure', 'may', 'be', 'responsible', 'for', 'initiating', 'the', 'underlying', 'pathology', 'since', 'change', 'of', 'this', 'magnitude', 'were', 'not', 'found', 'in', 'cardiothoracic', 'surgery', 'patient', 'in', 'whom', 'this', 'technique', 'wa', 'not', 'required']\n",
            "['5274', 'urinary', 'excretion', 'of', 'estrone', 'estradiol', 'and', 'estriol', 'by', 'patient', 'with', 'prostatic', 'cancer', 'and', 'benign', 'prostatic', 'hypertrophy', 'and', 'hopkins', 'c', 'e', 'urinary', 'estrone', 'estradiol', 'and', 'estriol', 'fraction', 'excreted', 'by', '21', 'patient', 'with', 'prostatic', 'cancer', '17', 'patient', 'with', 'benign', 'hypertrophy', 'and', '59', 'clinically', 'well', 'subject', 'were', 'assayed', 'to', 'determine', 'whether', 'difference', 'exist', 'absolute', 'level', 'of', 'estrone', 'estradiol', 'and', 'estriol', 'fraction', 'were', 'not', 'significantly', 'different', 'the', 'excretion', 'of', 'relatively', 'lower', 'level', 'of', 'estrone', 'and', 'estradiol', 'and', 'relatively', 'higher', 'level', 'of', 'estriol', 'by', 'patient', 'with', 'prostatic', 'cancer', 'compared', 'to', 'clinically', 'well', 'subject', 'resulted', 'in', 'significantly', 'lower', 'proportion', 'of', 'the', 'total', 'estrogen', 'being', 'excreted', 'a', 'estrone', 'and', 'estradiol', 'difference', 'in', 'the', 'proportion', 'of', 'estrogen', 'frac-', 'tions', 'between', 'patient', 'with', 'benign', 'hypertrophy', 'and', 'clinically', 'well', 'subject', 'were', 'not', 'significant', 'with', 'the', 'exception', 'of', 'a', 'significantly', 'higher', 'percentage', 'of', 'the', 'total', 'estrogen', 'being', 'excreted', 'a', 'estrone', 'by', 'the', 'patient', 'with', 'benign', 'hypertrophy', 'difference', 'between', 'that', 'group', 'and', 'the', 'cancer', 'group', 'were', 'also', 'not', 'significant', 'clinical', 'variation', 'between', 'the', '3', 'group', 'and', 'within', 'the', 'cancer', 'and', 'hypertrophy', 'group', 'preclude', 'assignment', 'of', 'significant', 'difference', 'to', 'prostatic', 'dystrophy', 'alone', 'cancer', 'patient', 'experiencing', 'inanition', 'due', 'to', 'a', 'loss', 'of', 'appetite', 'excreted', 'significantly', 'lower', 'level', 'of', 'estrone', 'than', 'patient', 'who', 'reported', 'no', 'loss', 'of', 'appetite', 'significantly', 'lower', 'level', 'of', 'estrone', 'were', 'excreted', 'by', 'patient', 'with', 'benign', 'hyper-', 'trophy', 'hospitalized', '6', 'day', 'or', 'more', 'compared', 'to', 'patient', 'hospitalized', '5', 'day', 'or', 'le', 'a', 'significantly', 'higher', 'urinary', 'estrone-androsterone', 'ratio', 'wa', 'present', 'in', 'the', 'cancer', 'group', 'than', 'in', 'the', 'clinically', 'well', 'group', 'it', 'is', 'not', 'believed', 'however', 'that', 'an', 'arbi-', 'trary', 'ratio', 'can', 'be', 'used', 'to', 'suggest', 'an', 'internal', 'estrogen-androgen', 'imbalance']\n",
            "['7828', 'selective', 'cerebral', 'hypothermia', 'physiology', 'and', 'technic', 'a', 'safe', 'suitable', 'technique', 'for', 'producing', 'selective', 'brain', 'cooling', 'by', 'a', 'perfusion', 'method', 'is', 'described', 'of', '15', 'dog', '7', 'survived', 'the', 'salient', 'feature', 'aiding', 'survival', 'are', 'discussed', 'the', 'use', 'of', 'a', 'direct', 'vasodilator', '(papaverine)', 'in', 'the', 'perfusate', 'to', 'relieve', 'vasospasm', 'markedly', 'reduced', 'cooling', 'time', 'and', 'represented', 'the', 'most', 'signi-', 'ficant', 'technical', 'advance', 'over', 'previously', 'described', 'method', 'an', 'acid', 'base', 'analysis', 'utilizing', 'the', 'siggaard-andersen', 'curve', 'nomogram', 'wa', 'performed', 'on', '4', 'dog', 'and', 'no', 'significant', 'acidosis', 'noted', 'during', 'selective', 'brain', 'cooling', 'a', 'definite', 'arteriovenous', 'lactic', 'acid', 'difference', 'developed', 'at', 'hypothermic', 'temperature', 'indicating', 'the', 'brain', 'may', 'metabolize', 'this', 'substance', 'in', 'preference', 'to', 'glucose', 'at', 'lowered', 'brain', 'tempera-', 'tures', 'the', 'reason', 'for', 'which', 'were', 'discussed', 'the', 'rate', 'of', 'disappearance', 'of', 'physi-', 'cally', 'dissolved', 'oxygen', '(po2)', 'wa', 'measured', 'in', 'the', 'brain', 'following', 'ischemia', 'at', 'dif-', 'ferent', 'temperature', 'the', 'average', 'rate', 'of', 'disappearance', 'at', '20', 'c', 'wa', '40%', 'of', 'the', 'rate', 'at', '37', 'c', 'the', 'discrepancy', 'between', 'this', 'finding', 'and', 'the', 'in', 'vitro', 'oxygen', 'utili-', 'zation', 'rate', 'at', 'the', 'same', 'temperature', 'wa', 'discussed']\n",
            "['the', 'human', 'tumor-egg', 'host', 'system', 'iii', 'tumor-inhibitory', 'property', 'of', 'tenuazonic', 'acid', 'the', 'fermented', 'broth', 'of', 'a', 'culture', 'of', 'alternaria', 'tenuis', 'auct', 'inhibited', 'the', 'growth', 'of', 'the', 'human', 'adenocarcinoma', '(h', 'ad', '1)', 'in', 'the', 'embryonated', 'egg', 'with', 'the', 'aid', 'of', 'study', 'in', 'the', 'egg-tumor', 'system', 'the', 'active', 'agent', 'wa', 'isolated', 'and', 'identified', 'a', 'tenuazonic', 'acid', 'tenuazonic', 'acid', 'wa', 'produced', 'by', 'a', 'number', 'of', 'alternaria', 'isolates', 'and', 'by', 'an', 'aspergillustamarii', 'and', 'a', 'phoma', 'sp', 'compared', 'with', 'tenuazonic', 'acid', 'on', 'a', 'molar', 'basis', 'about', '20', 'time', 'a', 'much', 'hadacidin', 'or', '6-mercaptopurine', '2', 'time', 'a', 'much', 'azaserine', 'but', 'only', '1', '20', 'a', 'much', 'triethylenemelamine', '(tem)', 'were', 'required', 'to', 'achieve', 'the', 'same', 'inhibition', 'of', 'h', 'ad', '1', 'tumor', 'growth', 'in', 'the', 'egg', 'tenuazonic', 'acid', 'wa', 'more', 'effective', 'against', 'h', 'ad', '1', 'than', 'against', 'another', 'transplantable', 'human', 'tumor', 'a-42', 'tenuazonic', 'acid', 'compared', 'with', 'puromycin', 'more', 'specifically', 'inhibited', 'tumor', 'growth', 'in', 'the', 'egg-tumor', 'system']\n",
            "['the', 'carrier', 'state', 'of', 'bacillus', 'subtilis', 'infected', 'with', 'the', 'transducing', 'bacteriophage', 'sp10', 'bacteriophage', 'sp10', 'may', 'infect', 'bacillus', 'subtilis', 'to', 'form', 'a', 'carrier', 'system', 'the', 'infected', 'bacteria', 'give', 'rise', 'to', 'infected', 'organism', 'after', 'six', 'or', 'more', 'successive', 'single-colony', 'isolation', 'about', '60', 'of', 'the', 'spore', 'derived', 'from', 'such', 'an', 'infected', 'culture', 'yield', 'clone', 'that', 'produce', 'phage', 'and', 'such', 'spore', 'retain', 'their', 'ability', 'to', 'produce', 'phage', 'even', 'after', 'treatment', 'with', 'antiserum', 'and', 'heating', 'at', '80', 'four', \"hours'\", 'incubation', 'of', 'carrier', 'spore', 'in', 'nutrient', 'broth', 'yield', 'culture', 'having', 'more', 'than', '10', 'infective', 'center', 'per', 'bacterium', 'cultivation', 'of', 'infected', 'organism', 'in', 'medium', 'containing', 'sp10', 'antiserum', 'lead', 'to', 'loss', 'of', 'phage', 'and', 'loss', 'of', 'immunity', 'to', 'phage', 'infection', 'dna', 'with', 'a', 'density', 'characteristic', 'of', 'viral', 'dna', 'can', 'be', 'detected', 'in', 'infected', 'bacteria', 'extract', 'of', 'infected', 'bacteria', 'contain', 'a', 'phage-induced', 'deoxyribonuclease', 'activity', 'which', 'attack', 'both', 'phage', 'and', 'bacterial', 'dna', 'in', 'vitro', 'the', 'phage-bacterial', 'complex', 'is', 'therefore', 'best', 'described', 'a', 'a', 'carrier', 'state', 'the', 'dna', 'of', 'the', 'phage', 'and', 'of', 'b', 'subtilis', 'are', 'chemically', 'different', 'enzymatically', 'prepared', 'complementary', 'virus', 'rna', 'ha', 'no', 'homology', 'with', 'bacterial', 'dna', 'the', 'lack', 'of', 'homology', 'of', 'this', 'transducing', 'phage', 'dna', 'with', 'the', 'dna', 'of', 'it', 'host', 'and', 'the', 'failure', 'to', 'form', 'a', 'truly', 'lysogenic', 'relationship', 'reinforce', 'previous', 'conclusion', 'that', 'transducing', 'bacterial', 'dna', 'is', 'incorporated', 'into', 'the', 'sp10', 'virus', 'particle', 'without', 'any', 'recombination', 'between', 'viral', 'and', 'bacterial', 'dna']\n",
            "['2725', 'demonstration', 'of', 'myocardial', 'infarction', 'by', 'photoscans', 'of', 'the', 'heart', 'in', 'man', 'intravenously', 'injected', 'radioiodinated', 'oleic', 'acid', 'wa', 'incorporated', 'into', 'heart', 'muscle', 'in', 'sufficient', 'concentration', 'to', 'permit', 'recording', 'photoscans', 'of', 'the', 'heart', 'in', 'man', 'in', '3', 'fatal', 'case', 'of', 'massive', 'septal', 'myocardial', 'infarction', 'injection', 'of', 'the', 'radioiodin-', 'ated', 'fatty', 'acid', '(rifa)', 'wa', 'made', 'during', 'life;', 'at', 'necropsy', 'photoscans', 'of', 'the', 'excised', 'heart', 'showed', 'a', 'discrete', 'area', 'of', 'absent', 'radioactivity', 'corresponding', 'to', 'the', 'infarcted', 'interventricular', 'septum', 'photoscans', 'of', 'the', 'heart', 'were', 'made', 'during', 'life', 'in', '42', 'pa-', 'tients', '9', 'of', 'whom', 'had', 'suffered', 'recent', 'myocardial', 'infarction', 'there', 'were', 'definite', 'area', 'of', 'deceased', 'radioactivity', 'corresponding', 'to', 'the', 'location', 'of', 'the', 'infarction', 'judged', 'by', 'the', 'electrocardiogram', 'in', '4', 'and', 'probable', 'area', 'of', 'decreased', 'radioactivity', 'in', '2', 'of', 'the', '9', 'case', 'of', 'myocardial', 'infarction', 'the', 'technic', 'a', 'presently', 'employed', 'just', 'approach', 'the', 'limit', 'of', 'definition', 'of', 'infarction', 'in', 'acute', 'case', 'modification', 'of', 'the', 'biochemical', 'principle', 'or', 'further', 'development', 'of', 'the', 'y-camera', 'may', 'bring', 'the', 'method', 'to', 'a', 'level', 'of', 'diagnostic', 'usefulness']\n",
            "['treatment', 'of', 'active', 'chronic', 'hepatitis', 'and', 'lupoid', 'hepatitis', 'with', '6-mercaptopurine', 'and', 'azothioprine', '6-mercaptopurine', 'or', 'azothioprine', \"('imuran')\", 'wa', 'used', 'successfully', 'in', '3', 'patient', 'with', 'active', 'chronic', 'hepatitis', 'and', '2', 'with', 'lupoid', 'hepatitis', 'for', 'period', 'up', 'to', '1', 'year', 'these', 'drug', 'allowed', 'modification', 'and', 'even', 'abolition', 'of', 'discomforting', 'corticosteroid', 'regime', 'their', 'action', 'in', 'chronic', 'hepatitis', 'may', 'be', 'analogous', 'to', 'their', 'anti-immune', 'action', 'in', 'suppressing', 'homograft', 'rejection']\n",
            "['1162', 'electron', 'microscopy', 'of', 'the', 'bovine', 'lung', 'the', 'blood-air', 'barrier', 'in', 'acute', 'pulmonary', 'emphysema', 'electron', 'microscopic', 'study', 'of', 'experimentally', 'induced', 'acute', 'pulmonary', 'emphy-', 'sema', 'in', '2', 'cow', 'yielded', 'the', 'following', 'finding', 'alveolar', 'epithelial', 'edema', 'and', 'cyto-', 'lysis', 'endothelial', \"'thinning'\", 'and', 'cytolysis', 'excessive', 'elastic', 'and', 'collagenous', 'alveo-', 'lar', 'wall', 'fibrosis', 'hyperplasia', 'of', 'alveolar', 'wall', 'smooth', 'muscle', 'numerous', 'intra-', 'alveolar', 'lattice', 'and', 'lamellar', 'body', 'hyaline', 'membrane', 'formation', 'hypertrophied', 'endothelial', 'perikaryons', 'numerous', 'alveolar', 'macrophage', 'and', 'alveolar', 'epithelial', 'secretion', 'of', 'an', 'electron-dense', 'amorphous', 'mass', 'it', 'wa', 'postulated', 'that', 'the', 'lattice', 'and', 'lamellar', 'body', 'were', 'a', 'result', 'of', 'degenerating', 'alveolar', 'epithelial', 'cell']\n",
            "['amyloid', 'starch', 'gel', 'electrophoretic', 'analysis', 'of', 'some', 'protein', 'extracted', 'from', 'amyloid', 'protein', 'extracted', 'by', 'strong', 'urea', 'from', 'washed', 'tissue', 'of', 'patient', 'with', 'amyloidosis', 'secondary', 'to', 'several', 'disease', 'or', 'associated', 'with', 'familial', 'mediterranean', 'fever', 'have', 'common', 'major', 'electrophoretic', 'component', 'in', 'heart', 'of', 'primary', 'amyloidosis', 'one', 'component', 'in', 'common', 'with', 'the', 'secondary', 'amyloid', 'may', 'be', 'present', 'however', 'primary', 'amyloid', 'is', 'much', 'more', 'difficult', 'to', 'dissolve', 'and', 'doe', 'not', 'regularly', 'give', 'the', 'component', 'observed', 'when', 'the', 'secondary', 'amyloid', 'is', 'extracted', 'the', 'big', 'question', 'remains', 'a', 'to', 'what', 'constituent', 'or', 'constituent', 'comprise', 'the', 'fibril', 'now', 'known', 'to', 'be', 'a', 'part', 'of', 'amyloid']\n",
            "['974', 'extracorporeal', 'hypothermia', 'without', 'thoracotomy', 'an', 'ex-', 'perimental', 'study', 'in', 'the', 'use', 'of', 'cold', 'for', 'neurosurgery', 'and', 'cancericidal', 'perfusion', 'this', 'paper', 'includes', 'minor', 'clinical', 'note', 'on', 'open', 'heart', 'surgery', 'and', 'cancer', 'perfusion', 'but', 'contains', 'no', 'experimental', 'information', 'on', 'neurosurgery', 'or', 'cancer', 'perfusion', 'a', 'method', 'of', 'closed-chest', 'hypothermic', 'perfusion', 'in', '30', 'dog', 'is', 'reported', 'the', 'author', 'utilize', 'drainage', 'of', 'superior', 'and', 'inferior', 'cavae', 'by', 'gravity', 'the', 'volume', 'of', 'venous', 'drainage', 'sometimes', 'enhanced', 'by', 'transfusion', 'or', '12', '5%', 'low', 'molecular', 'weight', 'dex-', 'tran', 'determined', 'the', 'flow', 'rate', 'cooling', 'wa', 'maintained', 'for', 'quite', 'variable', 'period', 'apparently', 'generally', 'to', 'an', 'unspecified', 'esophageal', 'temperature', 'perfusion', 'time', 'va-', 'ried', 'from', '30', 'min', 'to', '4', 'hr', 'animal', 'with', 'low', 'flow', 'were', 'perfused', 'longer', 'had', 'a', 'high-', 'er', 'incidence', 'of', 'ventricular', 'fibrillation', 'and', 'a', 'very', 'low', 'survival', 'rate', 'eleven', 'ani-', 'mals', 'survived', 'all', 'had', 'pre-cooling', 'flow', 'rate', 'above', '40', 'ml', 'kg', 'min', 'good', 'flow', 'rate', 'during', 'the', 'perfusion', 'and', 'only', '3', 'had', 'ventricular', 'fibrillation', 'flow', 'rate', 'and', 'survival', 'were', 'increased', 'in', 'animal', 'receiving', 'low', 'molecular', 'weight', 'dextran', 'four-', 'teen', 'of', '15', 'animal', 'with', 'ventricular', 'fibrillation', 'were', 'defibrillated', 'electrically', '8', 're-', 'gained', \"'adequate'\", 'cardiac', 'function', 'but', 'only', '3', 'survived', 'some', 'interesting', 'data', 'on', 'regional', 'cooling', 'of', 'the', 'lower', 'half', 'of', 'the', 'body', 'is', 'presented', 'the', 'author', 'conclude', 'without', 'sufficient', 'evidence', 'that', 'the', 'most', 'important', 'factor', 'in', 'the', 'mortality', 'in', 'hypo-', 'thermic', 'perfusion', 'is', 'the', 'ability', 'to', 'maintain', \"'a\", 'flow', 'rate', 'approaching', 'the', 'estimated', 'normothermic', 'cardiac', 'output', 'of', 'the', \"animal'\"]\n",
            "['the', 'production', 'of', 'malignant', 'tumour', 'by', 'nickel', 'in', 'the', 'rat', 'powdered', 'metallic', 'nickel', 'when', 'injected', 'intramuscularly', 'into', 'rat', 'produced', 'tumour', 'of', 'striated', 'muscle', 'origin', 'most', 'of', 'which', 'were', 'very', 'well', 'differentiated']\n",
            "['measurement', 'of', 'nickel', 'in', 'biological', 'material', 'by', 'atomic', 'absorption', 'spectrometry', 'an', 'atomic', 'absorption', 'procedure', 'ha', 'been', 'developed', 'which', 'facilitates', 'quantitative', 'measurement', 'of', 'nickel', 'in', 'biological', 'material', 'including', 'urine', 'ribonucleic', 'acid', '(rna)', 'and', 'serum', 'protein', 'the', 'sensitivity', 'of', 'detection', 'of', 'nickel', 'by', 'the', 'atomic', 'absorption', 'spectrometer', '(0', '10', 'p', 'p', 'm', ')', 'wa', 'insufficient', 'to', 'permit', 'direct', 'measurement', 'of', 'nickel', 'in', 'normal', 'urine', 'therefore', 'it', 'wa', 'necessary', 'to', 'employ', 'a', 'dimethylglyoxime', 'extraction', 'procedure', 'to', 'concentrate', 'the', 'nickel', 'prior', 'to', 'atomic', 'absorption', 'spectrometry', 'the', 'coefficient', 'of', 'variation', 'of', 'measurement', 'of', 'nickel', 'in', 'urine', 'and', 'human', 'b-', 'globulin', 'were', '6', '3', 'and', '5', '9', 'per', 'cent', 'respectively', 'the', 'recovery', 'of', 'nickel', 'added', 'to', 'urine', 'averaged', '96', 'per', 'cent', 'with', 'a', 'range', 'from', '94', 'to', '97', 'and', 'the', 'recovery', 'of', 'nickel', 'added', 'to', 'human', 'b-globulin', 'averaged', '101', 'per', 'cent', 'with', 'a', 'range', 'from', '96', 'to', '104', 'the', 'mean', 'concentration', 'of', 'nickel', 'in', '24-hr', 'collection', 'of', 'urine', 'from', '17', 'normal', 'subject', 'wa', '1', '8', 'ug', 'per', '100', 'ml', '(s', 'd', '=', '0', '8)', 'with', 'a', 'range', 'from', '0', '4', 'to', '3', '1', 'the', 'mean', 'urinary', 'excretion', 'of', 'nickel', 'wa', '19', '8', 'ug', 'per', '24', 'hr', '(s', 'd', '=', '10', '0)', 'with', 'a', 'range', 'from', '7', '2', 'to', '37', '6', 'the', 'mean', 'concentration', 'of', 'nickel', 'in', '5', 'preparation', 'of', 'ribonucleic', 'acid', 'from', 'ultracentrifugal', 'supernatant', 'of', 'homogenate', 'of', 'rat', 'lung', 'wa', '48', 'ug', 'of', 'ni', 'per', 'gm', 'of', 'rna', 'with', 'a', 'range', 'from', '34', 'to', '64', 'the', 'mean', 'concentration', 'of', 'nickel', 'in', '5', 'preparation', 'of', 'rna', 'from', 'ultracentrifugal', 'supernatant', 'of', 'homogenate', 'of', 'rat', 'liver', 'wa', '29', 'ug', 'of', 'ni', 'per', 'gm', 'of', 'rna', 'with', 'a', 'range', 'from', '21', 'to', '39', 'measurement', 'of', 'nickel', 'were', 'performed', 'upon', 'fraction', 'of', 'human', 'serum', 'protein', 'prepared', 'by', 'continuous-flow', 'electrophoresis', 'and', 'by', 'cold-ethanol', 'precipitation', 'the', 'highest', 'concentration', 'of', 'nickel', 'were', 'found', 'in', 'preparation', 'of', 'serum', 'b-globulins']\n",
            "['5323', 'systemic', 'effect', 'of', 'androgenic', 'and', 'estrogenic', 'hormone', 'in', 'advanced', 'breast', 'cancer', 'the', 'systemic', 'effect', 'of', 'diethylstilbestrol', '(45', 'patients)', 'testosterone', 'propionate', '(48', 'patients)', 'and', 'both', 'hormone', '(22', 'patients)', 'were', 'studied', 'during', 'the', 'treatment', '(six', 'week', 'to', 'over', 'three', 'months)', 'of', 'advanced', 'breast', 'cancer', 'in', 'postmenopausal', 'woman', 'serious', 'complication', 'included', 'induced', 'hypercalcemia', 'and', 'fluid', 're-', 'tention', 'physiologic', 'effect', 'such', 'a', 'urinary', 'incontinence', '(diethylstilbestrol)', 'virilization', '(testosterone)', 'or', 'nausea', 'and', 'vomiting', 'did', 'not', 'necessitate', 'disconti-', 'nuance', 'of', 'treatment', 'androgenic', 'therapy', 'stimulated', 'erythropoiesis', 'observa-', 'tions', 'on', 'the', 'systemic', 'reaction', 'to', 'these', 'hormonal', 'agent', 'definitely', 'contribute', 'to', 'the', 'evaluation', 'of', 'sex', 'steroid', 'therapy']\n",
            "['the', 'course', 'of', 'influenza', 'virus', 'infection', 'in', 'mouse', 'organ', 'tissue', 'of', 'infected', 'mouse', 'tested', 'by', 'electron', 'microscope', 'using', 'the', 'electron', 'microscope', 'the', 'presence', 'of', 'inclusion', 'could', 'be', 'shown', 'in', 'the', 'lung', 'and', 'liver', 'of', 'mouse', 'infected', 'with', 'the', 'pr', '8', 'strain', 'the', 'inclusion', 'contained', 'particle', 'of', 'size', 'and', 'shape', 'closely', 'resembling', 'the', 'most', 'frequently', 'seen', 'form', 'of', 'influenza', 'virus', 'the', 'presence', 'of', 'inclusion', 'in', 'liver', 'tissue', 'might', 'perhaps', 'speak', 'for', 'the', 'possibility', 'of', 'virus', 'multiplication', 'in', 'this', 'organ']\n",
            "['induced', 'tumour', 'resistance', 'in', 'rat', 'the', 'human', 'sarcoma', 'h', 'ha', 'been', 'grown', 'in', 'weanling', 'rat', 'treated', 'with', 'cortisone', 'this', 'growth', 'wa', 'modified', 'by', 'prior', 'injection', 'of', 'various', 'tissue', 'antigen', 'active', 'immunity', 'wa', 'produced', 'by', 'using', 'human', 'placenta', 'or', 'embryonic', 'tissue', 'a', 'antigen', 'and', 'similar', 'result', 'were', 'obtained', 'using', 'suspension', 'of', 'rapidly', 'growing', 'human', 'tumour', 'the', 'response', 'to', 'other', 'human', 'tissue', 'varied', 'foetal', 'muscle', 'and', 'spleen', 'were', 'active', 'whereas', 'adult', 'plasma', 'wa', 'inactive', 'except', 'from', 'some', 'patient', 'with', 'extensive', 'malignant', 'disease', 'passive', 'protection', 'wa', 'produced', 'by', 'using', 'certain', 'human', 'serum', 'at', 'the', 'time', 'of', 'challenging', 'with', 'h', 'serum', 'from', 'five', 'woman', 'who', 'aborted', 'showed', 'this', 'characteristic', 'where', 'the', 'pregnancy', 'continued', 'to', 'term', 'antisubstances', 'were', 'not', 'found', 'and', 'they', 'were', 'present', 'in', 'the', 'puerperium', 'in', 'only', 'two', 'out', 'of', 'fifty', 'case', 'further', 'group', 'of', 'rat', 'were', 'given', 'rat', 'embryonic', 'tissue', 'a', 'antigen', 'and', 'the', 'tumour', 'challenge', 'wa', 'then', 'made', 'with', 'walker', 'tumour', 'the', 'result', 'were', 'variable', 'with', 'a', 'benzpyrene-induced', 'tumour', 'in', 'a', 'pure', 'line', 'of', 'wag', 'rat', 'the', 'effect', 'wa', 'not', 'obtained', 'except', 'in', 'isolated', 'case', 'in', 'experiment', 'in', 'mouse', 'using', 'a', 'challenge', 'an', 'irondextran', 'induced', 'mouse', 'sarcoma', 'prior', 'injection', 'with', 'embryonic', 'mouse', 'liver', 'or', 'placenta', 'increased', 'the', 'resistance', 'to', 'the', 'growth', 'of', 'the', 'tumour', 'but', 'the', 'tumour', 'ha', 'not', 'a', 'yet', 'been', 'produced', 'in', 'a', 'pure-line', 'mouse', 'on', 'the', 'other', 'hand', 'mouse', 'experiment', 'using', 'a', 'challenge', 'the', 'crocker', 'tumour', 'proved', 'negative', 'it', 'is', 'suggested', 'that', 'immune', 'reaction', 'may', 'play', 'a', 'part', 'in', 'causing', 'some', 'abortion']\n",
            "['the', 'pathogenesis', 'of', 'viral', 'influenzal', 'pneumonia', 'in', 'mouse', 'the', 'pathogenesis', 'of', 'influenzal', 'pneumonia', 'in', 'mouse', 'wa', 'studied', 'by', 'electron', 'microscopy', 'mouse', 'were', 'inoculated', 'with', '1', '5', 'ld', 'of', 'pr8', 'influenza', 'virus', 'and', 'killed', 'at', 'varying', 'interval', 'after', 'inoculation', 'observation', 'by', 'light', 'microscopy', 'were', 'correlated', 'with', 'those', 'by', 'electron', 'microscopy', 'in', 'order', 'to', 'evaluate', 'the', 'lesion', 'produced', 'at', 'the', 'periphery', 'the', 'earliest', 'lesion', 'were', 'focal', 'area', 'of', 'edema', 'of', 'alveolar', 'lining', 'cell', 'the', 'capillary', 'endothelium', 'and', 'the', 'interposed', 'basement', 'membrane', 'this', 'caused', 'an', 'appreciable', 'thickening', 'of', 'the', 'blood-air', 'pathway', 'hypertrophy', 'degeneration', 'and', 'desquamation', 'of', 'the', 'alveolar', 'lining', 'and', 'proliferation', 'of', 'alveolar', 'macrophage', 'resulted', 'in', 'complete', 'consolidation', 'which', 'wa', 'progressive', 'up', 'to', '1', 'week', 'after', 'infection', 'the', 'central', 'area', 'of', 'the', 'lung', 'were', 'affected', 'somewhat', 'differently', 'at', '3', 'day', 'after', 'infection', 'the', 'nonciliated', 'bronchiolar', 'cell', 'showed', 'considerable', 'hyperplasia', 'of', 'endoplasmic', 'reticulum', 'and', 'apical', 'cytoplasmic', 'edema', 'viral', 'particle', 'matured', 'at', 'the', 'lumen', 'surface', 'of', 'these', 'cell', 'and', 'were', 'then', 'released', 'into', 'the', 'bronchiolar', 'lumen', 'the', 'bronchiolar', 'cell', 'both', 'ciliated', 'and', 'nonciliated', 'underwent', 'degeneration', 'and', 'sloughed', 'into', 'the', 'bronchiolar', 'lumen', 'the', 'regenerating', 'epithelium', 'wa', 'stratified', 'and', 'the', 'surface', 'cell', 'were', 'elongated', 'and', 'flattened', 'the', 'peribronchiolar', 'interstitial', 'tissue', 'gradually', 'became', 'totally', 'infiltrated', 'by', 'cell', 'mostly', 'of', 'the', 'mononuclear', 'type']\n",
            "['psychology', 'of', \"children's\", 'dental', 'treatment', 'the', 'communication', 'deal', 'with', 'influence', 'involved', 'in', 'the', 'development', 'of', 'the', \"child's\", 'attitude', 'to', 'dental', 'treatment', 'they', 'are', 'extrinsic', '(educational', 'etc', ')', 'and', 'intrinsic', '(constitutional', 'and', 'hereditary)', 'their', 'understanding', 'help', 'to', 'determine', 'the', 'correct', 'psychological', 'policy', 'for', 'the', 'management', 'of', 'the', 'child', 'in', 'the', 'surgery', 'the', 'aim', 'of', 'psychology', 'applied', 'in', 'dentistry', 'is', 'to', 'discover', 'a', 'mode', 'of', 'treatment', 'procedure', 'which', 'would', 'ensure', 'that', 'the', 'child', 'will', 'not', 'be', 'subject', 'to', 'any', 'psychic', 'traumatization', '(psychophylaxis)', 'it', 'second', 'aim', 'is', 'the', 'management', 'of', 'the', 'so', 'called', 'difficult', 'child', 'and', 'his', 'treatment', 'to', 'understand', 'better', 'the', \"child's\", 'frame', 'of', 'mind', 'during', 'dental', 'treatment', 'the', 'situation', 'in', 'the', 'surgery', 'is', 'dealt', 'with', 'step', 'by', 'step', 'a', 'the', 'child', 'experience', 'it', 'through', 'his', 'sens', 'and', 'his', 'psyche', 'beside', 'the', 'basic', 'sens', '-dash', 'hearing', 'and', 'seeing', '-dash', 'others', 'are', 'also', 'affected', 'touch', '(pressure', 'sensation)', 'smell', 'and', 'taste', 'child', 'during', 'dental', 'treatment', 'are', 'nearly', 'always', 'in', 'a', 'state', 'of', 'raised', 'emotional', 'tension', 'and', 'are', 'susceptible', 'to', 'anxiety', 'reaction', 'according', 'to', 'the', 'degree', 'of', 'fear', 'which', 'they', 'manifest', 'child', 'may', 'be', 'classed', 'into', 'category', 'of', 'cooperating', 'and', 'difficult', 'patient', 'the', 'psychological', 'procedure', 'for', 'the', 'treatment', 'of', 'child', 'of', 'both', 'group', 'is', 'based', 'on', 'the', 'principle', 'summarized', 'in', 'the', 'section', \"'psychophylaxis\", 'in', \"dentistry'\", 'in', 'difficult', 'child', 'it', 'is', 'often', 'necessary', 'to', 'employ', 'yet', 'other', 'psychological', 'measures-psychotherapy', 'suggestion', 'etc', 'in', 'extremely', 'exacting', 'case', 'premedication', 'help', 'sometimes', 'to', 'find', 'contact', 'with', 'the', 'child', 'the', 'experimental', 'part', 'of', 'the', 'work', 'demonstrates', 'the', 'following', 'finding', '1', 'dental', 'treatment', 'consists', 'of', 'a', 'series', 'of', 'interdependent', 'traumatizing', 'impulse', 'many', 'of', 'them', 'appear', 'only', 'after', 'a', 'close', 'analysis', 'of', 'the', 'situation', '2', 'the', 'adverse', 'response', 'similar', 'to', 'that', 'elicited', 'by', 'pain', 'may', 'be', 'due', 'also', 'to', 'sensory', 'impression', 'with', 'a', 'negative', 'emotional', 'background', '3', 'psychic', 'traumatization', 'of', 'the', 'child', 'during', 'dental', 'treatment', 'can', 'be', 'prevented', 'by', 'relatively', 'simple', 'psychological', 'measure']\n",
            "['mental', 'retardation', 'related', 'to', 'hypercalcaemia', 'for', 'more', 'than', '20', 'year', 'a', 'number', 'of', 'retarded', 'child', 'and', 'adolescent', 'have', 'been', 'observed', 'who', 'show', 'point', 'of', 'striking', 'similarity', 'we', 'recognise', 'in', 'them', 'a', 'well-defined', 'type', 'that', 'is', 'clearly', 'distinguishable', 'from', 'other', 'form', 'of', 'mental', 'deficiency', 'they', 'are', 'therefore', 'described', 'in', 'detail', 'some', 'of', 'the', 'child', 'have', 'had', 'infantile', 'hypercalcaemia', 'but', 'it', 'is', 'assumed', 'that', 'other', 'aetiological', 'factor', 'are', 'also', 'involved', 'there', 'is', 'a', 'characteristic', 'facies', 'and', 'usually', 'congenital', 'heart', 'disease', 'ordination', 'is', 'poor', 'there', 'is', 'a', 'constant', 'failure', 'to', 'thrive', 'in', 'infancy', 'with', 'episode', 'of', 'vomiting', 'often', 'with', 'constipation', 'mentally', 'the', 'child', 'also', 'show', 'great', 'similarity', 'their', 'iq', 'is', 'about', '40-50', 'but', 'they', 'show', 'outstanding', 'loquacity', 'and', 'a', 'great', 'ability', 'to', 'establish', 'interper-', 'sonal', 'contact', 'this', 'stand', 'against', 'a', 'background', 'of', 'insecurity', 'and', 'anxiety']\n",
            "['comparative', 'study', 'of', 'the', 'glycogen', 'content', 'of', 'heart', 'liver', 'and', 'brain', 'before', 'and', 'after', 'iodine', 'treatment', 'and', 'under', 'condition', 'of', 'asphyxia', 'blood', 'sugar', 'level', 'and', 'glycogen', 'concentration', 'in', 'the', 'heart', 'brain', 'and', 'liver', 'of', 'rabbit', 'after', 'treatment', 'with', 'inorganic', 'iodine', 'depot', 'insulin', 'iodine', 'and', 'insulin', 'combined', 'hostacortine', 'and', 'hostacortine', 'and', 'iodine', 'combined', 'are', 'being', 'examined', 'a', 'control', 'group', 'remains', 'untreated', 'in', 'a', 'second', 'test', 'series', 'the', 'glycogen', 'determination', 'under', 'asphyxia', '(the', 'trachea', 'is', 'being', 'pinched', 'off', 'for', 'three', 'minutes)', 'is', 'repeated', 'contrary', 'to', 'the', 'brain', 'the', 'glycogen', 'content', 'of', 'the', 'heart', 'muscle', 'is', 'not', 'dependent', 'upon', 'the', 'blood', 'sugar', 'level', 'after', 'iodine', 'treatment', 'a', 'lowering', 'of', 'the', 'blood', 'sugar', 'becomes', 'noticeable', 'but', 'also', 'an', 'increase', 'in', 'heart', 'glycogen', 'the', 'liver', 'glycogen', 'show', 'greater', 'variation', 'the', 'level', 'achieved', 'in', 'these', 'test', 'series', 'therefore', 'show', 'no', 'significant', 'difference', 'during', 'asphyxia', 'there', 'is', 'a', 'significant', 'lowering', 'of', 'glycogen', 'in', 'all', 'three', 'organ', 'preliminary', 'treatment', 'with', 'iodine', 'succeeds', 'in', 'stopping', 'the', 'lowering', 'of', 'glycogen', 'in', 'the', 'heart', 'muscle', 'and', 'the', 'brain', 'the', 'possible', 'cause', 'for', 'this', 'phenomenon', 'are', 'being', 'discussed']\n",
            "['change', 'in', \"children's\", 'behavior', 'after', 'hospitalization', 'some', 'dimension', 'of', 'response', 'and', 'their', 'correlate', 'change', 'in', '387', \"children's\", 'behavior', 'following', 'hospitalization', 'were', 'evaluated', 'by', 'mean', 'of', 'a', 'questionnaire', 'sent', 'to', 'parent', 'a', 'week', 'after', 'discharge', 'factor', 'analysis', 'revealed', 'that', \"children's\", 'response', 'to', 'hospitalization', 'and', 'illness', 'were', 'of', 'six', 'type', '(i)', 'general', 'anxiety', 'and', 'regression', '(ii)', 'separation', 'anxiety', '(iii)', 'anxiety', 'about', 'sleep', '(iv)', 'eating', 'disturbance', '(v)', 'aggression', 'toward', 'authority', 'and', '(vi)', 'apathy-withdrawal', 'score', 'for', 'these', 'six', 'factor', '(types', 'of', 'responses)', 'a', 'well', 'a', 'a', 'total', 'score', 'were', 'analyzed', 'by', 'univariate', 'and', 'in', 'most', 'case', 'multivariate', 'analysis', 'of', 'variance', 'four', 'variable', '-dash', 'sex', 'prior', 'hospitalization', 'degree', 'of', 'pain', 'experienced', 'during', 'hospitalization', 'and', 'birth', 'order', '-dash', 'were', 'essentially', 'unrelated', 'to', 'any', 'type', 'of', 'response', 'by', 'any', 'analysis', 'age', 'duration', 'of', 'hospitalization', 'and', 'occupational', 'status', 'were', 'each', 'significantly', 'related', 'to', 'one', 'or', 'more', 'type', 'of', 'response', 'comparison', 'of', 'the', 'mean', 'factor', 'and', 'total', 'score', 'for', 'the', 'full', 'sample', 'with', 'the', 'level', 'indicative', 'of', 'no', 'overall', 'change', 'indicated', 'that', 'the', 'combination', 'of', 'illness', 'and', 'hospitalization', 'is', 'a', 'psychologically', 'upsetting', 'experience', 'for', 'child', 'in', 'general', 'resulting', 'in', 'increased', 'separation', 'anxiety', 'increased', 'sleep', 'anxiety', 'and', 'increased', 'aggression', 'toward', 'authority']\n",
            "['isozymes', 'of', 'lactic', 'dehydrogenase', 'sequential', 'alteration', 'during', 'development', 'application', 'of', 'isozymes', 'in', 'various', 'biological', 'context', 'have', 'been', 'reviewed', 'diagnosis', 'of', 'several', 'disease', 'state', 'ha', 'been', 'facilitated', 'by', 'examination', 'of', 'the', 'serum', 'isozyme', 'pattern', 'which', 'ha', 'been', 'shown', 'to', 'correlate', 'in', 'some', 'condition', 'with', 'the', 'isozyme', 'pattern', 'of', 'pathologically', 'involved', 'tissue', 'physico-chemical', 'study', 'of', 'human', 'ldh', 'isozymes', 'have', 'revealed', 'difference', 'among', 'isozymes', 'in', 'affinity', 'for', 'a', 'given', 'substrate', 'comparative', 'study', 'of', 'ldh', 'isozymes', 'within', 'the', 'erythrocyte', 'from', 'various', 'vertebrate', 'specie', 'demonstrated', 'a', 'marked', 'specie', 'variation', 'in', 'the', 'number', 'of', 'ldh', 'isozymes', 'in', 'the', 'distribution', 'of', 'total', 'ldh', 'activity', 'among', 'them', 'and', 'in', 'their', 'electrophoretic', 'mobility', 'during', 'development', 'of', 'chick', 'rabbit', 'and', 'human', 'tissue', 'characteristic', 'sequential', 'alteration', 'in', 'the', 'ldh', 'isozyme', 'pattern', 'occurred', 'and', 'consisted', 'for', 'liver', 'and', 'muscle', 'in', 'loss', 'of', 'the', 'most', 'rapidly', 'migrating', 'anodal', 'band', 'and', 'increased', 'activity', 'in', 'the', 'cathodal', 'band', 'and', 'slower', 'migrating', 'anodal', 'band', 'in', 'heart', 'the', 'reverse', 'change', 'were', 'observed', 'if', 'high', 'enough', 'ldh', 'activity', 'of', 'early', 'fetal', 'tissue', 'extract', 'were', 'applied', 'to', 'the', 'gel', 'the', 'full', 'complement', 'of', 'ldh', 'isozymes', 'wa', 'observed', 'however', 'in', 'lower', 'concentration', 'the', 'cathodal', 'band', 'which', 'in', 'the', 'starch', 'gel', 'disappear', 'more', 'rapidly', 'on', 'dilution', 'than', 'do', 'the', 'anodal', 'band', 'were', 'not', 'observed', 'a', 'species-specific', 'isozyme', 'pattern', 'is', 'obtained', 'in', 'long', 'term', 'culture', 'of', 'rabbit', 'chick', 'and', 'human', 'cell', 'independently', 'of', 'the', 'tissue', 'of', 'origin', 'there', 'occurs', 'in', 'cell', 'in', 'culture', 'a', 'sequential', 'series', 'of', 'isozyme', 'alteration', 'characterized', 'by', 'decreased', 'intensity', 'of', 'rapidly', 'migrating', 'anodal', 'band', 'the', 'shift', 'toward', 'prominence', 'of', 'cathodal', 'isozymes', 'during', 'both', 'fetal', 'development', 'and', 'tissue', 'culture', 'can', 'be', 'explained', 'by', 'postulating', 'the', 'increased', 'activity', 'of', 'the', 'gene', 'producing', 'one', 'of', 'the', 'subunit', 'of', 'ldh', 'with', 'a', 'concomitant', 'decrease', 'in', 'the', 'activity', 'of', 'the', 'gene', 'producing', 'the', 'second', 'subunit', 'practical', 'application', 'of', 'the', 'study', 'of', 'isozymes', 'in', 'tissue', 'culture', 'were', 'discussed']\n",
            "['cesium-131', 'uptake', 'and', 'distribution', 'in', 'the', 'human', 'heart', 'an', 'analysis', 'of', 'cardiac', 'scan', 'in', '104', 'patient', 'when', 'properly', 'used', 'cesium-131', 'is', 'a', 'satisfactory', 'agent', 'for', 'the', 'study', 'of', 'cardiac', 'morphology', 'by', 'photoscanning', 'which', 'we', 'believe', 'is', 'a', 'useful', 'adjunctive', 'diagnostic', 'procedure', 'in', 'patient', 'for', 'whom', 'the', 'result', 'of', 'other', 'method', 'of', 'evaluation', 'are', 'at', 'variance', 'with', 'the', 'clinical', 'symptom', 'of', 'cardiac', 'disease', 'the', 'study', 'reported', 'here', 'suggest', 'that', 'perhaps', 'infarction', 'of', 'a', 'subclinical', 'type', 'size', 'or', 'location', 'may', 'occur', 'earlier', 'than', 'ha', 'been', 'previously', 'thought', 'and', 'that', 'the', 'damage', 'it', 'leaf', 'may', 'not', 'be', 'detectable', 'by', 'any', 'mean', 'other', 'than', 'autopsy', 'or', 'a', 'technique', 'such', 'a', 'scanning', 'we', 'have', 'not', 'yet', 'been', 'able', 'to', 'measure', 'the', 'actual', 'concentration', 'of', 'cesium-131', 'in', 'the', 'heart', 'at', 'autopsy', 'so', 'that', 'the', 'cold', 'and', 'cool', 'area', 'could', 'be', 'examined', 'by', 'histologic', 'section']\n",
            "['oxygen', 'consumption', 'of', 'paralysed', 'men', 'exposed', 'to', 'cold', '1', 'oxygen', 'consumption', 'and', 'carbon', 'dioxide', 'output', 'were', 'measured', 'when', 'human', 'subject', 'were', 'cooled', 'for', '80-210', 'min', 'two', 'subject', 'were', 'normal', 'one', 'had', 'been', 'almost', 'completely', 'paralysed', 'below', 'the', 'neck', 'by', 'poliomyelitis', 'and', 'two', 'were', 'unconscious', 'a', 'a', 'result', 'of', 'intracranial', 'damage', 'and', 'were', 'observed', 'with', 'and', 'without', 'paralysing', 'dos', 'of', 'muscle', 'relaxant', '(d-tubocurarine', 'and', 'gallamine)', '2', 'when', 'normal', 'subject', 'and', 'unconscious', 'subject', 'receiving', 'no', 'drug', 'were', 'cooled', 'oxygen', 'consumption', 'and', 'carbon', 'dioxide', 'output', 'rose', '3', 'when', 'subject', 'paralysed', 'by', 'disease', 'or', 'drug', 'were', 'cooled', 'oxygen', 'consumption', 'and', 'carbon', 'dioxide', 'output', 'were', 'not', 'increased', '4', 'these', 'observation', 'are', 'consistent', 'with', 'the', 'view', 'that', 'in', 'man', 'the', 'increase', 'in', 'metabolism', 'on', 'cooling', 'for', 'period', 'up', 'to', '31', '2', 'hr', 'occurs', 'solely', 'in', 'skeletal', 'muscle']\n",
            "['3724', 'the', 'bacterial', 'induction', 'of', 'homograft', 'sensitivity', 'ii', 'effect', 'of', 'sensitization', 'with', 'staphylococci', 'and', 'other', 'microorganism', 'heat-killed', 'strain', 'of', 'staph', 'aureus', 'and', 'staph', 'albus', 'can', 'induce', 'in', 'guinea', 'pig', 'a', 'state', 'of', 'altered', 'reactivity', 'to', 'skin', 'homograft', 'which', 'is', 'indistinguishable', 'from', 'that', 'which', 'result', 'from', 'sensitization', 'with', 'homologous', 'tissue', 'or', 'group', 'a', 'streptococci', 'challenge', 'of', 'suitably', 'prepared', 'recipient', 'with', '1st-set', 'skin', 'homograft', 'obtained', 'from', 'unrelated', 'randomly', 'selected', 'donor', 'elicits', 'white', 'graft', 'reaction', 'or', 'accelera-', 'ted', 'rejection', 'of', 'such', 'graft', 'other', 'bacteria', 'tested', 'included', 'lancefield', 'streptococcal', 'group', 'b', 'c', 'd', 'e', 'g', 'h', 'l', 'and', 'o', 'pneumococcus', 'type', 'ii', 'iii', 'xiv', 'and', 'a', 'rough', 'strain', 'c', 'xerosis', 'b', 'subtilis', 'e', 'coli', 'a', 'aerogenes', 's', 'typhimurium', 'pr', 'vul-', 'gari', 'n', 'catarrhalis', 'h', 'influenzae', 'and', '2', 'human', 'virulent', 'strain', 'of', 'myc', 'tuber-', 'culosis', 'none', 'of', 'these', 'microorganism', 'wa', 'active', 'in', 'the', 'induction', 'of', 'homograft', 'sensitivity', 'in', 'the', 'guinea', 'pig', 'pretreatment', 'of', 'recipient', 'with', 'gram-negative', 'bac-', 'terial', 'suspension', 'wa', 'associated', 'with', 'a', 'slight', 'increase', 'in', 'the', 'mean', 'survival', 'time', 'of', '1st-set', 'skin', 'homograft', 'result', 'of', 'this', 'study', 'suggest', 'the', 'presence', 'in', 'staphylo-', 'cocci', 'a', 'well', 'a', 'in', 'group', 'a', 'streptococci', 'of', 'antigen', 'related', 'in', 'their', 'biologic', 'ef-', 'fects', 'to', 'tissue', 'transplantation', 'antigen']\n",
            "['study', 'in', 'sickle', 'cell', 'anemia', 'xxi', 'clinico-pathological', 'aspect', 'of', 'neurological', 'manifestation', 'neurologic', 'manifestation', 'are', 'frequent', 'in', 'patient', 'who', 'have', 'sickle', 'cell', 'disease', 'these', 'manifestation', 'may', 'be', 'the', 'earliest', 'presenting', 'sign', 'and', 'symptom', 'and', 'they', 'are', 'so', 'variable', 'that', 'the', 'patient', 'may', 'be', 'erroneously', 'diagnosed', 'a', 'having', 'condition', 'such', 'a', 'meningitis', 'poliomyelitis', 'subdural', 'hematoma', 'neoplasm', 'subarachnoid', 'hemorrhage', 'lead', 'encephalitis', 'subacute', 'bacterial', 'endocarditis', 'and', 'congenital', 'malformation', 'of', 'the', 'brain', 'furthermore', 'development', 'of', 'these', 'manifestation', 'cannot', 'be', 'predicted', 'on', 'the', 'basis', 'of', 'the', 'type', 'of', 'crisis', 'involved', 'prognosis', 'following', 'neurological', 'involvement', 'is', 'unpredictable', 'but', 'recurrent', 'episode', 'together', 'with', 'abnormal', 'electroencephalographic', 'reading', 'suggest', 'a', 'poor', 'outcome', 'such', 'patient', 'die', 'or', 'are', 'the', 'victim', 'of', 'rather', 'severe', 'neurological', 'deficit', 'neurological', 'examination', 'of', 'these', 'patient', 'suggests', 'diffuse', 'involvement', 'of', 'the', 'cerebral', 'hemisphere', 'examination', 'of', 'the', 'pathological', 'material', 'however', 'often', 'fails', 'to', 'reveal', 'thromboses', 'the', 'striking', 'finding', 'are', 'infarct', 'in', 'the', 'white', 'matter', 'and', 'perivascular', 'hemorrhage', 'the', 'thesis', 'that', 'the', 'abnormal', 'neurological', 'finding', 'in', 'these', 'patient', 'are', 'actually', 'due', 'to', 'sickle', 'cell', 'disease', 'is', 'supported', 'by', 'the', 'fact', 'that', 'all', 'such', 'symptom', 'appear', 'in', 'association', 'with', 'clinical', 'circumstance', 'known', 'to', 'induce', 'sickling', 'these', 'include', 'surgery', 'and', 'anesthesia', 'fever', 'and', 'infection']\n",
            "['189', 'influence', 'of', 'age', 'sex', 'and', 'glandular', 'extirpation', 'on', 'muscle', 'carcinogenesis', 'in', 'rat', 'the', 'carcinogenic', 'effect', 'of', 'a', 'single', 'intramuscular', 'injection', 'of', 'nickel', 'sulphide', 'in', 'an', 'aqueous', 'suspension', 'to', 'which', 'penicillin', 'g', 'had', 'been', 'added', 'wa', 'compared', 'in', 'male', 'and', 'female', 'castrated', 'hypophysectomized', 'or', 'intact', 'rat', 'of', 'different', 'age', 'the', 'response', 'seemed', 'most', 'marked', 'in', 'intact', 'female', 'injected', 'when', '2', 'mth', 'old', 'castrated', 'or', 'hypophysectomized', '2-month', 'old', 'female', 'were', 'le', 'responsive', 'one-month', 'old', 'intact', 'male', 'were', 'more', 'responsive', 'than', '2-month', 'or', '3-month', 'old', 'intact', 'male', '1-month', 'old', 'castrated', 'male', 'or', '1-month', 'old', 'intact', 'female', 'more', 'data', 'would', 'be', 'required', 'before', 'firm', 'conclusion', 'could', 'be', 'drawn', 'from', 'these', 'result']\n",
            "['central', 'nervous', 'system', 'manifestation', 'of', 'periarteritis', 'nodosa', 'in', 'the', '114', 'case', 'of', 'pathologically', 'proved', 'periarteritis', 'nodosa', 'reviewed', '53', 'patient', '(46', 'percent)', 'had', 'symptom', 'and', 'sign', 'of', 'central', 'nervous', 'system', 'or', 'cranial', 'nerve', 'involvement', 'thirty-nine', 'patient', 'had', 'both', 'cerebral', 'manifestation', 'and', 'neuropathy', '38', 'had', 'neuropathy', 'alone', 'and', '14', 'had', 'only', 'cerebral', 'symptom', 'and', 'sign', 'the', 'most', 'common', 'cerebral', 'manifestation', 'wa', 'that', 'of', 'mental', 'derangement', 'usually', 'an', 'organic', 'psychosis', 'or', 'confusional', 'state', 'headache', 'convulsion', 'blurred', 'vision', 'vertigo', 'and', 'sudden', 'unilateral', 'visual', 'loss', 'were', 'the', 'most', 'common', 'symptom', 'referable', 'to', 'the', 'central', 'nervous', 'system', 'the', 'most', 'common', 'abnormality', 'on', 'examination', 'were', 'retinopathy', 'hemiparesis', 'and', 'sign', 'of', 'a', 'brainstem', 'lesion', 'there', 'wa', 'no', 'difference', 'in', 'duration', 'of', 'life', 'after', 'onset', 'of', 'disease', 'in', 'those', 'with', 'and', 'those', 'without', 'central', 'nervous', 'system', 'involvement']\n",
            "['the', \"ophthalmologist's\", 'role', 'in', 'the', 'management', 'of', 'dyslexia', 'dyslexia', 'is', 'a', 'clinical', 'entity', 'characterized', 'by', 'subnormal', 'reading', 'ability', 'in', 'a', 'person', 'of', 'average', 'or', 'above', 'average', 'intelligence', 'it', 'is', 'a', 'disease', 'which', 'ha', 'different', 'cause', 'in', 'different', 'child', 'the', 'cause', 'include', 'brain', 'damage', 'in', 'the', 'language', 'area', 'hereditary', 'predisposition', 'and', 'such', 'ophthalmic', 'factor', 'a', 'hyperopia', 'muscle', 'imbalance', 'aniseikonia', 'or', 'visual', 'immaturity', 'emotional', 'disturbance', 'educational', 'immaturity', 'and', 'cerebral', 'dominance', 'may', 'also', 'play', 'some', 'role', 'in', 'the', 'etiology', 'of', 'this', 'condition', 'the', 'universal', 'symptom', 'is', 'poor', 'reading', 'ability', 'however', 'these', 'case', 'frequently', 'have', 'other', 'associated', 'symptom', 'such', 'a', 'poor', 'writing', 'difficulty', 'in', 'reading', 'and', 'writing', 'number', 'inability', 'to', 'read', 'or', 'write', 'musical', 'note', 'and', 'disorientation', 'for', 'left', 'and', 'right', 'many', 'of', 'these', 'patient', 'develop', 'personality', 'maladjustment', 'visual', 'field', 'often', 'reveal', 'a', 'hemianopia', 'in', 'any', 'group', 'of', 'poor', 'reader', 'a', 'large', 'percentage', 'will', 'have', 'ocular', 'neurologic', 'psychiatric', 'or', 'psychologic', 'abnormality', 'and', 'or', 'a', 'strong', 'hereditary', 'tendency', 'the', 'degree', 'to', 'which', 'reading', 'can', 'be', 'learned', 'depends', 'upon', 'the', 'ability', 'of', 'the', 'individual', 'to', 'adjust', 'to', 'the', 'psycho-physiologic', 'need', 'that', 'are', 'present', 'at', 'the', 'time', 'he', 'reach', 'reading', 'age', 'in', 'school', 'if', 'compensating', 'ability', 'are', 'present', 'and', 'if', 'the', \"child's\", 'reaction', 'is', 'a', 'favorable', 'one', 'he', 'may', 'read', 'well', 'in', 'spite', 'of', 'unfavorable', 'factor', 'if', 'not', 'he', 'may', 'become', 'a', 'poor', 'reader', 'these', 'child', 'should', 'be', 'recognized', 'in', 'their', 'first', 'year', 'of', 'school', 'a', 'complete', 'medical', 'work-up', 'should', 'be', 'managed', 'by', 'an', 'ophthalmologist', 'a', 'complete', 'ophthalmic', 'examination', 'should', 'first', 'be', 'performed', 'and', 'all', 'possible', 'visual', 'anomaly', 'should', 'be', 'corrected', 'the', 'ophthalmologist', 'may', 'want', 'a', 'psychometric', 'evaluation', 'a', 'neurologic', 'opinion', 'to', 'determine', 'the', 'role', 'of', 'organic', 'brain', 'damage', 'psychiatric', 'consultation', 'for', 'evaluation', 'of', 'emotional', 'disturbance', 'pediatric', 'consultation', 'for', 'evaluation', 'of', 'the', 'status', 'of', 'the', 'general', 'health', 'and', 'or', 'consultation', 'by', 'an', 'otolaryngologist', 'to', 'determine', 'the', \"patient's\", 'hearing', 'ability', 'with', 'all', 'the', 'necessary', 'information', 'at', 'hand', 'the', 'ophthalmologist', 'will', 'be', 'able', 'to', 'recommend', 'corrective', 'medical', 'therapy', 'and', 'to', 'advise', 'the', 'parent', 'and', 'teacher', 'about', 'available', 'remedial', 'reading', 'aid', 'the', 'prognosis', 'is', 'good', 'for', 'most', 'patient', 'since', 'they', 'are', 'of', 'average', 'or', 'above', 'average', 'intelligence', 'nearly', 'all', 'case', 'can', 'be', 'helped']\n",
            "['2496', 'dysbarism', 'among', 'hyperbaric', 'personnel', 'a', 'survey', 'of', 'the', 'effect', 'of', 'hyperbaric', 'exposure', 'on', '62', 'medical', 'personnel', 'exposed', 'to', '1', '516', 'compression', 'and', 'decompression', 'revealed', 'no', 'case', 'of', 'permanent', 'ill', 'effect', 'pain', 'in', 'the', 'ear', 'or', 'sinus', 'wa', 'the', 'most', 'common', 'symptom', 'but', 'could', 'often', 'be', 'ameliorated', 'or', 'avoided', 'by', 'the', 'valsalva', 'technique', 'of', 'forced', 'insufflation', 'with', 'the', 'nostril', 'occluded', 'the', 'most', 'serious', 'symptom', 'encountered', 'were', '3', 'episode', 'of', 'transient', 'homonymous', 'hemianopsia', 'the', 'classic', 'symptom', 'of', 'decompression', 'sickness', 'extremity', 'pain', '(the', \"'bends')\", 'pulmonary', 'or', 'substernal', 'distress', '(the', \"'chokes')\", 'and', 'skin', 'dysesthesias', 'occurred', 'only', 'rarely', 'and', 'were', 'so', 'mild', 'or', 'so', 'fleeting', 'a', 'to', 'require', 'no', 'treatment', 'a', 'further', 'reduction', 'in', 'symptom', 'without', 'increase', 'in', 'decompression', 'time', 'may', 'be', 'obtained', 'by', 'the', 'inhalation', 'of', '100%', 'oxygen', 'during', 'decompression', 'stop', 'at', 'pressure', 'below', '26', '8', 'pound', 'per', 'square', 'inch', 'gauge', '(psig)']\n",
            "['2469', 'the', 'nature', 'of', 'collagen', 'disease', 'particularly', 'of', 'systemic', 'lupus', 'erythematosus', '(sle)', 'with', 'special', 'reference', 'to', 'renal', 'lesion', '(japanese)', 'from', 'the', 'result', 'of', 'examination', 'of', '161', 'autopsy', 'case', 'of', 'collagen', 'disease', 'rheumatic', 'fever', 'and', 'polyarteritis', 'nodosa', '(pn)', 'are', 'considered', 'a', 'disease', 'of', 'hyperergic', 'nature', 'showing', 'pronounced', 'specific', 'manifestation', 'in', 'particular', 'organ', 'a', 'the', 'reactivity', 'becomes', 'lower', 'this', 'specific', 'localization', 'becomes', 'le', 'significant', 'and', 'many', 'organ', 'become', 'affected', 'in', 'sle', 'it', 'may', 'accordingly', 'be', 'supposed', 'that', 'sle', 'is', 'not', 'a', 'disease', 'of', 'hypersensitivity', 'but', 'one', 'occurring', 'in', 'a', 'state', 'of', 'exhaustion', 'of', 'reactability', 'after', 'prolonged', 'sensitization', 'moreover', 'a', 'sle-like', 'syndrome', 'arises', 'not', 'only', 'in', 'the', 'end', 'stage', 'of', 'parasepsis', 'nephritis', 'nephrosis', 'and', 'some', 'case', 'of', 'prolonged', 'sensitization', 'by', 'myco', 'tb', 'but', 'also', 'in', 'pn', 'ps', 'dm', 'and', 'rheumatism', 'it', 'may', 'therefore', 'be', 'conceivable', 'that', 'sle', 'is', 'a', 'syndrome', 'rather', 'than', 'a', 'separate', 'entity', 'it', 'is', 'most', 'important', 'to', 'consider', 'whether', 'sle-like', 'symptomatology', 'may', 'be', 'regarded', 'a', 'a', 'process', 'equal', 'to', 'an', 'auto-immunization', 'and', 'whether', 'the', 'key', 'to', 'morphological', 'elucidation', 'of', 'the', 'auto-immune', 'phenomenon', 'may', 'lie', 'hidden', 'in', 'this', 'problem']\n",
            "['198', 'early', 'experience', 'with', 'azathioprine', 'in', 'ulcerative', 'colitis', 'a', 'note', 'of', 'caution', 'azathioprine', 'wa', 'administered', 'to', '10', 'patient', 'with', 'ulcerative', 'colitis', 'classified', 'a', \"'very\", \"severe'\", 'in', '2', \"'moderately\", \"severe'\", 'in', '7', 'and', \"'relatively\", \"mild'\", 'in', '1', 'patient', 'in', 'conjunction', 'with', \"'standard'\", 'therapy', 'and', 'adrenal', 'corticosteroid', 'in', '8', 'of', 'the', '10', 'patient', 'the', 'possible', 'beneficial', 'therapeutic', 'effect', 'of', 'azathioprine', 'in', 'this', 'small', 'series', 'cannot', 'be', 'evaluated', 'definitively', 'because', 'of', 'the', 'concurrent', 'medication', 'and', 'the', 'preliminary', 'uncontrolled', 'observation', 'however', 'clinical', 'improvement', 'wa', 'apparent', 'in', '8', 'of', 'the', '10', 'patients;', 'and', 'in', '2', 'patient', 'the', 'favorable', 'course', 'occurred', 'in', 'the', 'absence', 'of', 'steroid', 'therapy', 'in', '2', 'additional', 'patient', 'the', 'favorable', 'course', 'wa', 'maintained', 'during', 'the', 'administration', 'of', 'azathioprine', 'following', 'the', 'discontinuance', 'of', 'prolonged', 'steroid', 'therapy', 'in', '1', 'patient', 'the', 'administration', 'of', 'azathioprine', 'wa', 'associated', 'with', 'amelioration', 'of', 'an', 'arthritis', 'and', 'pyoderma', 'gangrenosum', 'which', 'did', 'not', 'respond', 'to', 'the', 'use', 'of', 'steroid', 'and', 'other', 'medication', 'immuno-suppressive', 'observation', 'were', 'limited', 'the', 'established', 'delayed', 'hypersensitivity', 'response', 'a', 'reflected', 'in', 'various', 'skin', 'test', 'wa', 'unchanged', 'during', 'the', 'administration', 'of', 'azathioprine', 'azathioprine', 'had', 'no', 'discernible', 'toxic', 'effect', 'upon', 'the', 'kidney', 'or', 'the', 'liver', 'in', '2', 'patient', '1', 'with', 'postnecrotic', 'cirrhosis', 'and', 'the', 'other', 'with', 'serum', 'hepatitis', 'gastro-intestinal', 'symptom', '(anorexia', 'epigastric', 'discomfort', 'and', 'nausea)', 'occurred', 'in', '8', 'patient', 'mild', 'to', 'moderate', 'leukopenia', 'developed', 'in', '8', 'patient', 'and', 'in', '2', 'individual', 'wa', 'accompanied', 'by', 'thrombocytopenia', 'temporary', 'alopecia', 'occurred', 'in', '1', 'woman', 'the', 'hematopoietic', 'effect', 'developed', 'within', '2', 'or', '3', 'wk', 'of', 'therapy', 'with', 'azathioprine', 'at', 'a', 'dosage', 'level', 'of', '4-6', 'mg', 'kg', 'day', 'azathioprine', 'doe', 'not', 'exert', 'the', 'rapid', 'beneficial', 'effect', 'in', 'ulcerative', 'colitis', 'noted', 'with', 'corticotropin', 'and', 'adrenal', 'corticosteroid', 'therefore', 'it', 'use', 'in', 'severe', 'ulcerative', 'colitis', 'requiring', 'intensive', 'therapy', 'probably', 'is', 'undesirable', 'azathioprine', 'on', 'the', 'basis', 'of', 'these', 'initial', 'observation', 'may', 'be', 'considered', 'for', 'moderately', 'severe', 'ulcerative', 'colitis', 'under', 'circumstance', 'permitting', 'controlled', 'and', 'prolonged', 'therapeutic', 'trial', 'a', 'adjunct', 'medication', 'but', 'with', 'careful', 'supervision', 'for', 'prevention', 'of', 'toxicity', 'especially', 'leukopenia']\n",
            "['4193', 'the', 'occurrence', 'to', 'cytomegalovirus', 'infection', 'in', 'childhood', 'leukemia', 'report', 'of', 'three', 'case', 'cytomegalic', 'inclusion', 'disease', '(cmid)', 'presented', 'the', 'following', 'clinical', 'finding', 'in', 'three', 'child', 'with', 'acute', 'leukemia', 'persistent', 'high', 'temperature', 'cough', 'vomiting', 'diarrhea', 'hepatosplenomegaly', 'rale', 'and', 'terminal', 'icterus', 'pancytopenia', 'wa', 'present', 'in', 'all', 'including', 'two', 'child', 'in', 'leukemic', 'remission', 'roentgenographic', 'evidence', 'of', 'pneumonia', 'did', 'not', 'appear', 'until', 'the', 'third', 'week', 'after', 'the', 'onset', 'of', 'symptom', 'abnormality', 'in', 'liver', 'function', 'test', 'were', 'late', 'finding', 'intranuclear', 'inclusion', 'were', 'seen', 'in', 'urine', 'sediment', 'of', 'two', 'patient', 'in', 'neither', 'of', 'these', 'patient', 'were', 'intranuclear', 'inclusion', 'demonstrable', 'in', 'the', 'sputum', 'virus', 'culture', 'from', 'urine', 'wa', 'done', 'in', 'one', 'of', 'these', 'patient', 'and', 'cytopathogenic', 'change', 'characteristic', 'of', 'cytomegalovirus', '(cmv)', 'were', 'demonstrated', 'cmid', 'wa', 'the', 'cause', 'of', 'death', 'in', 'these', 'three', 'child', 'all', 'of', 'whom', 'had', 'received', 'chemotherapy', 'with', 'agent', 'known', 'to', 'have', 'immunosuppressive', 'property']\n",
            "['current', 'technique', 'in', 'the', 'surgical', 'approach', 'to', 'aortic', 'and', 'mitral', 'valvular', 'disease', '1', 'the', 'aortic', 'and', 'mitral', 'valve', 'can', 'be', 'operated', 'upon', 'successfully', 'and', 'totally', 'replaced', 'with', 'a', 'prosthetic', 'device', 'of', 'the', 'ball-valve', 'type', 'with', 'good', 'long-term', 'result', 'seventy-four', 'case', 'are', 'reported', '2', 'in', 'aortic', 'valvular', 'disease', 'the', 'outcome', 'in', 'the', 'immediate', 'postoperative', 'period', 'is', 'influenced', 'primarily', 'by', 'the', 'presence', 'of', 'calcific', 'aortic', 'stenosis', 'a', 'well', 'a', 'the', 'presence', 'or', 'absence', 'of', 'disease', 'in', 'the', 'coronary', 'artery', '3', 'we', 'have', 'significantly', 'decreased', 'the', 'appearance', 'of', 'a', 'low-output', 'syndrome', 'postoperatively', 'in', 'patient', 'who', 'are', 'suffering', 'from', 'severe', 'mitral', 'disease', 'by', 'leaving', 'the', 'papillary', 'muscle-chordae', 'tendineae-mural', 'leaflet', 'relationship', 'intact', 'we', 'feel', 'this', 'add', 'strength', 'to', 'each', 'contraction', '4', 'there', 'have', 'been', 'no', 'late', 'death', 'in', 'the', 'follow-up', 'period', 'to', 'date', '(thirty', 'months)', 'in', 'any', 'patient', 'with', 'replacement', 'of', 'aortic', 'or', 'mitral', 'valve', 'with', 'the', 'ball-valve', 'prosthesis']\n",
            "['3645', 'autoimmune', 'hepatitis', 'in', '30%', 'of', '301', 'patient', 'with', 'cirrhosis', 'the', 'cause', 'wa', 'uncertain', 'of', 'these', '90', 'case', 'the', 'clinical', 'picture', 'of', 'active', 'chronic', 'hepatitis', 'could', 'be', 'recognized', 'in', '69', 'and', '26', 'of', 'these', 'were', 'characterized', 'a', 'lupoid', 'hepatitis', 'the', 'relationship', 'between', 'active', 'chronic', 'hepatitis', 'lupoid', 'hepatitis', 'and', 'sle', 'wa', 'studied', 'in', '3', 'group', 'of', '25', 'case', 'each', 'a', 'comparison', 'wa', 'then', 'made', 'between', 'the', 'possible', 'etiological', 'factor', 'the', 'systemic', 'manifestation', 'the', 'survival', 'rate', 'the', 'histological', 'appearance', 'the', 'biochemical', 'test', 'the', 'autoimmune', 'reaction', 'and', 'the', 'result', 'of', 'the', 'immunosuppressive', 'drug', 'from', 'this', 'study', 'a', 'concept', 'emerged', 'according', 'to', 'which', 'a', 'proportion', 'of', 'case', 'of', 'cirrhosis', 'occurring', 'in', 'adequately', 'nourished', 'individual', 'can', 'be', 'attributed', 'to', 'the', 'end', 'result', 'of', 'an', 'autoimmune', 'reaction']\n",
            "['drug', 'and', 'neonatal', 'jaundice', 'this', 'paper', 'is', 'not', 'intended', 'a', 'an', 'exhaustive', 'review', 'of', 'bilirubin', 'metabolism', 'nor', 'of', 'the', 'many', 'factor', 'which', 'may', 'result', 'in', 'exaggerated', 'physiologic', 'jaundice', 'for', 'such', 'a', 'review', 'the', 'interested', 'reader', 'is', 'referred', 'to', 'the', 'excellent', 'article', 'by', 'zuelzer', 'and', 'brown', 'brief', 'mention', 'ha', 'been', 'made', 'of', 'the', 'mechanism', 'by', 'which', 'certain', 'drug', 'may', 'contribute', 'to', 'the', 'development', 'of', 'hyperbilirubinemia', 'a', 'few', 'drug', 'the', 'water-soluble', 'vitamin', 'k', 'derivative', 'sulfasoxazole', '(gantrisin)', 'the', 'salicylate', 'and', 'novobiocin', 'have', 'been', 'unequivocally', 'shown', 'to', 'affect', 'adversely', 'the', 'newborn', \"infant's\", 'ability', 'to', 'handle', 'bilirubin', 'in', 'time', 'other', 'compound', 'will', 'definitely', 'be', 'incriminated', 'it', 'is', 'important', 'to', 'remember', 'that', 'the', 'administration', 'of', 'a', 'drug', 'to', 'a', 'mother', 'just', 'prior', 'to', 'delivery', 'may', 'result', 'in', 'appreciable', 'concentration', 'of', 'the', 'compound', 'in', 'the', \"infant's\", 'serum', 'and', 'that', 'drug', 'administered', 'to', 'the', 'nursing', 'mother', 'may', 'be', 'excreted', 'in', 'breast', 'milk', 'and', 'thereby', 'absorbed', 'by', 'the', 'infant', 'careful', 'consideration', 'of', 'the', 'drug', 'given', 'not', 'only', 'to', 'the', 'newborn', 'but', 'also', 'to', 'the', 'mother', 'is', 'therefore', 'essential', 'if', 'we', 'are', 'to', 'avoid', 'what', 'may', 'be', 'termed', 'iatrogenic', 'hyperbilirubinemia']\n",
            "['study', 'in', 'perfusion', 'hypothermia', 'with', 'special', 'reference', 'to', 'deep', 'hypothermia', 'and', 'circulatory', 'arrest', '1', 'perfusion', 'hypothermia', 'produce', 'large', 'temperature', 'gradient', 'within', 'the', 'body', 'since', 'organ', 'are', 'cooled', 'roughly', 'in', 'proportion', 'to', 'their', 'basal', 'blood', 'flow', 'the', 'difference', 'between', 'the', 'coldest', 'and', 'the', 'warmest', 'portion', 'of', 'the', 'body', 'after', '30', 'minute', 'of', 'perfusion', 'exceeds', '25', 'c', '2', 'the', 'average', 'body', 'temperature', 'which', 'provides', 'a', 'proper', 'measure', 'of', 'total', 'body', 'cooling', 'may', 'be', 'calculated', 'from', 'the', 'arteriovenous', 'temperature', 'difference', 'and', 'the', 'extracorporeal', 'flow', 'rate', '3', 'true', 'deep', 'hypothermia', 'is', 'not', 'obtainable', 'by', 'reasonable', 'period', 'of', 'perfusion', 'alone', '4', 'an', 'important', 'rise', 'of', 'core', 'temperature', 'occurs', 'during', 'circulatory', 'arrest', 'in', 'hypothermia', 'because', 'of', 'relatively', 'high', 'average', 'body', 'temperature', '5', 'high', 'average', 'body', 'temperature', 'lead', 'to', 'continuing', 'production', 'of', 'lactic', 'acid', 'in', 'muscle', 'tissue', 'whereas', 'low', 'core', 'temperature', 'impair', 'lactic', 'acid', 'metabolism', 'thus', 'metabolic', 'acidosis', 'is', 'progressive', 'in', 'prolonged', 'perfusion', 'hypothermia', 'and', 'is', 'accentuated', 'by', 'total', 'circulatory', 'arrest', 'progressive', 'acidosis', 'may', 'be', 'minimized', 'by', 'uniform', 'profound', 'cooling', 'by', 'combining', 'external', 'with', 'perfusion', 'hypothermia', '6', 'diluent', 'appear', 'to', 'have', 'little', 'effect', 'on', 'total', 'body', 'heat', 'exchange', 'during', 'perfusion', 'cooling', '7', 'perfusion', 'warming', 'ha', 'a', 'differentially', 'greater', 'effect', 'on', 'core', 'organ', 'though', 'these', 'are', 'readily', 'brought', 'to', 'a', 'normal', 'range', 'much', 'of', 'the', 'animal', 'may', 'remain', 'cold']\n"
          ]
        }
      ],
      "source": [
        "#doc_dictionary : doc_id and words in it.\n",
        "doc_dic = {}\n",
        "for i in chosen:\n",
        "  sample = extr_text[i-1].lower() #case folding\n",
        "  sample_words = re.split('[,.\\\\/\\\\s\\n]', sample)\n",
        "\n",
        "  while '' in sample_words:\n",
        "    sample_words.remove('')\n",
        "  sample_words.remove('w')\n",
        "  lemmatized_words = [wordnet_lemmatizer.lemmatize(word) for word in sample_words]    #lemmatization\n",
        "  print(lemmatized_words)\n",
        "  doc_dic[i] = lemmatized_words\n",
        "\n"
      ]
    },
    {
      "cell_type": "code",
      "execution_count": 9,
      "metadata": {
        "colab": {
          "base_uri": "https://localhost:8080/"
        },
        "id": "ugSfQ0MxLZQF",
        "outputId": "c0269339-cc71-4678-d416-c62726996a11"
      },
      "outputs": [
        {
          "output_type": "stream",
          "name": "stdout",
          "text": [
            "['factor', 'limiting', 'survival', 'after', 'circulatory', 'occlusion', 'under', 'hypothermia', 'and', 'hyperbaric', 'oxygenation', 'thirty', 'minute', 'of', 'circulatory', 'occlusion', 'with', 'mild', 'hypothermia', 'and', 'hyperbaric', 'oxygen', 'ventilation', 'resulted', 'in', 'a', 'mortality', 'of', '83', '3', 'percent', 'in', 'animal', 'when', 'coronary', 'perfusion', 'from', 'a', 'reservoir', 'wa', 'added', 'the', 'mortality', 'rate', 'wa', '22', 'percent', 'ventricular', 'fibrillation', 'wa', 'much', 'more', 'easily', 'reversed', 'after', 'coronary', 'perfusion', 'there', 'wa', 'no', 'evidence', 'of', 'brain', 'damage', 'in', 'survivor', 'which', 'lead', 'to', 'the', 'conclusion', 'that', 'the', 'brain', 'tolerates', 'circulatory', 'arrest', 'better', 'than', 'the', 'heart', 'under', 'these', 'condition']\n"
          ]
        }
      ],
      "source": [
        "print(doc_dic[124])"
      ]
    },
    {
      "cell_type": "markdown",
      "source": [
        "#PART 4"
      ],
      "metadata": {
        "id": "Cn1fKfdAHdoL"
      }
    },
    {
      "cell_type": "markdown",
      "metadata": {
        "id": "gLuqIPr-TWmc"
      },
      "source": [
        "Jaccard Similarity is the ratio of the number of words common to all documents by the total number of words. "
      ]
    },
    {
      "cell_type": "code",
      "execution_count": 1,
      "metadata": {
        "id": "yCJayYJDE-EC"
      },
      "outputs": [],
      "source": [
        "def find_jaccard(d1,d2):\n",
        "    a = set(d1) \n",
        "    b = set(d2)\n",
        "    c = a.intersection(b)\n",
        "    return float(len(c)) / (len(a) + len(b) - len(c))"
      ]
    },
    {
      "cell_type": "code",
      "source": [
        "def find_jaccard_dist(d1,d2):\n",
        "  j = find_jaccard(d1,d2)\n",
        "  return 1-j"
      ],
      "metadata": {
        "id": "5zciDFkNNl8X"
      },
      "execution_count": 2,
      "outputs": []
    },
    {
      "cell_type": "code",
      "execution_count": 10,
      "metadata": {
        "colab": {
          "base_uri": "https://localhost:8080/"
        },
        "id": "AvW370zJPbub",
        "outputId": "3fdc4c36-7788-4246-9346-badc1d1bfcd5"
      },
      "outputs": [
        {
          "output_type": "stream",
          "name": "stdout",
          "text": [
            "0.9203539823008849\n"
          ]
        }
      ],
      "source": [
        "j = find_jaccard_dist(doc_dic[173], doc_dic[124])\n",
        "print(j)"
      ]
    },
    {
      "cell_type": "markdown",
      "source": [
        "##KMeans"
      ],
      "metadata": {
        "id": "oDCINKyqID0r"
      }
    },
    {
      "cell_type": "code",
      "execution_count": 11,
      "metadata": {
        "id": "gIBz0omOUPvh"
      },
      "outputs": [],
      "source": [
        "import random\n",
        "import copy\n",
        "def k_means_cluster(k):\n",
        "  #select random k docs as seeds\n",
        "\n",
        "  seeds = random.sample(list(doc_dic.keys()) , k)\n",
        "  cluster = {}\n",
        "  cnt = 15\n",
        "  while(cnt):\n",
        "    cluster.clear()\n",
        "    cnt = cnt - 1\n",
        "    for i in seeds:\n",
        "      cluster[i] = []\n",
        "    \n",
        "    to_assign = [x for x in list(doc_dic.keys()) if x not in seeds]\n",
        "    max = -1\n",
        "    for i in to_assign:\n",
        "       sel_seed = seeds[0] #seeds is also a document, \n",
        "       for j in seeds:\n",
        "         jacardi_coeff = find_jaccard(doc_dic[i],doc_dic[j])\n",
        "         #checking jaccard similarity coefficient\n",
        "         if max < jacardi_coeff:\n",
        "           \n",
        "           max = jacardi_coeff\n",
        "           sel_seed = j\n",
        "       #assigned to seed with highest jaccard similarity coefficient\n",
        "       cluster[sel_seed].append(i)\n",
        "    \n",
        "\n",
        "    #reassigning new centroids\n",
        "    new_seeds = [] #store new centroid\n",
        "    #going through each cluster\n",
        "    for i in seeds:\n",
        "      temp_cluster = copy.deepcopy(cluster[i])\n",
        "      temp_cluster.append(i)    #has all cluster members\n",
        "      sel_j = temp_cluster[0]   #will get value of new centroid for that cluster\n",
        "      min = 10000                  #centroid that gives min jaccard dist\n",
        "\n",
        "      # We'll keep each point as centroid and add up jaccard distance, one with min will be the new centroid\n",
        "      for j in temp_cluster:\n",
        "        min_for_j = 0\n",
        "        #checking jacard distance with all other remaining points in the cluster\n",
        "        for k in temp_cluster:\n",
        "          if(j==k):\n",
        "            continue\n",
        "          else:\n",
        "            jaccard_j_dist = find_jaccard_dist(doc_dic[j], doc_dic[k])\n",
        "            \n",
        "            min_for_j = min_for_j + jaccard_j_dist\n",
        "        #the one with least sum of distances is made as the new centroid\n",
        "        if min_for_j < min:\n",
        "          min = min_for_j\n",
        "          sel_j = j\n",
        "\n",
        "      new_seeds.append(sel_j)\n",
        "    \n",
        "    seeds = new_seeds\n",
        "    print(\"CLuster at \", cnt, \" \", cluster)\n",
        "  print(\"Final CLuster\", cluster)\n",
        "  return cluster\n",
        "     \n",
        "\n",
        "\n",
        "\n",
        "\n",
        "\n",
        "\n",
        "\n",
        "\n",
        "\n",
        "\n",
        "\n",
        "\n",
        "\n"
      ]
    },
    {
      "cell_type": "code",
      "execution_count": null,
      "metadata": {
        "colab": {
          "base_uri": "https://localhost:8080/"
        },
        "id": "BwM1wYQfOR1E",
        "outputId": "d8b911c0-b39c-46f0-8222-50a5c4948f7d"
      },
      "outputs": [
        {
          "output_type": "stream",
          "name": "stdout",
          "text": [
            "CLuster at  14   {324: [67, 482, 241, 138, 431, 194, 412, 480, 163, 156, 386, 389, 64, 424, 434, 88, 422, 131, 311, 276, 265, 406, 178, 445, 341, 425, 454, 390, 40, 36, 30, 426, 217, 3, 267, 437, 333, 358, 486, 74, 443, 282, 371, 220, 115, 222, 197, 139, 233, 207, 84, 380, 280, 301, 94, 113, 73, 111, 444, 414, 174, 198, 16, 277, 28, 421, 37, 41, 59, 65, 71, 200, 203, 76, 205, 206, 82, 83, 469, 214, 343, 216, 100, 356, 365, 368, 372, 117, 376, 251, 126], 302: [124], 109: [173], 442: [], 387: [], 133: [46]}\n",
            "CLuster at  13   {241: [67, 482, 138, 412, 480, 163, 386, 389, 64, 424, 434, 88, 422, 131, 311, 276, 324, 406, 178, 445, 341, 425, 454, 390, 40, 36, 30, 426, 217, 3, 267, 437, 333, 358, 486, 74, 443, 282, 109, 371, 220, 115, 222, 197, 139, 233, 207, 84, 380, 280, 301, 94, 113, 73, 111, 444, 414, 174, 198, 16, 277, 28, 421, 37, 41, 59, 65, 71, 200, 203, 76, 205, 206, 82, 83, 469, 214, 343, 216, 100, 356, 365, 368, 372, 117, 376, 251, 126], 124: [431], 173: [], 442: [], 387: [], 46: [302, 194, 156, 133, 265]}\n",
            "CLuster at  12   {241: [302, 482, 138, 194, 412, 480, 163, 386, 389, 64, 88, 422, 131, 311, 276, 324, 406, 178, 445, 341, 425, 454, 390, 40, 36, 30, 217, 3, 267, 437, 333, 358, 486, 74, 443, 282, 109, 371, 220, 115, 222, 197, 139, 233, 207, 84, 380, 280, 301, 94, 113, 73, 111, 444, 414, 174, 198, 16, 277, 28, 421, 37, 41, 59, 65, 71, 200, 203, 76, 205, 206, 82, 83, 469, 214, 343, 216, 100, 356, 365, 368, 372, 117, 376, 251, 126], 431: [124, 67, 424, 434, 426], 173: [], 442: [], 387: [], 46: [156, 133, 265]}\n",
            "CLuster at  11   {241: [302, 482, 138, 194, 412, 480, 163, 386, 389, 64, 88, 422, 131, 311, 276, 324, 406, 178, 445, 341, 425, 454, 390, 40, 36, 30, 217, 3, 267, 437, 333, 358, 486, 74, 443, 282, 109, 371, 220, 115, 222, 197, 139, 233, 207, 84, 380, 280, 301, 94, 113, 73, 111, 444, 414, 174, 198, 16, 277, 28, 421, 37, 41, 59, 65, 71, 200, 203, 76, 205, 206, 82, 83, 469, 214, 343, 216, 100, 356, 365, 368, 372, 117, 376, 251, 126], 431: [124, 67, 424, 434, 426], 173: [], 442: [], 387: [], 46: [156, 133, 265]}\n",
            "CLuster at  10   {241: [302, 482, 138, 194, 412, 480, 163, 386, 389, 64, 88, 422, 131, 311, 276, 324, 406, 178, 445, 341, 425, 454, 390, 40, 36, 30, 217, 3, 267, 437, 333, 358, 486, 74, 443, 282, 109, 371, 220, 115, 222, 197, 139, 233, 207, 84, 380, 280, 301, 94, 113, 73, 111, 444, 414, 174, 198, 16, 277, 28, 421, 37, 41, 59, 65, 71, 200, 203, 76, 205, 206, 82, 83, 469, 214, 343, 216, 100, 356, 365, 368, 372, 117, 376, 251, 126], 431: [124, 67, 424, 434, 426], 173: [], 442: [], 387: [], 46: [156, 133, 265]}\n",
            "CLuster at  9   {241: [302, 482, 138, 194, 412, 480, 163, 386, 389, 64, 88, 422, 131, 311, 276, 324, 406, 178, 445, 341, 425, 454, 390, 40, 36, 30, 217, 3, 267, 437, 333, 358, 486, 74, 443, 282, 109, 371, 220, 115, 222, 197, 139, 233, 207, 84, 380, 280, 301, 94, 113, 73, 111, 444, 414, 174, 198, 16, 277, 28, 421, 37, 41, 59, 65, 71, 200, 203, 76, 205, 206, 82, 83, 469, 214, 343, 216, 100, 356, 365, 368, 372, 117, 376, 251, 126], 431: [124, 67, 424, 434, 426], 173: [], 442: [], 387: [], 46: [156, 133, 265]}\n",
            "CLuster at  8   {241: [302, 482, 138, 194, 412, 480, 163, 386, 389, 64, 88, 422, 131, 311, 276, 324, 406, 178, 445, 341, 425, 454, 390, 40, 36, 30, 217, 3, 267, 437, 333, 358, 486, 74, 443, 282, 109, 371, 220, 115, 222, 197, 139, 233, 207, 84, 380, 280, 301, 94, 113, 73, 111, 444, 414, 174, 198, 16, 277, 28, 421, 37, 41, 59, 65, 71, 200, 203, 76, 205, 206, 82, 83, 469, 214, 343, 216, 100, 356, 365, 368, 372, 117, 376, 251, 126], 431: [124, 67, 424, 434, 426], 173: [], 442: [], 387: [], 46: [156, 133, 265]}\n",
            "CLuster at  7   {241: [302, 482, 138, 194, 412, 480, 163, 386, 389, 64, 88, 422, 131, 311, 276, 324, 406, 178, 445, 341, 425, 454, 390, 40, 36, 30, 217, 3, 267, 437, 333, 358, 486, 74, 443, 282, 109, 371, 220, 115, 222, 197, 139, 233, 207, 84, 380, 280, 301, 94, 113, 73, 111, 444, 414, 174, 198, 16, 277, 28, 421, 37, 41, 59, 65, 71, 200, 203, 76, 205, 206, 82, 83, 469, 214, 343, 216, 100, 356, 365, 368, 372, 117, 376, 251, 126], 431: [124, 67, 424, 434, 426], 173: [], 442: [], 387: [], 46: [156, 133, 265]}\n",
            "CLuster at  6   {241: [302, 482, 138, 194, 412, 480, 163, 386, 389, 64, 88, 422, 131, 311, 276, 324, 406, 178, 445, 341, 425, 454, 390, 40, 36, 30, 217, 3, 267, 437, 333, 358, 486, 74, 443, 282, 109, 371, 220, 115, 222, 197, 139, 233, 207, 84, 380, 280, 301, 94, 113, 73, 111, 444, 414, 174, 198, 16, 277, 28, 421, 37, 41, 59, 65, 71, 200, 203, 76, 205, 206, 82, 83, 469, 214, 343, 216, 100, 356, 365, 368, 372, 117, 376, 251, 126], 431: [124, 67, 424, 434, 426], 173: [], 442: [], 387: [], 46: [156, 133, 265]}\n",
            "CLuster at  5   {241: [302, 482, 138, 194, 412, 480, 163, 386, 389, 64, 88, 422, 131, 311, 276, 324, 406, 178, 445, 341, 425, 454, 390, 40, 36, 30, 217, 3, 267, 437, 333, 358, 486, 74, 443, 282, 109, 371, 220, 115, 222, 197, 139, 233, 207, 84, 380, 280, 301, 94, 113, 73, 111, 444, 414, 174, 198, 16, 277, 28, 421, 37, 41, 59, 65, 71, 200, 203, 76, 205, 206, 82, 83, 469, 214, 343, 216, 100, 356, 365, 368, 372, 117, 376, 251, 126], 431: [124, 67, 424, 434, 426], 173: [], 442: [], 387: [], 46: [156, 133, 265]}\n",
            "CLuster at  4   {241: [302, 482, 138, 194, 412, 480, 163, 386, 389, 64, 88, 422, 131, 311, 276, 324, 406, 178, 445, 341, 425, 454, 390, 40, 36, 30, 217, 3, 267, 437, 333, 358, 486, 74, 443, 282, 109, 371, 220, 115, 222, 197, 139, 233, 207, 84, 380, 280, 301, 94, 113, 73, 111, 444, 414, 174, 198, 16, 277, 28, 421, 37, 41, 59, 65, 71, 200, 203, 76, 205, 206, 82, 83, 469, 214, 343, 216, 100, 356, 365, 368, 372, 117, 376, 251, 126], 431: [124, 67, 424, 434, 426], 173: [], 442: [], 387: [], 46: [156, 133, 265]}\n",
            "CLuster at  3   {241: [302, 482, 138, 194, 412, 480, 163, 386, 389, 64, 88, 422, 131, 311, 276, 324, 406, 178, 445, 341, 425, 454, 390, 40, 36, 30, 217, 3, 267, 437, 333, 358, 486, 74, 443, 282, 109, 371, 220, 115, 222, 197, 139, 233, 207, 84, 380, 280, 301, 94, 113, 73, 111, 444, 414, 174, 198, 16, 277, 28, 421, 37, 41, 59, 65, 71, 200, 203, 76, 205, 206, 82, 83, 469, 214, 343, 216, 100, 356, 365, 368, 372, 117, 376, 251, 126], 431: [124, 67, 424, 434, 426], 173: [], 442: [], 387: [], 46: [156, 133, 265]}\n",
            "CLuster at  2   {241: [302, 482, 138, 194, 412, 480, 163, 386, 389, 64, 88, 422, 131, 311, 276, 324, 406, 178, 445, 341, 425, 454, 390, 40, 36, 30, 217, 3, 267, 437, 333, 358, 486, 74, 443, 282, 109, 371, 220, 115, 222, 197, 139, 233, 207, 84, 380, 280, 301, 94, 113, 73, 111, 444, 414, 174, 198, 16, 277, 28, 421, 37, 41, 59, 65, 71, 200, 203, 76, 205, 206, 82, 83, 469, 214, 343, 216, 100, 356, 365, 368, 372, 117, 376, 251, 126], 431: [124, 67, 424, 434, 426], 173: [], 442: [], 387: [], 46: [156, 133, 265]}\n",
            "CLuster at  1   {241: [302, 482, 138, 194, 412, 480, 163, 386, 389, 64, 88, 422, 131, 311, 276, 324, 406, 178, 445, 341, 425, 454, 390, 40, 36, 30, 217, 3, 267, 437, 333, 358, 486, 74, 443, 282, 109, 371, 220, 115, 222, 197, 139, 233, 207, 84, 380, 280, 301, 94, 113, 73, 111, 444, 414, 174, 198, 16, 277, 28, 421, 37, 41, 59, 65, 71, 200, 203, 76, 205, 206, 82, 83, 469, 214, 343, 216, 100, 356, 365, 368, 372, 117, 376, 251, 126], 431: [124, 67, 424, 434, 426], 173: [], 442: [], 387: [], 46: [156, 133, 265]}\n",
            "CLuster at  0   {241: [302, 482, 138, 194, 412, 480, 163, 386, 389, 64, 88, 422, 131, 311, 276, 324, 406, 178, 445, 341, 425, 454, 390, 40, 36, 30, 217, 3, 267, 437, 333, 358, 486, 74, 443, 282, 109, 371, 220, 115, 222, 197, 139, 233, 207, 84, 380, 280, 301, 94, 113, 73, 111, 444, 414, 174, 198, 16, 277, 28, 421, 37, 41, 59, 65, 71, 200, 203, 76, 205, 206, 82, 83, 469, 214, 343, 216, 100, 356, 365, 368, 372, 117, 376, 251, 126], 431: [124, 67, 424, 434, 426], 173: [], 442: [], 387: [], 46: [156, 133, 265]}\n",
            "Final CLuster {241: [302, 482, 138, 194, 412, 480, 163, 386, 389, 64, 88, 422, 131, 311, 276, 324, 406, 178, 445, 341, 425, 454, 390, 40, 36, 30, 217, 3, 267, 437, 333, 358, 486, 74, 443, 282, 109, 371, 220, 115, 222, 197, 139, 233, 207, 84, 380, 280, 301, 94, 113, 73, 111, 444, 414, 174, 198, 16, 277, 28, 421, 37, 41, 59, 65, 71, 200, 203, 76, 205, 206, 82, 83, 469, 214, 343, 216, 100, 356, 365, 368, 372, 117, 376, 251, 126], 431: [124, 67, 424, 434, 426], 173: [], 442: [], 387: [], 46: [156, 133, 265]}\n"
          ]
        }
      ],
      "source": [
        "k_means_cluster(6)"
      ]
    },
    {
      "cell_type": "markdown",
      "source": [
        "##Calculating RSS"
      ],
      "metadata": {
        "id": "_5eQ6pRiHjY0"
      }
    },
    {
      "cell_type": "code",
      "source": [
        "def find_RSS(cluster):\n",
        "  rss = 0\n",
        "  #for each cluster\n",
        "  for i in list(cluster.keys()):\n",
        "    #rss for each cluster, sum of the squared dist\n",
        "    rss_i = 0\n",
        "    #for every point\n",
        "    for j in cluster[i]:\n",
        "      rss_i = rss_i + find_jaccard_dist(doc_dic[i], doc_dic[j])**2\n",
        "    rss = rss + rss_i\n",
        "\n",
        "  return rss"
      ],
      "metadata": {
        "id": "DfdsC8Xkb4cW"
      },
      "execution_count": 12,
      "outputs": []
    },
    {
      "cell_type": "code",
      "source": [
        "#ALong with RSS, a cost is also applied for the number of clusters\n",
        "def find_cost(cluster,k):\n",
        "  lamda = 0.1\n",
        "  rss_val = find_RSS(cluster)\n",
        "  return lamda*k + rss_val\n"
      ],
      "metadata": {
        "id": "QcWwEY_ZP-AK"
      },
      "execution_count": 13,
      "outputs": []
    },
    {
      "cell_type": "code",
      "source": [
        "#Making list of different k values along with respective cost values, to be used to form the plot\n",
        "k_vals = []\n",
        "for i in range(1,15):\n",
        "  k_vals.append(i)\n",
        "cost_vals = []\n",
        "for i in range(len(k_vals)):\n",
        "  cluster_k = k_means_cluster(k_vals[i])\n",
        "  cost_value = find_cost(cluster_k, len(cluster_k))\n",
        "  cost_vals.append(cost_value)"
      ],
      "metadata": {
        "colab": {
          "base_uri": "https://localhost:8080/"
        },
        "id": "nvIiabQWeRnV",
        "outputId": "a8ba2b1c-2235-4c69-e65c-b16d2783260e"
      },
      "execution_count": 16,
      "outputs": [
        {
          "output_type": "stream",
          "name": "stdout",
          "text": [
            "CLuster at  14   {390: [173, 124, 302, 67, 482, 241, 138, 431, 194, 412, 480, 163, 156, 386, 389, 64, 424, 434, 88, 422, 133, 131, 311, 276, 265, 324, 406, 178, 445, 341, 425, 454, 40, 36, 30, 426, 46, 217, 3, 267, 437, 333, 358, 486, 74, 443, 282, 109, 371, 220, 115, 222, 197, 139, 233, 207, 84, 380, 280, 301, 94, 113, 73, 111, 444, 414, 174, 198, 387, 16, 277, 28, 421, 37, 41, 442, 59, 65, 71, 200, 203, 76, 205, 206, 82, 83, 469, 214, 343, 216, 100, 356, 365, 368, 372, 117, 376, 251, 126]}\n",
            "CLuster at  13   {241: [173, 124, 302, 67, 482, 138, 431, 194, 412, 480, 163, 156, 386, 389, 64, 424, 434, 88, 422, 133, 131, 311, 276, 265, 324, 406, 178, 445, 341, 425, 454, 390, 40, 36, 30, 426, 46, 217, 3, 267, 437, 333, 358, 486, 74, 443, 282, 109, 371, 220, 115, 222, 197, 139, 233, 207, 84, 380, 280, 301, 94, 113, 73, 111, 444, 414, 174, 198, 387, 16, 277, 28, 421, 37, 41, 442, 59, 65, 71, 200, 203, 76, 205, 206, 82, 83, 469, 214, 343, 216, 100, 356, 365, 368, 372, 117, 376, 251, 126]}\n",
            "CLuster at  12   {241: [173, 124, 302, 67, 482, 138, 431, 194, 412, 480, 163, 156, 386, 389, 64, 424, 434, 88, 422, 133, 131, 311, 276, 265, 324, 406, 178, 445, 341, 425, 454, 390, 40, 36, 30, 426, 46, 217, 3, 267, 437, 333, 358, 486, 74, 443, 282, 109, 371, 220, 115, 222, 197, 139, 233, 207, 84, 380, 280, 301, 94, 113, 73, 111, 444, 414, 174, 198, 387, 16, 277, 28, 421, 37, 41, 442, 59, 65, 71, 200, 203, 76, 205, 206, 82, 83, 469, 214, 343, 216, 100, 356, 365, 368, 372, 117, 376, 251, 126]}\n",
            "CLuster at  11   {241: [173, 124, 302, 67, 482, 138, 431, 194, 412, 480, 163, 156, 386, 389, 64, 424, 434, 88, 422, 133, 131, 311, 276, 265, 324, 406, 178, 445, 341, 425, 454, 390, 40, 36, 30, 426, 46, 217, 3, 267, 437, 333, 358, 486, 74, 443, 282, 109, 371, 220, 115, 222, 197, 139, 233, 207, 84, 380, 280, 301, 94, 113, 73, 111, 444, 414, 174, 198, 387, 16, 277, 28, 421, 37, 41, 442, 59, 65, 71, 200, 203, 76, 205, 206, 82, 83, 469, 214, 343, 216, 100, 356, 365, 368, 372, 117, 376, 251, 126]}\n",
            "CLuster at  10   {241: [173, 124, 302, 67, 482, 138, 431, 194, 412, 480, 163, 156, 386, 389, 64, 424, 434, 88, 422, 133, 131, 311, 276, 265, 324, 406, 178, 445, 341, 425, 454, 390, 40, 36, 30, 426, 46, 217, 3, 267, 437, 333, 358, 486, 74, 443, 282, 109, 371, 220, 115, 222, 197, 139, 233, 207, 84, 380, 280, 301, 94, 113, 73, 111, 444, 414, 174, 198, 387, 16, 277, 28, 421, 37, 41, 442, 59, 65, 71, 200, 203, 76, 205, 206, 82, 83, 469, 214, 343, 216, 100, 356, 365, 368, 372, 117, 376, 251, 126]}\n",
            "CLuster at  9   {241: [173, 124, 302, 67, 482, 138, 431, 194, 412, 480, 163, 156, 386, 389, 64, 424, 434, 88, 422, 133, 131, 311, 276, 265, 324, 406, 178, 445, 341, 425, 454, 390, 40, 36, 30, 426, 46, 217, 3, 267, 437, 333, 358, 486, 74, 443, 282, 109, 371, 220, 115, 222, 197, 139, 233, 207, 84, 380, 280, 301, 94, 113, 73, 111, 444, 414, 174, 198, 387, 16, 277, 28, 421, 37, 41, 442, 59, 65, 71, 200, 203, 76, 205, 206, 82, 83, 469, 214, 343, 216, 100, 356, 365, 368, 372, 117, 376, 251, 126]}\n",
            "CLuster at  8   {241: [173, 124, 302, 67, 482, 138, 431, 194, 412, 480, 163, 156, 386, 389, 64, 424, 434, 88, 422, 133, 131, 311, 276, 265, 324, 406, 178, 445, 341, 425, 454, 390, 40, 36, 30, 426, 46, 217, 3, 267, 437, 333, 358, 486, 74, 443, 282, 109, 371, 220, 115, 222, 197, 139, 233, 207, 84, 380, 280, 301, 94, 113, 73, 111, 444, 414, 174, 198, 387, 16, 277, 28, 421, 37, 41, 442, 59, 65, 71, 200, 203, 76, 205, 206, 82, 83, 469, 214, 343, 216, 100, 356, 365, 368, 372, 117, 376, 251, 126]}\n",
            "CLuster at  7   {241: [173, 124, 302, 67, 482, 138, 431, 194, 412, 480, 163, 156, 386, 389, 64, 424, 434, 88, 422, 133, 131, 311, 276, 265, 324, 406, 178, 445, 341, 425, 454, 390, 40, 36, 30, 426, 46, 217, 3, 267, 437, 333, 358, 486, 74, 443, 282, 109, 371, 220, 115, 222, 197, 139, 233, 207, 84, 380, 280, 301, 94, 113, 73, 111, 444, 414, 174, 198, 387, 16, 277, 28, 421, 37, 41, 442, 59, 65, 71, 200, 203, 76, 205, 206, 82, 83, 469, 214, 343, 216, 100, 356, 365, 368, 372, 117, 376, 251, 126]}\n",
            "CLuster at  6   {241: [173, 124, 302, 67, 482, 138, 431, 194, 412, 480, 163, 156, 386, 389, 64, 424, 434, 88, 422, 133, 131, 311, 276, 265, 324, 406, 178, 445, 341, 425, 454, 390, 40, 36, 30, 426, 46, 217, 3, 267, 437, 333, 358, 486, 74, 443, 282, 109, 371, 220, 115, 222, 197, 139, 233, 207, 84, 380, 280, 301, 94, 113, 73, 111, 444, 414, 174, 198, 387, 16, 277, 28, 421, 37, 41, 442, 59, 65, 71, 200, 203, 76, 205, 206, 82, 83, 469, 214, 343, 216, 100, 356, 365, 368, 372, 117, 376, 251, 126]}\n",
            "CLuster at  5   {241: [173, 124, 302, 67, 482, 138, 431, 194, 412, 480, 163, 156, 386, 389, 64, 424, 434, 88, 422, 133, 131, 311, 276, 265, 324, 406, 178, 445, 341, 425, 454, 390, 40, 36, 30, 426, 46, 217, 3, 267, 437, 333, 358, 486, 74, 443, 282, 109, 371, 220, 115, 222, 197, 139, 233, 207, 84, 380, 280, 301, 94, 113, 73, 111, 444, 414, 174, 198, 387, 16, 277, 28, 421, 37, 41, 442, 59, 65, 71, 200, 203, 76, 205, 206, 82, 83, 469, 214, 343, 216, 100, 356, 365, 368, 372, 117, 376, 251, 126]}\n",
            "CLuster at  4   {241: [173, 124, 302, 67, 482, 138, 431, 194, 412, 480, 163, 156, 386, 389, 64, 424, 434, 88, 422, 133, 131, 311, 276, 265, 324, 406, 178, 445, 341, 425, 454, 390, 40, 36, 30, 426, 46, 217, 3, 267, 437, 333, 358, 486, 74, 443, 282, 109, 371, 220, 115, 222, 197, 139, 233, 207, 84, 380, 280, 301, 94, 113, 73, 111, 444, 414, 174, 198, 387, 16, 277, 28, 421, 37, 41, 442, 59, 65, 71, 200, 203, 76, 205, 206, 82, 83, 469, 214, 343, 216, 100, 356, 365, 368, 372, 117, 376, 251, 126]}\n",
            "CLuster at  3   {241: [173, 124, 302, 67, 482, 138, 431, 194, 412, 480, 163, 156, 386, 389, 64, 424, 434, 88, 422, 133, 131, 311, 276, 265, 324, 406, 178, 445, 341, 425, 454, 390, 40, 36, 30, 426, 46, 217, 3, 267, 437, 333, 358, 486, 74, 443, 282, 109, 371, 220, 115, 222, 197, 139, 233, 207, 84, 380, 280, 301, 94, 113, 73, 111, 444, 414, 174, 198, 387, 16, 277, 28, 421, 37, 41, 442, 59, 65, 71, 200, 203, 76, 205, 206, 82, 83, 469, 214, 343, 216, 100, 356, 365, 368, 372, 117, 376, 251, 126]}\n",
            "CLuster at  2   {241: [173, 124, 302, 67, 482, 138, 431, 194, 412, 480, 163, 156, 386, 389, 64, 424, 434, 88, 422, 133, 131, 311, 276, 265, 324, 406, 178, 445, 341, 425, 454, 390, 40, 36, 30, 426, 46, 217, 3, 267, 437, 333, 358, 486, 74, 443, 282, 109, 371, 220, 115, 222, 197, 139, 233, 207, 84, 380, 280, 301, 94, 113, 73, 111, 444, 414, 174, 198, 387, 16, 277, 28, 421, 37, 41, 442, 59, 65, 71, 200, 203, 76, 205, 206, 82, 83, 469, 214, 343, 216, 100, 356, 365, 368, 372, 117, 376, 251, 126]}\n",
            "CLuster at  1   {241: [173, 124, 302, 67, 482, 138, 431, 194, 412, 480, 163, 156, 386, 389, 64, 424, 434, 88, 422, 133, 131, 311, 276, 265, 324, 406, 178, 445, 341, 425, 454, 390, 40, 36, 30, 426, 46, 217, 3, 267, 437, 333, 358, 486, 74, 443, 282, 109, 371, 220, 115, 222, 197, 139, 233, 207, 84, 380, 280, 301, 94, 113, 73, 111, 444, 414, 174, 198, 387, 16, 277, 28, 421, 37, 41, 442, 59, 65, 71, 200, 203, 76, 205, 206, 82, 83, 469, 214, 343, 216, 100, 356, 365, 368, 372, 117, 376, 251, 126]}\n",
            "CLuster at  0   {241: [173, 124, 302, 67, 482, 138, 431, 194, 412, 480, 163, 156, 386, 389, 64, 424, 434, 88, 422, 133, 131, 311, 276, 265, 324, 406, 178, 445, 341, 425, 454, 390, 40, 36, 30, 426, 46, 217, 3, 267, 437, 333, 358, 486, 74, 443, 282, 109, 371, 220, 115, 222, 197, 139, 233, 207, 84, 380, 280, 301, 94, 113, 73, 111, 444, 414, 174, 198, 387, 16, 277, 28, 421, 37, 41, 442, 59, 65, 71, 200, 203, 76, 205, 206, 82, 83, 469, 214, 343, 216, 100, 356, 365, 368, 372, 117, 376, 251, 126]}\n",
            "Final CLuster {241: [173, 124, 302, 67, 482, 138, 431, 194, 412, 480, 163, 156, 386, 389, 64, 424, 434, 88, 422, 133, 131, 311, 276, 265, 324, 406, 178, 445, 341, 425, 454, 390, 40, 36, 30, 426, 46, 217, 3, 267, 437, 333, 358, 486, 74, 443, 282, 109, 371, 220, 115, 222, 197, 139, 233, 207, 84, 380, 280, 301, 94, 113, 73, 111, 444, 414, 174, 198, 387, 16, 277, 28, 421, 37, 41, 442, 59, 65, 71, 200, 203, 76, 205, 206, 82, 83, 469, 214, 343, 216, 100, 356, 365, 368, 372, 117, 376, 251, 126]}\n",
            "CLuster at  14   {67: [173, 124, 302, 482, 138, 431, 194, 412, 480, 163, 156, 386, 389, 64, 424, 434, 88, 422, 133, 131, 311, 276, 265, 324, 406, 178, 445, 341, 425, 454, 390, 40, 36, 30, 426, 46, 217, 3, 267, 437, 333, 358, 486, 74, 443, 282, 109, 371, 220, 115, 222, 197, 139, 233, 207, 84, 380, 280, 301, 94, 113, 73, 111, 444, 414, 174, 198, 387, 16, 277, 28, 421, 37, 41, 442, 65, 71, 200, 203, 76, 205, 206, 82, 83, 469, 214, 343, 216, 100, 356, 365, 368, 372, 117, 376, 251, 126], 59: [241]}\n",
            "CLuster at  13   {431: [173, 124, 302, 67, 482, 138, 194, 412, 480, 163, 156, 386, 389, 64, 424, 434, 88, 422, 133, 131, 311, 276, 265, 324, 406, 178, 445, 341, 425, 454, 390, 40, 36, 30, 426, 46, 217, 3, 267, 437, 333, 358, 486, 74, 443, 282, 109, 371, 220, 115, 222, 197, 139, 233, 207, 84, 380, 280, 301, 94, 113, 73, 111, 444, 414, 174, 198, 387, 16, 277, 28, 421, 37, 41, 442, 59, 65, 71, 200, 203, 76, 205, 206, 82, 83, 469, 214, 343, 216, 100, 356, 365, 368, 372, 117, 376, 251, 126], 241: []}\n",
            "CLuster at  12   {431: [173, 124, 302, 67, 482, 138, 194, 412, 480, 163, 156, 386, 389, 64, 424, 434, 88, 422, 133, 131, 311, 276, 265, 324, 406, 178, 445, 341, 425, 454, 390, 40, 36, 30, 426, 46, 217, 3, 267, 437, 333, 358, 486, 74, 443, 282, 109, 371, 220, 115, 222, 197, 139, 233, 207, 84, 380, 280, 301, 94, 113, 73, 111, 444, 414, 174, 198, 387, 16, 277, 28, 421, 37, 41, 442, 59, 65, 71, 200, 203, 76, 205, 206, 82, 83, 469, 214, 343, 216, 100, 356, 365, 368, 372, 117, 376, 251, 126], 241: []}\n",
            "CLuster at  11   {431: [173, 124, 302, 67, 482, 138, 194, 412, 480, 163, 156, 386, 389, 64, 424, 434, 88, 422, 133, 131, 311, 276, 265, 324, 406, 178, 445, 341, 425, 454, 390, 40, 36, 30, 426, 46, 217, 3, 267, 437, 333, 358, 486, 74, 443, 282, 109, 371, 220, 115, 222, 197, 139, 233, 207, 84, 380, 280, 301, 94, 113, 73, 111, 444, 414, 174, 198, 387, 16, 277, 28, 421, 37, 41, 442, 59, 65, 71, 200, 203, 76, 205, 206, 82, 83, 469, 214, 343, 216, 100, 356, 365, 368, 372, 117, 376, 251, 126], 241: []}\n",
            "CLuster at  10   {431: [173, 124, 302, 67, 482, 138, 194, 412, 480, 163, 156, 386, 389, 64, 424, 434, 88, 422, 133, 131, 311, 276, 265, 324, 406, 178, 445, 341, 425, 454, 390, 40, 36, 30, 426, 46, 217, 3, 267, 437, 333, 358, 486, 74, 443, 282, 109, 371, 220, 115, 222, 197, 139, 233, 207, 84, 380, 280, 301, 94, 113, 73, 111, 444, 414, 174, 198, 387, 16, 277, 28, 421, 37, 41, 442, 59, 65, 71, 200, 203, 76, 205, 206, 82, 83, 469, 214, 343, 216, 100, 356, 365, 368, 372, 117, 376, 251, 126], 241: []}\n",
            "CLuster at  9   {431: [173, 124, 302, 67, 482, 138, 194, 412, 480, 163, 156, 386, 389, 64, 424, 434, 88, 422, 133, 131, 311, 276, 265, 324, 406, 178, 445, 341, 425, 454, 390, 40, 36, 30, 426, 46, 217, 3, 267, 437, 333, 358, 486, 74, 443, 282, 109, 371, 220, 115, 222, 197, 139, 233, 207, 84, 380, 280, 301, 94, 113, 73, 111, 444, 414, 174, 198, 387, 16, 277, 28, 421, 37, 41, 442, 59, 65, 71, 200, 203, 76, 205, 206, 82, 83, 469, 214, 343, 216, 100, 356, 365, 368, 372, 117, 376, 251, 126], 241: []}\n",
            "CLuster at  8   {431: [173, 124, 302, 67, 482, 138, 194, 412, 480, 163, 156, 386, 389, 64, 424, 434, 88, 422, 133, 131, 311, 276, 265, 324, 406, 178, 445, 341, 425, 454, 390, 40, 36, 30, 426, 46, 217, 3, 267, 437, 333, 358, 486, 74, 443, 282, 109, 371, 220, 115, 222, 197, 139, 233, 207, 84, 380, 280, 301, 94, 113, 73, 111, 444, 414, 174, 198, 387, 16, 277, 28, 421, 37, 41, 442, 59, 65, 71, 200, 203, 76, 205, 206, 82, 83, 469, 214, 343, 216, 100, 356, 365, 368, 372, 117, 376, 251, 126], 241: []}\n",
            "CLuster at  7   {431: [173, 124, 302, 67, 482, 138, 194, 412, 480, 163, 156, 386, 389, 64, 424, 434, 88, 422, 133, 131, 311, 276, 265, 324, 406, 178, 445, 341, 425, 454, 390, 40, 36, 30, 426, 46, 217, 3, 267, 437, 333, 358, 486, 74, 443, 282, 109, 371, 220, 115, 222, 197, 139, 233, 207, 84, 380, 280, 301, 94, 113, 73, 111, 444, 414, 174, 198, 387, 16, 277, 28, 421, 37, 41, 442, 59, 65, 71, 200, 203, 76, 205, 206, 82, 83, 469, 214, 343, 216, 100, 356, 365, 368, 372, 117, 376, 251, 126], 241: []}\n",
            "CLuster at  6   {431: [173, 124, 302, 67, 482, 138, 194, 412, 480, 163, 156, 386, 389, 64, 424, 434, 88, 422, 133, 131, 311, 276, 265, 324, 406, 178, 445, 341, 425, 454, 390, 40, 36, 30, 426, 46, 217, 3, 267, 437, 333, 358, 486, 74, 443, 282, 109, 371, 220, 115, 222, 197, 139, 233, 207, 84, 380, 280, 301, 94, 113, 73, 111, 444, 414, 174, 198, 387, 16, 277, 28, 421, 37, 41, 442, 59, 65, 71, 200, 203, 76, 205, 206, 82, 83, 469, 214, 343, 216, 100, 356, 365, 368, 372, 117, 376, 251, 126], 241: []}\n",
            "CLuster at  5   {431: [173, 124, 302, 67, 482, 138, 194, 412, 480, 163, 156, 386, 389, 64, 424, 434, 88, 422, 133, 131, 311, 276, 265, 324, 406, 178, 445, 341, 425, 454, 390, 40, 36, 30, 426, 46, 217, 3, 267, 437, 333, 358, 486, 74, 443, 282, 109, 371, 220, 115, 222, 197, 139, 233, 207, 84, 380, 280, 301, 94, 113, 73, 111, 444, 414, 174, 198, 387, 16, 277, 28, 421, 37, 41, 442, 59, 65, 71, 200, 203, 76, 205, 206, 82, 83, 469, 214, 343, 216, 100, 356, 365, 368, 372, 117, 376, 251, 126], 241: []}\n",
            "CLuster at  4   {431: [173, 124, 302, 67, 482, 138, 194, 412, 480, 163, 156, 386, 389, 64, 424, 434, 88, 422, 133, 131, 311, 276, 265, 324, 406, 178, 445, 341, 425, 454, 390, 40, 36, 30, 426, 46, 217, 3, 267, 437, 333, 358, 486, 74, 443, 282, 109, 371, 220, 115, 222, 197, 139, 233, 207, 84, 380, 280, 301, 94, 113, 73, 111, 444, 414, 174, 198, 387, 16, 277, 28, 421, 37, 41, 442, 59, 65, 71, 200, 203, 76, 205, 206, 82, 83, 469, 214, 343, 216, 100, 356, 365, 368, 372, 117, 376, 251, 126], 241: []}\n",
            "CLuster at  3   {431: [173, 124, 302, 67, 482, 138, 194, 412, 480, 163, 156, 386, 389, 64, 424, 434, 88, 422, 133, 131, 311, 276, 265, 324, 406, 178, 445, 341, 425, 454, 390, 40, 36, 30, 426, 46, 217, 3, 267, 437, 333, 358, 486, 74, 443, 282, 109, 371, 220, 115, 222, 197, 139, 233, 207, 84, 380, 280, 301, 94, 113, 73, 111, 444, 414, 174, 198, 387, 16, 277, 28, 421, 37, 41, 442, 59, 65, 71, 200, 203, 76, 205, 206, 82, 83, 469, 214, 343, 216, 100, 356, 365, 368, 372, 117, 376, 251, 126], 241: []}\n",
            "CLuster at  2   {431: [173, 124, 302, 67, 482, 138, 194, 412, 480, 163, 156, 386, 389, 64, 424, 434, 88, 422, 133, 131, 311, 276, 265, 324, 406, 178, 445, 341, 425, 454, 390, 40, 36, 30, 426, 46, 217, 3, 267, 437, 333, 358, 486, 74, 443, 282, 109, 371, 220, 115, 222, 197, 139, 233, 207, 84, 380, 280, 301, 94, 113, 73, 111, 444, 414, 174, 198, 387, 16, 277, 28, 421, 37, 41, 442, 59, 65, 71, 200, 203, 76, 205, 206, 82, 83, 469, 214, 343, 216, 100, 356, 365, 368, 372, 117, 376, 251, 126], 241: []}\n",
            "CLuster at  1   {431: [173, 124, 302, 67, 482, 138, 194, 412, 480, 163, 156, 386, 389, 64, 424, 434, 88, 422, 133, 131, 311, 276, 265, 324, 406, 178, 445, 341, 425, 454, 390, 40, 36, 30, 426, 46, 217, 3, 267, 437, 333, 358, 486, 74, 443, 282, 109, 371, 220, 115, 222, 197, 139, 233, 207, 84, 380, 280, 301, 94, 113, 73, 111, 444, 414, 174, 198, 387, 16, 277, 28, 421, 37, 41, 442, 59, 65, 71, 200, 203, 76, 205, 206, 82, 83, 469, 214, 343, 216, 100, 356, 365, 368, 372, 117, 376, 251, 126], 241: []}\n",
            "CLuster at  0   {431: [173, 124, 302, 67, 482, 138, 194, 412, 480, 163, 156, 386, 389, 64, 424, 434, 88, 422, 133, 131, 311, 276, 265, 324, 406, 178, 445, 341, 425, 454, 390, 40, 36, 30, 426, 46, 217, 3, 267, 437, 333, 358, 486, 74, 443, 282, 109, 371, 220, 115, 222, 197, 139, 233, 207, 84, 380, 280, 301, 94, 113, 73, 111, 444, 414, 174, 198, 387, 16, 277, 28, 421, 37, 41, 442, 59, 65, 71, 200, 203, 76, 205, 206, 82, 83, 469, 214, 343, 216, 100, 356, 365, 368, 372, 117, 376, 251, 126], 241: []}\n",
            "Final CLuster {431: [173, 124, 302, 67, 482, 138, 194, 412, 480, 163, 156, 386, 389, 64, 424, 434, 88, 422, 133, 131, 311, 276, 265, 324, 406, 178, 445, 341, 425, 454, 390, 40, 36, 30, 426, 46, 217, 3, 267, 437, 333, 358, 486, 74, 443, 282, 109, 371, 220, 115, 222, 197, 139, 233, 207, 84, 380, 280, 301, 94, 113, 73, 111, 444, 414, 174, 198, 387, 16, 277, 28, 421, 37, 41, 442, 59, 65, 71, 200, 203, 76, 205, 206, 82, 83, 469, 214, 343, 216, 100, 356, 365, 368, 372, 117, 376, 251, 126], 241: []}\n",
            "CLuster at  14   {302: [173, 124, 67, 482, 138, 412, 480, 156, 386, 389, 64, 424, 434, 88, 422, 133, 131, 311, 276, 265, 324, 406, 178, 445, 341, 425, 454, 390, 40, 36, 30, 426, 46, 217, 3, 267, 437, 333, 358, 486, 74, 443, 282, 109, 371, 220, 115, 222, 197, 139, 233, 207, 84, 380, 280, 301, 94, 113, 73, 111, 444, 414, 174, 198, 387, 16, 277, 28, 421, 37, 41, 442, 59, 65, 71, 200, 203, 76, 205, 206, 83, 469, 214, 343, 216, 100, 356, 365, 368, 372, 117, 376, 126], 251: [82], 163: [241, 431, 194]}\n",
            "CLuster at  13   {65: [173, 302, 67, 241, 138, 431, 412, 480, 163, 156, 386, 389, 64, 424, 434, 88, 422, 133, 131, 311, 276, 265, 324, 406, 178, 445, 341, 425, 454, 390, 40, 36, 30, 426, 46, 217, 3, 267, 437, 333, 358, 486, 74, 443, 282, 109, 371, 220, 115, 222, 197, 139, 233, 207, 84, 380, 280, 301, 94, 113, 73, 111, 444, 414, 174, 198, 387, 16, 277, 28, 421, 37, 41, 442, 59, 71, 200, 203, 76, 205, 206, 83, 469, 214, 343, 216, 100, 356, 365, 368, 372, 117, 376, 251, 126], 82: [], 194: [124, 482]}\n",
            "CLuster at  12   {241: [302, 67, 138, 431, 412, 480, 163, 156, 386, 389, 64, 424, 434, 88, 422, 133, 131, 311, 276, 265, 324, 406, 178, 445, 341, 425, 454, 390, 40, 36, 30, 426, 46, 217, 3, 267, 437, 333, 358, 486, 74, 443, 282, 109, 371, 220, 115, 222, 197, 139, 233, 207, 84, 380, 280, 301, 94, 113, 73, 111, 444, 414, 174, 198, 387, 16, 277, 28, 421, 37, 41, 442, 59, 65, 71, 200, 203, 76, 205, 206, 83, 469, 214, 343, 216, 100, 356, 365, 368, 372, 117, 376, 251, 126], 82: [], 194: [173, 124, 482]}\n",
            "CLuster at  11   {241: [302, 67, 138, 431, 412, 480, 163, 156, 386, 389, 64, 424, 434, 88, 422, 133, 131, 311, 276, 265, 324, 406, 178, 445, 341, 425, 454, 390, 40, 36, 30, 426, 46, 217, 3, 267, 437, 333, 358, 486, 74, 443, 282, 109, 371, 220, 115, 222, 197, 139, 233, 207, 84, 380, 280, 301, 94, 113, 73, 111, 444, 414, 174, 198, 387, 16, 277, 28, 421, 37, 41, 442, 59, 65, 71, 200, 203, 76, 205, 206, 83, 469, 214, 343, 216, 100, 356, 365, 368, 372, 117, 376, 251, 126], 82: [], 194: [173, 124, 482]}\n",
            "CLuster at  10   {241: [302, 67, 138, 431, 412, 480, 163, 156, 386, 389, 64, 424, 434, 88, 422, 133, 131, 311, 276, 265, 324, 406, 178, 445, 341, 425, 454, 390, 40, 36, 30, 426, 46, 217, 3, 267, 437, 333, 358, 486, 74, 443, 282, 109, 371, 220, 115, 222, 197, 139, 233, 207, 84, 380, 280, 301, 94, 113, 73, 111, 444, 414, 174, 198, 387, 16, 277, 28, 421, 37, 41, 442, 59, 65, 71, 200, 203, 76, 205, 206, 83, 469, 214, 343, 216, 100, 356, 365, 368, 372, 117, 376, 251, 126], 82: [], 194: [173, 124, 482]}\n",
            "CLuster at  9   {241: [302, 67, 138, 431, 412, 480, 163, 156, 386, 389, 64, 424, 434, 88, 422, 133, 131, 311, 276, 265, 324, 406, 178, 445, 341, 425, 454, 390, 40, 36, 30, 426, 46, 217, 3, 267, 437, 333, 358, 486, 74, 443, 282, 109, 371, 220, 115, 222, 197, 139, 233, 207, 84, 380, 280, 301, 94, 113, 73, 111, 444, 414, 174, 198, 387, 16, 277, 28, 421, 37, 41, 442, 59, 65, 71, 200, 203, 76, 205, 206, 83, 469, 214, 343, 216, 100, 356, 365, 368, 372, 117, 376, 251, 126], 82: [], 194: [173, 124, 482]}\n",
            "CLuster at  8   {241: [302, 67, 138, 431, 412, 480, 163, 156, 386, 389, 64, 424, 434, 88, 422, 133, 131, 311, 276, 265, 324, 406, 178, 445, 341, 425, 454, 390, 40, 36, 30, 426, 46, 217, 3, 267, 437, 333, 358, 486, 74, 443, 282, 109, 371, 220, 115, 222, 197, 139, 233, 207, 84, 380, 280, 301, 94, 113, 73, 111, 444, 414, 174, 198, 387, 16, 277, 28, 421, 37, 41, 442, 59, 65, 71, 200, 203, 76, 205, 206, 83, 469, 214, 343, 216, 100, 356, 365, 368, 372, 117, 376, 251, 126], 82: [], 194: [173, 124, 482]}\n",
            "CLuster at  7   {241: [302, 67, 138, 431, 412, 480, 163, 156, 386, 389, 64, 424, 434, 88, 422, 133, 131, 311, 276, 265, 324, 406, 178, 445, 341, 425, 454, 390, 40, 36, 30, 426, 46, 217, 3, 267, 437, 333, 358, 486, 74, 443, 282, 109, 371, 220, 115, 222, 197, 139, 233, 207, 84, 380, 280, 301, 94, 113, 73, 111, 444, 414, 174, 198, 387, 16, 277, 28, 421, 37, 41, 442, 59, 65, 71, 200, 203, 76, 205, 206, 83, 469, 214, 343, 216, 100, 356, 365, 368, 372, 117, 376, 251, 126], 82: [], 194: [173, 124, 482]}\n",
            "CLuster at  6   {241: [302, 67, 138, 431, 412, 480, 163, 156, 386, 389, 64, 424, 434, 88, 422, 133, 131, 311, 276, 265, 324, 406, 178, 445, 341, 425, 454, 390, 40, 36, 30, 426, 46, 217, 3, 267, 437, 333, 358, 486, 74, 443, 282, 109, 371, 220, 115, 222, 197, 139, 233, 207, 84, 380, 280, 301, 94, 113, 73, 111, 444, 414, 174, 198, 387, 16, 277, 28, 421, 37, 41, 442, 59, 65, 71, 200, 203, 76, 205, 206, 83, 469, 214, 343, 216, 100, 356, 365, 368, 372, 117, 376, 251, 126], 82: [], 194: [173, 124, 482]}\n",
            "CLuster at  5   {241: [302, 67, 138, 431, 412, 480, 163, 156, 386, 389, 64, 424, 434, 88, 422, 133, 131, 311, 276, 265, 324, 406, 178, 445, 341, 425, 454, 390, 40, 36, 30, 426, 46, 217, 3, 267, 437, 333, 358, 486, 74, 443, 282, 109, 371, 220, 115, 222, 197, 139, 233, 207, 84, 380, 280, 301, 94, 113, 73, 111, 444, 414, 174, 198, 387, 16, 277, 28, 421, 37, 41, 442, 59, 65, 71, 200, 203, 76, 205, 206, 83, 469, 214, 343, 216, 100, 356, 365, 368, 372, 117, 376, 251, 126], 82: [], 194: [173, 124, 482]}\n",
            "CLuster at  4   {241: [302, 67, 138, 431, 412, 480, 163, 156, 386, 389, 64, 424, 434, 88, 422, 133, 131, 311, 276, 265, 324, 406, 178, 445, 341, 425, 454, 390, 40, 36, 30, 426, 46, 217, 3, 267, 437, 333, 358, 486, 74, 443, 282, 109, 371, 220, 115, 222, 197, 139, 233, 207, 84, 380, 280, 301, 94, 113, 73, 111, 444, 414, 174, 198, 387, 16, 277, 28, 421, 37, 41, 442, 59, 65, 71, 200, 203, 76, 205, 206, 83, 469, 214, 343, 216, 100, 356, 365, 368, 372, 117, 376, 251, 126], 82: [], 194: [173, 124, 482]}\n",
            "CLuster at  3   {241: [302, 67, 138, 431, 412, 480, 163, 156, 386, 389, 64, 424, 434, 88, 422, 133, 131, 311, 276, 265, 324, 406, 178, 445, 341, 425, 454, 390, 40, 36, 30, 426, 46, 217, 3, 267, 437, 333, 358, 486, 74, 443, 282, 109, 371, 220, 115, 222, 197, 139, 233, 207, 84, 380, 280, 301, 94, 113, 73, 111, 444, 414, 174, 198, 387, 16, 277, 28, 421, 37, 41, 442, 59, 65, 71, 200, 203, 76, 205, 206, 83, 469, 214, 343, 216, 100, 356, 365, 368, 372, 117, 376, 251, 126], 82: [], 194: [173, 124, 482]}\n",
            "CLuster at  2   {241: [302, 67, 138, 431, 412, 480, 163, 156, 386, 389, 64, 424, 434, 88, 422, 133, 131, 311, 276, 265, 324, 406, 178, 445, 341, 425, 454, 390, 40, 36, 30, 426, 46, 217, 3, 267, 437, 333, 358, 486, 74, 443, 282, 109, 371, 220, 115, 222, 197, 139, 233, 207, 84, 380, 280, 301, 94, 113, 73, 111, 444, 414, 174, 198, 387, 16, 277, 28, 421, 37, 41, 442, 59, 65, 71, 200, 203, 76, 205, 206, 83, 469, 214, 343, 216, 100, 356, 365, 368, 372, 117, 376, 251, 126], 82: [], 194: [173, 124, 482]}\n",
            "CLuster at  1   {241: [302, 67, 138, 431, 412, 480, 163, 156, 386, 389, 64, 424, 434, 88, 422, 133, 131, 311, 276, 265, 324, 406, 178, 445, 341, 425, 454, 390, 40, 36, 30, 426, 46, 217, 3, 267, 437, 333, 358, 486, 74, 443, 282, 109, 371, 220, 115, 222, 197, 139, 233, 207, 84, 380, 280, 301, 94, 113, 73, 111, 444, 414, 174, 198, 387, 16, 277, 28, 421, 37, 41, 442, 59, 65, 71, 200, 203, 76, 205, 206, 83, 469, 214, 343, 216, 100, 356, 365, 368, 372, 117, 376, 251, 126], 82: [], 194: [173, 124, 482]}\n",
            "CLuster at  0   {241: [302, 67, 138, 431, 412, 480, 163, 156, 386, 389, 64, 424, 434, 88, 422, 133, 131, 311, 276, 265, 324, 406, 178, 445, 341, 425, 454, 390, 40, 36, 30, 426, 46, 217, 3, 267, 437, 333, 358, 486, 74, 443, 282, 109, 371, 220, 115, 222, 197, 139, 233, 207, 84, 380, 280, 301, 94, 113, 73, 111, 444, 414, 174, 198, 387, 16, 277, 28, 421, 37, 41, 442, 59, 65, 71, 200, 203, 76, 205, 206, 83, 469, 214, 343, 216, 100, 356, 365, 368, 372, 117, 376, 251, 126], 82: [], 194: [173, 124, 482]}\n",
            "Final CLuster {241: [302, 67, 138, 431, 412, 480, 163, 156, 386, 389, 64, 424, 434, 88, 422, 133, 131, 311, 276, 265, 324, 406, 178, 445, 341, 425, 454, 390, 40, 36, 30, 426, 46, 217, 3, 267, 437, 333, 358, 486, 74, 443, 282, 109, 371, 220, 115, 222, 197, 139, 233, 207, 84, 380, 280, 301, 94, 113, 73, 111, 444, 414, 174, 198, 387, 16, 277, 28, 421, 37, 41, 442, 59, 65, 71, 200, 203, 76, 205, 206, 83, 469, 214, 343, 216, 100, 356, 365, 368, 372, 117, 376, 251, 126], 82: [], 194: [173, 124, 482]}\n",
            "CLuster at  14   {445: [173, 482, 241, 138, 194, 412, 480, 163, 386, 389, 64, 424, 434, 88, 422, 133, 131, 311, 324, 406, 178, 341, 425, 454, 390, 40, 36, 30, 426, 46, 217, 3, 437, 333, 358, 486, 74, 443, 282, 109, 371, 220, 115, 222, 197, 139, 233, 207, 84, 380, 280, 301, 94, 113, 73, 111, 444, 414, 174, 198, 387, 16, 28, 421, 37, 41, 442, 59, 65, 71, 200, 203, 76, 205, 206, 83, 469, 214, 343, 216, 100, 356, 365, 368, 372, 117, 376, 251, 126], 276: [302, 67, 265, 277], 82: [124, 431, 267], 156: []}\n",
            "CLuster at  13   {241: [124, 482, 138, 194, 412, 480, 163, 386, 389, 64, 424, 434, 88, 422, 133, 131, 311, 324, 406, 178, 445, 341, 425, 454, 390, 40, 36, 30, 426, 46, 217, 3, 437, 333, 358, 486, 74, 443, 282, 109, 371, 220, 115, 222, 197, 139, 233, 207, 84, 380, 280, 301, 94, 113, 73, 111, 444, 414, 174, 198, 387, 16, 28, 421, 37, 41, 442, 59, 65, 71, 200, 203, 76, 205, 206, 83, 469, 214, 343, 216, 100, 356, 365, 368, 372, 117, 376, 251, 126], 276: [173, 302, 67, 265, 277], 82: [431, 267], 156: []}\n",
            "CLuster at  12   {241: [124, 482, 138, 194, 412, 480, 163, 386, 389, 64, 424, 434, 88, 422, 133, 131, 311, 324, 406, 178, 445, 341, 425, 454, 390, 40, 36, 30, 426, 46, 217, 3, 437, 333, 358, 486, 74, 443, 282, 109, 371, 220, 115, 222, 197, 139, 233, 207, 84, 380, 280, 301, 94, 113, 73, 111, 444, 414, 174, 198, 387, 16, 28, 421, 37, 41, 442, 59, 65, 71, 200, 203, 76, 205, 206, 83, 469, 214, 343, 216, 100, 356, 365, 368, 372, 117, 376, 251, 126], 276: [173, 302, 67, 265, 277], 82: [431, 267], 156: []}\n",
            "CLuster at  11   {241: [124, 482, 138, 194, 412, 480, 163, 386, 389, 64, 424, 434, 88, 422, 133, 131, 311, 324, 406, 178, 445, 341, 425, 454, 390, 40, 36, 30, 426, 46, 217, 3, 437, 333, 358, 486, 74, 443, 282, 109, 371, 220, 115, 222, 197, 139, 233, 207, 84, 380, 280, 301, 94, 113, 73, 111, 444, 414, 174, 198, 387, 16, 28, 421, 37, 41, 442, 59, 65, 71, 200, 203, 76, 205, 206, 83, 469, 214, 343, 216, 100, 356, 365, 368, 372, 117, 376, 251, 126], 276: [173, 302, 67, 265, 277], 82: [431, 267], 156: []}\n",
            "CLuster at  10   {241: [124, 482, 138, 194, 412, 480, 163, 386, 389, 64, 424, 434, 88, 422, 133, 131, 311, 324, 406, 178, 445, 341, 425, 454, 390, 40, 36, 30, 426, 46, 217, 3, 437, 333, 358, 486, 74, 443, 282, 109, 371, 220, 115, 222, 197, 139, 233, 207, 84, 380, 280, 301, 94, 113, 73, 111, 444, 414, 174, 198, 387, 16, 28, 421, 37, 41, 442, 59, 65, 71, 200, 203, 76, 205, 206, 83, 469, 214, 343, 216, 100, 356, 365, 368, 372, 117, 376, 251, 126], 276: [173, 302, 67, 265, 277], 82: [431, 267], 156: []}\n",
            "CLuster at  9   {241: [124, 482, 138, 194, 412, 480, 163, 386, 389, 64, 424, 434, 88, 422, 133, 131, 311, 324, 406, 178, 445, 341, 425, 454, 390, 40, 36, 30, 426, 46, 217, 3, 437, 333, 358, 486, 74, 443, 282, 109, 371, 220, 115, 222, 197, 139, 233, 207, 84, 380, 280, 301, 94, 113, 73, 111, 444, 414, 174, 198, 387, 16, 28, 421, 37, 41, 442, 59, 65, 71, 200, 203, 76, 205, 206, 83, 469, 214, 343, 216, 100, 356, 365, 368, 372, 117, 376, 251, 126], 276: [173, 302, 67, 265, 277], 82: [431, 267], 156: []}\n",
            "CLuster at  8   {241: [124, 482, 138, 194, 412, 480, 163, 386, 389, 64, 424, 434, 88, 422, 133, 131, 311, 324, 406, 178, 445, 341, 425, 454, 390, 40, 36, 30, 426, 46, 217, 3, 437, 333, 358, 486, 74, 443, 282, 109, 371, 220, 115, 222, 197, 139, 233, 207, 84, 380, 280, 301, 94, 113, 73, 111, 444, 414, 174, 198, 387, 16, 28, 421, 37, 41, 442, 59, 65, 71, 200, 203, 76, 205, 206, 83, 469, 214, 343, 216, 100, 356, 365, 368, 372, 117, 376, 251, 126], 276: [173, 302, 67, 265, 277], 82: [431, 267], 156: []}\n",
            "CLuster at  7   {241: [124, 482, 138, 194, 412, 480, 163, 386, 389, 64, 424, 434, 88, 422, 133, 131, 311, 324, 406, 178, 445, 341, 425, 454, 390, 40, 36, 30, 426, 46, 217, 3, 437, 333, 358, 486, 74, 443, 282, 109, 371, 220, 115, 222, 197, 139, 233, 207, 84, 380, 280, 301, 94, 113, 73, 111, 444, 414, 174, 198, 387, 16, 28, 421, 37, 41, 442, 59, 65, 71, 200, 203, 76, 205, 206, 83, 469, 214, 343, 216, 100, 356, 365, 368, 372, 117, 376, 251, 126], 276: [173, 302, 67, 265, 277], 82: [431, 267], 156: []}\n",
            "CLuster at  6   {241: [124, 482, 138, 194, 412, 480, 163, 386, 389, 64, 424, 434, 88, 422, 133, 131, 311, 324, 406, 178, 445, 341, 425, 454, 390, 40, 36, 30, 426, 46, 217, 3, 437, 333, 358, 486, 74, 443, 282, 109, 371, 220, 115, 222, 197, 139, 233, 207, 84, 380, 280, 301, 94, 113, 73, 111, 444, 414, 174, 198, 387, 16, 28, 421, 37, 41, 442, 59, 65, 71, 200, 203, 76, 205, 206, 83, 469, 214, 343, 216, 100, 356, 365, 368, 372, 117, 376, 251, 126], 276: [173, 302, 67, 265, 277], 82: [431, 267], 156: []}\n",
            "CLuster at  5   {241: [124, 482, 138, 194, 412, 480, 163, 386, 389, 64, 424, 434, 88, 422, 133, 131, 311, 324, 406, 178, 445, 341, 425, 454, 390, 40, 36, 30, 426, 46, 217, 3, 437, 333, 358, 486, 74, 443, 282, 109, 371, 220, 115, 222, 197, 139, 233, 207, 84, 380, 280, 301, 94, 113, 73, 111, 444, 414, 174, 198, 387, 16, 28, 421, 37, 41, 442, 59, 65, 71, 200, 203, 76, 205, 206, 83, 469, 214, 343, 216, 100, 356, 365, 368, 372, 117, 376, 251, 126], 276: [173, 302, 67, 265, 277], 82: [431, 267], 156: []}\n",
            "CLuster at  4   {241: [124, 482, 138, 194, 412, 480, 163, 386, 389, 64, 424, 434, 88, 422, 133, 131, 311, 324, 406, 178, 445, 341, 425, 454, 390, 40, 36, 30, 426, 46, 217, 3, 437, 333, 358, 486, 74, 443, 282, 109, 371, 220, 115, 222, 197, 139, 233, 207, 84, 380, 280, 301, 94, 113, 73, 111, 444, 414, 174, 198, 387, 16, 28, 421, 37, 41, 442, 59, 65, 71, 200, 203, 76, 205, 206, 83, 469, 214, 343, 216, 100, 356, 365, 368, 372, 117, 376, 251, 126], 276: [173, 302, 67, 265, 277], 82: [431, 267], 156: []}\n",
            "CLuster at  3   {241: [124, 482, 138, 194, 412, 480, 163, 386, 389, 64, 424, 434, 88, 422, 133, 131, 311, 324, 406, 178, 445, 341, 425, 454, 390, 40, 36, 30, 426, 46, 217, 3, 437, 333, 358, 486, 74, 443, 282, 109, 371, 220, 115, 222, 197, 139, 233, 207, 84, 380, 280, 301, 94, 113, 73, 111, 444, 414, 174, 198, 387, 16, 28, 421, 37, 41, 442, 59, 65, 71, 200, 203, 76, 205, 206, 83, 469, 214, 343, 216, 100, 356, 365, 368, 372, 117, 376, 251, 126], 276: [173, 302, 67, 265, 277], 82: [431, 267], 156: []}\n",
            "CLuster at  2   {241: [124, 482, 138, 194, 412, 480, 163, 386, 389, 64, 424, 434, 88, 422, 133, 131, 311, 324, 406, 178, 445, 341, 425, 454, 390, 40, 36, 30, 426, 46, 217, 3, 437, 333, 358, 486, 74, 443, 282, 109, 371, 220, 115, 222, 197, 139, 233, 207, 84, 380, 280, 301, 94, 113, 73, 111, 444, 414, 174, 198, 387, 16, 28, 421, 37, 41, 442, 59, 65, 71, 200, 203, 76, 205, 206, 83, 469, 214, 343, 216, 100, 356, 365, 368, 372, 117, 376, 251, 126], 276: [173, 302, 67, 265, 277], 82: [431, 267], 156: []}\n",
            "CLuster at  1   {241: [124, 482, 138, 194, 412, 480, 163, 386, 389, 64, 424, 434, 88, 422, 133, 131, 311, 324, 406, 178, 445, 341, 425, 454, 390, 40, 36, 30, 426, 46, 217, 3, 437, 333, 358, 486, 74, 443, 282, 109, 371, 220, 115, 222, 197, 139, 233, 207, 84, 380, 280, 301, 94, 113, 73, 111, 444, 414, 174, 198, 387, 16, 28, 421, 37, 41, 442, 59, 65, 71, 200, 203, 76, 205, 206, 83, 469, 214, 343, 216, 100, 356, 365, 368, 372, 117, 376, 251, 126], 276: [173, 302, 67, 265, 277], 82: [431, 267], 156: []}\n",
            "CLuster at  0   {241: [124, 482, 138, 194, 412, 480, 163, 386, 389, 64, 424, 434, 88, 422, 133, 131, 311, 324, 406, 178, 445, 341, 425, 454, 390, 40, 36, 30, 426, 46, 217, 3, 437, 333, 358, 486, 74, 443, 282, 109, 371, 220, 115, 222, 197, 139, 233, 207, 84, 380, 280, 301, 94, 113, 73, 111, 444, 414, 174, 198, 387, 16, 28, 421, 37, 41, 442, 59, 65, 71, 200, 203, 76, 205, 206, 83, 469, 214, 343, 216, 100, 356, 365, 368, 372, 117, 376, 251, 126], 276: [173, 302, 67, 265, 277], 82: [431, 267], 156: []}\n",
            "Final CLuster {241: [124, 482, 138, 194, 412, 480, 163, 386, 389, 64, 424, 434, 88, 422, 133, 131, 311, 324, 406, 178, 445, 341, 425, 454, 390, 40, 36, 30, 426, 46, 217, 3, 437, 333, 358, 486, 74, 443, 282, 109, 371, 220, 115, 222, 197, 139, 233, 207, 84, 380, 280, 301, 94, 113, 73, 111, 444, 414, 174, 198, 387, 16, 28, 421, 37, 41, 442, 59, 65, 71, 200, 203, 76, 205, 206, 83, 469, 214, 343, 216, 100, 356, 365, 368, 372, 117, 376, 251, 126], 276: [173, 302, 67, 265, 277], 82: [431, 267], 156: []}\n",
            "CLuster at  14   {222: [173, 302, 67, 482, 241, 138, 431, 194, 480, 163, 156, 386, 389, 424, 434, 88, 133, 131, 311, 276, 265, 324, 406, 178, 341, 425, 454, 390, 40, 36, 30, 426, 46, 217, 3, 267, 437, 333, 358, 486, 74, 443, 282, 109, 371, 115, 197, 139, 233, 207, 84, 380, 280, 301, 94, 113, 73, 111, 444, 414, 174, 198, 387, 16, 277, 28, 421, 37, 41, 442, 59, 65, 71, 200, 203, 205, 206, 82, 83, 469, 214, 343, 216, 100, 356, 365, 368, 372, 117, 376, 251], 64: [412, 422, 126], 76: [124], 445: [], 220: []}\n",
            "CLuster at  13   {241: [67, 482, 138, 194, 480, 163, 156, 386, 389, 424, 434, 88, 133, 131, 311, 276, 265, 324, 406, 178, 341, 425, 454, 390, 40, 36, 30, 426, 46, 217, 3, 267, 437, 333, 358, 486, 74, 443, 282, 109, 371, 115, 222, 197, 139, 233, 207, 84, 380, 280, 301, 94, 113, 73, 111, 444, 414, 174, 198, 387, 16, 277, 28, 421, 37, 41, 442, 59, 65, 71, 200, 203, 76, 205, 206, 82, 83, 469, 214, 343, 216, 100, 356, 365, 368, 372, 117, 376, 251, 126], 64: [412, 422], 124: [173, 302, 431], 445: [], 220: []}\n",
            "CLuster at  12   {241: [67, 482, 138, 194, 480, 163, 156, 386, 389, 424, 434, 88, 133, 131, 311, 276, 265, 324, 406, 178, 341, 425, 454, 390, 40, 36, 30, 426, 46, 217, 3, 267, 437, 333, 358, 486, 74, 443, 282, 109, 371, 115, 222, 197, 139, 233, 207, 84, 380, 280, 301, 94, 113, 73, 111, 444, 414, 174, 198, 387, 16, 277, 28, 421, 37, 41, 442, 59, 65, 71, 200, 203, 76, 205, 206, 82, 83, 469, 214, 343, 216, 100, 356, 365, 368, 372, 117, 376, 251, 126], 64: [412, 422], 124: [173, 302, 431], 445: [], 220: []}\n",
            "CLuster at  11   {241: [67, 482, 138, 194, 480, 163, 156, 386, 389, 424, 434, 88, 133, 131, 311, 276, 265, 324, 406, 178, 341, 425, 454, 390, 40, 36, 30, 426, 46, 217, 3, 267, 437, 333, 358, 486, 74, 443, 282, 109, 371, 115, 222, 197, 139, 233, 207, 84, 380, 280, 301, 94, 113, 73, 111, 444, 414, 174, 198, 387, 16, 277, 28, 421, 37, 41, 442, 59, 65, 71, 200, 203, 76, 205, 206, 82, 83, 469, 214, 343, 216, 100, 356, 365, 368, 372, 117, 376, 251, 126], 64: [412, 422], 124: [173, 302, 431], 445: [], 220: []}\n",
            "CLuster at  10   {241: [67, 482, 138, 194, 480, 163, 156, 386, 389, 424, 434, 88, 133, 131, 311, 276, 265, 324, 406, 178, 341, 425, 454, 390, 40, 36, 30, 426, 46, 217, 3, 267, 437, 333, 358, 486, 74, 443, 282, 109, 371, 115, 222, 197, 139, 233, 207, 84, 380, 280, 301, 94, 113, 73, 111, 444, 414, 174, 198, 387, 16, 277, 28, 421, 37, 41, 442, 59, 65, 71, 200, 203, 76, 205, 206, 82, 83, 469, 214, 343, 216, 100, 356, 365, 368, 372, 117, 376, 251, 126], 64: [412, 422], 124: [173, 302, 431], 445: [], 220: []}\n",
            "CLuster at  9   {241: [67, 482, 138, 194, 480, 163, 156, 386, 389, 424, 434, 88, 133, 131, 311, 276, 265, 324, 406, 178, 341, 425, 454, 390, 40, 36, 30, 426, 46, 217, 3, 267, 437, 333, 358, 486, 74, 443, 282, 109, 371, 115, 222, 197, 139, 233, 207, 84, 380, 280, 301, 94, 113, 73, 111, 444, 414, 174, 198, 387, 16, 277, 28, 421, 37, 41, 442, 59, 65, 71, 200, 203, 76, 205, 206, 82, 83, 469, 214, 343, 216, 100, 356, 365, 368, 372, 117, 376, 251, 126], 64: [412, 422], 124: [173, 302, 431], 445: [], 220: []}\n",
            "CLuster at  8   {241: [67, 482, 138, 194, 480, 163, 156, 386, 389, 424, 434, 88, 133, 131, 311, 276, 265, 324, 406, 178, 341, 425, 454, 390, 40, 36, 30, 426, 46, 217, 3, 267, 437, 333, 358, 486, 74, 443, 282, 109, 371, 115, 222, 197, 139, 233, 207, 84, 380, 280, 301, 94, 113, 73, 111, 444, 414, 174, 198, 387, 16, 277, 28, 421, 37, 41, 442, 59, 65, 71, 200, 203, 76, 205, 206, 82, 83, 469, 214, 343, 216, 100, 356, 365, 368, 372, 117, 376, 251, 126], 64: [412, 422], 124: [173, 302, 431], 445: [], 220: []}\n",
            "CLuster at  7   {241: [67, 482, 138, 194, 480, 163, 156, 386, 389, 424, 434, 88, 133, 131, 311, 276, 265, 324, 406, 178, 341, 425, 454, 390, 40, 36, 30, 426, 46, 217, 3, 267, 437, 333, 358, 486, 74, 443, 282, 109, 371, 115, 222, 197, 139, 233, 207, 84, 380, 280, 301, 94, 113, 73, 111, 444, 414, 174, 198, 387, 16, 277, 28, 421, 37, 41, 442, 59, 65, 71, 200, 203, 76, 205, 206, 82, 83, 469, 214, 343, 216, 100, 356, 365, 368, 372, 117, 376, 251, 126], 64: [412, 422], 124: [173, 302, 431], 445: [], 220: []}\n",
            "CLuster at  6   {241: [67, 482, 138, 194, 480, 163, 156, 386, 389, 424, 434, 88, 133, 131, 311, 276, 265, 324, 406, 178, 341, 425, 454, 390, 40, 36, 30, 426, 46, 217, 3, 267, 437, 333, 358, 486, 74, 443, 282, 109, 371, 115, 222, 197, 139, 233, 207, 84, 380, 280, 301, 94, 113, 73, 111, 444, 414, 174, 198, 387, 16, 277, 28, 421, 37, 41, 442, 59, 65, 71, 200, 203, 76, 205, 206, 82, 83, 469, 214, 343, 216, 100, 356, 365, 368, 372, 117, 376, 251, 126], 64: [412, 422], 124: [173, 302, 431], 445: [], 220: []}\n",
            "CLuster at  5   {241: [67, 482, 138, 194, 480, 163, 156, 386, 389, 424, 434, 88, 133, 131, 311, 276, 265, 324, 406, 178, 341, 425, 454, 390, 40, 36, 30, 426, 46, 217, 3, 267, 437, 333, 358, 486, 74, 443, 282, 109, 371, 115, 222, 197, 139, 233, 207, 84, 380, 280, 301, 94, 113, 73, 111, 444, 414, 174, 198, 387, 16, 277, 28, 421, 37, 41, 442, 59, 65, 71, 200, 203, 76, 205, 206, 82, 83, 469, 214, 343, 216, 100, 356, 365, 368, 372, 117, 376, 251, 126], 64: [412, 422], 124: [173, 302, 431], 445: [], 220: []}\n",
            "CLuster at  4   {241: [67, 482, 138, 194, 480, 163, 156, 386, 389, 424, 434, 88, 133, 131, 311, 276, 265, 324, 406, 178, 341, 425, 454, 390, 40, 36, 30, 426, 46, 217, 3, 267, 437, 333, 358, 486, 74, 443, 282, 109, 371, 115, 222, 197, 139, 233, 207, 84, 380, 280, 301, 94, 113, 73, 111, 444, 414, 174, 198, 387, 16, 277, 28, 421, 37, 41, 442, 59, 65, 71, 200, 203, 76, 205, 206, 82, 83, 469, 214, 343, 216, 100, 356, 365, 368, 372, 117, 376, 251, 126], 64: [412, 422], 124: [173, 302, 431], 445: [], 220: []}\n",
            "CLuster at  3   {241: [67, 482, 138, 194, 480, 163, 156, 386, 389, 424, 434, 88, 133, 131, 311, 276, 265, 324, 406, 178, 341, 425, 454, 390, 40, 36, 30, 426, 46, 217, 3, 267, 437, 333, 358, 486, 74, 443, 282, 109, 371, 115, 222, 197, 139, 233, 207, 84, 380, 280, 301, 94, 113, 73, 111, 444, 414, 174, 198, 387, 16, 277, 28, 421, 37, 41, 442, 59, 65, 71, 200, 203, 76, 205, 206, 82, 83, 469, 214, 343, 216, 100, 356, 365, 368, 372, 117, 376, 251, 126], 64: [412, 422], 124: [173, 302, 431], 445: [], 220: []}\n",
            "CLuster at  2   {241: [67, 482, 138, 194, 480, 163, 156, 386, 389, 424, 434, 88, 133, 131, 311, 276, 265, 324, 406, 178, 341, 425, 454, 390, 40, 36, 30, 426, 46, 217, 3, 267, 437, 333, 358, 486, 74, 443, 282, 109, 371, 115, 222, 197, 139, 233, 207, 84, 380, 280, 301, 94, 113, 73, 111, 444, 414, 174, 198, 387, 16, 277, 28, 421, 37, 41, 442, 59, 65, 71, 200, 203, 76, 205, 206, 82, 83, 469, 214, 343, 216, 100, 356, 365, 368, 372, 117, 376, 251, 126], 64: [412, 422], 124: [173, 302, 431], 445: [], 220: []}\n",
            "CLuster at  1   {241: [67, 482, 138, 194, 480, 163, 156, 386, 389, 424, 434, 88, 133, 131, 311, 276, 265, 324, 406, 178, 341, 425, 454, 390, 40, 36, 30, 426, 46, 217, 3, 267, 437, 333, 358, 486, 74, 443, 282, 109, 371, 115, 222, 197, 139, 233, 207, 84, 380, 280, 301, 94, 113, 73, 111, 444, 414, 174, 198, 387, 16, 277, 28, 421, 37, 41, 442, 59, 65, 71, 200, 203, 76, 205, 206, 82, 83, 469, 214, 343, 216, 100, 356, 365, 368, 372, 117, 376, 251, 126], 64: [412, 422], 124: [173, 302, 431], 445: [], 220: []}\n",
            "CLuster at  0   {241: [67, 482, 138, 194, 480, 163, 156, 386, 389, 424, 434, 88, 133, 131, 311, 276, 265, 324, 406, 178, 341, 425, 454, 390, 40, 36, 30, 426, 46, 217, 3, 267, 437, 333, 358, 486, 74, 443, 282, 109, 371, 115, 222, 197, 139, 233, 207, 84, 380, 280, 301, 94, 113, 73, 111, 444, 414, 174, 198, 387, 16, 277, 28, 421, 37, 41, 442, 59, 65, 71, 200, 203, 76, 205, 206, 82, 83, 469, 214, 343, 216, 100, 356, 365, 368, 372, 117, 376, 251, 126], 64: [412, 422], 124: [173, 302, 431], 445: [], 220: []}\n",
            "Final CLuster {241: [67, 482, 138, 194, 480, 163, 156, 386, 389, 424, 434, 88, 133, 131, 311, 276, 265, 324, 406, 178, 341, 425, 454, 390, 40, 36, 30, 426, 46, 217, 3, 267, 437, 333, 358, 486, 74, 443, 282, 109, 371, 115, 222, 197, 139, 233, 207, 84, 380, 280, 301, 94, 113, 73, 111, 444, 414, 174, 198, 387, 16, 277, 28, 421, 37, 41, 442, 59, 65, 71, 200, 203, 76, 205, 206, 82, 83, 469, 214, 343, 216, 100, 356, 365, 368, 372, 117, 376, 251, 126], 64: [412, 422], 124: [173, 302, 431], 445: [], 220: []}\n",
            "CLuster at  14   {480: [302, 482, 138, 194, 412, 163, 156, 64, 424, 434, 88, 422, 133, 131, 311, 276, 265, 324, 406, 178, 445, 341, 425, 454, 390, 40, 36, 30, 217, 3, 267, 437, 333, 358, 486, 74, 443, 282, 109, 371, 220, 115, 222, 139, 233, 207, 84, 380, 280, 301, 94, 113, 73, 111, 444, 414, 174, 198, 387, 16, 277, 28, 421, 37, 41, 442, 59, 65, 71, 200, 203, 76, 205, 82, 83, 469, 214, 343, 216, 100, 356, 365, 368, 372, 117, 376, 251, 126], 206: [], 197: [], 431: [124, 67, 426], 46: [173, 241], 389: [386]}\n",
            "CLuster at  13   {82: [302, 482, 138, 194, 412, 480, 163, 156, 64, 424, 434, 88, 422, 133, 131, 311, 276, 265, 324, 406, 178, 445, 341, 425, 454, 390, 40, 36, 30, 217, 3, 267, 437, 333, 358, 486, 74, 443, 282, 109, 371, 220, 115, 222, 139, 233, 207, 84, 380, 280, 301, 94, 113, 73, 111, 444, 414, 174, 198, 387, 16, 277, 28, 421, 37, 41, 442, 59, 65, 71, 200, 203, 76, 205, 83, 469, 214, 343, 216, 100, 356, 365, 368, 372, 117, 376, 251, 126], 206: [], 197: [], 431: [124, 67, 426], 46: [173, 241], 386: [389]}\n",
            "CLuster at  12   {82: [302, 482, 138, 194, 412, 480, 163, 156, 64, 424, 434, 88, 422, 133, 131, 311, 276, 265, 324, 406, 178, 445, 341, 425, 454, 390, 40, 36, 30, 217, 3, 267, 437, 333, 358, 486, 74, 443, 282, 109, 371, 220, 115, 222, 139, 233, 207, 84, 380, 280, 301, 94, 113, 73, 111, 444, 414, 174, 198, 387, 16, 277, 28, 421, 37, 41, 442, 59, 65, 71, 200, 203, 76, 205, 83, 469, 214, 343, 216, 100, 356, 365, 368, 372, 117, 376, 251, 126], 206: [], 197: [], 431: [124, 67, 426], 46: [173, 241], 389: [386]}\n",
            "CLuster at  11   {82: [302, 482, 138, 194, 412, 480, 163, 156, 64, 424, 434, 88, 422, 133, 131, 311, 276, 265, 324, 406, 178, 445, 341, 425, 454, 390, 40, 36, 30, 217, 3, 267, 437, 333, 358, 486, 74, 443, 282, 109, 371, 220, 115, 222, 139, 233, 207, 84, 380, 280, 301, 94, 113, 73, 111, 444, 414, 174, 198, 387, 16, 277, 28, 421, 37, 41, 442, 59, 65, 71, 200, 203, 76, 205, 83, 469, 214, 343, 216, 100, 356, 365, 368, 372, 117, 376, 251, 126], 206: [], 197: [], 431: [124, 67, 426], 46: [173, 241], 386: [389]}\n",
            "CLuster at  10   {82: [302, 482, 138, 194, 412, 480, 163, 156, 64, 424, 434, 88, 422, 133, 131, 311, 276, 265, 324, 406, 178, 445, 341, 425, 454, 390, 40, 36, 30, 217, 3, 267, 437, 333, 358, 486, 74, 443, 282, 109, 371, 220, 115, 222, 139, 233, 207, 84, 380, 280, 301, 94, 113, 73, 111, 444, 414, 174, 198, 387, 16, 277, 28, 421, 37, 41, 442, 59, 65, 71, 200, 203, 76, 205, 83, 469, 214, 343, 216, 100, 356, 365, 368, 372, 117, 376, 251, 126], 206: [], 197: [], 431: [124, 67, 426], 46: [173, 241], 389: [386]}\n",
            "CLuster at  9   {82: [302, 482, 138, 194, 412, 480, 163, 156, 64, 424, 434, 88, 422, 133, 131, 311, 276, 265, 324, 406, 178, 445, 341, 425, 454, 390, 40, 36, 30, 217, 3, 267, 437, 333, 358, 486, 74, 443, 282, 109, 371, 220, 115, 222, 139, 233, 207, 84, 380, 280, 301, 94, 113, 73, 111, 444, 414, 174, 198, 387, 16, 277, 28, 421, 37, 41, 442, 59, 65, 71, 200, 203, 76, 205, 83, 469, 214, 343, 216, 100, 356, 365, 368, 372, 117, 376, 251, 126], 206: [], 197: [], 431: [124, 67, 426], 46: [173, 241], 386: [389]}\n",
            "CLuster at  8   {82: [302, 482, 138, 194, 412, 480, 163, 156, 64, 424, 434, 88, 422, 133, 131, 311, 276, 265, 324, 406, 178, 445, 341, 425, 454, 390, 40, 36, 30, 217, 3, 267, 437, 333, 358, 486, 74, 443, 282, 109, 371, 220, 115, 222, 139, 233, 207, 84, 380, 280, 301, 94, 113, 73, 111, 444, 414, 174, 198, 387, 16, 277, 28, 421, 37, 41, 442, 59, 65, 71, 200, 203, 76, 205, 83, 469, 214, 343, 216, 100, 356, 365, 368, 372, 117, 376, 251, 126], 206: [], 197: [], 431: [124, 67, 426], 46: [173, 241], 389: [386]}\n",
            "CLuster at  7   {82: [302, 482, 138, 194, 412, 480, 163, 156, 64, 424, 434, 88, 422, 133, 131, 311, 276, 265, 324, 406, 178, 445, 341, 425, 454, 390, 40, 36, 30, 217, 3, 267, 437, 333, 358, 486, 74, 443, 282, 109, 371, 220, 115, 222, 139, 233, 207, 84, 380, 280, 301, 94, 113, 73, 111, 444, 414, 174, 198, 387, 16, 277, 28, 421, 37, 41, 442, 59, 65, 71, 200, 203, 76, 205, 83, 469, 214, 343, 216, 100, 356, 365, 368, 372, 117, 376, 251, 126], 206: [], 197: [], 431: [124, 67, 426], 46: [173, 241], 386: [389]}\n",
            "CLuster at  6   {82: [302, 482, 138, 194, 412, 480, 163, 156, 64, 424, 434, 88, 422, 133, 131, 311, 276, 265, 324, 406, 178, 445, 341, 425, 454, 390, 40, 36, 30, 217, 3, 267, 437, 333, 358, 486, 74, 443, 282, 109, 371, 220, 115, 222, 139, 233, 207, 84, 380, 280, 301, 94, 113, 73, 111, 444, 414, 174, 198, 387, 16, 277, 28, 421, 37, 41, 442, 59, 65, 71, 200, 203, 76, 205, 83, 469, 214, 343, 216, 100, 356, 365, 368, 372, 117, 376, 251, 126], 206: [], 197: [], 431: [124, 67, 426], 46: [173, 241], 389: [386]}\n",
            "CLuster at  5   {82: [302, 482, 138, 194, 412, 480, 163, 156, 64, 424, 434, 88, 422, 133, 131, 311, 276, 265, 324, 406, 178, 445, 341, 425, 454, 390, 40, 36, 30, 217, 3, 267, 437, 333, 358, 486, 74, 443, 282, 109, 371, 220, 115, 222, 139, 233, 207, 84, 380, 280, 301, 94, 113, 73, 111, 444, 414, 174, 198, 387, 16, 277, 28, 421, 37, 41, 442, 59, 65, 71, 200, 203, 76, 205, 83, 469, 214, 343, 216, 100, 356, 365, 368, 372, 117, 376, 251, 126], 206: [], 197: [], 431: [124, 67, 426], 46: [173, 241], 386: [389]}\n",
            "CLuster at  4   {82: [302, 482, 138, 194, 412, 480, 163, 156, 64, 424, 434, 88, 422, 133, 131, 311, 276, 265, 324, 406, 178, 445, 341, 425, 454, 390, 40, 36, 30, 217, 3, 267, 437, 333, 358, 486, 74, 443, 282, 109, 371, 220, 115, 222, 139, 233, 207, 84, 380, 280, 301, 94, 113, 73, 111, 444, 414, 174, 198, 387, 16, 277, 28, 421, 37, 41, 442, 59, 65, 71, 200, 203, 76, 205, 83, 469, 214, 343, 216, 100, 356, 365, 368, 372, 117, 376, 251, 126], 206: [], 197: [], 431: [124, 67, 426], 46: [173, 241], 389: [386]}\n",
            "CLuster at  3   {82: [302, 482, 138, 194, 412, 480, 163, 156, 64, 424, 434, 88, 422, 133, 131, 311, 276, 265, 324, 406, 178, 445, 341, 425, 454, 390, 40, 36, 30, 217, 3, 267, 437, 333, 358, 486, 74, 443, 282, 109, 371, 220, 115, 222, 139, 233, 207, 84, 380, 280, 301, 94, 113, 73, 111, 444, 414, 174, 198, 387, 16, 277, 28, 421, 37, 41, 442, 59, 65, 71, 200, 203, 76, 205, 83, 469, 214, 343, 216, 100, 356, 365, 368, 372, 117, 376, 251, 126], 206: [], 197: [], 431: [124, 67, 426], 46: [173, 241], 386: [389]}\n",
            "CLuster at  2   {82: [302, 482, 138, 194, 412, 480, 163, 156, 64, 424, 434, 88, 422, 133, 131, 311, 276, 265, 324, 406, 178, 445, 341, 425, 454, 390, 40, 36, 30, 217, 3, 267, 437, 333, 358, 486, 74, 443, 282, 109, 371, 220, 115, 222, 139, 233, 207, 84, 380, 280, 301, 94, 113, 73, 111, 444, 414, 174, 198, 387, 16, 277, 28, 421, 37, 41, 442, 59, 65, 71, 200, 203, 76, 205, 83, 469, 214, 343, 216, 100, 356, 365, 368, 372, 117, 376, 251, 126], 206: [], 197: [], 431: [124, 67, 426], 46: [173, 241], 389: [386]}\n",
            "CLuster at  1   {82: [302, 482, 138, 194, 412, 480, 163, 156, 64, 424, 434, 88, 422, 133, 131, 311, 276, 265, 324, 406, 178, 445, 341, 425, 454, 390, 40, 36, 30, 217, 3, 267, 437, 333, 358, 486, 74, 443, 282, 109, 371, 220, 115, 222, 139, 233, 207, 84, 380, 280, 301, 94, 113, 73, 111, 444, 414, 174, 198, 387, 16, 277, 28, 421, 37, 41, 442, 59, 65, 71, 200, 203, 76, 205, 83, 469, 214, 343, 216, 100, 356, 365, 368, 372, 117, 376, 251, 126], 206: [], 197: [], 431: [124, 67, 426], 46: [173, 241], 386: [389]}\n",
            "CLuster at  0   {82: [302, 482, 138, 194, 412, 480, 163, 156, 64, 424, 434, 88, 422, 133, 131, 311, 276, 265, 324, 406, 178, 445, 341, 425, 454, 390, 40, 36, 30, 217, 3, 267, 437, 333, 358, 486, 74, 443, 282, 109, 371, 220, 115, 222, 139, 233, 207, 84, 380, 280, 301, 94, 113, 73, 111, 444, 414, 174, 198, 387, 16, 277, 28, 421, 37, 41, 442, 59, 65, 71, 200, 203, 76, 205, 83, 469, 214, 343, 216, 100, 356, 365, 368, 372, 117, 376, 251, 126], 206: [], 197: [], 431: [124, 67, 426], 46: [173, 241], 389: [386]}\n",
            "Final CLuster {82: [302, 482, 138, 194, 412, 480, 163, 156, 64, 424, 434, 88, 422, 133, 131, 311, 276, 265, 324, 406, 178, 445, 341, 425, 454, 390, 40, 36, 30, 217, 3, 267, 437, 333, 358, 486, 74, 443, 282, 109, 371, 220, 115, 222, 139, 233, 207, 84, 380, 280, 301, 94, 113, 73, 111, 444, 414, 174, 198, 387, 16, 277, 28, 421, 37, 41, 442, 59, 65, 71, 200, 203, 76, 205, 83, 469, 214, 343, 216, 100, 356, 365, 368, 372, 117, 376, 251, 126], 206: [], 197: [], 431: [124, 67, 426], 46: [173, 241], 389: [386]}\n",
            "CLuster at  14   {126: [124, 302, 482, 138, 431, 194, 412, 480, 163, 156, 386, 389, 424, 434, 88, 422, 133, 131, 311, 324, 178, 445, 341, 425, 454, 390, 40, 36, 30, 426, 46, 217, 3, 267, 437, 333, 358, 486, 74, 443, 282, 109, 371, 115, 222, 139, 233, 207, 84, 380, 280, 301, 94, 113, 73, 111, 444, 414, 174, 198, 387, 16, 28, 421, 37, 41, 442, 59, 65, 71, 203, 76, 205, 206, 82, 83, 469, 214, 343, 216, 100, 356, 365, 368, 372, 117, 376, 251], 406: [241], 276: [67, 265, 277], 64: [], 220: [], 197: [173], 200: []}\n",
            "CLuster at  13   {431: [124, 302, 67, 482, 138, 194, 480, 163, 156, 386, 389, 424, 434, 88, 422, 133, 131, 311, 324, 406, 178, 445, 341, 425, 454, 390, 40, 36, 30, 426, 46, 217, 3, 267, 437, 333, 358, 486, 74, 443, 282, 109, 371, 115, 222, 197, 139, 233, 207, 84, 380, 280, 301, 94, 113, 73, 111, 444, 414, 174, 198, 387, 16, 277, 28, 421, 37, 41, 442, 59, 65, 71, 203, 76, 205, 206, 82, 83, 469, 214, 343, 216, 100, 356, 365, 368, 372, 117, 376, 251, 126], 241: [], 276: [265], 64: [412], 220: [], 173: [], 200: []}\n",
            "CLuster at  12   {431: [302, 67, 482, 138, 194, 480, 163, 156, 386, 389, 434, 88, 422, 133, 131, 311, 276, 324, 406, 178, 445, 341, 425, 454, 390, 40, 36, 30, 426, 46, 217, 3, 267, 437, 333, 358, 486, 74, 443, 282, 109, 371, 115, 222, 197, 139, 233, 207, 84, 380, 280, 301, 94, 113, 73, 111, 444, 414, 174, 198, 387, 16, 277, 28, 421, 37, 41, 442, 59, 65, 71, 203, 76, 205, 206, 82, 83, 469, 214, 343, 216, 100, 356, 365, 368, 372, 117, 376, 251, 126], 241: [], 265: [124, 424], 412: [64], 220: [], 173: [], 200: []}\n",
            "CLuster at  11   {82: [302, 67, 482, 138, 194, 412, 480, 163, 156, 386, 389, 434, 88, 422, 133, 131, 311, 276, 324, 406, 178, 445, 341, 425, 454, 390, 40, 36, 30, 426, 46, 217, 3, 267, 437, 333, 358, 486, 74, 443, 282, 109, 371, 115, 222, 197, 139, 233, 207, 84, 380, 280, 301, 94, 113, 73, 111, 444, 414, 174, 198, 387, 16, 277, 28, 421, 37, 41, 442, 59, 65, 71, 203, 76, 205, 206, 83, 469, 214, 343, 216, 100, 356, 365, 368, 372, 117, 376, 251, 126], 241: [], 265: [124, 431, 424], 64: [], 220: [], 173: [], 200: []}\n",
            "CLuster at  10   {82: [302, 67, 482, 138, 194, 412, 480, 163, 156, 386, 389, 434, 88, 422, 133, 131, 311, 276, 324, 406, 178, 445, 341, 425, 454, 390, 40, 36, 30, 426, 46, 217, 3, 267, 437, 333, 358, 486, 74, 443, 282, 109, 371, 115, 222, 197, 139, 233, 207, 84, 380, 280, 301, 94, 113, 73, 111, 444, 414, 174, 198, 387, 16, 277, 28, 421, 37, 41, 442, 59, 65, 71, 203, 76, 205, 206, 83, 469, 214, 343, 216, 100, 356, 365, 368, 372, 117, 376, 251, 126], 241: [], 265: [124, 431, 424], 64: [], 220: [], 173: [], 200: []}\n",
            "CLuster at  9   {82: [302, 67, 482, 138, 194, 412, 480, 163, 156, 386, 389, 434, 88, 422, 133, 131, 311, 276, 324, 406, 178, 445, 341, 425, 454, 390, 40, 36, 30, 426, 46, 217, 3, 267, 437, 333, 358, 486, 74, 443, 282, 109, 371, 115, 222, 197, 139, 233, 207, 84, 380, 280, 301, 94, 113, 73, 111, 444, 414, 174, 198, 387, 16, 277, 28, 421, 37, 41, 442, 59, 65, 71, 203, 76, 205, 206, 83, 469, 214, 343, 216, 100, 356, 365, 368, 372, 117, 376, 251, 126], 241: [], 265: [124, 431, 424], 64: [], 220: [], 173: [], 200: []}\n",
            "CLuster at  8   {82: [302, 67, 482, 138, 194, 412, 480, 163, 156, 386, 389, 434, 88, 422, 133, 131, 311, 276, 324, 406, 178, 445, 341, 425, 454, 390, 40, 36, 30, 426, 46, 217, 3, 267, 437, 333, 358, 486, 74, 443, 282, 109, 371, 115, 222, 197, 139, 233, 207, 84, 380, 280, 301, 94, 113, 73, 111, 444, 414, 174, 198, 387, 16, 277, 28, 421, 37, 41, 442, 59, 65, 71, 203, 76, 205, 206, 83, 469, 214, 343, 216, 100, 356, 365, 368, 372, 117, 376, 251, 126], 241: [], 265: [124, 431, 424], 64: [], 220: [], 173: [], 200: []}\n",
            "CLuster at  7   {82: [302, 67, 482, 138, 194, 412, 480, 163, 156, 386, 389, 434, 88, 422, 133, 131, 311, 276, 324, 406, 178, 445, 341, 425, 454, 390, 40, 36, 30, 426, 46, 217, 3, 267, 437, 333, 358, 486, 74, 443, 282, 109, 371, 115, 222, 197, 139, 233, 207, 84, 380, 280, 301, 94, 113, 73, 111, 444, 414, 174, 198, 387, 16, 277, 28, 421, 37, 41, 442, 59, 65, 71, 203, 76, 205, 206, 83, 469, 214, 343, 216, 100, 356, 365, 368, 372, 117, 376, 251, 126], 241: [], 265: [124, 431, 424], 64: [], 220: [], 173: [], 200: []}\n",
            "CLuster at  6   {82: [302, 67, 482, 138, 194, 412, 480, 163, 156, 386, 389, 434, 88, 422, 133, 131, 311, 276, 324, 406, 178, 445, 341, 425, 454, 390, 40, 36, 30, 426, 46, 217, 3, 267, 437, 333, 358, 486, 74, 443, 282, 109, 371, 115, 222, 197, 139, 233, 207, 84, 380, 280, 301, 94, 113, 73, 111, 444, 414, 174, 198, 387, 16, 277, 28, 421, 37, 41, 442, 59, 65, 71, 203, 76, 205, 206, 83, 469, 214, 343, 216, 100, 356, 365, 368, 372, 117, 376, 251, 126], 241: [], 265: [124, 431, 424], 64: [], 220: [], 173: [], 200: []}\n",
            "CLuster at  5   {82: [302, 67, 482, 138, 194, 412, 480, 163, 156, 386, 389, 434, 88, 422, 133, 131, 311, 276, 324, 406, 178, 445, 341, 425, 454, 390, 40, 36, 30, 426, 46, 217, 3, 267, 437, 333, 358, 486, 74, 443, 282, 109, 371, 115, 222, 197, 139, 233, 207, 84, 380, 280, 301, 94, 113, 73, 111, 444, 414, 174, 198, 387, 16, 277, 28, 421, 37, 41, 442, 59, 65, 71, 203, 76, 205, 206, 83, 469, 214, 343, 216, 100, 356, 365, 368, 372, 117, 376, 251, 126], 241: [], 265: [124, 431, 424], 64: [], 220: [], 173: [], 200: []}\n",
            "CLuster at  4   {82: [302, 67, 482, 138, 194, 412, 480, 163, 156, 386, 389, 434, 88, 422, 133, 131, 311, 276, 324, 406, 178, 445, 341, 425, 454, 390, 40, 36, 30, 426, 46, 217, 3, 267, 437, 333, 358, 486, 74, 443, 282, 109, 371, 115, 222, 197, 139, 233, 207, 84, 380, 280, 301, 94, 113, 73, 111, 444, 414, 174, 198, 387, 16, 277, 28, 421, 37, 41, 442, 59, 65, 71, 203, 76, 205, 206, 83, 469, 214, 343, 216, 100, 356, 365, 368, 372, 117, 376, 251, 126], 241: [], 265: [124, 431, 424], 64: [], 220: [], 173: [], 200: []}\n",
            "CLuster at  3   {82: [302, 67, 482, 138, 194, 412, 480, 163, 156, 386, 389, 434, 88, 422, 133, 131, 311, 276, 324, 406, 178, 445, 341, 425, 454, 390, 40, 36, 30, 426, 46, 217, 3, 267, 437, 333, 358, 486, 74, 443, 282, 109, 371, 115, 222, 197, 139, 233, 207, 84, 380, 280, 301, 94, 113, 73, 111, 444, 414, 174, 198, 387, 16, 277, 28, 421, 37, 41, 442, 59, 65, 71, 203, 76, 205, 206, 83, 469, 214, 343, 216, 100, 356, 365, 368, 372, 117, 376, 251, 126], 241: [], 265: [124, 431, 424], 64: [], 220: [], 173: [], 200: []}\n",
            "CLuster at  2   {82: [302, 67, 482, 138, 194, 412, 480, 163, 156, 386, 389, 434, 88, 422, 133, 131, 311, 276, 324, 406, 178, 445, 341, 425, 454, 390, 40, 36, 30, 426, 46, 217, 3, 267, 437, 333, 358, 486, 74, 443, 282, 109, 371, 115, 222, 197, 139, 233, 207, 84, 380, 280, 301, 94, 113, 73, 111, 444, 414, 174, 198, 387, 16, 277, 28, 421, 37, 41, 442, 59, 65, 71, 203, 76, 205, 206, 83, 469, 214, 343, 216, 100, 356, 365, 368, 372, 117, 376, 251, 126], 241: [], 265: [124, 431, 424], 64: [], 220: [], 173: [], 200: []}\n",
            "CLuster at  1   {82: [302, 67, 482, 138, 194, 412, 480, 163, 156, 386, 389, 434, 88, 422, 133, 131, 311, 276, 324, 406, 178, 445, 341, 425, 454, 390, 40, 36, 30, 426, 46, 217, 3, 267, 437, 333, 358, 486, 74, 443, 282, 109, 371, 115, 222, 197, 139, 233, 207, 84, 380, 280, 301, 94, 113, 73, 111, 444, 414, 174, 198, 387, 16, 277, 28, 421, 37, 41, 442, 59, 65, 71, 203, 76, 205, 206, 83, 469, 214, 343, 216, 100, 356, 365, 368, 372, 117, 376, 251, 126], 241: [], 265: [124, 431, 424], 64: [], 220: [], 173: [], 200: []}\n",
            "CLuster at  0   {82: [302, 67, 482, 138, 194, 412, 480, 163, 156, 386, 389, 434, 88, 422, 133, 131, 311, 276, 324, 406, 178, 445, 341, 425, 454, 390, 40, 36, 30, 426, 46, 217, 3, 267, 437, 333, 358, 486, 74, 443, 282, 109, 371, 115, 222, 197, 139, 233, 207, 84, 380, 280, 301, 94, 113, 73, 111, 444, 414, 174, 198, 387, 16, 277, 28, 421, 37, 41, 442, 59, 65, 71, 203, 76, 205, 206, 83, 469, 214, 343, 216, 100, 356, 365, 368, 372, 117, 376, 251, 126], 241: [], 265: [124, 431, 424], 64: [], 220: [], 173: [], 200: []}\n",
            "Final CLuster {82: [302, 67, 482, 138, 194, 412, 480, 163, 156, 386, 389, 434, 88, 422, 133, 131, 311, 276, 324, 406, 178, 445, 341, 425, 454, 390, 40, 36, 30, 426, 46, 217, 3, 267, 437, 333, 358, 486, 74, 443, 282, 109, 371, 115, 222, 197, 139, 233, 207, 84, 380, 280, 301, 94, 113, 73, 111, 444, 414, 174, 198, 387, 16, 277, 28, 421, 37, 41, 442, 59, 65, 71, 203, 76, 205, 206, 83, 469, 214, 343, 216, 100, 356, 365, 368, 372, 117, 376, 251, 126], 241: [], 265: [124, 431, 424], 64: [], 220: [], 173: [], 200: []}\n",
            "CLuster at  14   {205: [67, 138, 431, 412, 480, 163, 156, 386, 389, 64, 424, 434, 88, 422, 133, 131, 276, 265, 324, 406, 178, 445, 341, 425, 454, 390, 40, 30, 426, 217, 3, 267, 437, 333, 358, 486, 74, 443, 282, 109, 371, 220, 115, 222, 197, 139, 233, 207, 84, 380, 280, 301, 94, 113, 73, 111, 444, 414, 174, 198, 387, 16, 277, 28, 421, 37, 41, 442, 59, 65, 71, 200, 203, 82, 83, 469, 214, 343, 216, 356, 365, 368, 372, 117, 376, 251, 126], 482: [194], 100: [], 76: [124], 46: [173, 302, 241], 36: [], 206: [], 311: []}\n",
            "CLuster at  13   {431: [67, 241, 138, 412, 480, 163, 156, 386, 389, 64, 424, 434, 88, 422, 133, 131, 276, 265, 324, 406, 178, 445, 341, 425, 454, 390, 40, 30, 426, 217, 3, 267, 437, 333, 358, 486, 74, 443, 282, 109, 371, 220, 115, 222, 197, 139, 233, 207, 84, 380, 280, 301, 94, 113, 73, 111, 444, 414, 174, 198, 387, 16, 277, 28, 421, 37, 41, 442, 59, 65, 71, 200, 203, 76, 205, 82, 83, 469, 214, 343, 216, 356, 365, 368, 372, 117, 376, 251, 126], 194: [482], 100: [], 124: [173], 46: [302], 36: [], 206: [], 311: []}\n",
            "CLuster at  12   {241: [67, 138, 412, 480, 163, 156, 386, 389, 64, 424, 434, 88, 422, 133, 131, 276, 265, 324, 406, 178, 445, 341, 425, 454, 390, 40, 30, 426, 46, 217, 3, 267, 437, 333, 358, 486, 74, 443, 282, 109, 371, 220, 115, 222, 197, 139, 233, 207, 84, 380, 280, 301, 94, 113, 73, 111, 444, 414, 174, 198, 387, 16, 277, 28, 421, 37, 41, 442, 59, 65, 71, 200, 203, 76, 205, 82, 83, 469, 214, 343, 216, 356, 365, 368, 372, 117, 376, 251, 126], 482: [194], 100: [], 173: [], 302: [124], 36: [431], 206: [], 311: []}\n",
            "CLuster at  11   {241: [138, 412, 480, 163, 156, 386, 389, 64, 424, 434, 88, 422, 133, 131, 276, 265, 324, 406, 178, 445, 341, 425, 454, 390, 40, 36, 30, 46, 217, 3, 267, 437, 333, 358, 486, 74, 443, 282, 109, 371, 220, 115, 222, 197, 139, 233, 207, 84, 380, 280, 301, 94, 113, 73, 111, 444, 414, 174, 198, 387, 16, 277, 28, 421, 37, 41, 442, 59, 65, 71, 200, 203, 76, 205, 82, 83, 469, 214, 343, 216, 356, 365, 368, 372, 117, 376, 251, 126], 194: [482], 100: [], 173: [], 124: [302], 431: [67, 426], 206: [], 311: []}\n",
            "CLuster at  10   {241: [138, 412, 480, 163, 156, 386, 389, 64, 424, 434, 88, 422, 133, 131, 276, 265, 324, 406, 178, 445, 341, 425, 454, 390, 40, 36, 30, 46, 217, 3, 267, 437, 333, 358, 486, 74, 443, 282, 109, 371, 220, 115, 222, 197, 139, 233, 207, 84, 380, 280, 301, 94, 113, 73, 111, 444, 414, 174, 198, 387, 16, 277, 28, 421, 37, 41, 442, 59, 65, 71, 200, 203, 76, 205, 82, 83, 469, 214, 343, 216, 356, 365, 368, 372, 117, 376, 251, 126], 482: [194], 100: [], 173: [], 302: [], 431: [124, 67, 426], 206: [], 311: []}\n",
            "CLuster at  9   {241: [138, 412, 480, 163, 156, 386, 389, 64, 424, 434, 88, 422, 133, 131, 276, 265, 324, 406, 178, 445, 341, 425, 454, 390, 40, 36, 30, 46, 217, 3, 267, 437, 333, 358, 486, 74, 443, 282, 109, 371, 220, 115, 222, 197, 139, 233, 207, 84, 380, 280, 301, 94, 113, 73, 111, 444, 414, 174, 198, 387, 16, 277, 28, 421, 37, 41, 442, 59, 65, 71, 200, 203, 76, 205, 82, 83, 469, 214, 343, 216, 356, 365, 368, 372, 117, 376, 251, 126], 194: [124, 482], 100: [], 173: [], 302: [], 431: [67, 426], 206: [], 311: []}\n",
            "CLuster at  8   {241: [138, 412, 480, 163, 156, 386, 389, 64, 424, 434, 88, 422, 133, 131, 276, 265, 324, 406, 178, 445, 341, 425, 454, 390, 40, 36, 30, 46, 217, 3, 267, 437, 333, 358, 486, 74, 443, 282, 109, 371, 220, 115, 222, 197, 139, 233, 207, 84, 380, 280, 301, 94, 113, 73, 111, 444, 414, 174, 198, 387, 16, 277, 28, 421, 37, 41, 442, 59, 65, 71, 200, 203, 76, 205, 82, 83, 469, 214, 343, 216, 356, 365, 368, 372, 117, 376, 251, 126], 194: [124, 482], 100: [], 173: [], 302: [], 431: [67, 426], 206: [], 311: []}\n",
            "CLuster at  7   {241: [138, 412, 480, 163, 156, 386, 389, 64, 424, 434, 88, 422, 133, 131, 276, 265, 324, 406, 178, 445, 341, 425, 454, 390, 40, 36, 30, 46, 217, 3, 267, 437, 333, 358, 486, 74, 443, 282, 109, 371, 220, 115, 222, 197, 139, 233, 207, 84, 380, 280, 301, 94, 113, 73, 111, 444, 414, 174, 198, 387, 16, 277, 28, 421, 37, 41, 442, 59, 65, 71, 200, 203, 76, 205, 82, 83, 469, 214, 343, 216, 356, 365, 368, 372, 117, 376, 251, 126], 194: [124, 482], 100: [], 173: [], 302: [], 431: [67, 426], 206: [], 311: []}\n",
            "CLuster at  6   {241: [138, 412, 480, 163, 156, 386, 389, 64, 424, 434, 88, 422, 133, 131, 276, 265, 324, 406, 178, 445, 341, 425, 454, 390, 40, 36, 30, 46, 217, 3, 267, 437, 333, 358, 486, 74, 443, 282, 109, 371, 220, 115, 222, 197, 139, 233, 207, 84, 380, 280, 301, 94, 113, 73, 111, 444, 414, 174, 198, 387, 16, 277, 28, 421, 37, 41, 442, 59, 65, 71, 200, 203, 76, 205, 82, 83, 469, 214, 343, 216, 356, 365, 368, 372, 117, 376, 251, 126], 194: [124, 482], 100: [], 173: [], 302: [], 431: [67, 426], 206: [], 311: []}\n",
            "CLuster at  5   {241: [138, 412, 480, 163, 156, 386, 389, 64, 424, 434, 88, 422, 133, 131, 276, 265, 324, 406, 178, 445, 341, 425, 454, 390, 40, 36, 30, 46, 217, 3, 267, 437, 333, 358, 486, 74, 443, 282, 109, 371, 220, 115, 222, 197, 139, 233, 207, 84, 380, 280, 301, 94, 113, 73, 111, 444, 414, 174, 198, 387, 16, 277, 28, 421, 37, 41, 442, 59, 65, 71, 200, 203, 76, 205, 82, 83, 469, 214, 343, 216, 356, 365, 368, 372, 117, 376, 251, 126], 194: [124, 482], 100: [], 173: [], 302: [], 431: [67, 426], 206: [], 311: []}\n",
            "CLuster at  4   {241: [138, 412, 480, 163, 156, 386, 389, 64, 424, 434, 88, 422, 133, 131, 276, 265, 324, 406, 178, 445, 341, 425, 454, 390, 40, 36, 30, 46, 217, 3, 267, 437, 333, 358, 486, 74, 443, 282, 109, 371, 220, 115, 222, 197, 139, 233, 207, 84, 380, 280, 301, 94, 113, 73, 111, 444, 414, 174, 198, 387, 16, 277, 28, 421, 37, 41, 442, 59, 65, 71, 200, 203, 76, 205, 82, 83, 469, 214, 343, 216, 356, 365, 368, 372, 117, 376, 251, 126], 194: [124, 482], 100: [], 173: [], 302: [], 431: [67, 426], 206: [], 311: []}\n",
            "CLuster at  3   {241: [138, 412, 480, 163, 156, 386, 389, 64, 424, 434, 88, 422, 133, 131, 276, 265, 324, 406, 178, 445, 341, 425, 454, 390, 40, 36, 30, 46, 217, 3, 267, 437, 333, 358, 486, 74, 443, 282, 109, 371, 220, 115, 222, 197, 139, 233, 207, 84, 380, 280, 301, 94, 113, 73, 111, 444, 414, 174, 198, 387, 16, 277, 28, 421, 37, 41, 442, 59, 65, 71, 200, 203, 76, 205, 82, 83, 469, 214, 343, 216, 356, 365, 368, 372, 117, 376, 251, 126], 194: [124, 482], 100: [], 173: [], 302: [], 431: [67, 426], 206: [], 311: []}\n",
            "CLuster at  2   {241: [138, 412, 480, 163, 156, 386, 389, 64, 424, 434, 88, 422, 133, 131, 276, 265, 324, 406, 178, 445, 341, 425, 454, 390, 40, 36, 30, 46, 217, 3, 267, 437, 333, 358, 486, 74, 443, 282, 109, 371, 220, 115, 222, 197, 139, 233, 207, 84, 380, 280, 301, 94, 113, 73, 111, 444, 414, 174, 198, 387, 16, 277, 28, 421, 37, 41, 442, 59, 65, 71, 200, 203, 76, 205, 82, 83, 469, 214, 343, 216, 356, 365, 368, 372, 117, 376, 251, 126], 194: [124, 482], 100: [], 173: [], 302: [], 431: [67, 426], 206: [], 311: []}\n",
            "CLuster at  1   {241: [138, 412, 480, 163, 156, 386, 389, 64, 424, 434, 88, 422, 133, 131, 276, 265, 324, 406, 178, 445, 341, 425, 454, 390, 40, 36, 30, 46, 217, 3, 267, 437, 333, 358, 486, 74, 443, 282, 109, 371, 220, 115, 222, 197, 139, 233, 207, 84, 380, 280, 301, 94, 113, 73, 111, 444, 414, 174, 198, 387, 16, 277, 28, 421, 37, 41, 442, 59, 65, 71, 200, 203, 76, 205, 82, 83, 469, 214, 343, 216, 356, 365, 368, 372, 117, 376, 251, 126], 194: [124, 482], 100: [], 173: [], 302: [], 431: [67, 426], 206: [], 311: []}\n",
            "CLuster at  0   {241: [138, 412, 480, 163, 156, 386, 389, 64, 424, 434, 88, 422, 133, 131, 276, 265, 324, 406, 178, 445, 341, 425, 454, 390, 40, 36, 30, 46, 217, 3, 267, 437, 333, 358, 486, 74, 443, 282, 109, 371, 220, 115, 222, 197, 139, 233, 207, 84, 380, 280, 301, 94, 113, 73, 111, 444, 414, 174, 198, 387, 16, 277, 28, 421, 37, 41, 442, 59, 65, 71, 200, 203, 76, 205, 82, 83, 469, 214, 343, 216, 356, 365, 368, 372, 117, 376, 251, 126], 194: [124, 482], 100: [], 173: [], 302: [], 431: [67, 426], 206: [], 311: []}\n",
            "Final CLuster {241: [138, 412, 480, 163, 156, 386, 389, 64, 424, 434, 88, 422, 133, 131, 276, 265, 324, 406, 178, 445, 341, 425, 454, 390, 40, 36, 30, 46, 217, 3, 267, 437, 333, 358, 486, 74, 443, 282, 109, 371, 220, 115, 222, 197, 139, 233, 207, 84, 380, 280, 301, 94, 113, 73, 111, 444, 414, 174, 198, 387, 16, 277, 28, 421, 37, 41, 442, 59, 65, 71, 200, 203, 76, 205, 82, 83, 469, 214, 343, 216, 356, 365, 368, 372, 117, 376, 251, 126], 194: [124, 482], 100: [], 173: [], 302: [], 431: [67, 426], 206: [], 311: []}\n",
            "CLuster at  14   {434: [124, 67, 482, 241, 138, 431, 194, 412, 480, 163, 156, 64, 424, 88, 422, 133, 131, 311, 276, 265, 324, 406, 178, 425, 454, 390, 40, 36, 30, 426, 46, 217, 3, 267, 437, 333, 358, 486, 74, 443, 282, 109, 371, 220, 115, 222, 197, 139, 233, 207, 84, 380, 280, 301, 94, 73, 111, 444, 414, 174, 198, 387, 16, 277, 28, 421, 442, 59, 65, 71, 200, 76, 205, 206, 82, 83, 469, 214, 343, 100, 356, 365, 368, 372, 117, 376, 251, 126], 41: [], 203: [], 113: [], 37: [173], 216: [], 386: [302, 389], 341: [], 445: []}\n",
            "CLuster at  13   {241: [67, 482, 138, 431, 194, 412, 480, 163, 156, 64, 424, 434, 88, 422, 133, 131, 311, 276, 265, 324, 406, 178, 425, 454, 390, 40, 36, 30, 426, 46, 217, 3, 267, 437, 333, 358, 486, 74, 443, 282, 109, 371, 220, 115, 222, 197, 139, 233, 207, 84, 380, 280, 301, 94, 73, 111, 444, 414, 174, 198, 387, 16, 277, 28, 421, 37, 442, 59, 65, 71, 200, 76, 205, 206, 82, 83, 469, 214, 343, 100, 356, 365, 368, 372, 117, 376, 251, 126], 41: [], 203: [124], 113: [], 173: [], 216: [], 386: [302, 389], 341: [], 445: []}\n",
            "CLuster at  12   {241: [67, 482, 138, 194, 412, 480, 163, 156, 64, 424, 434, 88, 422, 133, 131, 311, 276, 265, 324, 406, 178, 425, 454, 390, 40, 36, 30, 426, 46, 217, 3, 267, 437, 333, 358, 486, 74, 443, 282, 109, 371, 220, 115, 222, 197, 139, 233, 207, 84, 380, 280, 301, 94, 73, 111, 444, 414, 174, 198, 387, 16, 277, 28, 421, 37, 442, 59, 65, 71, 200, 203, 76, 205, 206, 82, 83, 469, 214, 343, 100, 356, 365, 368, 372, 117, 376, 251, 126], 41: [], 124: [431], 113: [], 173: [], 216: [], 386: [302, 389], 341: [], 445: []}\n",
            "CLuster at  11   {241: [302, 482, 138, 194, 412, 480, 163, 156, 64, 424, 434, 88, 422, 133, 131, 311, 276, 265, 324, 406, 178, 425, 454, 390, 40, 36, 30, 46, 217, 3, 267, 437, 333, 358, 486, 74, 443, 282, 109, 371, 220, 115, 222, 197, 139, 233, 207, 84, 380, 280, 301, 94, 73, 111, 444, 414, 174, 198, 387, 16, 277, 28, 421, 37, 442, 59, 65, 71, 200, 203, 76, 205, 206, 82, 83, 469, 214, 343, 100, 356, 365, 368, 372, 117, 376, 251, 126], 41: [], 431: [124, 67, 426], 113: [], 173: [], 216: [], 386: [389], 341: [], 445: []}\n",
            "CLuster at  10   {241: [302, 482, 138, 194, 412, 480, 163, 156, 64, 424, 434, 88, 422, 133, 131, 311, 276, 265, 324, 406, 178, 425, 454, 390, 40, 36, 30, 46, 217, 3, 267, 437, 333, 358, 486, 74, 443, 282, 109, 371, 220, 115, 222, 197, 139, 233, 207, 84, 380, 280, 301, 94, 73, 111, 444, 414, 174, 198, 387, 16, 277, 28, 421, 37, 442, 59, 65, 71, 200, 203, 76, 205, 206, 82, 83, 469, 214, 343, 100, 356, 365, 368, 372, 117, 376, 251, 126], 41: [], 431: [124, 67, 426], 113: [], 173: [], 216: [], 389: [386], 341: [], 445: []}\n",
            "CLuster at  9   {241: [302, 482, 138, 194, 412, 480, 163, 156, 64, 424, 434, 88, 422, 133, 131, 311, 276, 265, 324, 406, 178, 425, 454, 390, 40, 36, 30, 46, 217, 3, 267, 437, 333, 358, 486, 74, 443, 282, 109, 371, 220, 115, 222, 197, 139, 233, 207, 84, 380, 280, 301, 94, 73, 111, 444, 414, 174, 198, 387, 16, 277, 28, 421, 37, 442, 59, 65, 71, 200, 203, 76, 205, 206, 82, 83, 469, 214, 343, 100, 356, 365, 368, 372, 117, 376, 251, 126], 41: [], 431: [124, 67, 426], 113: [], 173: [], 216: [], 386: [389], 341: [], 445: []}\n",
            "CLuster at  8   {241: [302, 482, 138, 194, 412, 480, 163, 156, 64, 424, 434, 88, 422, 133, 131, 311, 276, 265, 324, 406, 178, 425, 454, 390, 40, 36, 30, 46, 217, 3, 267, 437, 333, 358, 486, 74, 443, 282, 109, 371, 220, 115, 222, 197, 139, 233, 207, 84, 380, 280, 301, 94, 73, 111, 444, 414, 174, 198, 387, 16, 277, 28, 421, 37, 442, 59, 65, 71, 200, 203, 76, 205, 206, 82, 83, 469, 214, 343, 100, 356, 365, 368, 372, 117, 376, 251, 126], 41: [], 431: [124, 67, 426], 113: [], 173: [], 216: [], 389: [386], 341: [], 445: []}\n",
            "CLuster at  7   {241: [302, 482, 138, 194, 412, 480, 163, 156, 64, 424, 434, 88, 422, 133, 131, 311, 276, 265, 324, 406, 178, 425, 454, 390, 40, 36, 30, 46, 217, 3, 267, 437, 333, 358, 486, 74, 443, 282, 109, 371, 220, 115, 222, 197, 139, 233, 207, 84, 380, 280, 301, 94, 73, 111, 444, 414, 174, 198, 387, 16, 277, 28, 421, 37, 442, 59, 65, 71, 200, 203, 76, 205, 206, 82, 83, 469, 214, 343, 100, 356, 365, 368, 372, 117, 376, 251, 126], 41: [], 431: [124, 67, 426], 113: [], 173: [], 216: [], 386: [389], 341: [], 445: []}\n",
            "CLuster at  6   {241: [302, 482, 138, 194, 412, 480, 163, 156, 64, 424, 434, 88, 422, 133, 131, 311, 276, 265, 324, 406, 178, 425, 454, 390, 40, 36, 30, 46, 217, 3, 267, 437, 333, 358, 486, 74, 443, 282, 109, 371, 220, 115, 222, 197, 139, 233, 207, 84, 380, 280, 301, 94, 73, 111, 444, 414, 174, 198, 387, 16, 277, 28, 421, 37, 442, 59, 65, 71, 200, 203, 76, 205, 206, 82, 83, 469, 214, 343, 100, 356, 365, 368, 372, 117, 376, 251, 126], 41: [], 431: [124, 67, 426], 113: [], 173: [], 216: [], 389: [386], 341: [], 445: []}\n",
            "CLuster at  5   {241: [302, 482, 138, 194, 412, 480, 163, 156, 64, 424, 434, 88, 422, 133, 131, 311, 276, 265, 324, 406, 178, 425, 454, 390, 40, 36, 30, 46, 217, 3, 267, 437, 333, 358, 486, 74, 443, 282, 109, 371, 220, 115, 222, 197, 139, 233, 207, 84, 380, 280, 301, 94, 73, 111, 444, 414, 174, 198, 387, 16, 277, 28, 421, 37, 442, 59, 65, 71, 200, 203, 76, 205, 206, 82, 83, 469, 214, 343, 100, 356, 365, 368, 372, 117, 376, 251, 126], 41: [], 431: [124, 67, 426], 113: [], 173: [], 216: [], 386: [389], 341: [], 445: []}\n",
            "CLuster at  4   {241: [302, 482, 138, 194, 412, 480, 163, 156, 64, 424, 434, 88, 422, 133, 131, 311, 276, 265, 324, 406, 178, 425, 454, 390, 40, 36, 30, 46, 217, 3, 267, 437, 333, 358, 486, 74, 443, 282, 109, 371, 220, 115, 222, 197, 139, 233, 207, 84, 380, 280, 301, 94, 73, 111, 444, 414, 174, 198, 387, 16, 277, 28, 421, 37, 442, 59, 65, 71, 200, 203, 76, 205, 206, 82, 83, 469, 214, 343, 100, 356, 365, 368, 372, 117, 376, 251, 126], 41: [], 431: [124, 67, 426], 113: [], 173: [], 216: [], 389: [386], 341: [], 445: []}\n",
            "CLuster at  3   {241: [302, 482, 138, 194, 412, 480, 163, 156, 64, 424, 434, 88, 422, 133, 131, 311, 276, 265, 324, 406, 178, 425, 454, 390, 40, 36, 30, 46, 217, 3, 267, 437, 333, 358, 486, 74, 443, 282, 109, 371, 220, 115, 222, 197, 139, 233, 207, 84, 380, 280, 301, 94, 73, 111, 444, 414, 174, 198, 387, 16, 277, 28, 421, 37, 442, 59, 65, 71, 200, 203, 76, 205, 206, 82, 83, 469, 214, 343, 100, 356, 365, 368, 372, 117, 376, 251, 126], 41: [], 431: [124, 67, 426], 113: [], 173: [], 216: [], 386: [389], 341: [], 445: []}\n",
            "CLuster at  2   {241: [302, 482, 138, 194, 412, 480, 163, 156, 64, 424, 434, 88, 422, 133, 131, 311, 276, 265, 324, 406, 178, 425, 454, 390, 40, 36, 30, 46, 217, 3, 267, 437, 333, 358, 486, 74, 443, 282, 109, 371, 220, 115, 222, 197, 139, 233, 207, 84, 380, 280, 301, 94, 73, 111, 444, 414, 174, 198, 387, 16, 277, 28, 421, 37, 442, 59, 65, 71, 200, 203, 76, 205, 206, 82, 83, 469, 214, 343, 100, 356, 365, 368, 372, 117, 376, 251, 126], 41: [], 431: [124, 67, 426], 113: [], 173: [], 216: [], 389: [386], 341: [], 445: []}\n",
            "CLuster at  1   {241: [302, 482, 138, 194, 412, 480, 163, 156, 64, 424, 434, 88, 422, 133, 131, 311, 276, 265, 324, 406, 178, 425, 454, 390, 40, 36, 30, 46, 217, 3, 267, 437, 333, 358, 486, 74, 443, 282, 109, 371, 220, 115, 222, 197, 139, 233, 207, 84, 380, 280, 301, 94, 73, 111, 444, 414, 174, 198, 387, 16, 277, 28, 421, 37, 442, 59, 65, 71, 200, 203, 76, 205, 206, 82, 83, 469, 214, 343, 100, 356, 365, 368, 372, 117, 376, 251, 126], 41: [], 431: [124, 67, 426], 113: [], 173: [], 216: [], 386: [389], 341: [], 445: []}\n",
            "CLuster at  0   {241: [302, 482, 138, 194, 412, 480, 163, 156, 64, 424, 434, 88, 422, 133, 131, 311, 276, 265, 324, 406, 178, 425, 454, 390, 40, 36, 30, 46, 217, 3, 267, 437, 333, 358, 486, 74, 443, 282, 109, 371, 220, 115, 222, 197, 139, 233, 207, 84, 380, 280, 301, 94, 73, 111, 444, 414, 174, 198, 387, 16, 277, 28, 421, 37, 442, 59, 65, 71, 200, 203, 76, 205, 206, 82, 83, 469, 214, 343, 100, 356, 365, 368, 372, 117, 376, 251, 126], 41: [], 431: [124, 67, 426], 113: [], 173: [], 216: [], 389: [386], 341: [], 445: []}\n",
            "Final CLuster {241: [302, 482, 138, 194, 412, 480, 163, 156, 64, 424, 434, 88, 422, 133, 131, 311, 276, 265, 324, 406, 178, 425, 454, 390, 40, 36, 30, 46, 217, 3, 267, 437, 333, 358, 486, 74, 443, 282, 109, 371, 220, 115, 222, 197, 139, 233, 207, 84, 380, 280, 301, 94, 73, 111, 444, 414, 174, 198, 387, 16, 277, 28, 421, 37, 442, 59, 65, 71, 200, 203, 76, 205, 206, 82, 83, 469, 214, 343, 100, 356, 365, 368, 372, 117, 376, 251, 126], 41: [], 431: [124, 67, 426], 113: [], 173: [], 216: [], 389: [386], 341: [], 445: []}\n",
            "CLuster at  14   {67: [482, 138, 194, 412, 480, 163, 156, 386, 389, 424, 88, 422, 131, 311, 276, 324, 406, 178, 445, 341, 425, 390, 40, 36, 30, 217, 3, 267, 437, 333, 358, 486, 74, 443, 282, 109, 371, 220, 115, 222, 197, 139, 233, 380, 280, 301, 94, 113, 73, 111, 444, 414, 174, 198, 387, 16, 277, 28, 421, 37, 41, 442, 59, 65, 71, 200, 203, 76, 205, 206, 82, 83, 469, 343, 216, 100, 356, 365, 368, 117, 376, 251], 46: [241, 265], 214: [], 133: [302], 372: [], 84: [], 454: [], 126: [124, 64], 207: [173], 431: [434, 426]}\n",
            "CLuster at  13   {82: [67, 482, 138, 194, 412, 480, 163, 156, 386, 389, 64, 424, 434, 88, 422, 133, 131, 311, 276, 265, 324, 406, 178, 445, 341, 425, 390, 40, 36, 30, 217, 3, 267, 437, 333, 358, 486, 74, 443, 282, 109, 371, 220, 115, 222, 197, 139, 233, 207, 380, 280, 301, 94, 113, 73, 111, 444, 414, 174, 198, 387, 16, 277, 28, 421, 37, 41, 442, 59, 65, 71, 200, 203, 76, 205, 206, 83, 469, 343, 216, 100, 356, 365, 368, 117, 376, 251], 46: [241], 214: [], 302: [], 372: [], 84: [], 454: [], 126: [124], 173: [], 426: [431]}\n",
            "CLuster at  12   {82: [482, 138, 194, 412, 480, 163, 156, 386, 389, 64, 88, 422, 133, 131, 311, 276, 265, 324, 406, 178, 445, 341, 425, 390, 40, 36, 30, 46, 217, 3, 267, 437, 333, 358, 486, 74, 443, 282, 109, 371, 220, 115, 222, 197, 139, 233, 207, 380, 280, 301, 94, 113, 73, 111, 444, 414, 174, 198, 387, 16, 277, 28, 421, 37, 41, 442, 59, 65, 71, 200, 203, 76, 205, 206, 83, 469, 343, 216, 100, 356, 365, 368, 117, 376, 251, 126], 241: [], 214: [], 302: [], 372: [], 84: [], 454: [], 124: [], 173: [], 431: [67, 424, 434, 426]}\n",
            "CLuster at  11   {82: [482, 138, 194, 412, 480, 163, 156, 386, 389, 64, 88, 422, 133, 131, 311, 276, 265, 324, 406, 178, 445, 341, 425, 390, 40, 36, 30, 46, 217, 3, 267, 437, 333, 358, 486, 74, 443, 282, 109, 371, 220, 115, 222, 197, 139, 233, 207, 380, 280, 301, 94, 113, 73, 111, 444, 414, 174, 198, 387, 16, 277, 28, 421, 37, 41, 442, 59, 65, 71, 200, 203, 76, 205, 206, 83, 469, 343, 216, 100, 356, 365, 368, 117, 376, 251, 126], 241: [], 214: [], 302: [], 372: [], 84: [], 454: [], 124: [], 173: [], 431: [67, 424, 434, 426]}\n",
            "CLuster at  10   {82: [482, 138, 194, 412, 480, 163, 156, 386, 389, 64, 88, 422, 133, 131, 311, 276, 265, 324, 406, 178, 445, 341, 425, 390, 40, 36, 30, 46, 217, 3, 267, 437, 333, 358, 486, 74, 443, 282, 109, 371, 220, 115, 222, 197, 139, 233, 207, 380, 280, 301, 94, 113, 73, 111, 444, 414, 174, 198, 387, 16, 277, 28, 421, 37, 41, 442, 59, 65, 71, 200, 203, 76, 205, 206, 83, 469, 343, 216, 100, 356, 365, 368, 117, 376, 251, 126], 241: [], 214: [], 302: [], 372: [], 84: [], 454: [], 124: [], 173: [], 431: [67, 424, 434, 426]}\n",
            "CLuster at  9   {82: [482, 138, 194, 412, 480, 163, 156, 386, 389, 64, 88, 422, 133, 131, 311, 276, 265, 324, 406, 178, 445, 341, 425, 390, 40, 36, 30, 46, 217, 3, 267, 437, 333, 358, 486, 74, 443, 282, 109, 371, 220, 115, 222, 197, 139, 233, 207, 380, 280, 301, 94, 113, 73, 111, 444, 414, 174, 198, 387, 16, 277, 28, 421, 37, 41, 442, 59, 65, 71, 200, 203, 76, 205, 206, 83, 469, 343, 216, 100, 356, 365, 368, 117, 376, 251, 126], 241: [], 214: [], 302: [], 372: [], 84: [], 454: [], 124: [], 173: [], 431: [67, 424, 434, 426]}\n",
            "CLuster at  8   {82: [482, 138, 194, 412, 480, 163, 156, 386, 389, 64, 88, 422, 133, 131, 311, 276, 265, 324, 406, 178, 445, 341, 425, 390, 40, 36, 30, 46, 217, 3, 267, 437, 333, 358, 486, 74, 443, 282, 109, 371, 220, 115, 222, 197, 139, 233, 207, 380, 280, 301, 94, 113, 73, 111, 444, 414, 174, 198, 387, 16, 277, 28, 421, 37, 41, 442, 59, 65, 71, 200, 203, 76, 205, 206, 83, 469, 343, 216, 100, 356, 365, 368, 117, 376, 251, 126], 241: [], 214: [], 302: [], 372: [], 84: [], 454: [], 124: [], 173: [], 431: [67, 424, 434, 426]}\n",
            "CLuster at  7   {82: [482, 138, 194, 412, 480, 163, 156, 386, 389, 64, 88, 422, 133, 131, 311, 276, 265, 324, 406, 178, 445, 341, 425, 390, 40, 36, 30, 46, 217, 3, 267, 437, 333, 358, 486, 74, 443, 282, 109, 371, 220, 115, 222, 197, 139, 233, 207, 380, 280, 301, 94, 113, 73, 111, 444, 414, 174, 198, 387, 16, 277, 28, 421, 37, 41, 442, 59, 65, 71, 200, 203, 76, 205, 206, 83, 469, 343, 216, 100, 356, 365, 368, 117, 376, 251, 126], 241: [], 214: [], 302: [], 372: [], 84: [], 454: [], 124: [], 173: [], 431: [67, 424, 434, 426]}\n",
            "CLuster at  6   {82: [482, 138, 194, 412, 480, 163, 156, 386, 389, 64, 88, 422, 133, 131, 311, 276, 265, 324, 406, 178, 445, 341, 425, 390, 40, 36, 30, 46, 217, 3, 267, 437, 333, 358, 486, 74, 443, 282, 109, 371, 220, 115, 222, 197, 139, 233, 207, 380, 280, 301, 94, 113, 73, 111, 444, 414, 174, 198, 387, 16, 277, 28, 421, 37, 41, 442, 59, 65, 71, 200, 203, 76, 205, 206, 83, 469, 343, 216, 100, 356, 365, 368, 117, 376, 251, 126], 241: [], 214: [], 302: [], 372: [], 84: [], 454: [], 124: [], 173: [], 431: [67, 424, 434, 426]}\n",
            "CLuster at  5   {82: [482, 138, 194, 412, 480, 163, 156, 386, 389, 64, 88, 422, 133, 131, 311, 276, 265, 324, 406, 178, 445, 341, 425, 390, 40, 36, 30, 46, 217, 3, 267, 437, 333, 358, 486, 74, 443, 282, 109, 371, 220, 115, 222, 197, 139, 233, 207, 380, 280, 301, 94, 113, 73, 111, 444, 414, 174, 198, 387, 16, 277, 28, 421, 37, 41, 442, 59, 65, 71, 200, 203, 76, 205, 206, 83, 469, 343, 216, 100, 356, 365, 368, 117, 376, 251, 126], 241: [], 214: [], 302: [], 372: [], 84: [], 454: [], 124: [], 173: [], 431: [67, 424, 434, 426]}\n",
            "CLuster at  4   {82: [482, 138, 194, 412, 480, 163, 156, 386, 389, 64, 88, 422, 133, 131, 311, 276, 265, 324, 406, 178, 445, 341, 425, 390, 40, 36, 30, 46, 217, 3, 267, 437, 333, 358, 486, 74, 443, 282, 109, 371, 220, 115, 222, 197, 139, 233, 207, 380, 280, 301, 94, 113, 73, 111, 444, 414, 174, 198, 387, 16, 277, 28, 421, 37, 41, 442, 59, 65, 71, 200, 203, 76, 205, 206, 83, 469, 343, 216, 100, 356, 365, 368, 117, 376, 251, 126], 241: [], 214: [], 302: [], 372: [], 84: [], 454: [], 124: [], 173: [], 431: [67, 424, 434, 426]}\n",
            "CLuster at  3   {82: [482, 138, 194, 412, 480, 163, 156, 386, 389, 64, 88, 422, 133, 131, 311, 276, 265, 324, 406, 178, 445, 341, 425, 390, 40, 36, 30, 46, 217, 3, 267, 437, 333, 358, 486, 74, 443, 282, 109, 371, 220, 115, 222, 197, 139, 233, 207, 380, 280, 301, 94, 113, 73, 111, 444, 414, 174, 198, 387, 16, 277, 28, 421, 37, 41, 442, 59, 65, 71, 200, 203, 76, 205, 206, 83, 469, 343, 216, 100, 356, 365, 368, 117, 376, 251, 126], 241: [], 214: [], 302: [], 372: [], 84: [], 454: [], 124: [], 173: [], 431: [67, 424, 434, 426]}\n",
            "CLuster at  2   {82: [482, 138, 194, 412, 480, 163, 156, 386, 389, 64, 88, 422, 133, 131, 311, 276, 265, 324, 406, 178, 445, 341, 425, 390, 40, 36, 30, 46, 217, 3, 267, 437, 333, 358, 486, 74, 443, 282, 109, 371, 220, 115, 222, 197, 139, 233, 207, 380, 280, 301, 94, 113, 73, 111, 444, 414, 174, 198, 387, 16, 277, 28, 421, 37, 41, 442, 59, 65, 71, 200, 203, 76, 205, 206, 83, 469, 343, 216, 100, 356, 365, 368, 117, 376, 251, 126], 241: [], 214: [], 302: [], 372: [], 84: [], 454: [], 124: [], 173: [], 431: [67, 424, 434, 426]}\n",
            "CLuster at  1   {82: [482, 138, 194, 412, 480, 163, 156, 386, 389, 64, 88, 422, 133, 131, 311, 276, 265, 324, 406, 178, 445, 341, 425, 390, 40, 36, 30, 46, 217, 3, 267, 437, 333, 358, 486, 74, 443, 282, 109, 371, 220, 115, 222, 197, 139, 233, 207, 380, 280, 301, 94, 113, 73, 111, 444, 414, 174, 198, 387, 16, 277, 28, 421, 37, 41, 442, 59, 65, 71, 200, 203, 76, 205, 206, 83, 469, 343, 216, 100, 356, 365, 368, 117, 376, 251, 126], 241: [], 214: [], 302: [], 372: [], 84: [], 454: [], 124: [], 173: [], 431: [67, 424, 434, 426]}\n",
            "CLuster at  0   {82: [482, 138, 194, 412, 480, 163, 156, 386, 389, 64, 88, 422, 133, 131, 311, 276, 265, 324, 406, 178, 445, 341, 425, 390, 40, 36, 30, 46, 217, 3, 267, 437, 333, 358, 486, 74, 443, 282, 109, 371, 220, 115, 222, 197, 139, 233, 207, 380, 280, 301, 94, 113, 73, 111, 444, 414, 174, 198, 387, 16, 277, 28, 421, 37, 41, 442, 59, 65, 71, 200, 203, 76, 205, 206, 83, 469, 343, 216, 100, 356, 365, 368, 117, 376, 251, 126], 241: [], 214: [], 302: [], 372: [], 84: [], 454: [], 124: [], 173: [], 431: [67, 424, 434, 426]}\n",
            "Final CLuster {82: [482, 138, 194, 412, 480, 163, 156, 386, 389, 64, 88, 422, 133, 131, 311, 276, 265, 324, 406, 178, 445, 341, 425, 390, 40, 36, 30, 46, 217, 3, 267, 437, 333, 358, 486, 74, 443, 282, 109, 371, 220, 115, 222, 197, 139, 233, 207, 380, 280, 301, 94, 113, 73, 111, 444, 414, 174, 198, 387, 16, 277, 28, 421, 37, 41, 442, 59, 65, 71, 200, 203, 76, 205, 206, 83, 469, 343, 216, 100, 356, 365, 368, 117, 376, 251, 126], 241: [], 214: [], 302: [], 372: [], 84: [], 454: [], 124: [], 173: [], 431: [67, 424, 434, 426]}\n",
            "CLuster at  14   {406: [124, 302, 67, 482, 241, 138, 194, 412, 480, 163, 156, 386, 64, 424, 434, 88, 422, 133, 131, 311, 276, 265, 324, 178, 445, 341, 425, 454, 390, 40, 36, 30, 46, 217, 3, 267, 358, 486, 74, 443, 282, 109, 371, 220, 115, 222, 197, 139, 84, 280, 301, 94, 113, 73, 111, 444, 414, 174, 198, 387, 16, 28, 421, 37, 41, 442, 59, 65, 200, 203, 76, 205, 206, 82, 83, 469, 214, 343, 216, 100, 356, 365, 368, 372, 376, 251, 126], 437: [], 71: [], 380: [], 117: [], 277: [], 333: [], 389: [], 207: [173], 426: [431], 233: []}\n",
            "CLuster at  13   {241: [302, 482, 138, 194, 412, 480, 163, 156, 64, 424, 434, 88, 422, 133, 131, 311, 276, 265, 324, 406, 178, 445, 341, 425, 454, 390, 40, 36, 30, 46, 217, 3, 267, 358, 486, 74, 443, 282, 109, 371, 220, 115, 222, 197, 139, 207, 84, 280, 301, 94, 113, 73, 111, 444, 414, 174, 198, 387, 16, 28, 421, 37, 41, 442, 59, 65, 200, 203, 76, 205, 206, 82, 83, 469, 214, 343, 216, 100, 356, 365, 368, 372, 376, 251, 126], 437: [], 71: [], 380: [], 117: [], 277: [], 333: [], 389: [386], 173: [], 431: [124, 67, 426], 233: []}\n",
            "CLuster at  12   {241: [302, 482, 138, 194, 412, 480, 163, 156, 64, 424, 434, 88, 422, 133, 131, 311, 276, 265, 324, 406, 178, 445, 341, 425, 454, 390, 40, 36, 30, 46, 217, 3, 267, 358, 486, 74, 443, 282, 109, 371, 220, 115, 222, 197, 139, 207, 84, 280, 301, 94, 113, 73, 111, 444, 414, 174, 198, 387, 16, 28, 421, 37, 41, 442, 59, 65, 200, 203, 76, 205, 206, 82, 83, 469, 214, 343, 216, 100, 356, 365, 368, 372, 376, 251, 126], 437: [], 71: [], 380: [], 117: [], 277: [], 333: [], 386: [389], 173: [], 431: [124, 67, 426], 233: []}\n",
            "CLuster at  11   {241: [302, 482, 138, 194, 412, 480, 163, 156, 64, 424, 434, 88, 422, 133, 131, 311, 276, 265, 324, 406, 178, 445, 341, 425, 454, 390, 40, 36, 30, 46, 217, 3, 267, 358, 486, 74, 443, 282, 109, 371, 220, 115, 222, 197, 139, 207, 84, 280, 301, 94, 113, 73, 111, 444, 414, 174, 198, 387, 16, 28, 421, 37, 41, 442, 59, 65, 200, 203, 76, 205, 206, 82, 83, 469, 214, 343, 216, 100, 356, 365, 368, 372, 376, 251, 126], 437: [], 71: [], 380: [], 117: [], 277: [], 333: [], 389: [386], 173: [], 431: [124, 67, 426], 233: []}\n",
            "CLuster at  10   {241: [302, 482, 138, 194, 412, 480, 163, 156, 64, 424, 434, 88, 422, 133, 131, 311, 276, 265, 324, 406, 178, 445, 341, 425, 454, 390, 40, 36, 30, 46, 217, 3, 267, 358, 486, 74, 443, 282, 109, 371, 220, 115, 222, 197, 139, 207, 84, 280, 301, 94, 113, 73, 111, 444, 414, 174, 198, 387, 16, 28, 421, 37, 41, 442, 59, 65, 200, 203, 76, 205, 206, 82, 83, 469, 214, 343, 216, 100, 356, 365, 368, 372, 376, 251, 126], 437: [], 71: [], 380: [], 117: [], 277: [], 333: [], 386: [389], 173: [], 431: [124, 67, 426], 233: []}\n",
            "CLuster at  9   {241: [302, 482, 138, 194, 412, 480, 163, 156, 64, 424, 434, 88, 422, 133, 131, 311, 276, 265, 324, 406, 178, 445, 341, 425, 454, 390, 40, 36, 30, 46, 217, 3, 267, 358, 486, 74, 443, 282, 109, 371, 220, 115, 222, 197, 139, 207, 84, 280, 301, 94, 113, 73, 111, 444, 414, 174, 198, 387, 16, 28, 421, 37, 41, 442, 59, 65, 200, 203, 76, 205, 206, 82, 83, 469, 214, 343, 216, 100, 356, 365, 368, 372, 376, 251, 126], 437: [], 71: [], 380: [], 117: [], 277: [], 333: [], 389: [386], 173: [], 431: [124, 67, 426], 233: []}\n",
            "CLuster at  8   {241: [302, 482, 138, 194, 412, 480, 163, 156, 64, 424, 434, 88, 422, 133, 131, 311, 276, 265, 324, 406, 178, 445, 341, 425, 454, 390, 40, 36, 30, 46, 217, 3, 267, 358, 486, 74, 443, 282, 109, 371, 220, 115, 222, 197, 139, 207, 84, 280, 301, 94, 113, 73, 111, 444, 414, 174, 198, 387, 16, 28, 421, 37, 41, 442, 59, 65, 200, 203, 76, 205, 206, 82, 83, 469, 214, 343, 216, 100, 356, 365, 368, 372, 376, 251, 126], 437: [], 71: [], 380: [], 117: [], 277: [], 333: [], 386: [389], 173: [], 431: [124, 67, 426], 233: []}\n",
            "CLuster at  7   {241: [302, 482, 138, 194, 412, 480, 163, 156, 64, 424, 434, 88, 422, 133, 131, 311, 276, 265, 324, 406, 178, 445, 341, 425, 454, 390, 40, 36, 30, 46, 217, 3, 267, 358, 486, 74, 443, 282, 109, 371, 220, 115, 222, 197, 139, 207, 84, 280, 301, 94, 113, 73, 111, 444, 414, 174, 198, 387, 16, 28, 421, 37, 41, 442, 59, 65, 200, 203, 76, 205, 206, 82, 83, 469, 214, 343, 216, 100, 356, 365, 368, 372, 376, 251, 126], 437: [], 71: [], 380: [], 117: [], 277: [], 333: [], 389: [386], 173: [], 431: [124, 67, 426], 233: []}\n",
            "CLuster at  6   {241: [302, 482, 138, 194, 412, 480, 163, 156, 64, 424, 434, 88, 422, 133, 131, 311, 276, 265, 324, 406, 178, 445, 341, 425, 454, 390, 40, 36, 30, 46, 217, 3, 267, 358, 486, 74, 443, 282, 109, 371, 220, 115, 222, 197, 139, 207, 84, 280, 301, 94, 113, 73, 111, 444, 414, 174, 198, 387, 16, 28, 421, 37, 41, 442, 59, 65, 200, 203, 76, 205, 206, 82, 83, 469, 214, 343, 216, 100, 356, 365, 368, 372, 376, 251, 126], 437: [], 71: [], 380: [], 117: [], 277: [], 333: [], 386: [389], 173: [], 431: [124, 67, 426], 233: []}\n",
            "CLuster at  5   {241: [302, 482, 138, 194, 412, 480, 163, 156, 64, 424, 434, 88, 422, 133, 131, 311, 276, 265, 324, 406, 178, 445, 341, 425, 454, 390, 40, 36, 30, 46, 217, 3, 267, 358, 486, 74, 443, 282, 109, 371, 220, 115, 222, 197, 139, 207, 84, 280, 301, 94, 113, 73, 111, 444, 414, 174, 198, 387, 16, 28, 421, 37, 41, 442, 59, 65, 200, 203, 76, 205, 206, 82, 83, 469, 214, 343, 216, 100, 356, 365, 368, 372, 376, 251, 126], 437: [], 71: [], 380: [], 117: [], 277: [], 333: [], 389: [386], 173: [], 431: [124, 67, 426], 233: []}\n",
            "CLuster at  4   {241: [302, 482, 138, 194, 412, 480, 163, 156, 64, 424, 434, 88, 422, 133, 131, 311, 276, 265, 324, 406, 178, 445, 341, 425, 454, 390, 40, 36, 30, 46, 217, 3, 267, 358, 486, 74, 443, 282, 109, 371, 220, 115, 222, 197, 139, 207, 84, 280, 301, 94, 113, 73, 111, 444, 414, 174, 198, 387, 16, 28, 421, 37, 41, 442, 59, 65, 200, 203, 76, 205, 206, 82, 83, 469, 214, 343, 216, 100, 356, 365, 368, 372, 376, 251, 126], 437: [], 71: [], 380: [], 117: [], 277: [], 333: [], 386: [389], 173: [], 431: [124, 67, 426], 233: []}\n",
            "CLuster at  3   {241: [302, 482, 138, 194, 412, 480, 163, 156, 64, 424, 434, 88, 422, 133, 131, 311, 276, 265, 324, 406, 178, 445, 341, 425, 454, 390, 40, 36, 30, 46, 217, 3, 267, 358, 486, 74, 443, 282, 109, 371, 220, 115, 222, 197, 139, 207, 84, 280, 301, 94, 113, 73, 111, 444, 414, 174, 198, 387, 16, 28, 421, 37, 41, 442, 59, 65, 200, 203, 76, 205, 206, 82, 83, 469, 214, 343, 216, 100, 356, 365, 368, 372, 376, 251, 126], 437: [], 71: [], 380: [], 117: [], 277: [], 333: [], 389: [386], 173: [], 431: [124, 67, 426], 233: []}\n",
            "CLuster at  2   {241: [302, 482, 138, 194, 412, 480, 163, 156, 64, 424, 434, 88, 422, 133, 131, 311, 276, 265, 324, 406, 178, 445, 341, 425, 454, 390, 40, 36, 30, 46, 217, 3, 267, 358, 486, 74, 443, 282, 109, 371, 220, 115, 222, 197, 139, 207, 84, 280, 301, 94, 113, 73, 111, 444, 414, 174, 198, 387, 16, 28, 421, 37, 41, 442, 59, 65, 200, 203, 76, 205, 206, 82, 83, 469, 214, 343, 216, 100, 356, 365, 368, 372, 376, 251, 126], 437: [], 71: [], 380: [], 117: [], 277: [], 333: [], 386: [389], 173: [], 431: [124, 67, 426], 233: []}\n",
            "CLuster at  1   {241: [302, 482, 138, 194, 412, 480, 163, 156, 64, 424, 434, 88, 422, 133, 131, 311, 276, 265, 324, 406, 178, 445, 341, 425, 454, 390, 40, 36, 30, 46, 217, 3, 267, 358, 486, 74, 443, 282, 109, 371, 220, 115, 222, 197, 139, 207, 84, 280, 301, 94, 113, 73, 111, 444, 414, 174, 198, 387, 16, 28, 421, 37, 41, 442, 59, 65, 200, 203, 76, 205, 206, 82, 83, 469, 214, 343, 216, 100, 356, 365, 368, 372, 376, 251, 126], 437: [], 71: [], 380: [], 117: [], 277: [], 333: [], 389: [386], 173: [], 431: [124, 67, 426], 233: []}\n",
            "CLuster at  0   {241: [302, 482, 138, 194, 412, 480, 163, 156, 64, 424, 434, 88, 422, 133, 131, 311, 276, 265, 324, 406, 178, 445, 341, 425, 454, 390, 40, 36, 30, 46, 217, 3, 267, 358, 486, 74, 443, 282, 109, 371, 220, 115, 222, 197, 139, 207, 84, 280, 301, 94, 113, 73, 111, 444, 414, 174, 198, 387, 16, 28, 421, 37, 41, 442, 59, 65, 200, 203, 76, 205, 206, 82, 83, 469, 214, 343, 216, 100, 356, 365, 368, 372, 376, 251, 126], 437: [], 71: [], 380: [], 117: [], 277: [], 333: [], 386: [389], 173: [], 431: [124, 67, 426], 233: []}\n",
            "Final CLuster {241: [302, 482, 138, 194, 412, 480, 163, 156, 64, 424, 434, 88, 422, 133, 131, 311, 276, 265, 324, 406, 178, 445, 341, 425, 454, 390, 40, 36, 30, 46, 217, 3, 267, 358, 486, 74, 443, 282, 109, 371, 220, 115, 222, 197, 139, 207, 84, 280, 301, 94, 113, 73, 111, 444, 414, 174, 198, 387, 16, 28, 421, 37, 41, 442, 59, 65, 200, 203, 76, 205, 206, 82, 83, 469, 214, 343, 216, 100, 356, 365, 368, 372, 376, 251, 126], 437: [], 71: [], 380: [], 117: [], 277: [], 333: [], 386: [389], 173: [], 431: [124, 67, 426], 233: []}\n",
            "CLuster at  14   {233: [67, 482, 138, 431, 194, 412, 480, 163, 156, 64, 424, 434, 422, 131, 311, 276, 265, 406, 178, 445, 454, 390, 40, 36, 30, 426, 46, 217, 3, 267, 437, 333, 74, 443, 282, 109, 371, 220, 115, 222, 197, 139, 207, 84, 380, 280, 301, 94, 113, 73, 444, 414, 174, 198, 387, 16, 28, 421, 37, 41, 442, 59, 65, 71, 200, 203, 76, 205, 206, 82, 469, 214, 343, 216, 100, 356, 365, 368, 372, 117, 376, 251, 126], 324: [], 486: [], 88: [], 386: [389], 83: [173, 124], 111: [241], 341: [], 277: [], 358: [], 425: [], 133: [302]}\n",
            "CLuster at  13   {82: [67, 138, 431, 194, 412, 480, 163, 156, 64, 424, 434, 422, 133, 131, 311, 276, 265, 406, 178, 445, 454, 390, 40, 36, 30, 426, 46, 217, 3, 267, 437, 333, 74, 443, 282, 109, 371, 220, 115, 222, 197, 139, 233, 207, 84, 380, 280, 301, 94, 113, 73, 111, 444, 414, 174, 198, 387, 16, 28, 421, 37, 41, 442, 59, 65, 71, 200, 203, 76, 205, 206, 469, 214, 343, 216, 100, 356, 365, 368, 372, 117, 376, 251, 126], 324: [], 486: [], 88: [], 389: [386], 83: [173, 124], 241: [482], 341: [], 277: [], 358: [], 425: [], 302: []}\n",
            "CLuster at  12   {82: [67, 138, 431, 412, 480, 163, 156, 64, 424, 434, 422, 133, 131, 311, 276, 265, 406, 178, 445, 454, 390, 40, 36, 30, 426, 46, 217, 3, 267, 437, 333, 74, 443, 282, 109, 371, 220, 115, 222, 197, 139, 233, 207, 84, 380, 280, 301, 94, 113, 73, 111, 444, 414, 174, 198, 387, 16, 28, 421, 37, 41, 442, 59, 65, 71, 200, 203, 76, 205, 206, 469, 214, 343, 216, 100, 356, 365, 368, 372, 117, 376, 251, 126], 324: [], 486: [], 88: [], 386: [389], 83: [173, 124, 241], 482: [194], 341: [], 277: [], 358: [], 425: [], 302: []}\n",
            "CLuster at  11   {82: [67, 241, 138, 431, 412, 480, 163, 156, 64, 424, 434, 422, 133, 131, 311, 276, 265, 406, 178, 445, 454, 390, 40, 36, 30, 426, 46, 217, 3, 267, 437, 333, 74, 443, 282, 109, 371, 220, 115, 222, 197, 139, 233, 207, 84, 380, 280, 301, 94, 113, 73, 111, 444, 414, 174, 198, 387, 16, 28, 421, 37, 41, 442, 59, 65, 71, 200, 203, 76, 205, 206, 469, 214, 343, 216, 100, 356, 365, 368, 372, 117, 376, 251, 126], 324: [], 486: [], 88: [], 389: [386], 83: [173], 194: [124, 482], 341: [], 277: [], 358: [], 425: [], 302: []}\n",
            "CLuster at  10   {241: [67, 138, 431, 412, 480, 163, 156, 64, 424, 434, 422, 133, 131, 311, 276, 265, 406, 178, 445, 454, 390, 40, 36, 30, 426, 46, 217, 3, 267, 437, 333, 74, 443, 282, 109, 371, 220, 115, 222, 197, 139, 233, 207, 84, 380, 280, 301, 94, 113, 73, 111, 444, 414, 174, 198, 387, 16, 28, 421, 37, 41, 442, 59, 65, 71, 200, 203, 76, 205, 206, 82, 83, 469, 214, 343, 216, 100, 356, 365, 368, 372, 117, 376, 251, 126], 324: [], 486: [], 88: [], 386: [389], 173: [], 194: [124, 482], 341: [], 277: [], 358: [], 425: [], 302: []}\n",
            "CLuster at  9   {241: [67, 138, 431, 412, 480, 163, 156, 64, 424, 434, 422, 133, 131, 311, 276, 265, 406, 178, 445, 454, 390, 40, 36, 30, 426, 46, 217, 3, 267, 437, 333, 74, 443, 282, 109, 371, 220, 115, 222, 197, 139, 233, 207, 84, 380, 280, 301, 94, 113, 73, 111, 444, 414, 174, 198, 387, 16, 28, 421, 37, 41, 442, 59, 65, 71, 200, 203, 76, 205, 206, 82, 83, 469, 214, 343, 216, 100, 356, 365, 368, 372, 117, 376, 251, 126], 324: [], 486: [], 88: [], 389: [386], 173: [], 194: [124, 482], 341: [], 277: [], 358: [], 425: [], 302: []}\n",
            "CLuster at  8   {241: [67, 138, 431, 412, 480, 163, 156, 64, 424, 434, 422, 133, 131, 311, 276, 265, 406, 178, 445, 454, 390, 40, 36, 30, 426, 46, 217, 3, 267, 437, 333, 74, 443, 282, 109, 371, 220, 115, 222, 197, 139, 233, 207, 84, 380, 280, 301, 94, 113, 73, 111, 444, 414, 174, 198, 387, 16, 28, 421, 37, 41, 442, 59, 65, 71, 200, 203, 76, 205, 206, 82, 83, 469, 214, 343, 216, 100, 356, 365, 368, 372, 117, 376, 251, 126], 324: [], 486: [], 88: [], 386: [389], 173: [], 194: [124, 482], 341: [], 277: [], 358: [], 425: [], 302: []}\n",
            "CLuster at  7   {241: [67, 138, 431, 412, 480, 163, 156, 64, 424, 434, 422, 133, 131, 311, 276, 265, 406, 178, 445, 454, 390, 40, 36, 30, 426, 46, 217, 3, 267, 437, 333, 74, 443, 282, 109, 371, 220, 115, 222, 197, 139, 233, 207, 84, 380, 280, 301, 94, 113, 73, 111, 444, 414, 174, 198, 387, 16, 28, 421, 37, 41, 442, 59, 65, 71, 200, 203, 76, 205, 206, 82, 83, 469, 214, 343, 216, 100, 356, 365, 368, 372, 117, 376, 251, 126], 324: [], 486: [], 88: [], 389: [386], 173: [], 194: [124, 482], 341: [], 277: [], 358: [], 425: [], 302: []}\n",
            "CLuster at  6   {241: [67, 138, 431, 412, 480, 163, 156, 64, 424, 434, 422, 133, 131, 311, 276, 265, 406, 178, 445, 454, 390, 40, 36, 30, 426, 46, 217, 3, 267, 437, 333, 74, 443, 282, 109, 371, 220, 115, 222, 197, 139, 233, 207, 84, 380, 280, 301, 94, 113, 73, 111, 444, 414, 174, 198, 387, 16, 28, 421, 37, 41, 442, 59, 65, 71, 200, 203, 76, 205, 206, 82, 83, 469, 214, 343, 216, 100, 356, 365, 368, 372, 117, 376, 251, 126], 324: [], 486: [], 88: [], 386: [389], 173: [], 194: [124, 482], 341: [], 277: [], 358: [], 425: [], 302: []}\n",
            "CLuster at  5   {241: [67, 138, 431, 412, 480, 163, 156, 64, 424, 434, 422, 133, 131, 311, 276, 265, 406, 178, 445, 454, 390, 40, 36, 30, 426, 46, 217, 3, 267, 437, 333, 74, 443, 282, 109, 371, 220, 115, 222, 197, 139, 233, 207, 84, 380, 280, 301, 94, 113, 73, 111, 444, 414, 174, 198, 387, 16, 28, 421, 37, 41, 442, 59, 65, 71, 200, 203, 76, 205, 206, 82, 83, 469, 214, 343, 216, 100, 356, 365, 368, 372, 117, 376, 251, 126], 324: [], 486: [], 88: [], 389: [386], 173: [], 194: [124, 482], 341: [], 277: [], 358: [], 425: [], 302: []}\n",
            "CLuster at  4   {241: [67, 138, 431, 412, 480, 163, 156, 64, 424, 434, 422, 133, 131, 311, 276, 265, 406, 178, 445, 454, 390, 40, 36, 30, 426, 46, 217, 3, 267, 437, 333, 74, 443, 282, 109, 371, 220, 115, 222, 197, 139, 233, 207, 84, 380, 280, 301, 94, 113, 73, 111, 444, 414, 174, 198, 387, 16, 28, 421, 37, 41, 442, 59, 65, 71, 200, 203, 76, 205, 206, 82, 83, 469, 214, 343, 216, 100, 356, 365, 368, 372, 117, 376, 251, 126], 324: [], 486: [], 88: [], 386: [389], 173: [], 194: [124, 482], 341: [], 277: [], 358: [], 425: [], 302: []}\n",
            "CLuster at  3   {241: [67, 138, 431, 412, 480, 163, 156, 64, 424, 434, 422, 133, 131, 311, 276, 265, 406, 178, 445, 454, 390, 40, 36, 30, 426, 46, 217, 3, 267, 437, 333, 74, 443, 282, 109, 371, 220, 115, 222, 197, 139, 233, 207, 84, 380, 280, 301, 94, 113, 73, 111, 444, 414, 174, 198, 387, 16, 28, 421, 37, 41, 442, 59, 65, 71, 200, 203, 76, 205, 206, 82, 83, 469, 214, 343, 216, 100, 356, 365, 368, 372, 117, 376, 251, 126], 324: [], 486: [], 88: [], 389: [386], 173: [], 194: [124, 482], 341: [], 277: [], 358: [], 425: [], 302: []}\n",
            "CLuster at  2   {241: [67, 138, 431, 412, 480, 163, 156, 64, 424, 434, 422, 133, 131, 311, 276, 265, 406, 178, 445, 454, 390, 40, 36, 30, 426, 46, 217, 3, 267, 437, 333, 74, 443, 282, 109, 371, 220, 115, 222, 197, 139, 233, 207, 84, 380, 280, 301, 94, 113, 73, 111, 444, 414, 174, 198, 387, 16, 28, 421, 37, 41, 442, 59, 65, 71, 200, 203, 76, 205, 206, 82, 83, 469, 214, 343, 216, 100, 356, 365, 368, 372, 117, 376, 251, 126], 324: [], 486: [], 88: [], 386: [389], 173: [], 194: [124, 482], 341: [], 277: [], 358: [], 425: [], 302: []}\n",
            "CLuster at  1   {241: [67, 138, 431, 412, 480, 163, 156, 64, 424, 434, 422, 133, 131, 311, 276, 265, 406, 178, 445, 454, 390, 40, 36, 30, 426, 46, 217, 3, 267, 437, 333, 74, 443, 282, 109, 371, 220, 115, 222, 197, 139, 233, 207, 84, 380, 280, 301, 94, 113, 73, 111, 444, 414, 174, 198, 387, 16, 28, 421, 37, 41, 442, 59, 65, 71, 200, 203, 76, 205, 206, 82, 83, 469, 214, 343, 216, 100, 356, 365, 368, 372, 117, 376, 251, 126], 324: [], 486: [], 88: [], 389: [386], 173: [], 194: [124, 482], 341: [], 277: [], 358: [], 425: [], 302: []}\n",
            "CLuster at  0   {241: [67, 138, 431, 412, 480, 163, 156, 64, 424, 434, 422, 133, 131, 311, 276, 265, 406, 178, 445, 454, 390, 40, 36, 30, 426, 46, 217, 3, 267, 437, 333, 74, 443, 282, 109, 371, 220, 115, 222, 197, 139, 233, 207, 84, 380, 280, 301, 94, 113, 73, 111, 444, 414, 174, 198, 387, 16, 28, 421, 37, 41, 442, 59, 65, 71, 200, 203, 76, 205, 206, 82, 83, 469, 214, 343, 216, 100, 356, 365, 368, 372, 117, 376, 251, 126], 324: [], 486: [], 88: [], 386: [389], 173: [], 194: [124, 482], 341: [], 277: [], 358: [], 425: [], 302: []}\n",
            "Final CLuster {241: [67, 138, 431, 412, 480, 163, 156, 64, 424, 434, 422, 133, 131, 311, 276, 265, 406, 178, 445, 454, 390, 40, 36, 30, 426, 46, 217, 3, 267, 437, 333, 74, 443, 282, 109, 371, 220, 115, 222, 197, 139, 233, 207, 84, 380, 280, 301, 94, 113, 73, 111, 444, 414, 174, 198, 387, 16, 28, 421, 37, 41, 442, 59, 65, 71, 200, 203, 76, 205, 206, 82, 83, 469, 214, 343, 216, 100, 356, 365, 368, 372, 117, 376, 251, 126], 324: [], 486: [], 88: [], 386: [389], 173: [], 194: [124, 482], 341: [], 277: [], 358: [], 425: [], 302: []}\n",
            "CLuster at  14   {67: [124, 302, 482, 138, 431, 194, 412, 480, 163, 156, 64, 424, 434, 88, 422, 133, 131, 311, 265, 324, 406, 178, 445, 341, 425, 454, 390, 40, 36, 30, 426, 46, 217, 3, 267, 437, 333, 486, 74, 443, 282, 220, 115, 222, 197, 139, 233, 84, 380, 280, 301, 94, 113, 73, 111, 444, 174, 198, 387, 16, 277, 28, 421, 41, 442, 59, 71, 200, 203, 76, 205, 206, 82, 83, 469, 343, 356, 365, 368, 372, 117, 376, 251, 126], 65: [241], 371: [], 100: [], 214: [], 276: [], 109: [], 216: [], 386: [389], 414: [], 207: [173], 358: [], 37: []}\n",
            "CLuster at  13   {431: [124, 302, 67, 482, 138, 194, 412, 480, 163, 156, 64, 424, 434, 88, 422, 133, 131, 311, 265, 324, 406, 178, 445, 341, 425, 454, 390, 40, 36, 30, 426, 46, 217, 3, 267, 437, 333, 486, 74, 443, 282, 220, 115, 222, 197, 139, 233, 207, 84, 380, 280, 301, 94, 113, 73, 111, 444, 174, 198, 387, 16, 277, 28, 421, 41, 442, 59, 65, 71, 200, 203, 76, 205, 206, 82, 83, 469, 343, 356, 365, 368, 372, 117, 376, 251, 126], 241: [], 371: [], 100: [], 214: [], 276: [], 109: [], 216: [], 389: [386], 414: [], 173: [], 358: [], 37: []}\n",
            "CLuster at  12   {431: [124, 302, 67, 482, 138, 194, 412, 480, 163, 156, 64, 424, 434, 88, 422, 133, 131, 311, 265, 324, 406, 178, 445, 341, 425, 454, 390, 40, 36, 30, 426, 46, 217, 3, 267, 437, 333, 486, 74, 443, 282, 220, 115, 222, 197, 139, 233, 207, 84, 380, 280, 301, 94, 113, 73, 111, 444, 174, 198, 387, 16, 277, 28, 421, 41, 442, 59, 65, 71, 200, 203, 76, 205, 206, 82, 83, 469, 343, 356, 365, 368, 372, 117, 376, 251, 126], 241: [], 371: [], 100: [], 214: [], 276: [], 109: [], 216: [], 386: [389], 414: [], 173: [], 358: [], 37: []}\n",
            "CLuster at  11   {431: [124, 302, 67, 482, 138, 194, 412, 480, 163, 156, 64, 424, 434, 88, 422, 133, 131, 311, 265, 324, 406, 178, 445, 341, 425, 454, 390, 40, 36, 30, 426, 46, 217, 3, 267, 437, 333, 486, 74, 443, 282, 220, 115, 222, 197, 139, 233, 207, 84, 380, 280, 301, 94, 113, 73, 111, 444, 174, 198, 387, 16, 277, 28, 421, 41, 442, 59, 65, 71, 200, 203, 76, 205, 206, 82, 83, 469, 343, 356, 365, 368, 372, 117, 376, 251, 126], 241: [], 371: [], 100: [], 214: [], 276: [], 109: [], 216: [], 389: [386], 414: [], 173: [], 358: [], 37: []}\n",
            "CLuster at  10   {431: [124, 302, 67, 482, 138, 194, 412, 480, 163, 156, 64, 424, 434, 88, 422, 133, 131, 311, 265, 324, 406, 178, 445, 341, 425, 454, 390, 40, 36, 30, 426, 46, 217, 3, 267, 437, 333, 486, 74, 443, 282, 220, 115, 222, 197, 139, 233, 207, 84, 380, 280, 301, 94, 113, 73, 111, 444, 174, 198, 387, 16, 277, 28, 421, 41, 442, 59, 65, 71, 200, 203, 76, 205, 206, 82, 83, 469, 343, 356, 365, 368, 372, 117, 376, 251, 126], 241: [], 371: [], 100: [], 214: [], 276: [], 109: [], 216: [], 386: [389], 414: [], 173: [], 358: [], 37: []}\n",
            "CLuster at  9   {431: [124, 302, 67, 482, 138, 194, 412, 480, 163, 156, 64, 424, 434, 88, 422, 133, 131, 311, 265, 324, 406, 178, 445, 341, 425, 454, 390, 40, 36, 30, 426, 46, 217, 3, 267, 437, 333, 486, 74, 443, 282, 220, 115, 222, 197, 139, 233, 207, 84, 380, 280, 301, 94, 113, 73, 111, 444, 174, 198, 387, 16, 277, 28, 421, 41, 442, 59, 65, 71, 200, 203, 76, 205, 206, 82, 83, 469, 343, 356, 365, 368, 372, 117, 376, 251, 126], 241: [], 371: [], 100: [], 214: [], 276: [], 109: [], 216: [], 389: [386], 414: [], 173: [], 358: [], 37: []}\n",
            "CLuster at  8   {431: [124, 302, 67, 482, 138, 194, 412, 480, 163, 156, 64, 424, 434, 88, 422, 133, 131, 311, 265, 324, 406, 178, 445, 341, 425, 454, 390, 40, 36, 30, 426, 46, 217, 3, 267, 437, 333, 486, 74, 443, 282, 220, 115, 222, 197, 139, 233, 207, 84, 380, 280, 301, 94, 113, 73, 111, 444, 174, 198, 387, 16, 277, 28, 421, 41, 442, 59, 65, 71, 200, 203, 76, 205, 206, 82, 83, 469, 343, 356, 365, 368, 372, 117, 376, 251, 126], 241: [], 371: [], 100: [], 214: [], 276: [], 109: [], 216: [], 386: [389], 414: [], 173: [], 358: [], 37: []}\n",
            "CLuster at  7   {431: [124, 302, 67, 482, 138, 194, 412, 480, 163, 156, 64, 424, 434, 88, 422, 133, 131, 311, 265, 324, 406, 178, 445, 341, 425, 454, 390, 40, 36, 30, 426, 46, 217, 3, 267, 437, 333, 486, 74, 443, 282, 220, 115, 222, 197, 139, 233, 207, 84, 380, 280, 301, 94, 113, 73, 111, 444, 174, 198, 387, 16, 277, 28, 421, 41, 442, 59, 65, 71, 200, 203, 76, 205, 206, 82, 83, 469, 343, 356, 365, 368, 372, 117, 376, 251, 126], 241: [], 371: [], 100: [], 214: [], 276: [], 109: [], 216: [], 389: [386], 414: [], 173: [], 358: [], 37: []}\n",
            "CLuster at  6   {431: [124, 302, 67, 482, 138, 194, 412, 480, 163, 156, 64, 424, 434, 88, 422, 133, 131, 311, 265, 324, 406, 178, 445, 341, 425, 454, 390, 40, 36, 30, 426, 46, 217, 3, 267, 437, 333, 486, 74, 443, 282, 220, 115, 222, 197, 139, 233, 207, 84, 380, 280, 301, 94, 113, 73, 111, 444, 174, 198, 387, 16, 277, 28, 421, 41, 442, 59, 65, 71, 200, 203, 76, 205, 206, 82, 83, 469, 343, 356, 365, 368, 372, 117, 376, 251, 126], 241: [], 371: [], 100: [], 214: [], 276: [], 109: [], 216: [], 386: [389], 414: [], 173: [], 358: [], 37: []}\n",
            "CLuster at  5   {431: [124, 302, 67, 482, 138, 194, 412, 480, 163, 156, 64, 424, 434, 88, 422, 133, 131, 311, 265, 324, 406, 178, 445, 341, 425, 454, 390, 40, 36, 30, 426, 46, 217, 3, 267, 437, 333, 486, 74, 443, 282, 220, 115, 222, 197, 139, 233, 207, 84, 380, 280, 301, 94, 113, 73, 111, 444, 174, 198, 387, 16, 277, 28, 421, 41, 442, 59, 65, 71, 200, 203, 76, 205, 206, 82, 83, 469, 343, 356, 365, 368, 372, 117, 376, 251, 126], 241: [], 371: [], 100: [], 214: [], 276: [], 109: [], 216: [], 389: [386], 414: [], 173: [], 358: [], 37: []}\n",
            "CLuster at  4   {431: [124, 302, 67, 482, 138, 194, 412, 480, 163, 156, 64, 424, 434, 88, 422, 133, 131, 311, 265, 324, 406, 178, 445, 341, 425, 454, 390, 40, 36, 30, 426, 46, 217, 3, 267, 437, 333, 486, 74, 443, 282, 220, 115, 222, 197, 139, 233, 207, 84, 380, 280, 301, 94, 113, 73, 111, 444, 174, 198, 387, 16, 277, 28, 421, 41, 442, 59, 65, 71, 200, 203, 76, 205, 206, 82, 83, 469, 343, 356, 365, 368, 372, 117, 376, 251, 126], 241: [], 371: [], 100: [], 214: [], 276: [], 109: [], 216: [], 386: [389], 414: [], 173: [], 358: [], 37: []}\n",
            "CLuster at  3   {431: [124, 302, 67, 482, 138, 194, 412, 480, 163, 156, 64, 424, 434, 88, 422, 133, 131, 311, 265, 324, 406, 178, 445, 341, 425, 454, 390, 40, 36, 30, 426, 46, 217, 3, 267, 437, 333, 486, 74, 443, 282, 220, 115, 222, 197, 139, 233, 207, 84, 380, 280, 301, 94, 113, 73, 111, 444, 174, 198, 387, 16, 277, 28, 421, 41, 442, 59, 65, 71, 200, 203, 76, 205, 206, 82, 83, 469, 343, 356, 365, 368, 372, 117, 376, 251, 126], 241: [], 371: [], 100: [], 214: [], 276: [], 109: [], 216: [], 389: [386], 414: [], 173: [], 358: [], 37: []}\n",
            "CLuster at  2   {431: [124, 302, 67, 482, 138, 194, 412, 480, 163, 156, 64, 424, 434, 88, 422, 133, 131, 311, 265, 324, 406, 178, 445, 341, 425, 454, 390, 40, 36, 30, 426, 46, 217, 3, 267, 437, 333, 486, 74, 443, 282, 220, 115, 222, 197, 139, 233, 207, 84, 380, 280, 301, 94, 113, 73, 111, 444, 174, 198, 387, 16, 277, 28, 421, 41, 442, 59, 65, 71, 200, 203, 76, 205, 206, 82, 83, 469, 343, 356, 365, 368, 372, 117, 376, 251, 126], 241: [], 371: [], 100: [], 214: [], 276: [], 109: [], 216: [], 386: [389], 414: [], 173: [], 358: [], 37: []}\n",
            "CLuster at  1   {431: [124, 302, 67, 482, 138, 194, 412, 480, 163, 156, 64, 424, 434, 88, 422, 133, 131, 311, 265, 324, 406, 178, 445, 341, 425, 454, 390, 40, 36, 30, 426, 46, 217, 3, 267, 437, 333, 486, 74, 443, 282, 220, 115, 222, 197, 139, 233, 207, 84, 380, 280, 301, 94, 113, 73, 111, 444, 174, 198, 387, 16, 277, 28, 421, 41, 442, 59, 65, 71, 200, 203, 76, 205, 206, 82, 83, 469, 343, 356, 365, 368, 372, 117, 376, 251, 126], 241: [], 371: [], 100: [], 214: [], 276: [], 109: [], 216: [], 389: [386], 414: [], 173: [], 358: [], 37: []}\n",
            "CLuster at  0   {431: [124, 302, 67, 482, 138, 194, 412, 480, 163, 156, 64, 424, 434, 88, 422, 133, 131, 311, 265, 324, 406, 178, 445, 341, 425, 454, 390, 40, 36, 30, 426, 46, 217, 3, 267, 437, 333, 486, 74, 443, 282, 220, 115, 222, 197, 139, 233, 207, 84, 380, 280, 301, 94, 113, 73, 111, 444, 174, 198, 387, 16, 277, 28, 421, 41, 442, 59, 65, 71, 200, 203, 76, 205, 206, 82, 83, 469, 343, 356, 365, 368, 372, 117, 376, 251, 126], 241: [], 371: [], 100: [], 214: [], 276: [], 109: [], 216: [], 386: [389], 414: [], 173: [], 358: [], 37: []}\n",
            "Final CLuster {431: [124, 302, 67, 482, 138, 194, 412, 480, 163, 156, 64, 424, 434, 88, 422, 133, 131, 311, 265, 324, 406, 178, 445, 341, 425, 454, 390, 40, 36, 30, 426, 46, 217, 3, 267, 437, 333, 486, 74, 443, 282, 220, 115, 222, 197, 139, 233, 207, 84, 380, 280, 301, 94, 113, 73, 111, 444, 174, 198, 387, 16, 277, 28, 421, 41, 442, 59, 65, 71, 200, 203, 76, 205, 206, 82, 83, 469, 343, 356, 365, 368, 372, 117, 376, 251, 126], 241: [], 371: [], 100: [], 214: [], 276: [], 109: [], 216: [], 386: [389], 414: [], 173: [], 358: [], 37: []}\n",
            "CLuster at  14   {138: [67, 431, 480, 163, 156, 386, 389, 424, 434, 88, 422, 131, 311, 276, 265, 406, 178, 445, 341, 425, 454, 390, 40, 36, 30, 426, 46, 437, 333, 358, 486, 74, 443, 282, 109, 220, 115, 222, 197, 139, 233, 207, 380, 301, 94, 73, 111, 444, 414, 174, 198, 387, 16, 277, 421, 37, 442, 59, 71, 200, 203, 76, 205, 206, 83, 469, 214, 343, 216, 356, 368, 372, 117, 376, 251], 365: [], 267: [82], 412: [64], 113: [], 41: [173], 324: [241, 194, 133], 371: [], 3: [], 217: [28], 65: [302, 482], 84: [124, 126], 280: [], 100: []}\n",
            "CLuster at  13   {431: [302, 67, 482, 241, 138, 194, 480, 163, 156, 386, 389, 424, 434, 88, 422, 133, 131, 311, 276, 265, 406, 178, 445, 341, 425, 454, 390, 40, 36, 30, 426, 46, 217, 267, 437, 333, 358, 486, 74, 443, 282, 109, 220, 115, 222, 197, 139, 233, 207, 84, 380, 301, 94, 73, 111, 444, 414, 174, 198, 387, 16, 277, 421, 37, 41, 442, 59, 71, 200, 203, 76, 205, 206, 83, 469, 214, 343, 216, 356, 368, 372, 117, 376, 251], 365: [], 82: [], 64: [412], 113: [], 173: [], 324: [], 371: [], 3: [], 28: [], 65: [], 126: [124], 280: [], 100: []}\n",
            "CLuster at  12   {241: [482, 138, 194, 480, 163, 156, 386, 389, 64, 424, 434, 88, 422, 131, 311, 276, 265, 406, 178, 445, 341, 425, 454, 390, 40, 36, 30, 426, 46, 437, 333, 358, 486, 74, 443, 282, 109, 220, 115, 222, 197, 139, 233, 207, 84, 380, 301, 94, 73, 111, 444, 414, 174, 198, 387, 16, 277, 421, 37, 41, 442, 59, 71, 200, 203, 76, 205, 206, 83, 469, 214, 343, 216, 356, 368, 372, 117, 376, 251, 126], 365: [], 82: [67, 431, 267], 412: [], 113: [], 173: [], 324: [133], 371: [], 3: [], 28: [217], 65: [302], 124: [], 280: [], 100: []}\n",
            "CLuster at  11   {241: [482, 138, 194, 480, 163, 156, 386, 389, 64, 424, 434, 88, 422, 131, 311, 276, 265, 406, 178, 445, 341, 425, 454, 390, 40, 36, 30, 426, 437, 333, 358, 486, 74, 443, 282, 109, 220, 115, 222, 197, 139, 233, 207, 84, 380, 301, 94, 73, 111, 444, 414, 174, 198, 387, 16, 277, 28, 421, 37, 41, 442, 59, 65, 71, 200, 203, 76, 205, 206, 83, 469, 214, 343, 216, 356, 368, 372, 117, 376, 251, 126], 365: [], 82: [67, 431, 267], 412: [], 113: [], 173: [], 133: [324, 46], 371: [], 3: [], 217: [], 302: [], 124: [], 280: [], 100: []}\n",
            "CLuster at  10   {241: [482, 138, 194, 480, 163, 156, 386, 389, 64, 424, 434, 88, 422, 131, 311, 276, 265, 406, 178, 445, 341, 425, 454, 390, 40, 36, 30, 426, 437, 333, 358, 486, 74, 443, 282, 109, 220, 115, 222, 197, 139, 233, 207, 84, 380, 301, 94, 73, 111, 444, 414, 174, 198, 387, 16, 277, 28, 421, 37, 41, 442, 59, 65, 71, 200, 203, 76, 205, 206, 83, 469, 214, 343, 216, 356, 368, 372, 117, 376, 251, 126], 365: [], 82: [67, 431, 267], 412: [], 113: [], 173: [], 133: [324, 46], 371: [], 3: [], 217: [], 302: [], 124: [], 280: [], 100: []}\n",
            "CLuster at  9   {241: [482, 138, 194, 480, 163, 156, 386, 389, 64, 424, 434, 88, 422, 131, 311, 276, 265, 406, 178, 445, 341, 425, 454, 390, 40, 36, 30, 426, 437, 333, 358, 486, 74, 443, 282, 109, 220, 115, 222, 197, 139, 233, 207, 84, 380, 301, 94, 73, 111, 444, 414, 174, 198, 387, 16, 277, 28, 421, 37, 41, 442, 59, 65, 71, 200, 203, 76, 205, 206, 83, 469, 214, 343, 216, 356, 368, 372, 117, 376, 251, 126], 365: [], 82: [67, 431, 267], 412: [], 113: [], 173: [], 133: [324, 46], 371: [], 3: [], 217: [], 302: [], 124: [], 280: [], 100: []}\n",
            "CLuster at  8   {241: [482, 138, 194, 480, 163, 156, 386, 389, 64, 424, 434, 88, 422, 131, 311, 276, 265, 406, 178, 445, 341, 425, 454, 390, 40, 36, 30, 426, 437, 333, 358, 486, 74, 443, 282, 109, 220, 115, 222, 197, 139, 233, 207, 84, 380, 301, 94, 73, 111, 444, 414, 174, 198, 387, 16, 277, 28, 421, 37, 41, 442, 59, 65, 71, 200, 203, 76, 205, 206, 83, 469, 214, 343, 216, 356, 368, 372, 117, 376, 251, 126], 365: [], 82: [67, 431, 267], 412: [], 113: [], 173: [], 133: [324, 46], 371: [], 3: [], 217: [], 302: [], 124: [], 280: [], 100: []}\n",
            "CLuster at  7   {241: [482, 138, 194, 480, 163, 156, 386, 389, 64, 424, 434, 88, 422, 131, 311, 276, 265, 406, 178, 445, 341, 425, 454, 390, 40, 36, 30, 426, 437, 333, 358, 486, 74, 443, 282, 109, 220, 115, 222, 197, 139, 233, 207, 84, 380, 301, 94, 73, 111, 444, 414, 174, 198, 387, 16, 277, 28, 421, 37, 41, 442, 59, 65, 71, 200, 203, 76, 205, 206, 83, 469, 214, 343, 216, 356, 368, 372, 117, 376, 251, 126], 365: [], 82: [67, 431, 267], 412: [], 113: [], 173: [], 133: [324, 46], 371: [], 3: [], 217: [], 302: [], 124: [], 280: [], 100: []}\n",
            "CLuster at  6   {241: [482, 138, 194, 480, 163, 156, 386, 389, 64, 424, 434, 88, 422, 131, 311, 276, 265, 406, 178, 445, 341, 425, 454, 390, 40, 36, 30, 426, 437, 333, 358, 486, 74, 443, 282, 109, 220, 115, 222, 197, 139, 233, 207, 84, 380, 301, 94, 73, 111, 444, 414, 174, 198, 387, 16, 277, 28, 421, 37, 41, 442, 59, 65, 71, 200, 203, 76, 205, 206, 83, 469, 214, 343, 216, 356, 368, 372, 117, 376, 251, 126], 365: [], 82: [67, 431, 267], 412: [], 113: [], 173: [], 133: [324, 46], 371: [], 3: [], 217: [], 302: [], 124: [], 280: [], 100: []}\n",
            "CLuster at  5   {241: [482, 138, 194, 480, 163, 156, 386, 389, 64, 424, 434, 88, 422, 131, 311, 276, 265, 406, 178, 445, 341, 425, 454, 390, 40, 36, 30, 426, 437, 333, 358, 486, 74, 443, 282, 109, 220, 115, 222, 197, 139, 233, 207, 84, 380, 301, 94, 73, 111, 444, 414, 174, 198, 387, 16, 277, 28, 421, 37, 41, 442, 59, 65, 71, 200, 203, 76, 205, 206, 83, 469, 214, 343, 216, 356, 368, 372, 117, 376, 251, 126], 365: [], 82: [67, 431, 267], 412: [], 113: [], 173: [], 133: [324, 46], 371: [], 3: [], 217: [], 302: [], 124: [], 280: [], 100: []}\n",
            "CLuster at  4   {241: [482, 138, 194, 480, 163, 156, 386, 389, 64, 424, 434, 88, 422, 131, 311, 276, 265, 406, 178, 445, 341, 425, 454, 390, 40, 36, 30, 426, 437, 333, 358, 486, 74, 443, 282, 109, 220, 115, 222, 197, 139, 233, 207, 84, 380, 301, 94, 73, 111, 444, 414, 174, 198, 387, 16, 277, 28, 421, 37, 41, 442, 59, 65, 71, 200, 203, 76, 205, 206, 83, 469, 214, 343, 216, 356, 368, 372, 117, 376, 251, 126], 365: [], 82: [67, 431, 267], 412: [], 113: [], 173: [], 133: [324, 46], 371: [], 3: [], 217: [], 302: [], 124: [], 280: [], 100: []}\n",
            "CLuster at  3   {241: [482, 138, 194, 480, 163, 156, 386, 389, 64, 424, 434, 88, 422, 131, 311, 276, 265, 406, 178, 445, 341, 425, 454, 390, 40, 36, 30, 426, 437, 333, 358, 486, 74, 443, 282, 109, 220, 115, 222, 197, 139, 233, 207, 84, 380, 301, 94, 73, 111, 444, 414, 174, 198, 387, 16, 277, 28, 421, 37, 41, 442, 59, 65, 71, 200, 203, 76, 205, 206, 83, 469, 214, 343, 216, 356, 368, 372, 117, 376, 251, 126], 365: [], 82: [67, 431, 267], 412: [], 113: [], 173: [], 133: [324, 46], 371: [], 3: [], 217: [], 302: [], 124: [], 280: [], 100: []}\n",
            "CLuster at  2   {241: [482, 138, 194, 480, 163, 156, 386, 389, 64, 424, 434, 88, 422, 131, 311, 276, 265, 406, 178, 445, 341, 425, 454, 390, 40, 36, 30, 426, 437, 333, 358, 486, 74, 443, 282, 109, 220, 115, 222, 197, 139, 233, 207, 84, 380, 301, 94, 73, 111, 444, 414, 174, 198, 387, 16, 277, 28, 421, 37, 41, 442, 59, 65, 71, 200, 203, 76, 205, 206, 83, 469, 214, 343, 216, 356, 368, 372, 117, 376, 251, 126], 365: [], 82: [67, 431, 267], 412: [], 113: [], 173: [], 133: [324, 46], 371: [], 3: [], 217: [], 302: [], 124: [], 280: [], 100: []}\n",
            "CLuster at  1   {241: [482, 138, 194, 480, 163, 156, 386, 389, 64, 424, 434, 88, 422, 131, 311, 276, 265, 406, 178, 445, 341, 425, 454, 390, 40, 36, 30, 426, 437, 333, 358, 486, 74, 443, 282, 109, 220, 115, 222, 197, 139, 233, 207, 84, 380, 301, 94, 73, 111, 444, 414, 174, 198, 387, 16, 277, 28, 421, 37, 41, 442, 59, 65, 71, 200, 203, 76, 205, 206, 83, 469, 214, 343, 216, 356, 368, 372, 117, 376, 251, 126], 365: [], 82: [67, 431, 267], 412: [], 113: [], 173: [], 133: [324, 46], 371: [], 3: [], 217: [], 302: [], 124: [], 280: [], 100: []}\n",
            "CLuster at  0   {241: [482, 138, 194, 480, 163, 156, 386, 389, 64, 424, 434, 88, 422, 131, 311, 276, 265, 406, 178, 445, 341, 425, 454, 390, 40, 36, 30, 426, 437, 333, 358, 486, 74, 443, 282, 109, 220, 115, 222, 197, 139, 233, 207, 84, 380, 301, 94, 73, 111, 444, 414, 174, 198, 387, 16, 277, 28, 421, 37, 41, 442, 59, 65, 71, 200, 203, 76, 205, 206, 83, 469, 214, 343, 216, 356, 368, 372, 117, 376, 251, 126], 365: [], 82: [67, 431, 267], 412: [], 113: [], 173: [], 133: [324, 46], 371: [], 3: [], 217: [], 302: [], 124: [], 280: [], 100: []}\n",
            "Final CLuster {241: [482, 138, 194, 480, 163, 156, 386, 389, 64, 424, 434, 88, 422, 131, 311, 276, 265, 406, 178, 445, 341, 425, 454, 390, 40, 36, 30, 426, 437, 333, 358, 486, 74, 443, 282, 109, 220, 115, 222, 197, 139, 233, 207, 84, 380, 301, 94, 73, 111, 444, 414, 174, 198, 387, 16, 277, 28, 421, 37, 41, 442, 59, 65, 71, 200, 203, 76, 205, 206, 83, 469, 214, 343, 216, 356, 368, 372, 117, 376, 251, 126], 365: [], 82: [67, 431, 267], 412: [], 113: [], 173: [], 133: [324, 46], 371: [], 3: [], 217: [], 302: [], 124: [], 280: [], 100: []}\n"
          ]
        }
      ]
    },
    {
      "cell_type": "code",
      "source": [
        "import matplotlib.pyplot as plt\n",
        "import numpy as np\n",
        "  \n",
        "# define data values\n",
        "x = k_vals  # X-axis points\n",
        "y = cost_vals  # Y-axis points\n",
        "plt.xlabel('k')\n",
        "plt.ylabel('cost')\n",
        "plt.plot(x, y)  # Plots the chart\n",
        "plt.show()"
      ],
      "metadata": {
        "colab": {
          "base_uri": "https://localhost:8080/",
          "height": 279
        },
        "id": "1XG_15vEfHK0",
        "outputId": "cc78fc34-9c5c-4ead-f263-ee41bc44e85d"
      },
      "execution_count": 86,
      "outputs": [
        {
          "output_type": "display_data",
          "data": {
            "text/plain": [
              "<Figure size 432x288 with 1 Axes>"
            ],
            "image/png": "[encoded data removed]"
          },
          "metadata": {
            "needs_background": "light"
          }
        }
      ]
    },
    {
      "cell_type": "markdown",
      "source": [
        "###First major elbow occurs at 4, so we take 4 as the cluster number\n"
      ],
      "metadata": {
        "id": "OpAsjU06rKdj"
      }
    },
    {
      "cell_type": "markdown",
      "source": [
        "##Part 5\n"
      ],
      "metadata": {
        "id": "fM3hhMhxiJlm"
      }
    },
    {
      "cell_type": "markdown",
      "source": [
        "###Single link based"
      ],
      "metadata": {
        "id": "mAbcptQlJwqx"
      }
    },
    {
      "cell_type": "code",
      "source": [
        "def single_link_cluster(cluster):\n",
        "  #saves jaccard distances\n",
        "  temp_clust_1 = copy.deepcopy(cluster)\n",
        "  clusters_formed = [temp_clust_1]\n",
        "  #stores distances between different cluster, initially each doc is a cluster itself\n",
        "  pair_distances = {(i,j): find_jaccard(doc_dic[cluster[i][0]], doc_dic[cluster[j][0]]) for i in range(len(list(cluster.keys()))) for j in range(i+1, len(list(cluster.keys())))}\n",
        " \n",
        "  n= len(list(cluster.keys()))\n",
        " \n",
        "  while(True):\n",
        "    #runs till 1 entire cluster formed\n",
        "    if len(list(cluster.keys())) == 1:\n",
        "      break\n",
        "    else:\n",
        "      #merge clusters\n",
        "      #for one cluster, what will it merge with\n",
        "      # Find the closest pair of clusters based on Jaccard similarity, higher value, more similairity\n",
        "      \n",
        "      c1, c2 = max(pair_distances, key=pair_distances.get)\n",
        "      \n",
        "        # Merge the two clusters into a new cluster\n",
        "      \n",
        "      cluster[n] = cluster[c1] + cluster[c2]\n",
        "      \n",
        "      #updating new distances wrt to new cluster\n",
        "      for k in cluster:\n",
        "            if k != n:\n",
        "                \n",
        "                pair_distances[(k, n)] = max([find_jaccard(doc_dic[i], doc_dic[j]) for i in cluster[n] for j in cluster[k]])\n",
        "      #removing since c1 and c2 are merged\n",
        "      pair_distances.pop((c1, n))\n",
        "      pair_distances.pop((c2, n))\n",
        "      #removing all pairs having c1 or c2\n",
        "      for k in cluster:\n",
        "            if k != n and k!=c1: \n",
        "                \n",
        "                pair_distances.pop((min(c1,k), max(c1,k)))\n",
        "            if k!=n and k!=c1 and k!=c2:\n",
        "                pair_distances.pop((min(c2, k), max(k, c2)))\n",
        "      cluster.pop(c1)\n",
        "      cluster.pop(c2)\n",
        "      temp_cluster = copy.deepcopy(cluster)\n",
        "      clusters_formed.append(temp_cluster)\n",
        "      n += 1\n",
        "\n",
        "  return clusters_formed\n"
      ],
      "metadata": {
        "id": "j2wU8lMwjPka"
      },
      "execution_count": 19,
      "outputs": []
    },
    {
      "cell_type": "code",
      "source": [
        "to_cluster_single = {}\n",
        "for i in range(len(chosen)):\n",
        "  to_cluster_single[i] = [chosen[i]]\n",
        "#print(to_cluster_single)\n",
        "l = single_link_cluster(to_cluster_single)\n",
        "print(len(l))"
      ],
      "metadata": {
        "colab": {
          "base_uri": "https://localhost:8080/"
        },
        "id": "wV8ONuVz_Cew",
        "outputId": "c05a37c6-8947-476c-8a4c-3aa4bd4cfb58"
      },
      "execution_count": 20,
      "outputs": [
        {
          "output_type": "stream",
          "name": "stdout",
          "text": [
            "100\n"
          ]
        }
      ]
    },
    {
      "cell_type": "code",
      "source": [
        "cluster_using_single_link = l[96]   #since k=4 was chosen as the ideal one.\n",
        "print(cluster_using_single_link)"
      ],
      "metadata": {
        "colab": {
          "base_uri": "https://localhost:8080/"
        },
        "id": "p5jaC3YTaGIY",
        "outputId": "e5946a43-5377-42d5-f3b1-c047493ffce7"
      },
      "execution_count": 28,
      "outputs": [
        {
          "output_type": "stream",
          "name": "stdout",
          "text": [
            "{60: [301], 193: [16, 376, 358, 469, 480, 74, 109, 486, 387, 138, 333, 200, 131, 414, 64, 422, 3, 88, 380, 386, 389, 214, 65, 207, 220, 203, 206, 139, 217, 28, 267, 82, 222, 117, 406, 83, 421, 241, 343, 198, 482, 194, 251, 36, 100, 113, 311, 115], 194: [59, 173, 67, 178, 94, 372, 163, 371, 412, 30, 111], 195: [442, 445, 197, 205, 454, 390, 280, 368, 216, 302, 324, 133, 46, 365, 444, 84, 126, 124, 40, 76, 437, 443, 425, 233, 276, 277, 424, 265, 434, 431, 426, 37, 156, 174, 356, 341, 41, 71, 282, 73]}\n"
          ]
        }
      ]
    },
    {
      "cell_type": "markdown",
      "source": [
        "###Complete Link Based"
      ],
      "metadata": {
        "id": "XaMqDbu9aFBw"
      }
    },
    {
      "cell_type": "code",
      "source": [
        "#pass the cluster as {0:[ids], 1:[], 2:[]}\n",
        "def complete_link_cluster(cluster):\n",
        "  temp_clust_1 = copy.deepcopy(cluster)\n",
        "  #stores distances between different cluster, initially each doc is a cluster itself\n",
        "  clusters_formed = [temp_clust_1]\n",
        "  pair_distances = {(i,j): find_jaccard(doc_dic[cluster[i][0]], doc_dic[cluster[j][0]]) for i in range(len(list(cluster.keys()))) for j in range(i+1, len(list(cluster.keys())))}\n",
        "  n= len(list(cluster.keys()))\n",
        "  while(True):\n",
        "    \n",
        "    if len(list(cluster.keys())) == 1:\n",
        "      break\n",
        "    else:\n",
        "      #merge clusters\n",
        "      #for one cluster, what will it merge with\n",
        "      # Find the closest pair of clusters based on Jaccard similarity, higher value, more similairity\n",
        "      \n",
        "      c1, c2 = max(pair_distances, key=pair_distances.get)\n",
        "      \n",
        "        # Merge the two clusters into a new cluster\n",
        "      \n",
        "      cluster[n] = cluster[c1] + cluster[c2]\n",
        "      \n",
        "      #updating new distances wrt to new cluster\n",
        "      for k in cluster:\n",
        "            if k != n:\n",
        "                \n",
        "                pair_distances[(k, n)] = min([find_jaccard(doc_dic[i], doc_dic[j]) for i in cluster[n] for j in cluster[k]])  #min since that would give the farthest points\n",
        "      #removing since c1 and c2 are merged\n",
        "      pair_distances.pop((c1, n))\n",
        "      pair_distances.pop((c2, n))\n",
        "\n",
        "      #removing all pairs having c1 or c2\n",
        "      for k in cluster:\n",
        "            if k != n and k!=c1: \n",
        "                \n",
        "                pair_distances.pop((min(c1,k), max(c1,k)))\n",
        "            if k!=n and k!=c1 and k!=c2:\n",
        "                pair_distances.pop((min(c2, k), max(k, c2)))\n",
        "      cluster.pop(c1)\n",
        "      cluster.pop(c2)\n",
        "      temp_cluster = copy.deepcopy(cluster)\n",
        "      clusters_formed.append(temp_cluster)\n",
        "      n += 1\n",
        "\n",
        "  return clusters_formed"
      ],
      "metadata": {
        "id": "tBzZpCTDiL8u"
      },
      "execution_count": 22,
      "outputs": []
    },
    {
      "cell_type": "code",
      "source": [
        "to_cluster_complete = {}\n",
        "for i in range(len(chosen)):\n",
        "  to_cluster_complete[i] = [chosen[i]]\n",
        "l = complete_link_cluster(to_cluster_complete)\n"
      ],
      "metadata": {
        "id": "16nPcj9Oc4pY"
      },
      "execution_count": 29,
      "outputs": []
    },
    {
      "cell_type": "code",
      "source": [
        "cluster_using_complete_link = l[96] #since k=4 was chosen as the ideal one.\n",
        "print(cluster_using_complete_link)"
      ],
      "metadata": {
        "colab": {
          "base_uri": "https://localhost:8080/"
        },
        "id": "SdFF-evKs5JG",
        "outputId": "1635f4b0-d9c1-4c11-b5e8-a7475fa03a1c"
      },
      "execution_count": 30,
      "outputs": [
        {
          "output_type": "stream",
          "name": "stdout",
          "text": [
            "{190: [67, 486, 131, 469, 197, 206, 445, 3, 207, 480, 198, 482, 194, 425, 324, 241, 343, 267, 82, 40, 76, 139, 217, 28, 220, 203, 365, 251, 205, 36, 100, 280, 214, 358, 200], 192: [173, 37, 178, 94, 156, 174, 233, 282, 73, 71, 276, 277], 193: [390, 88, 386, 389, 84, 126, 414, 421, 437, 424, 265, 434, 431, 426, 30, 111, 412, 64, 422, 16, 376, 117, 222, 83, 301, 368, 443, 65, 442, 372], 195: [406, 59, 74, 109, 163, 371, 138, 333, 341, 41, 387, 380, 113, 454, 444, 311, 115, 216, 356, 124, 302, 133, 46]}\n"
          ]
        }
      ]
    },
    {
      "cell_type": "markdown",
      "source": [
        "###Centroid Based"
      ],
      "metadata": {
        "id": "kGDbyUIXJ5g3"
      }
    },
    {
      "cell_type": "code",
      "source": [
        "def centroid_based_linkage(cluster):\n",
        "  temp_clust_1 = copy.deepcopy(cluster)\n",
        "  clusters_formed = [temp_clust_1]\n",
        "  #each  cluster is its own centroid\n",
        "  centr = {x : cluster[x][0] for x in cluster.keys() }\n",
        "  # print(centr_distances)\n",
        "  print(centr)\n",
        "  n = len(list(cluster.keys()))\n",
        "  while(True):\n",
        "    if len(list(cluster.keys())) == 1:\n",
        "      break\n",
        "    else:\n",
        "      #merge clusters\n",
        "      centr_distances = {}\n",
        "      #centr_distances = {(i, j): find_jaccard(doc_dic[centr[i]], doc_dic[centr[j]]) for i in centr for j in centr if i!==j }\n",
        "      for i in centr:\n",
        "        for j in centr:\n",
        "          if i!=j:\n",
        "            centr_distances[(i,j)] = find_jaccard(doc_dic[centr[i]], doc_dic[centr[j]])\n",
        "      # Find the closest pair of clusters based on Jaccard similarity on their centroids\n",
        "      c1, c2 = max(centr_distances, key=centr_distances.get)\n",
        "      \n",
        "      # Merge the two clusters into a new cluster\n",
        "      n_cluster = cluster[c1] + cluster[c2]\n",
        "      cluster[n] = n_cluster\n",
        "      # Compute the centroid of the new cluster, s.t distance from this is the min\n",
        "      min = 5000\n",
        "      sel_centr = n_cluster[0]\n",
        "      for centroid in n_cluster:\n",
        "        min_in_centr = 0\n",
        "        \n",
        "        for j in n_cluster:\n",
        "          if(centroid!=j):\n",
        "            min_in_centr = min_in_centr + find_jaccard_dist(doc_dic[centroid], doc_dic[j])\n",
        "      \n",
        "        if min_in_centr < min:\n",
        "          min = min_in_centr\n",
        "          sel_centr = centroid\n",
        "\n",
        "      \n",
        "\n",
        "      centr[n] = sel_centr   \n",
        "      cluster.pop(c1)\n",
        "      cluster.pop(c2)\n",
        "      centr.pop(c1)\n",
        "      centr.pop(c2)\n",
        "      temp_cluster = copy.deepcopy(cluster)\n",
        "      clusters_formed.append(temp_cluster)\n",
        "      #print(clusters_formed)\n",
        "      n += 1\n",
        "    \n",
        "  return clusters_formed\n"
      ],
      "metadata": {
        "id": "qRalSS60zUTU"
      },
      "execution_count": 24,
      "outputs": []
    },
    {
      "cell_type": "code",
      "source": [
        "to_cluster_centr = {}\n",
        "for i in range(len(chosen)):\n",
        "  to_cluster_centr[i] = [chosen[i]]\n",
        "l = centroid_based_linkage(to_cluster_centr)\n"
      ],
      "metadata": {
        "colab": {
          "base_uri": "https://localhost:8080/"
        },
        "id": "pMV8eh10iDyu",
        "outputId": "a407e7b5-4d8a-4267-e3f2-63514b25ad96"
      },
      "execution_count": 25,
      "outputs": [
        {
          "output_type": "stream",
          "name": "stdout",
          "text": [
            "{0: 173, 1: 124, 2: 302, 3: 67, 4: 482, 5: 241, 6: 138, 7: 431, 8: 194, 9: 412, 10: 480, 11: 163, 12: 156, 13: 386, 14: 389, 15: 64, 16: 424, 17: 434, 18: 88, 19: 422, 20: 133, 21: 131, 22: 311, 23: 276, 24: 265, 25: 324, 26: 406, 27: 178, 28: 445, 29: 341, 30: 425, 31: 454, 32: 390, 33: 40, 34: 36, 35: 30, 36: 426, 37: 46, 38: 217, 39: 3, 40: 267, 41: 437, 42: 333, 43: 358, 44: 486, 45: 74, 46: 443, 47: 282, 48: 109, 49: 371, 50: 220, 51: 115, 52: 222, 53: 197, 54: 139, 55: 233, 56: 207, 57: 84, 58: 380, 59: 280, 60: 301, 61: 94, 62: 113, 63: 73, 64: 111, 65: 444, 66: 414, 67: 174, 68: 198, 69: 387, 70: 16, 71: 277, 72: 28, 73: 421, 74: 37, 75: 41, 76: 442, 77: 59, 78: 65, 79: 71, 80: 200, 81: 203, 82: 76, 83: 205, 84: 206, 85: 82, 86: 83, 87: 469, 88: 214, 89: 343, 90: 216, 91: 100, 92: 356, 93: 365, 94: 368, 95: 372, 96: 117, 97: 376, 98: 251, 99: 126}\n"
          ]
        }
      ]
    },
    {
      "cell_type": "code",
      "source": [
        "cluster_using_centroid = l[96]    #since k=4 was chosen as the ideal one.\n",
        "print(cluster_using_centroid)"
      ],
      "metadata": {
        "colab": {
          "base_uri": "https://localhost:8080/"
        },
        "id": "KGUmS_t7tDtK",
        "outputId": "6c9dce3a-f80e-406d-8d44-b2deba1d9121"
      },
      "execution_count": 31,
      "outputs": [
        {
          "output_type": "stream",
          "name": "stdout",
          "text": [
            "{190: [67, 486, 131, 469, 197, 206, 445, 3, 207, 480, 198, 482, 194, 425, 324, 241, 343, 267, 82, 40, 76, 139, 217, 28, 220, 203, 365, 251, 205, 36, 100, 280, 214, 358, 200], 192: [173, 37, 178, 94, 156, 174, 233, 282, 73, 71, 276, 277], 193: [390, 88, 386, 389, 84, 126, 414, 421, 437, 424, 265, 434, 431, 426, 30, 111, 412, 64, 422, 16, 376, 117, 222, 83, 301, 368, 443, 65, 442, 372], 195: [406, 59, 74, 109, 163, 371, 138, 333, 341, 41, 387, 380, 113, 454, 444, 311, 115, 216, 356, 124, 302, 133, 46]}\n"
          ]
        }
      ]
    },
    {
      "cell_type": "markdown",
      "source": [
        "##Purity Calculation and NMI calculation"
      ],
      "metadata": {
        "id": "wHuZcrPqx0N-"
      }
    },
    {
      "cell_type": "code",
      "source": [
        "kmeans_at_k = k_means_cluster(4)\n",
        " "
      ],
      "metadata": {
        "id": "WTv6OEfIwAgJ",
        "colab": {
          "base_uri": "https://localhost:8080/"
        },
        "outputId": "06bacbd0-67a5-4177-b599-c124b8ddb6cd"
      },
      "execution_count": 32,
      "outputs": [
        {
          "output_type": "stream",
          "name": "stdout",
          "text": [
            "CLuster at  14   {84: [173, 302, 67, 482, 241, 138, 431, 194, 412, 480, 163, 156, 386, 389, 424, 434, 88, 422, 133, 131, 311, 276, 265, 324, 406, 178, 445, 341, 425, 390, 40, 36, 30, 426, 46, 217, 3, 267, 437, 333, 358, 486, 74, 443, 282, 109, 371, 220, 115, 222, 197, 139, 233, 207, 380, 280, 301, 94, 113, 73, 111, 444, 414, 174, 198, 387, 16, 277, 28, 421, 37, 41, 442, 59, 65, 200, 203, 76, 205, 206, 82, 83, 469, 214, 343, 216, 100, 356, 365, 368, 372, 117, 376, 251], 71: [], 126: [124, 64], 454: []}\n",
            "CLuster at  13   {241: [302, 67, 482, 138, 431, 194, 412, 480, 163, 156, 386, 389, 424, 434, 88, 422, 133, 131, 311, 276, 265, 324, 406, 178, 445, 341, 425, 390, 40, 36, 30, 426, 46, 217, 3, 267, 437, 333, 358, 486, 74, 443, 282, 109, 371, 220, 115, 222, 197, 139, 233, 207, 380, 280, 301, 94, 113, 73, 111, 444, 414, 174, 198, 387, 16, 277, 28, 421, 37, 41, 442, 59, 65, 200, 203, 76, 205, 206, 82, 83, 469, 214, 343, 216, 100, 356, 365, 368, 372, 117, 376, 251], 71: [173], 126: [124, 64, 84], 454: []}\n",
            "CLuster at  12   {241: [302, 67, 482, 138, 431, 194, 412, 480, 163, 156, 386, 389, 424, 434, 88, 422, 133, 131, 311, 276, 265, 324, 406, 178, 445, 341, 425, 390, 40, 36, 30, 426, 46, 217, 3, 267, 437, 333, 358, 486, 74, 443, 282, 109, 371, 220, 115, 222, 197, 139, 233, 207, 380, 280, 301, 94, 113, 73, 111, 444, 414, 174, 198, 387, 16, 277, 28, 421, 37, 41, 442, 59, 65, 71, 200, 203, 76, 205, 206, 82, 83, 469, 214, 343, 216, 100, 356, 365, 368, 372, 117, 376, 251], 173: [], 126: [124, 64, 84], 454: []}\n",
            "CLuster at  11   {241: [302, 67, 482, 138, 431, 194, 412, 480, 163, 156, 386, 389, 424, 434, 88, 422, 133, 131, 311, 276, 265, 324, 406, 178, 445, 341, 425, 390, 40, 36, 30, 426, 46, 217, 3, 267, 437, 333, 358, 486, 74, 443, 282, 109, 371, 220, 115, 222, 197, 139, 233, 207, 380, 280, 301, 94, 113, 73, 111, 444, 414, 174, 198, 387, 16, 277, 28, 421, 37, 41, 442, 59, 65, 71, 200, 203, 76, 205, 206, 82, 83, 469, 214, 343, 216, 100, 356, 365, 368, 372, 117, 376, 251], 173: [], 126: [124, 64, 84], 454: []}\n",
            "CLuster at  10   {241: [302, 67, 482, 138, 431, 194, 412, 480, 163, 156, 386, 389, 424, 434, 88, 422, 133, 131, 311, 276, 265, 324, 406, 178, 445, 341, 425, 390, 40, 36, 30, 426, 46, 217, 3, 267, 437, 333, 358, 486, 74, 443, 282, 109, 371, 220, 115, 222, 197, 139, 233, 207, 380, 280, 301, 94, 113, 73, 111, 444, 414, 174, 198, 387, 16, 277, 28, 421, 37, 41, 442, 59, 65, 71, 200, 203, 76, 205, 206, 82, 83, 469, 214, 343, 216, 100, 356, 365, 368, 372, 117, 376, 251], 173: [], 126: [124, 64, 84], 454: []}\n",
            "CLuster at  9   {241: [302, 67, 482, 138, 431, 194, 412, 480, 163, 156, 386, 389, 424, 434, 88, 422, 133, 131, 311, 276, 265, 324, 406, 178, 445, 341, 425, 390, 40, 36, 30, 426, 46, 217, 3, 267, 437, 333, 358, 486, 74, 443, 282, 109, 371, 220, 115, 222, 197, 139, 233, 207, 380, 280, 301, 94, 113, 73, 111, 444, 414, 174, 198, 387, 16, 277, 28, 421, 37, 41, 442, 59, 65, 71, 200, 203, 76, 205, 206, 82, 83, 469, 214, 343, 216, 100, 356, 365, 368, 372, 117, 376, 251], 173: [], 126: [124, 64, 84], 454: []}\n",
            "CLuster at  8   {241: [302, 67, 482, 138, 431, 194, 412, 480, 163, 156, 386, 389, 424, 434, 88, 422, 133, 131, 311, 276, 265, 324, 406, 178, 445, 341, 425, 390, 40, 36, 30, 426, 46, 217, 3, 267, 437, 333, 358, 486, 74, 443, 282, 109, 371, 220, 115, 222, 197, 139, 233, 207, 380, 280, 301, 94, 113, 73, 111, 444, 414, 174, 198, 387, 16, 277, 28, 421, 37, 41, 442, 59, 65, 71, 200, 203, 76, 205, 206, 82, 83, 469, 214, 343, 216, 100, 356, 365, 368, 372, 117, 376, 251], 173: [], 126: [124, 64, 84], 454: []}\n",
            "CLuster at  7   {241: [302, 67, 482, 138, 431, 194, 412, 480, 163, 156, 386, 389, 424, 434, 88, 422, 133, 131, 311, 276, 265, 324, 406, 178, 445, 341, 425, 390, 40, 36, 30, 426, 46, 217, 3, 267, 437, 333, 358, 486, 74, 443, 282, 109, 371, 220, 115, 222, 197, 139, 233, 207, 380, 280, 301, 94, 113, 73, 111, 444, 414, 174, 198, 387, 16, 277, 28, 421, 37, 41, 442, 59, 65, 71, 200, 203, 76, 205, 206, 82, 83, 469, 214, 343, 216, 100, 356, 365, 368, 372, 117, 376, 251], 173: [], 126: [124, 64, 84], 454: []}\n",
            "CLuster at  6   {241: [302, 67, 482, 138, 431, 194, 412, 480, 163, 156, 386, 389, 424, 434, 88, 422, 133, 131, 311, 276, 265, 324, 406, 178, 445, 341, 425, 390, 40, 36, 30, 426, 46, 217, 3, 267, 437, 333, 358, 486, 74, 443, 282, 109, 371, 220, 115, 222, 197, 139, 233, 207, 380, 280, 301, 94, 113, 73, 111, 444, 414, 174, 198, 387, 16, 277, 28, 421, 37, 41, 442, 59, 65, 71, 200, 203, 76, 205, 206, 82, 83, 469, 214, 343, 216, 100, 356, 365, 368, 372, 117, 376, 251], 173: [], 126: [124, 64, 84], 454: []}\n",
            "CLuster at  5   {241: [302, 67, 482, 138, 431, 194, 412, 480, 163, 156, 386, 389, 424, 434, 88, 422, 133, 131, 311, 276, 265, 324, 406, 178, 445, 341, 425, 390, 40, 36, 30, 426, 46, 217, 3, 267, 437, 333, 358, 486, 74, 443, 282, 109, 371, 220, 115, 222, 197, 139, 233, 207, 380, 280, 301, 94, 113, 73, 111, 444, 414, 174, 198, 387, 16, 277, 28, 421, 37, 41, 442, 59, 65, 71, 200, 203, 76, 205, 206, 82, 83, 469, 214, 343, 216, 100, 356, 365, 368, 372, 117, 376, 251], 173: [], 126: [124, 64, 84], 454: []}\n",
            "CLuster at  4   {241: [302, 67, 482, 138, 431, 194, 412, 480, 163, 156, 386, 389, 424, 434, 88, 422, 133, 131, 311, 276, 265, 324, 406, 178, 445, 341, 425, 390, 40, 36, 30, 426, 46, 217, 3, 267, 437, 333, 358, 486, 74, 443, 282, 109, 371, 220, 115, 222, 197, 139, 233, 207, 380, 280, 301, 94, 113, 73, 111, 444, 414, 174, 198, 387, 16, 277, 28, 421, 37, 41, 442, 59, 65, 71, 200, 203, 76, 205, 206, 82, 83, 469, 214, 343, 216, 100, 356, 365, 368, 372, 117, 376, 251], 173: [], 126: [124, 64, 84], 454: []}\n",
            "CLuster at  3   {241: [302, 67, 482, 138, 431, 194, 412, 480, 163, 156, 386, 389, 424, 434, 88, 422, 133, 131, 311, 276, 265, 324, 406, 178, 445, 341, 425, 390, 40, 36, 30, 426, 46, 217, 3, 267, 437, 333, 358, 486, 74, 443, 282, 109, 371, 220, 115, 222, 197, 139, 233, 207, 380, 280, 301, 94, 113, 73, 111, 444, 414, 174, 198, 387, 16, 277, 28, 421, 37, 41, 442, 59, 65, 71, 200, 203, 76, 205, 206, 82, 83, 469, 214, 343, 216, 100, 356, 365, 368, 372, 117, 376, 251], 173: [], 126: [124, 64, 84], 454: []}\n",
            "CLuster at  2   {241: [302, 67, 482, 138, 431, 194, 412, 480, 163, 156, 386, 389, 424, 434, 88, 422, 133, 131, 311, 276, 265, 324, 406, 178, 445, 341, 425, 390, 40, 36, 30, 426, 46, 217, 3, 267, 437, 333, 358, 486, 74, 443, 282, 109, 371, 220, 115, 222, 197, 139, 233, 207, 380, 280, 301, 94, 113, 73, 111, 444, 414, 174, 198, 387, 16, 277, 28, 421, 37, 41, 442, 59, 65, 71, 200, 203, 76, 205, 206, 82, 83, 469, 214, 343, 216, 100, 356, 365, 368, 372, 117, 376, 251], 173: [], 126: [124, 64, 84], 454: []}\n",
            "CLuster at  1   {241: [302, 67, 482, 138, 431, 194, 412, 480, 163, 156, 386, 389, 424, 434, 88, 422, 133, 131, 311, 276, 265, 324, 406, 178, 445, 341, 425, 390, 40, 36, 30, 426, 46, 217, 3, 267, 437, 333, 358, 486, 74, 443, 282, 109, 371, 220, 115, 222, 197, 139, 233, 207, 380, 280, 301, 94, 113, 73, 111, 444, 414, 174, 198, 387, 16, 277, 28, 421, 37, 41, 442, 59, 65, 71, 200, 203, 76, 205, 206, 82, 83, 469, 214, 343, 216, 100, 356, 365, 368, 372, 117, 376, 251], 173: [], 126: [124, 64, 84], 454: []}\n",
            "CLuster at  0   {241: [302, 67, 482, 138, 431, 194, 412, 480, 163, 156, 386, 389, 424, 434, 88, 422, 133, 131, 311, 276, 265, 324, 406, 178, 445, 341, 425, 390, 40, 36, 30, 426, 46, 217, 3, 267, 437, 333, 358, 486, 74, 443, 282, 109, 371, 220, 115, 222, 197, 139, 233, 207, 380, 280, 301, 94, 113, 73, 111, 444, 414, 174, 198, 387, 16, 277, 28, 421, 37, 41, 442, 59, 65, 71, 200, 203, 76, 205, 206, 82, 83, 469, 214, 343, 216, 100, 356, 365, 368, 372, 117, 376, 251], 173: [], 126: [124, 64, 84], 454: []}\n",
            "Final CLuster {241: [302, 67, 482, 138, 431, 194, 412, 480, 163, 156, 386, 389, 424, 434, 88, 422, 133, 131, 311, 276, 265, 324, 406, 178, 445, 341, 425, 390, 40, 36, 30, 426, 46, 217, 3, 267, 437, 333, 358, 486, 74, 443, 282, 109, 371, 220, 115, 222, 197, 139, 233, 207, 380, 280, 301, 94, 113, 73, 111, 444, 414, 174, 198, 387, 16, 277, 28, 421, 37, 41, 442, 59, 65, 71, 200, 203, 76, 205, 206, 82, 83, 469, 214, 343, 216, 100, 356, 365, 368, 372, 117, 376, 251], 173: [], 126: [124, 64, 84], 454: []}\n"
          ]
        }
      ]
    },
    {
      "cell_type": "code",
      "source": [
        "print(kmeans_at_k)"
      ],
      "metadata": {
        "colab": {
          "base_uri": "https://localhost:8080/"
        },
        "id": "ZsjUr03htLJx",
        "outputId": "f3e71f2e-2802-42c4-da94-6ee0122858cd"
      },
      "execution_count": 36,
      "outputs": [
        {
          "output_type": "stream",
          "name": "stdout",
          "text": [
            "{241: [302, 67, 482, 138, 431, 194, 412, 480, 163, 156, 386, 389, 424, 434, 88, 422, 133, 131, 311, 276, 265, 324, 406, 178, 445, 341, 425, 390, 40, 36, 30, 426, 46, 217, 3, 267, 437, 333, 358, 486, 74, 443, 282, 109, 371, 220, 115, 222, 197, 139, 233, 207, 380, 280, 301, 94, 113, 73, 111, 444, 414, 174, 198, 387, 16, 277, 28, 421, 37, 41, 442, 59, 65, 71, 200, 203, 76, 205, 206, 82, 83, 469, 214, 343, 216, 100, 356, 365, 368, 372, 117, 376, 251, 241], 173: [173], 126: [124, 64, 84, 126], 454: [454]}\n"
          ]
        }
      ]
    },
    {
      "cell_type": "code",
      "source": [
        "#ground truth formation from kmeans at k=4\n",
        "ground_truth = {}\n",
        "i = 0\n",
        "for j in list(kmeans_at_k.keys()):\n",
        "  ground_truth[i] = kmeans_at_k[j]\n",
        "  ground_truth[i].append(j)\n",
        "  i = i+1\n",
        "\n",
        "print(ground_truth)\n",
        "  \n"
      ],
      "metadata": {
        "colab": {
          "base_uri": "https://localhost:8080/"
        },
        "id": "Gw8EbGittnpz",
        "outputId": "3290cb8d-ab83-4ca7-c8dc-e5d3536f256a"
      },
      "execution_count": 38,
      "outputs": [
        {
          "output_type": "stream",
          "name": "stdout",
          "text": [
            "{0: [302, 67, 482, 138, 431, 194, 412, 480, 163, 156, 386, 389, 424, 434, 88, 422, 133, 131, 311, 276, 265, 324, 406, 178, 445, 341, 425, 390, 40, 36, 30, 426, 46, 217, 3, 267, 437, 333, 358, 486, 74, 443, 282, 109, 371, 220, 115, 222, 197, 139, 233, 207, 380, 280, 301, 94, 113, 73, 111, 444, 414, 174, 198, 387, 16, 277, 28, 421, 37, 41, 442, 59, 65, 71, 200, 203, 76, 205, 206, 82, 83, 469, 214, 343, 216, 100, 356, 365, 368, 372, 117, 376, 251, 241, 241, 241], 1: [173, 173, 173], 2: [124, 64, 84, 126, 126, 126], 3: [454, 454, 454]}\n"
          ]
        }
      ]
    },
    {
      "cell_type": "markdown",
      "source": [
        "###Purity"
      ],
      "metadata": {
        "id": "NNVRKAQnyEV5"
      }
    },
    {
      "cell_type": "code",
      "source": [
        "def cal_purity(cluster_set):\n",
        "  l0 = 0\n",
        "  l1 = 0\n",
        "  l2 = 0\n",
        "  l3 = 0\n",
        "\n",
        "  for i in cluster_set:\n",
        "    if i in ground_truth[0]:\n",
        "      l0 += 1\n",
        "    elif i in ground_truth[1]:\n",
        "      l1 += 1\n",
        "    elif i in ground_truth[2]:\n",
        "      l2 += 1\n",
        "    else:\n",
        "      l3 += 1\n",
        "  \n",
        "  return max(l0,l1,l2,l3)/len(cluster_set)"
      ],
      "metadata": {
        "id": "uwMEDLOBvJqc"
      },
      "execution_count": 43,
      "outputs": []
    },
    {
      "cell_type": "code",
      "source": [
        "#cluster_using_single_link\n",
        "\n",
        "print(cluster_using_single_link)\n",
        "for i in list(cluster_using_single_link.keys()):\n",
        "  print(\"Purity for cluster : \", cal_purity(cluster_using_single_link[i]))"
      ],
      "metadata": {
        "colab": {
          "base_uri": "https://localhost:8080/"
        },
        "id": "Fb7l6s7Kudeo",
        "outputId": "04e09e62-20da-4bcf-88db-3465d7060cbf"
      },
      "execution_count": 44,
      "outputs": [
        {
          "output_type": "stream",
          "name": "stdout",
          "text": [
            "{60: [301], 193: [16, 376, 358, 469, 480, 74, 109, 486, 387, 138, 333, 200, 131, 414, 64, 422, 3, 88, 380, 386, 389, 214, 65, 207, 220, 203, 206, 139, 217, 28, 267, 82, 222, 117, 406, 83, 421, 241, 343, 198, 482, 194, 251, 36, 100, 113, 311, 115], 194: [59, 173, 67, 178, 94, 372, 163, 371, 412, 30, 111], 195: [442, 445, 197, 205, 454, 390, 280, 368, 216, 302, 324, 133, 46, 365, 444, 84, 126, 124, 40, 76, 437, 443, 425, 233, 276, 277, 424, 265, 434, 431, 426, 37, 156, 174, 356, 341, 41, 71, 282, 73]}\n",
            "Purity for cluster :  1.0\n",
            "Purity for cluster :  0.9791666666666666\n",
            "Purity for cluster :  0.9090909090909091\n",
            "Purity for cluster :  0.9\n"
          ]
        }
      ]
    },
    {
      "cell_type": "code",
      "source": [
        "#cluster_using_complete_link\n",
        "\n",
        "print(cluster_using_complete_link)\n",
        "for i in list(cluster_using_complete_link.keys()):\n",
        "  print(\"Purity for cluster : \", cal_purity(cluster_using_complete_link[i]))"
      ],
      "metadata": {
        "colab": {
          "base_uri": "https://localhost:8080/"
        },
        "id": "f42C0v6uww3T",
        "outputId": "3ed59aca-d11e-4d40-cac1-115d828ec985"
      },
      "execution_count": 45,
      "outputs": [
        {
          "output_type": "stream",
          "name": "stdout",
          "text": [
            "{190: [67, 486, 131, 469, 197, 206, 445, 3, 207, 480, 198, 482, 194, 425, 324, 241, 343, 267, 82, 40, 76, 139, 217, 28, 220, 203, 365, 251, 205, 36, 100, 280, 214, 358, 200], 192: [173, 37, 178, 94, 156, 174, 233, 282, 73, 71, 276, 277], 193: [390, 88, 386, 389, 84, 126, 414, 421, 437, 424, 265, 434, 431, 426, 30, 111, 412, 64, 422, 16, 376, 117, 222, 83, 301, 368, 443, 65, 442, 372], 195: [406, 59, 74, 109, 163, 371, 138, 333, 341, 41, 387, 380, 113, 454, 444, 311, 115, 216, 356, 124, 302, 133, 46]}\n",
            "Purity for cluster :  1.0\n",
            "Purity for cluster :  0.9166666666666666\n",
            "Purity for cluster :  0.9\n",
            "Purity for cluster :  0.9130434782608695\n"
          ]
        }
      ]
    },
    {
      "cell_type": "code",
      "source": [
        "#cluster_using_centroid\n",
        "\n",
        "print(cluster_using_centroid)\n",
        "for i in list(cluster_using_centroid.keys()):\n",
        "  print(\"Purity for cluster : \", cal_purity(cluster_using_centroid[i]))"
      ],
      "metadata": {
        "colab": {
          "base_uri": "https://localhost:8080/"
        },
        "id": "lQXjobRYw60l",
        "outputId": "256010a6-ad7f-4718-ba5d-94f2c9952079"
      },
      "execution_count": 46,
      "outputs": [
        {
          "output_type": "stream",
          "name": "stdout",
          "text": [
            "{190: [67, 486, 131, 469, 197, 206, 445, 3, 207, 480, 198, 482, 194, 425, 324, 241, 343, 267, 82, 40, 76, 139, 217, 28, 220, 203, 365, 251, 205, 36, 100, 280, 214, 358, 200], 192: [173, 37, 178, 94, 156, 174, 233, 282, 73, 71, 276, 277], 193: [390, 88, 386, 389, 84, 126, 414, 421, 437, 424, 265, 434, 431, 426, 30, 111, 412, 64, 422, 16, 376, 117, 222, 83, 301, 368, 443, 65, 442, 372], 195: [406, 59, 74, 109, 163, 371, 138, 333, 341, 41, 387, 380, 113, 454, 444, 311, 115, 216, 356, 124, 302, 133, 46]}\n",
            "Purity for cluster :  1.0\n",
            "Purity for cluster :  0.9166666666666666\n",
            "Purity for cluster :  0.9\n",
            "Purity for cluster :  0.9130434782608695\n"
          ]
        }
      ]
    },
    {
      "cell_type": "markdown",
      "source": [
        "###NMI"
      ],
      "metadata": {
        "id": "V8P06sUvyGp4"
      }
    },
    {
      "cell_type": "code",
      "source": [
        "#entropy of ground truth cluster\n",
        "import math\n",
        "class_pi = []\n",
        "for i in list(ground_truth.keys()):\n",
        "  class_pi.append(len(ground_truth[i])/100)\n",
        "class_entropy = 0\n",
        "for i in class_pi:\n",
        "  class_entropy += -1* i * math.log(i)\n",
        "\n",
        "print(class_entropy)"
      ],
      "metadata": {
        "colab": {
          "base_uri": "https://localhost:8080/"
        },
        "id": "DPrs9uG2yH43",
        "outputId": "ad9135b2-5157-4dac-9188-e30df119a673"
      },
      "execution_count": 51,
      "outputs": [
        {
          "output_type": "stream",
          "name": "stdout",
          "text": [
            "0.41838723158424607\n"
          ]
        }
      ]
    },
    {
      "cell_type": "code",
      "source": [
        "#finding each cluster entropy\n",
        "def find_cluster_entropy(cluster):\n",
        "  cluster_pi = []\n",
        "  for i in list(cluster.keys()):\n",
        "    cluster_pi.append(len(cluster[i])/100)\n",
        "  cluster_entropy = 0\n",
        "  for i in cluster_pi:\n",
        "    if i!=0:\n",
        "      cluster_entropy += -1* i * math.log(i)\n",
        "  return cluster_entropy"
      ],
      "metadata": {
        "id": "r4FgJnpD5P-t"
      },
      "execution_count": 67,
      "outputs": []
    },
    {
      "cell_type": "code",
      "source": [
        "def mutual_information(cluster):\n",
        "  h_y = class_entropy\n",
        "  z = len(list(cluster.keys()))\n",
        "  h_c = 0\n",
        "  for c in list(cluster.keys()):\n",
        "    #for c1\n",
        "    n = len(cluster[c])\n",
        "    if(n==0):\n",
        "      n=1\n",
        "    p_i = []\n",
        "    l0 = 0\n",
        "    l1 = 0\n",
        "    l2 = 0\n",
        "    l3 = 0\n",
        "    #this cluster what classes\n",
        "    for y in cluster[c]:\n",
        "      if y in ground_truth[0]:\n",
        "        l0 += 1\n",
        "      elif y in ground_truth[1]:\n",
        "        l1 += 1\n",
        "      elif y in ground_truth[2]:\n",
        "        l2 += 1\n",
        "      else:\n",
        "        l3 += 1\n",
        "    \n",
        "    p_i = [l0/n , l1/n, l2/n, l3/n]\n",
        "   \n",
        "    h_c_i = 0\n",
        "    for p in p_i:\n",
        "      if(p!=0):\n",
        "        h_c_i += p * math.log(p)\n",
        "    \n",
        "    h_c += -1/z * h_c_i\n",
        "  return h_y - h_c\n",
        "  \n",
        "\n",
        "      \n",
        "\n",
        "    \n",
        "      \n"
      ],
      "metadata": {
        "id": "hKxAvX6H6x9W"
      },
      "execution_count": 65,
      "outputs": []
    },
    {
      "cell_type": "code",
      "source": [
        "#Normalized Mutual Information \n",
        "def nmi(cluster):\n",
        "  i_y_c = mutual_information(cluster)\n",
        "  h_c = find_cluster_entropy(cluster)\n",
        "  h_y = class_entropy\n",
        "  return (2*i_y_c)/(h_c + h_y)"
      ],
      "metadata": {
        "id": "aDZqMQ-Z_Ce7"
      },
      "execution_count": 55,
      "outputs": []
    },
    {
      "cell_type": "code",
      "source": [
        "#nmi of single link\n",
        "nmi_single = nmi(cluster_using_single_link)\n",
        "print(nmi_single)"
      ],
      "metadata": {
        "colab": {
          "base_uri": "https://localhost:8080/"
        },
        "id": "sDSx4yJu_iVX",
        "outputId": "30667e71-a50e-4ce0-922b-956095d21d1e"
      },
      "execution_count": 69,
      "outputs": [
        {
          "output_type": "stream",
          "name": "stdout",
          "text": [
            "0.3107622073130409\n"
          ]
        }
      ]
    },
    {
      "cell_type": "code",
      "source": [
        "#nmi of complete link\n",
        "nmi_complete = nmi(cluster_using_complete_link)\n",
        "print(nmi_complete)"
      ],
      "metadata": {
        "colab": {
          "base_uri": "https://localhost:8080/"
        },
        "id": "qTNZ7e8cAwXh",
        "outputId": "5d99d66a-fdb3-4c9a-ed57-ca4130919eee"
      },
      "execution_count": 71,
      "outputs": [
        {
          "output_type": "stream",
          "name": "stdout",
          "text": [
            "0.20291109412329159\n"
          ]
        }
      ]
    },
    {
      "cell_type": "code",
      "source": [
        "#nmi of centroid based\n",
        "nmi_centroid = nmi(cluster_using_centroid)\n",
        "print(nmi_centroid)"
      ],
      "metadata": {
        "colab": {
          "base_uri": "https://localhost:8080/"
        },
        "id": "PCiX2Hy5A4ds",
        "outputId": "022baa56-f7f5-4e9f-8f63-bfaaff4a68b1"
      },
      "execution_count": 72,
      "outputs": [
        {
          "output_type": "stream",
          "name": "stdout",
          "text": [
            "0.20291109412329159\n"
          ]
        }
      ]
    },
    {
      "cell_type": "markdown",
      "source": [],
      "metadata": {
        "id": "uMicWnGW6xsH"
      }
    },
    {
      "cell_type": "code",
      "source": [
        "print(class_pi)"
      ],
      "metadata": {
        "colab": {
          "base_uri": "https://localhost:8080/"
        },
        "id": "1StO9m6b4lE7",
        "outputId": "8715121a-3422-4b8e-8a2f-cf8bb5024fe4"
      },
      "execution_count": 49,
      "outputs": [
        {
          "output_type": "stream",
          "name": "stdout",
          "text": [
            "[0.96, 0.03, 0.06, 0.03]\n"
          ]
        }
      ]
    },
    {
      "cell_type": "markdown",
      "source": [
        "#Comapring kmeans and three methods"
      ],
      "metadata": {
        "id": "mRInm5q7yKy5"
      }
    },
    {
      "cell_type": "code",
      "source": [
        "doc_relevance={}\n",
        "doc_relevance['constipation']=[203,251,372,442]\n",
        "doc_relevance['influenza']=[59,71,469]\n",
        "doc_relevance['cough']=[372,83,126,421]\n",
        "doc_relevance['muscle ache']= [37,65,76,83,100,117,126,206,277,343]\n",
        "doc_relevance['vomiting']=[203,372,442],[203,372,442]\n",
        "doc_relevance['hepatitis']=[16,368,376]\n",
        "doc_relevance['diarrhea']=[372,203,372,442]\n",
        "doc_relevance['cold']=[82,83,126,421,41,82,83,126]\n",
        "doc_relevance['paracetamol ibuprofen']=[365,216,200,205,356,214]\n",
        "doc_relevance['common cold']=[83,126,421,372,28,365,82,41]\n"
      ],
      "metadata": {
        "id": "RS3EzX3WxH8S"
      },
      "execution_count": 75,
      "outputs": []
    },
    {
      "cell_type": "code",
      "source": [
        "print(doc_relevance)"
      ],
      "metadata": {
        "colab": {
          "base_uri": "https://localhost:8080/"
        },
        "id": "f9QnmBx_CVsq",
        "outputId": "0a8ee6cb-cc8e-4a05-f0db-58aa46cff5c6"
      },
      "execution_count": 76,
      "outputs": [
        {
          "output_type": "stream",
          "name": "stdout",
          "text": [
            "{'constipation': [203, 251, 372, 442], 'influenza': [59, 71, 469], 'cough': [372, 83, 126, 421], 'muscle ache': [37, 65, 76, 83, 100, 117, 126, 206, 277, 343], 'vomiting': ([203, 372, 442], [203, 372, 442]), 'hepatitis': [16, 368, 376], 'diarrhea': [372, 203, 372, 442], 'cold': [82, 83, 126, 421, 41, 82, 83, 126], 'paracetamol ibuprofen': [365, 216, 200, 205, 356, 214], 'common cold': [83, 126, 421, 372, 28, 365, 82, 41]}\n"
          ]
        }
      ]
    },
    {
      "cell_type": "code",
      "source": [
        "#form pair of documents that need to be in seperate clusters:\n",
        "diff_pairs = []\n",
        "for i in list(doc_relevance.keys()):\n",
        "  for k in list(doc_relevance.keys()):\n",
        "    if i!=k:\n",
        "      for e1 in doc_relevance[i]:\n",
        "        for e2 in doc_relevance[k]:\n",
        "          if(e1!=e2) and ((e1,e2) not in diff_pairs) and ((e2,e1) not in diff_pairs):\n",
        "\n",
        "            diff_pairs.append((e1,e2))\n",
        "\n",
        "print(diff_pairs)\n"
      ],
      "metadata": {
        "colab": {
          "base_uri": "https://localhost:8080/"
        },
        "id": "GgS_XpzLCYoo",
        "outputId": "999927d9-c656-4cf0-c012-5dda0e035457"
      },
      "execution_count": 77,
      "outputs": [
        {
          "output_type": "stream",
          "name": "stdout",
          "text": [
            "[(203, 59), (203, 71), (203, 469), (251, 59), (251, 71), (251, 469), (372, 59), (372, 71), (372, 469), (442, 59), (442, 71), (442, 469), (203, 372), (203, 83), (203, 126), (203, 421), (251, 372), (251, 83), (251, 126), (251, 421), (372, 83), (372, 126), (372, 421), (442, 372), (442, 83), (442, 126), (442, 421), (203, 37), (203, 65), (203, 76), (203, 100), (203, 117), (203, 206), (203, 277), (203, 343), (251, 37), (251, 65), (251, 76), (251, 100), (251, 117), (251, 206), (251, 277), (251, 343), (372, 37), (372, 65), (372, 76), (372, 100), (372, 117), (372, 206), (372, 277), (372, 343), (442, 37), (442, 65), (442, 76), (442, 100), (442, 117), (442, 206), (442, 277), (442, 343), (203, [203, 372, 442]), (251, [203, 372, 442]), (372, [203, 372, 442]), (442, [203, 372, 442]), (203, 16), (203, 368), (203, 376), (251, 16), (251, 368), (251, 376), (372, 16), (372, 368), (372, 376), (442, 16), (442, 368), (442, 376), (203, 442), (251, 203), (251, 442), (203, 82), (203, 41), (251, 82), (251, 41), (372, 82), (372, 41), (442, 82), (442, 41), (203, 365), (203, 216), (203, 200), (203, 205), (203, 356), (203, 214), (251, 365), (251, 216), (251, 200), (251, 205), (251, 356), (251, 214), (372, 365), (372, 216), (372, 200), (372, 205), (372, 356), (372, 214), (442, 365), (442, 216), (442, 200), (442, 205), (442, 356), (442, 214), (203, 28), (251, 28), (372, 28), (442, 28), (59, 83), (59, 126), (59, 421), (71, 83), (71, 126), (71, 421), (469, 83), (469, 126), (469, 421), (59, 37), (59, 65), (59, 76), (59, 100), (59, 117), (59, 206), (59, 277), (59, 343), (71, 37), (71, 65), (71, 76), (71, 100), (71, 117), (71, 206), (71, 277), (71, 343), (469, 37), (469, 65), (469, 76), (469, 100), (469, 117), (469, 206), (469, 277), (469, 343), (59, [203, 372, 442]), (71, [203, 372, 442]), (469, [203, 372, 442]), (59, 16), (59, 368), (59, 376), (71, 16), (71, 368), (71, 376), (469, 16), (469, 368), (469, 376), (59, 82), (59, 41), (71, 82), (71, 41), (469, 82), (469, 41), (59, 365), (59, 216), (59, 200), (59, 205), (59, 356), (59, 214), (71, 365), (71, 216), (71, 200), (71, 205), (71, 356), (71, 214), (469, 365), (469, 216), (469, 200), (469, 205), (469, 356), (469, 214), (59, 28), (71, 28), (469, 28), (83, 37), (83, 65), (83, 76), (83, 100), (83, 117), (83, 126), (83, 206), (83, 277), (83, 343), (126, 37), (126, 65), (126, 76), (126, 100), (126, 117), (126, 206), (126, 277), (126, 343), (421, 37), (421, 65), (421, 76), (421, 83), (421, 100), (421, 117), (421, 126), (421, 206), (421, 277), (421, 343), (83, [203, 372, 442]), (126, [203, 372, 442]), (421, [203, 372, 442]), (83, 16), (83, 368), (83, 376), (126, 16), (126, 368), (126, 376), (421, 16), (421, 368), (421, 376), (83, 82), (83, 41), (126, 82), (126, 41), (421, 82), (421, 41), (83, 365), (83, 216), (83, 200), (83, 205), (83, 356), (83, 214), (126, 365), (126, 216), (126, 200), (126, 205), (126, 356), (126, 214), (421, 365), (421, 216), (421, 200), (421, 205), (421, 356), (421, 214), (83, 28), (126, 28), (421, 28), (37, [203, 372, 442]), (65, [203, 372, 442]), (76, [203, 372, 442]), (100, [203, 372, 442]), (117, [203, 372, 442]), (206, [203, 372, 442]), (277, [203, 372, 442]), (343, [203, 372, 442]), (37, 16), (37, 368), (37, 376), (65, 16), (65, 368), (65, 376), (76, 16), (76, 368), (76, 376), (100, 16), (100, 368), (100, 376), (117, 16), (117, 368), (117, 376), (206, 16), (206, 368), (206, 376), (277, 16), (277, 368), (277, 376), (343, 16), (343, 368), (343, 376), (37, 82), (37, 41), (65, 82), (65, 41), (76, 82), (76, 41), (100, 82), (100, 41), (117, 82), (117, 41), (206, 82), (206, 41), (277, 82), (277, 41), (343, 82), (343, 41), (37, 365), (37, 216), (37, 200), (37, 205), (37, 356), (37, 214), (65, 365), (65, 216), (65, 200), (65, 205), (65, 356), (65, 214), (76, 365), (76, 216), (76, 200), (76, 205), (76, 356), (76, 214), (100, 365), (100, 216), (100, 200), (100, 205), (100, 356), (100, 214), (117, 365), (117, 216), (117, 200), (117, 205), (117, 356), (117, 214), (206, 365), (206, 216), (206, 200), (206, 205), (206, 356), (206, 214), (277, 365), (277, 216), (277, 200), (277, 205), (277, 356), (277, 214), (343, 365), (343, 216), (343, 200), (343, 205), (343, 356), (343, 214), (37, 28), (65, 28), (76, 28), (100, 28), (117, 28), (206, 28), (277, 28), (343, 28), ([203, 372, 442], 16), ([203, 372, 442], 368), ([203, 372, 442], 376), ([203, 372, 442], 82), ([203, 372, 442], 41), ([203, 372, 442], 365), ([203, 372, 442], 216), ([203, 372, 442], 200), ([203, 372, 442], 205), ([203, 372, 442], 356), ([203, 372, 442], 214), ([203, 372, 442], 28), (16, 82), (16, 41), (368, 82), (368, 41), (376, 82), (376, 41), (16, 365), (16, 216), (16, 200), (16, 205), (16, 356), (16, 214), (368, 365), (368, 216), (368, 200), (368, 205), (368, 356), (368, 214), (376, 365), (376, 216), (376, 200), (376, 205), (376, 356), (376, 214), (16, 28), (368, 28), (376, 28), (82, 365), (82, 216), (82, 200), (82, 205), (82, 356), (82, 214), (41, 365), (41, 216), (41, 200), (41, 205), (41, 356), (41, 214), (82, 28), (82, 41), (41, 28), (365, 28), (216, 28), (216, 365), (200, 28), (200, 365), (205, 28), (205, 365), (356, 28), (356, 365), (214, 28), (214, 365)]\n"
          ]
        }
      ]
    },
    {
      "cell_type": "code",
      "source": [
        "print(len(diff_pairs))"
      ],
      "metadata": {
        "colab": {
          "base_uri": "https://localhost:8080/"
        },
        "id": "tglutZNbF3nC",
        "outputId": "bd4cec2b-6c3c-4d06-ad50-ef13b7ed89b4"
      },
      "execution_count": 81,
      "outputs": [
        {
          "output_type": "stream",
          "name": "stdout",
          "text": [
            "421\n"
          ]
        }
      ]
    },
    {
      "cell_type": "code",
      "source": [
        "#scoring each clustering based on different pairs in different clusters\n",
        "#higher the score is more different pairs are in same cluster, thus worse performance\n",
        "def diff_cluster_score(cluster):\n",
        "  score = 0\n",
        "  #for each pair\n",
        "  for i in diff_pairs:\n",
        "    e1 = i[0]\n",
        "    e2 = i[1]\n",
        "    #cluster of each\n",
        "    flag_e1 = 0\n",
        "    flag_e2 = 0\n",
        "    #we'll iterate over each cluster, at the end of each cluster, we check flags\n",
        "    #if both are zero, then no change, if either one is 1, we have found one and can move on to next pair, if both 1 we update score and move next\n",
        "    for c in list(cluster.keys()):\n",
        "      if e1 in cluster[c]:\n",
        "        flag_e1 = 1\n",
        "      if e2 in cluster[c]:\n",
        "        flag_e2 = 1\n",
        "      \n",
        "      if flag_e1==1 and flag_e2==1:\n",
        "        score+=1\n",
        "        break\n",
        "      if flag_e1==1:\n",
        "        break\n",
        "      if flag_e2==1:\n",
        "        break\n",
        "  \n",
        "  return score\n",
        "\n"
      ],
      "metadata": {
        "id": "HdA7XAXBEGNX"
      },
      "execution_count": 78,
      "outputs": []
    },
    {
      "cell_type": "code",
      "source": [
        "k_mean_score = diff_cluster_score(ground_truth)\n",
        "print(k_mean_score)"
      ],
      "metadata": {
        "colab": {
          "base_uri": "https://localhost:8080/"
        },
        "id": "uEOZQIQRFrpS",
        "outputId": "073eb6aa-39d3-4782-8476-734eeb95556f"
      },
      "execution_count": 80,
      "outputs": [
        {
          "output_type": "stream",
          "name": "stdout",
          "text": [
            "362\n"
          ]
        }
      ]
    },
    {
      "cell_type": "code",
      "source": [
        "single_link_score = diff_cluster_score(cluster_using_single_link)\n",
        "print(single_link_score)"
      ],
      "metadata": {
        "colab": {
          "base_uri": "https://localhost:8080/"
        },
        "id": "WS8u0bBMF8BO",
        "outputId": "516fc851-e54c-4e50-ada0-633ee342a947"
      },
      "execution_count": 82,
      "outputs": [
        {
          "output_type": "stream",
          "name": "stdout",
          "text": [
            "169\n"
          ]
        }
      ]
    },
    {
      "cell_type": "code",
      "source": [
        "complete_link_score = diff_cluster_score(cluster_using_complete_link)\n",
        "print(complete_link_score)"
      ],
      "metadata": {
        "colab": {
          "base_uri": "https://localhost:8080/"
        },
        "id": "vw687nJ0GIEo",
        "outputId": "e83cbbcb-abc4-4872-f614-e6f6be42046c"
      },
      "execution_count": 83,
      "outputs": [
        {
          "output_type": "stream",
          "name": "stdout",
          "text": [
            "117\n"
          ]
        }
      ]
    },
    {
      "cell_type": "code",
      "source": [
        "centroid_score = diff_cluster_score(cluster_using_centroid)\n",
        "print(centroid_score)"
      ],
      "metadata": {
        "colab": {
          "base_uri": "https://localhost:8080/"
        },
        "id": "XowblhskGPye",
        "outputId": "7a87d0e4-d931-4700-b184-74257ef7f687"
      },
      "execution_count": 84,
      "outputs": [
        {
          "output_type": "stream",
          "name": "stdout",
          "text": [
            "117\n"
          ]
        }
      ]
    },
    {
      "cell_type": "markdown",
      "source": [
        "Seeing these scores we can say Complete link HAC and Centroid based HAC prove better for the given annotations."
      ],
      "metadata": {
        "id": "RkNuYseoGY7n"
      }
    }
  ],
  "metadata": {
    "colab": {
      "provenance": []
    },
    "kernelspec": {
      "display_name": "Python 3",
      "name": "python3"
    },
    "language_info": {
      "name": "python"
    }
  },
  "nbformat": 4,
  "nbformat_minor": 0
}